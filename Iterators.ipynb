{
 "cells": [
  {
   "cell_type": "raw",
   "id": "1bb51235",
   "metadata": {},
   "source": [
    "Iteration :\n",
    "    \n",
    "- Iteration is a general term for taking each item of something, one after another.\n",
    "\n",
    "- Anytime we use loop explicit or implicit, to go over a group of items, that is called iteration"
   ]
  },
  {
   "cell_type": "code",
   "execution_count": 1,
   "id": "994514fe",
   "metadata": {},
   "outputs": [
    {
     "name": "stdout",
     "output_type": "stream",
     "text": [
      "1 2 3 4 "
     ]
    }
   ],
   "source": [
    "num = [1,2,3,4]\n",
    "for i in num:\n",
    "    print(i,end=' ')"
   ]
  },
  {
   "cell_type": "code",
   "execution_count": null,
   "id": "5b813c77",
   "metadata": {},
   "outputs": [],
   "source": []
  },
  {
   "cell_type": "raw",
   "id": "4d7b5347",
   "metadata": {},
   "source": [
    "Iterator :\n",
    "- Is an object that allows a programmer to traverse over a -- sequence of data -- without having to store the entire data in the memory."
   ]
  },
  {
   "cell_type": "raw",
   "id": "66e2b181",
   "metadata": {},
   "source": [
    "Note : \n",
    "We can use getsizeof method of sys module to get he size the var taking inside the memory"
   ]
  },
  {
   "cell_type": "code",
   "execution_count": 9,
   "id": "dceff7d2",
   "metadata": {},
   "outputs": [
    {
     "name": "stdout",
     "output_type": "stream",
     "text": [
      "Size occupied  4.1640625\n"
     ]
    }
   ],
   "source": [
    "import sys\n",
    "l = [i for i in range(1,500)]\n",
    "for i in l:\n",
    "    i**2\n",
    "    \n",
    "print('Size occupied ',sys.getsizeof(l)/1024)"
   ]
  },
  {
   "cell_type": "code",
   "execution_count": null,
   "id": "d2484a02",
   "metadata": {},
   "outputs": [],
   "source": []
  },
  {
   "cell_type": "raw",
   "id": "9e8576af",
   "metadata": {},
   "source": [
    "performing the same operation using an iterator to see the difference in size of  memory occupied into ram"
   ]
  },
  {
   "cell_type": "code",
   "execution_count": 10,
   "id": "930b83bc",
   "metadata": {},
   "outputs": [
    {
     "name": "stdout",
     "output_type": "stream",
     "text": [
      "Size occupied  0.046875\n"
     ]
    }
   ],
   "source": [
    "import sys\n",
    "\n",
    "x  = range(1,500)\n",
    "for i in x:\n",
    "    i**2\n",
    "\n",
    "print('Size occupied ',sys.getsizeof(x)/1024)"
   ]
  },
  {
   "cell_type": "code",
   "execution_count": null,
   "id": "81281926",
   "metadata": {},
   "outputs": [],
   "source": []
  },
  {
   "cell_type": "raw",
   "id": "43e3197b",
   "metadata": {},
   "source": [
    "Iterable\n",
    "- Iterable is an obj. which one can iterate over\n",
    "\n",
    "- It generated an iterator when passed to iter() method"
   ]
  },
  {
   "cell_type": "code",
   "execution_count": 14,
   "id": "f28ba6b2",
   "metadata": {},
   "outputs": [
    {
     "data": {
      "text/plain": [
       "list_iterator"
      ]
     },
     "execution_count": 14,
     "metadata": {},
     "output_type": "execute_result"
    }
   ],
   "source": [
    "l = [1,2,3]\n",
    "type(l)\n",
    "# l --> is an iterable\n",
    "\n",
    "type(iter(l))\n",
    "# iter(l) --> is an list_iterator"
   ]
  },
  {
   "cell_type": "code",
   "execution_count": null,
   "id": "91607660",
   "metadata": {},
   "outputs": [],
   "source": []
  },
  {
   "cell_type": "raw",
   "id": "1d1c5752",
   "metadata": {},
   "source": [
    "Points to remember ::\n",
    "- Every iterable is not an iterator\n",
    "    [Not all iterables are iterators]\n",
    "    \n",
    "- Every iterator is also an iterable"
   ]
  },
  {
   "cell_type": "code",
   "execution_count": null,
   "id": "30433941",
   "metadata": {},
   "outputs": [],
   "source": []
  },
  {
   "cell_type": "raw",
   "id": "cb46df2b",
   "metadata": {},
   "source": [
    "Trick : \n",
    "To find out if an obj is ITERABLE or not\n",
    "\n",
    "+ loop on the object \n",
    "- Loop successful that means it's an iterable object\n",
    "\n",
    "+ use dir(object)\n",
    "- If we found and __iter__ method that means it's iterable otherwise it's not"
   ]
  },
  {
   "cell_type": "markdown",
   "id": "8e3c549e",
   "metadata": {},
   "source": [
    "Ex 1."
   ]
  },
  {
   "cell_type": "code",
   "execution_count": 16,
   "id": "2e82d788",
   "metadata": {},
   "outputs": [
    {
     "ename": "TypeError",
     "evalue": "'int' object is not iterable",
     "output_type": "error",
     "traceback": [
      "\u001b[0;31m---------------------------------------------------------------------------\u001b[0m",
      "\u001b[0;31mTypeError\u001b[0m                                 Traceback (most recent call last)",
      "Input \u001b[0;32mIn [16]\u001b[0m, in \u001b[0;36m<module>\u001b[0;34m\u001b[0m\n\u001b[1;32m      1\u001b[0m a \u001b[38;5;241m=\u001b[39m \u001b[38;5;241m2\u001b[39m\n\u001b[0;32m----> 2\u001b[0m \u001b[38;5;28;01mfor\u001b[39;00m i \u001b[38;5;129;01min\u001b[39;00m a:\n\u001b[1;32m      3\u001b[0m     \u001b[38;5;28mprint\u001b[39m(i)\n",
      "\u001b[0;31mTypeError\u001b[0m: 'int' object is not iterable"
     ]
    }
   ],
   "source": [
    "# method 1\n",
    "\n",
    "a = 2\n",
    "for i in a:\n",
    "    print(i)\n",
    "    \n",
    "# Loop successful that means it's an iterable object"
   ]
  },
  {
   "cell_type": "code",
   "execution_count": 17,
   "id": "642e7e9c",
   "metadata": {},
   "outputs": [
    {
     "name": "stdout",
     "output_type": "stream",
     "text": [
      "['__abs__', '__add__', '__and__', '__bool__', '__ceil__', '__class__', '__delattr__', '__dir__', '__divmod__', '__doc__', '__eq__', '__float__', '__floor__', '__floordiv__', '__format__', '__ge__', '__getattribute__', '__getnewargs__', '__gt__', '__hash__', '__index__', '__init__', '__init_subclass__', '__int__', '__invert__', '__le__', '__lshift__', '__lt__', '__mod__', '__mul__', '__ne__', '__neg__', '__new__', '__or__', '__pos__', '__pow__', '__radd__', '__rand__', '__rdivmod__', '__reduce__', '__reduce_ex__', '__repr__', '__rfloordiv__', '__rlshift__', '__rmod__', '__rmul__', '__ror__', '__round__', '__rpow__', '__rrshift__', '__rshift__', '__rsub__', '__rtruediv__', '__rxor__', '__setattr__', '__sizeof__', '__str__', '__sub__', '__subclasshook__', '__truediv__', '__trunc__', '__xor__', 'as_integer_ratio', 'bit_length', 'conjugate', 'denominator', 'from_bytes', 'imag', 'numerator', 'real', 'to_bytes']\n"
     ]
    }
   ],
   "source": [
    "# method 2\n",
    "a = 2\n",
    "print(dir(a))\n",
    "\n",
    "# If we found and __iter__ method that means it's iterable otherwise it's not"
   ]
  },
  {
   "cell_type": "code",
   "execution_count": null,
   "id": "652d5ce1",
   "metadata": {},
   "outputs": [],
   "source": []
  },
  {
   "cell_type": "markdown",
   "id": "e352918c",
   "metadata": {},
   "source": [
    "Ex 2."
   ]
  },
  {
   "cell_type": "code",
   "execution_count": 18,
   "id": "44375418",
   "metadata": {},
   "outputs": [
    {
     "name": "stdout",
     "output_type": "stream",
     "text": [
      "1 2 3 "
     ]
    }
   ],
   "source": [
    "t = (1,2,3)\n",
    "\n",
    "for i in t:\n",
    "    print(i,end=' ')\n",
    "    \n",
    "# its an iterable"
   ]
  },
  {
   "cell_type": "code",
   "execution_count": 19,
   "id": "688c4857",
   "metadata": {},
   "outputs": [
    {
     "name": "stdout",
     "output_type": "stream",
     "text": [
      "['__add__', '__class__', '__contains__', '__delattr__', '__dir__', '__doc__', '__eq__', '__format__', '__ge__', '__getattribute__', '__getitem__', '__getnewargs__', '__gt__', '__hash__', '__init__', '__init_subclass__', '__iter__', '__le__', '__len__', '__lt__', '__mul__', '__ne__', '__new__', '__reduce__', '__reduce_ex__', '__repr__', '__rmul__', '__setattr__', '__sizeof__', '__str__', '__subclasshook__', 'count', 'index']\n"
     ]
    }
   ],
   "source": [
    "t = (1,2,3)\n",
    "print(dir(t))\n",
    "\n",
    "# it consisit of __iter__ method, \n",
    "# it's an iterator"
   ]
  },
  {
   "cell_type": "code",
   "execution_count": null,
   "id": "dcfaa54c",
   "metadata": {},
   "outputs": [],
   "source": []
  },
  {
   "cell_type": "markdown",
   "id": "0e43b722",
   "metadata": {},
   "source": [
    "Ex 3."
   ]
  },
  {
   "cell_type": "code",
   "execution_count": 21,
   "id": "e1957d5b",
   "metadata": {},
   "outputs": [
    {
     "name": "stdout",
     "output_type": "stream",
     "text": [
      "{'one': 1, 2: 2} <class 'dict'>\n"
     ]
    }
   ],
   "source": [
    "dic = {'one':1,2:2}\n",
    "print(dic,type(dic))"
   ]
  },
  {
   "cell_type": "code",
   "execution_count": 23,
   "id": "87a46a6d",
   "metadata": {
    "scrolled": true
   },
   "outputs": [
    {
     "name": "stdout",
     "output_type": "stream",
     "text": [
      "['__class__', '__contains__', '__delattr__', '__delitem__', '__dir__', '__doc__', '__eq__', '__format__', '__ge__', '__getattribute__', '__getitem__', '__gt__', '__hash__', '__init__', '__init_subclass__', '__iter__', '__le__', '__len__', '__lt__', '__ne__', '__new__', '__reduce__', '__reduce_ex__', '__repr__', '__reversed__', '__setattr__', '__setitem__', '__sizeof__', '__str__', '__subclasshook__', 'clear', 'copy', 'fromkeys', 'get', 'items', 'keys', 'pop', 'popitem', 'setdefault', 'update', 'values']\n"
     ]
    }
   ],
   "source": [
    "print(dir(dic))\n",
    "\n",
    "# it consisit of __iter__ method, \n",
    "# it's an iterator"
   ]
  },
  {
   "cell_type": "code",
   "execution_count": 25,
   "id": "56f5ba0e",
   "metadata": {
    "scrolled": true
   },
   "outputs": [
    {
     "name": "stdout",
     "output_type": "stream",
     "text": [
      "one\n",
      "2\n"
     ]
    }
   ],
   "source": [
    "for i in dic:\n",
    "    print(i)"
   ]
  },
  {
   "cell_type": "code",
   "execution_count": null,
   "id": "a21b86cd",
   "metadata": {},
   "outputs": [],
   "source": []
  },
  {
   "cell_type": "code",
   "execution_count": null,
   "id": "7cd86ddc",
   "metadata": {},
   "outputs": [],
   "source": []
  },
  {
   "cell_type": "raw",
   "id": "23ce9e37",
   "metadata": {},
   "source": [
    "Trick : \n",
    "To find out if an obj is ITERATOR or not\n",
    "\n",
    "+ use dir(object)\n",
    "- If we found __next__ and __iter__ method that means it's ITERATOR otherwise it's not"
   ]
  },
  {
   "cell_type": "markdown",
   "id": "440a1680",
   "metadata": {},
   "source": [
    "Ex 1."
   ]
  },
  {
   "cell_type": "code",
   "execution_count": 26,
   "id": "316d85fc",
   "metadata": {},
   "outputs": [
    {
     "name": "stdout",
     "output_type": "stream",
     "text": [
      "['__add__', '__class__', '__contains__', '__delattr__', '__delitem__', '__dir__', '__doc__', '__eq__', '__format__', '__ge__', '__getattribute__', '__getitem__', '__gt__', '__hash__', '__iadd__', '__imul__', '__init__', '__init_subclass__', '__iter__', '__le__', '__len__', '__lt__', '__mul__', '__ne__', '__new__', '__reduce__', '__reduce_ex__', '__repr__', '__reversed__', '__rmul__', '__setattr__', '__setitem__', '__sizeof__', '__str__', '__subclasshook__', 'append', 'clear', 'copy', 'count', 'extend', 'index', 'insert', 'pop', 'remove', 'reverse', 'sort']\n"
     ]
    }
   ],
   "source": [
    "l = [1,2,3]\n",
    "\n",
    "print(dir(l))\n",
    "\n",
    "# only __iter__ methods is found that means\n",
    "# Its an iterable"
   ]
  },
  {
   "cell_type": "code",
   "execution_count": 30,
   "id": "bcc39280",
   "metadata": {},
   "outputs": [
    {
     "name": "stdout",
     "output_type": "stream",
     "text": [
      "['__class__', '__delattr__', '__dir__', '__doc__', '__eq__', '__format__', '__ge__', '__getattribute__', '__gt__', '__hash__', '__init__', '__init_subclass__', '__iter__', '__le__', '__length_hint__', '__lt__', '__ne__', '__new__', '__next__', '__reduce__', '__reduce_ex__', '__repr__', '__setattr__', '__setstate__', '__sizeof__', '__str__', '__subclasshook__']\n"
     ]
    }
   ],
   "source": [
    "x = iter(l)\n",
    "print(dir(x))\n",
    "\n",
    "#  __iter__ & __next__ methods is found that means\n",
    "# Its an iterator"
   ]
  },
  {
   "cell_type": "code",
   "execution_count": null,
   "id": "2ce720bf",
   "metadata": {},
   "outputs": [],
   "source": []
  },
  {
   "cell_type": "code",
   "execution_count": null,
   "id": "949c16b4",
   "metadata": {},
   "outputs": [],
   "source": []
  },
  {
   "cell_type": "markdown",
   "id": "c569f3a9",
   "metadata": {},
   "source": [
    "Understanding how for-loop works"
   ]
  },
  {
   "cell_type": "code",
   "execution_count": 31,
   "id": "52a22d4b",
   "metadata": {},
   "outputs": [
    {
     "name": "stdout",
     "output_type": "stream",
     "text": [
      "1 2 3 4 5 6 "
     ]
    }
   ],
   "source": [
    "no = [1,2,3,4,5,6]\n",
    "for i in no:\n",
    "    print(i,end=' ')"
   ]
  },
  {
   "cell_type": "markdown",
   "id": "1c674b92",
   "metadata": {},
   "source": [
    "how for loop works"
   ]
  },
  {
   "cell_type": "code",
   "execution_count": 42,
   "id": "9da729c7",
   "metadata": {},
   "outputs": [
    {
     "name": "stdout",
     "output_type": "stream",
     "text": [
      "1\n",
      "2\n",
      "3\n",
      "4\n",
      "5\n",
      "6\n"
     ]
    },
    {
     "ename": "StopIteration",
     "evalue": "",
     "output_type": "error",
     "traceback": [
      "\u001b[0;31m---------------------------------------------------------------------------\u001b[0m",
      "\u001b[0;31mStopIteration\u001b[0m                             Traceback (most recent call last)",
      "Input \u001b[0;32mIn [42]\u001b[0m, in \u001b[0;36m<module>\u001b[0;34m\u001b[0m\n\u001b[1;32m     10\u001b[0m \u001b[38;5;28mprint\u001b[39m(\u001b[38;5;28mnext\u001b[39m(iter_no))\n\u001b[1;32m     11\u001b[0m \u001b[38;5;28mprint\u001b[39m(\u001b[38;5;28mnext\u001b[39m(iter_no))\n\u001b[0;32m---> 12\u001b[0m \u001b[38;5;28mprint\u001b[39m(\u001b[38;5;28;43mnext\u001b[39;49m\u001b[43m(\u001b[49m\u001b[43miter_no\u001b[49m\u001b[43m)\u001b[49m)\n",
      "\u001b[0;31mStopIteration\u001b[0m: "
     ]
    }
   ],
   "source": [
    "no = [1,2,3,4,5,6]\n",
    "\n",
    "# fetch the iterator\n",
    "iter_no = iter(no)\n",
    "\n",
    "print(next(iter_no))\n",
    "print(next(iter_no))\n",
    "print(next(iter_no))\n",
    "print(next(iter_no))\n",
    "print(next(iter_no))\n",
    "print(next(iter_no))\n",
    "print(next(iter_no))\n",
    "\n",
    "# till it get's the error : stopIteration"
   ]
  },
  {
   "cell_type": "code",
   "execution_count": null,
   "id": "aefb117b",
   "metadata": {},
   "outputs": [],
   "source": []
  },
  {
   "cell_type": "raw",
   "id": "5ed29264",
   "metadata": {},
   "source": [
    "Custom For Loop"
   ]
  },
  {
   "cell_type": "code",
   "execution_count": 46,
   "id": "73b00432",
   "metadata": {},
   "outputs": [],
   "source": [
    "def mera_for_loop(iterable):\n",
    "    iter_no = iter(iterable)\n",
    "    while True:\n",
    "        try:\n",
    "            print(next(iter_no),end=' ')\n",
    "        except StopIteration:\n",
    "            break\n",
    "            "
   ]
  },
  {
   "cell_type": "markdown",
   "id": "d7f5c639",
   "metadata": {},
   "source": [
    "Now using our own for loop"
   ]
  },
  {
   "cell_type": "code",
   "execution_count": 47,
   "id": "be3231f2",
   "metadata": {},
   "outputs": [],
   "source": [
    "a = [1,2,3,4]\n",
    "b = range(1,5)\n",
    "c = (6,7,8)\n",
    "d = {'hello':1,2:2}"
   ]
  },
  {
   "cell_type": "code",
   "execution_count": 48,
   "id": "0c400cfc",
   "metadata": {},
   "outputs": [
    {
     "name": "stdout",
     "output_type": "stream",
     "text": [
      "1 2 3 4 "
     ]
    }
   ],
   "source": [
    "mera_for_loop(a)"
   ]
  },
  {
   "cell_type": "code",
   "execution_count": 50,
   "id": "58450510",
   "metadata": {},
   "outputs": [
    {
     "name": "stdout",
     "output_type": "stream",
     "text": [
      "1 2 3 4 "
     ]
    }
   ],
   "source": [
    "mera_for_loop(b)"
   ]
  },
  {
   "cell_type": "code",
   "execution_count": 51,
   "id": "784f89d1",
   "metadata": {},
   "outputs": [
    {
     "name": "stdout",
     "output_type": "stream",
     "text": [
      "6 7 8 "
     ]
    }
   ],
   "source": [
    "mera_for_loop(c)"
   ]
  },
  {
   "cell_type": "code",
   "execution_count": 55,
   "id": "d2911dcf",
   "metadata": {},
   "outputs": [
    {
     "name": "stdout",
     "output_type": "stream",
     "text": [
      "hello 2 "
     ]
    }
   ],
   "source": [
    "mera_for_loop(d)"
   ]
  },
  {
   "cell_type": "code",
   "execution_count": 54,
   "id": "7ad7515b",
   "metadata": {},
   "outputs": [
    {
     "name": "stdout",
     "output_type": "stream",
     "text": [
      "('hello', 1) (2, 2) "
     ]
    }
   ],
   "source": [
    "mera_for_loop(d.items())"
   ]
  },
  {
   "cell_type": "code",
   "execution_count": 57,
   "id": "bf1b6723",
   "metadata": {},
   "outputs": [
    {
     "name": "stdout",
     "output_type": "stream",
     "text": [
      "1 2 "
     ]
    }
   ],
   "source": [
    "mera_for_loop(d.values())"
   ]
  },
  {
   "cell_type": "code",
   "execution_count": 58,
   "id": "3ac8f380",
   "metadata": {},
   "outputs": [
    {
     "name": "stdout",
     "output_type": "stream",
     "text": [
      "hello 2 "
     ]
    }
   ],
   "source": [
    "mera_for_loop(d.keys())"
   ]
  },
  {
   "cell_type": "code",
   "execution_count": null,
   "id": "3ce57210",
   "metadata": {},
   "outputs": [],
   "source": []
  },
  {
   "cell_type": "raw",
   "id": "8f3b983a",
   "metadata": {},
   "source": [
    "Note :\n",
    "\n",
    "When we run __iter__ over a iterable we get an iterator.\n",
    "but When we again run __iter__ over a iterator we get an iterator that's the same iterator (himself)"
   ]
  },
  {
   "cell_type": "code",
   "execution_count": null,
   "id": "1cb27e96",
   "metadata": {},
   "outputs": [],
   "source": []
  },
  {
   "cell_type": "markdown",
   "id": "9bcd02f2",
   "metadata": {},
   "source": [
    "Creating our own custom range fucntion"
   ]
  },
  {
   "cell_type": "code",
   "execution_count": 61,
   "id": "f460bb18",
   "metadata": {},
   "outputs": [],
   "source": [
    "# iterable class\n",
    "class MeraRange:\n",
    "    def __init__(self,start,end):\n",
    "        self.start = start\n",
    "        self.end = end\n",
    "        \n",
    "    def __iter__(self):\n",
    "        return MeraRangekaIteratoraObj(self)"
   ]
  },
  {
   "cell_type": "code",
   "execution_count": 62,
   "id": "58e8e166",
   "metadata": {},
   "outputs": [],
   "source": [
    "# iterator class\n",
    "class MeraRangekaIteratoraObj:\n",
    "    def __init__(self,iterable_obj):\n",
    "        self.iterable = iterable_obj\n",
    "    \n",
    "    def __iter__(self):\n",
    "        return self\n",
    "    \n",
    "    def __next__(self):\n",
    "        if self.iterable.start >= self.iterable.end:\n",
    "            raise StopIteration\n",
    "            \n",
    "        current = self.iterable.start\n",
    "        self.iterable.start+=1\n",
    "        return current"
   ]
  },
  {
   "cell_type": "code",
   "execution_count": 63,
   "id": "6436981d",
   "metadata": {},
   "outputs": [
    {
     "name": "stdout",
     "output_type": "stream",
     "text": [
      "1 2 3 4 5 6 7 8 9 "
     ]
    }
   ],
   "source": [
    "for i in MeraRange(1,10):\n",
    "    print(i,end=' ')"
   ]
  },
  {
   "cell_type": "code",
   "execution_count": 64,
   "id": "4c001e70",
   "metadata": {},
   "outputs": [
    {
     "name": "stdout",
     "output_type": "stream",
     "text": [
      "<class '__main__.MeraRange'>\n"
     ]
    }
   ],
   "source": [
    "x = MeraRange(11,20)\n",
    "print(type(x))"
   ]
  },
  {
   "cell_type": "code",
   "execution_count": 65,
   "id": "255dbab1",
   "metadata": {},
   "outputs": [
    {
     "name": "stdout",
     "output_type": "stream",
     "text": [
      "<__main__.MeraRangekaIteratoraObj object at 0x7f93f9be4c70>\n"
     ]
    }
   ],
   "source": [
    "print(iter(x))"
   ]
  },
  {
   "cell_type": "code",
   "execution_count": null,
   "id": "45023e4f",
   "metadata": {},
   "outputs": [],
   "source": []
  },
  {
   "cell_type": "raw",
   "id": "e8f1fd1a",
   "metadata": {},
   "source": [
    "Generators is an simple/efficient way of creating an iterators"
   ]
  },
  {
   "cell_type": "code",
   "execution_count": null,
   "id": "4860858e",
   "metadata": {},
   "outputs": [],
   "source": []
  }
 ],
 "metadata": {
  "kernelspec": {
   "display_name": "Python 3 (ipykernel)",
   "language": "python",
   "name": "python3"
  },
  "language_info": {
   "codemirror_mode": {
    "name": "ipython",
    "version": 3
   },
   "file_extension": ".py",
   "mimetype": "text/x-python",
   "name": "python",
   "nbconvert_exporter": "python",
   "pygments_lexer": "ipython3",
   "version": "3.8.10"
  }
 },
 "nbformat": 4,
 "nbformat_minor": 5
}
