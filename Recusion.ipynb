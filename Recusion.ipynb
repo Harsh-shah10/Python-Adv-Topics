{
 "cells": [
  {
   "cell_type": "markdown",
   "id": "eeef9b71",
   "metadata": {},
   "source": [
    "Recursion, means a defined function can call itself. \n",
    "- Benfit : without using loop we can execute our task"
   ]
  },
  {
   "cell_type": "markdown",
   "id": "b31f3ca7",
   "metadata": {},
   "source": [
    "Recursion Concept/Aim:\n",
    "- starts by solving smaller portions of your problem until the original, larger problem is solved\n",
    "- Its about simulating a loop\n",
    "\n",
    "ex: real life : searching a pic from a group of folders\n",
    "   + we started by creating a method to find the pic inside 1 folder, and by applying the same logic on all the folders recursively. We solve the larger problem "
   ]
  },
  {
   "cell_type": "markdown",
   "id": "d8baef5a",
   "metadata": {},
   "source": [
    "Disadvantages of recursion :\n",
    "- following the logic behind recursive fuctn might be hard sometimes\n",
    "- recursive calls are expensive (inefficient) as they take up a lot of memory and time\n",
    "- They are too hard to debug"
   ]
  },
  {
   "cell_type": "markdown",
   "id": "283e8b3b",
   "metadata": {},
   "source": [
    "Advantages of recursion:\n",
    "- code is elegant and clean in recursive fuctn\n",
    "- a larger task can be broken down into smaller sub problems using recursive fuctn\n",
    "- generating sequence is easier in case of recursion rather then using some iterative fuctn"
   ]
  },
  {
   "cell_type": "code",
   "execution_count": null,
   "id": "743b6152",
   "metadata": {},
   "outputs": [],
   "source": []
  },
  {
   "cell_type": "code",
   "execution_count": null,
   "id": "98f1da0f",
   "metadata": {},
   "outputs": [],
   "source": []
  },
  {
   "cell_type": "markdown",
   "id": "dd6db0c5",
   "metadata": {},
   "source": [
    "Creating a mul fuctn using loop"
   ]
  },
  {
   "cell_type": "code",
   "execution_count": 5,
   "id": "a209a8e5",
   "metadata": {},
   "outputs": [],
   "source": [
    "def mul(a,b):\n",
    "    res = 0\n",
    "    for i in range(b):\n",
    "        res+=a\n",
    "    return res"
   ]
  },
  {
   "cell_type": "code",
   "execution_count": 6,
   "id": "9cedd817",
   "metadata": {
    "scrolled": true
   },
   "outputs": [
    {
     "data": {
      "text/plain": [
       "30"
      ]
     },
     "execution_count": 6,
     "metadata": {},
     "output_type": "execute_result"
    }
   ],
   "source": [
    "mul(5,6)"
   ]
  },
  {
   "cell_type": "code",
   "execution_count": null,
   "id": "c76511ef",
   "metadata": {},
   "outputs": [],
   "source": []
  },
  {
   "cell_type": "markdown",
   "id": "331db230",
   "metadata": {},
   "source": [
    "- > using recursion"
   ]
  },
  {
   "cell_type": "code",
   "execution_count": 4,
   "id": "ed2cb871",
   "metadata": {},
   "outputs": [
    {
     "name": "stdout",
     "output_type": "stream",
     "text": [
      "30\n"
     ]
    }
   ],
   "source": [
    "def mulr(a,b):\n",
    "    if b==1:\n",
    "        return a\n",
    "    else:\n",
    "        return a+mulr(a,b-1)\n",
    "\n",
    "print(mulr(5,6))"
   ]
  },
  {
   "cell_type": "code",
   "execution_count": null,
   "id": "2b6e2f39",
   "metadata": {},
   "outputs": [],
   "source": []
  },
  {
   "cell_type": "markdown",
   "id": "ada9b73d",
   "metadata": {},
   "source": [
    "Factorial of a no."
   ]
  },
  {
   "cell_type": "code",
   "execution_count": 8,
   "id": "28631791",
   "metadata": {},
   "outputs": [],
   "source": [
    "def fact(no):\n",
    "    res = 1\n",
    "    for i in range(1,no+1):\n",
    "        res*=i\n",
    "    return res"
   ]
  },
  {
   "cell_type": "code",
   "execution_count": 10,
   "id": "1c8f9637",
   "metadata": {},
   "outputs": [
    {
     "name": "stdout",
     "output_type": "stream",
     "text": [
      "120\n"
     ]
    }
   ],
   "source": [
    "print(fact(5))\n",
    "\n",
    "# 5x4x3x2x1"
   ]
  },
  {
   "cell_type": "code",
   "execution_count": null,
   "id": "86657fb7",
   "metadata": {},
   "outputs": [],
   "source": []
  },
  {
   "cell_type": "markdown",
   "id": "aee7c947",
   "metadata": {},
   "source": [
    "- > using recursion"
   ]
  },
  {
   "cell_type": "raw",
   "id": "51eee4af",
   "metadata": {},
   "source": [
    "5! = 5x4x3x2x1\n",
    "\n",
    "5! = 5x(4!)\n",
    "5! = 5x(4*3!)\n",
    "5! = 5x4x(3*2!)\n",
    "5! = 5x4x3x(2x1!)\n",
    "5! = 5x4x3x2x(1)\n",
    "when n = 1 stop"
   ]
  },
  {
   "cell_type": "code",
   "execution_count": 22,
   "id": "7ff6d4df",
   "metadata": {},
   "outputs": [],
   "source": [
    "def factr(no):\n",
    "    if no==1:\n",
    "        return 1\n",
    "    else:\n",
    "        # print('no : ',no)\n",
    "        return no*factr(no-1)"
   ]
  },
  {
   "cell_type": "code",
   "execution_count": 23,
   "id": "94ecdf5a",
   "metadata": {},
   "outputs": [
    {
     "name": "stdout",
     "output_type": "stream",
     "text": [
      "no :  5\n",
      "no :  4\n",
      "no :  3\n",
      "no :  2\n",
      "120\n"
     ]
    }
   ],
   "source": [
    "print(factr(5))"
   ]
  },
  {
   "cell_type": "code",
   "execution_count": null,
   "id": "e16b63b4",
   "metadata": {},
   "outputs": [],
   "source": []
  },
  {
   "cell_type": "markdown",
   "id": "645d6774",
   "metadata": {},
   "source": [
    "Palindrome"
   ]
  },
  {
   "cell_type": "code",
   "execution_count": 4,
   "id": "bb2a8849",
   "metadata": {},
   "outputs": [],
   "source": [
    "def palin(txt):\n",
    "    if txt==txt[::-1]:\n",
    "        print('Its palindrome')\n",
    "    else:\n",
    "        print('Not a palindrome no')"
   ]
  },
  {
   "cell_type": "code",
   "execution_count": 5,
   "id": "9f9c5c58",
   "metadata": {},
   "outputs": [
    {
     "name": "stdout",
     "output_type": "stream",
     "text": [
      "Its palindrome\n"
     ]
    }
   ],
   "source": [
    "palin('madam')"
   ]
  },
  {
   "cell_type": "code",
   "execution_count": 6,
   "id": "957dd1cc",
   "metadata": {},
   "outputs": [
    {
     "name": "stdout",
     "output_type": "stream",
     "text": [
      "Not a palindrome no\n"
     ]
    }
   ],
   "source": [
    "palin('maab')"
   ]
  },
  {
   "cell_type": "markdown",
   "id": "cd7dc729",
   "metadata": {},
   "source": [
    "- > using recursion"
   ]
  },
  {
   "cell_type": "code",
   "execution_count": 7,
   "id": "25599055",
   "metadata": {},
   "outputs": [],
   "source": [
    "def palinr(txt):\n",
    "    if len(txt)==1:\n",
    "        print('Plaindrome no')\n",
    "    else:\n",
    "        if txt[0]==txt[-1]:\n",
    "            palinr(txt[1:-1])\n",
    "        else:\n",
    "            print('Not a palindrome no')\n",
    "            "
   ]
  },
  {
   "cell_type": "code",
   "execution_count": 8,
   "id": "d5d6e21e",
   "metadata": {},
   "outputs": [
    {
     "name": "stdout",
     "output_type": "stream",
     "text": [
      "Plaindrome no\n"
     ]
    }
   ],
   "source": [
    "palinr('madam')"
   ]
  },
  {
   "cell_type": "code",
   "execution_count": 9,
   "id": "252f4101",
   "metadata": {},
   "outputs": [
    {
     "name": "stdout",
     "output_type": "stream",
     "text": [
      "Not a palindrome no\n"
     ]
    }
   ],
   "source": [
    "palinr('moob')"
   ]
  },
  {
   "cell_type": "code",
   "execution_count": 10,
   "id": "6a5e3222",
   "metadata": {},
   "outputs": [
    {
     "name": "stdout",
     "output_type": "stream",
     "text": [
      "Plaindrome no\n"
     ]
    }
   ],
   "source": [
    "palinr('mom')"
   ]
  },
  {
   "cell_type": "code",
   "execution_count": null,
   "id": "fa93bb39",
   "metadata": {},
   "outputs": [],
   "source": []
  },
  {
   "cell_type": "markdown",
   "id": "f54925a2",
   "metadata": {},
   "source": [
    "Generating fibonacci series\n",
    "- rabbit problem"
   ]
  },
  {
   "cell_type": "code",
   "execution_count": 66,
   "id": "25d65d36",
   "metadata": {},
   "outputs": [],
   "source": [
    "def fibon(n):\n",
    "    a,b=0,1\n",
    "    for i in range(n):\n",
    "        print(a, end=' ')\n",
    "        tmp=a\n",
    "        a = b\n",
    "        b=tmp+b"
   ]
  },
  {
   "cell_type": "code",
   "execution_count": 67,
   "id": "3bea5344",
   "metadata": {},
   "outputs": [
    {
     "name": "stdout",
     "output_type": "stream",
     "text": [
      "0 1 1 2 3 "
     ]
    }
   ],
   "source": [
    "fibon(5)"
   ]
  },
  {
   "cell_type": "markdown",
   "id": "a3ae6b96",
   "metadata": {},
   "source": [
    "- > Using recursion"
   ]
  },
  {
   "cell_type": "code",
   "execution_count": 68,
   "id": "8edb9d2c",
   "metadata": {},
   "outputs": [],
   "source": [
    "def fibonr(n):\n",
    "    if n <= 1:\n",
    "        return n\n",
    "    else:\n",
    "        return(fibonr(n-1) + fibonr(n-2))"
   ]
  },
  {
   "cell_type": "code",
   "execution_count": 65,
   "id": "c51d99d7",
   "metadata": {
    "scrolled": false
   },
   "outputs": [
    {
     "data": {
      "text/plain": [
       "55"
      ]
     },
     "execution_count": 65,
     "metadata": {},
     "output_type": "execute_result"
    }
   ],
   "source": [
    "fibonr(10)"
   ]
  },
  {
   "cell_type": "code",
   "execution_count": null,
   "id": "ee3bfb3b",
   "metadata": {},
   "outputs": [],
   "source": []
  },
  {
   "cell_type": "code",
   "execution_count": 37,
   "id": "597f449f",
   "metadata": {},
   "outputs": [],
   "source": [
    "# for the soln of rabbit que\n",
    "\n",
    "def fibonrn(n):\n",
    "    if n==0 or n == 1:\n",
    "        return 1\n",
    "    else:\n",
    "        return(fibonrn(n-1) + fibonrn(n-2))"
   ]
  },
  {
   "cell_type": "code",
   "execution_count": 38,
   "id": "19a1af75",
   "metadata": {},
   "outputs": [
    {
     "data": {
      "text/plain": [
       "8"
      ]
     },
     "execution_count": 38,
     "metadata": {},
     "output_type": "execute_result"
    }
   ],
   "source": [
    "fibonrn(5)"
   ]
  },
  {
   "cell_type": "code",
   "execution_count": null,
   "id": "8a946bda",
   "metadata": {},
   "outputs": [],
   "source": []
  },
  {
   "cell_type": "markdown",
   "id": "24c3b88a",
   "metadata": {},
   "source": [
    "Q. Generating the fibbonaci series upto given no"
   ]
  },
  {
   "cell_type": "code",
   "execution_count": 89,
   "id": "56c74faa",
   "metadata": {},
   "outputs": [],
   "source": [
    "def fibo1(n):\n",
    "    a,b = 1,1\n",
    "    for i in range(n):\n",
    "        print(a, end=' ')\n",
    "        tmp = a\n",
    "        a = b\n",
    "        b = tmp+b\n",
    "    "
   ]
  },
  {
   "cell_type": "code",
   "execution_count": 90,
   "id": "a165d56b",
   "metadata": {},
   "outputs": [
    {
     "name": "stdout",
     "output_type": "stream",
     "text": [
      "1 1 2 3 5 8 13 21 34 55 89 "
     ]
    }
   ],
   "source": [
    "fibo1(11)"
   ]
  },
  {
   "cell_type": "markdown",
   "id": "5ee8f4d9",
   "metadata": {},
   "source": [
    "Q. Find a fibonnaci number present at the given posn"
   ]
  },
  {
   "cell_type": "code",
   "execution_count": 81,
   "id": "8f9a2f31",
   "metadata": {},
   "outputs": [],
   "source": [
    "def fibo2(n):\n",
    "    a,b = 1,1\n",
    "    for i in range(n):\n",
    "        if (i+1)==n:\n",
    "            print(f'f({n}) is {a}')\n",
    "        tmp = a\n",
    "        a = b\n",
    "        b = tmp+b"
   ]
  },
  {
   "cell_type": "code",
   "execution_count": 82,
   "id": "f3aac19d",
   "metadata": {},
   "outputs": [
    {
     "name": "stdout",
     "output_type": "stream",
     "text": [
      "f(10) is 55\n"
     ]
    }
   ],
   "source": [
    "fibo2(10)"
   ]
  },
  {
   "cell_type": "code",
   "execution_count": null,
   "id": "2962f9e5",
   "metadata": {},
   "outputs": [],
   "source": []
  },
  {
   "cell_type": "markdown",
   "id": "b1be3af3",
   "metadata": {},
   "source": [
    "Finding the time consumed by each of the fibo fuctn "
   ]
  },
  {
   "cell_type": "markdown",
   "id": "7dc40bab",
   "metadata": {},
   "source": [
    "- By using recursion"
   ]
  },
  {
   "cell_type": "code",
   "execution_count": 92,
   "id": "919558f8",
   "metadata": {},
   "outputs": [
    {
     "name": "stdout",
     "output_type": "stream",
     "text": [
      "55\n",
      "time taken :  0.000217437744140625\n"
     ]
    }
   ],
   "source": [
    "import time\n",
    "\n",
    "def fibo1(n):\n",
    "    if n==1 or n==0:\n",
    "        return n\n",
    "    else:\n",
    "        return fibo1(n-1)+fibo1(n-2)\n",
    "  \n",
    "    \n",
    "start = time.time()\n",
    "print(fibo1(10))\n",
    "print('time taken : ',time.time()-start)"
   ]
  },
  {
   "cell_type": "code",
   "execution_count": null,
   "id": "62485d1f",
   "metadata": {},
   "outputs": [],
   "source": []
  },
  {
   "cell_type": "markdown",
   "id": "31a4cad0",
   "metadata": {},
   "source": [
    "- By using iteration"
   ]
  },
  {
   "cell_type": "code",
   "execution_count": 84,
   "id": "4a2d6dc4",
   "metadata": {},
   "outputs": [
    {
     "name": "stdout",
     "output_type": "stream",
     "text": [
      "f(10) is 55\n",
      "time taken :  0.0007922649383544922\n"
     ]
    }
   ],
   "source": [
    "import time\n",
    "\n",
    "def fibo2(n):\n",
    "    a,b = 1,1\n",
    "    for i in range(n):\n",
    "        if (i+1)==n:\n",
    "            print(f'f({n}) is {a}')\n",
    "        tmp = a\n",
    "        a = b\n",
    "        b = tmp+b\n",
    "      \n",
    "start = time.time()\n",
    "fibo2(10)\n",
    "print('time taken : ',time.time()-start)"
   ]
  },
  {
   "cell_type": "code",
   "execution_count": null,
   "id": "22981be2",
   "metadata": {},
   "outputs": [],
   "source": []
  },
  {
   "cell_type": "markdown",
   "id": "a03b4ac6",
   "metadata": {},
   "source": [
    "The main problem is recursion is it takes longer time\n",
    "- to solve this issue we can use Dynamic pogramming\n",
    "- Memoization"
   ]
  },
  {
   "cell_type": "markdown",
   "id": "c3018b3d",
   "metadata": {},
   "source": [
    "We will use a dict to store the fibo of no. so that the repeated fibo. of no. will not be calculated again and the data will be fetched directly from the dict,\n",
    "- It;s kinda trade off of storage space for less execution time"
   ]
  },
  {
   "cell_type": "code",
   "execution_count": null,
   "id": "c8d6f9e7",
   "metadata": {},
   "outputs": [],
   "source": []
  }
 ],
 "metadata": {
  "kernelspec": {
   "display_name": "Python 3 (ipykernel)",
   "language": "python",
   "name": "python3"
  },
  "language_info": {
   "codemirror_mode": {
    "name": "ipython",
    "version": 3
   },
   "file_extension": ".py",
   "mimetype": "text/x-python",
   "name": "python",
   "nbconvert_exporter": "python",
   "pygments_lexer": "ipython3",
   "version": "3.8.10"
  }
 },
 "nbformat": 4,
 "nbformat_minor": 5
}
