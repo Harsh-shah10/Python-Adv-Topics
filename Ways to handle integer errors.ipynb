{
 "cells": [
  {
   "cell_type": "code",
   "execution_count": null,
   "id": "30213b43",
   "metadata": {},
   "outputs": [],
   "source": [
    "# defination to handle string input as integers"
   ]
  },
  {
   "cell_type": "code",
   "execution_count": 2,
   "id": "c2a6b2b3",
   "metadata": {},
   "outputs": [],
   "source": [
    "def int_validate(user_bal):\n",
    "    while True:\n",
    "        if user_bal.isnumeric() == True:\n",
    "            user_bal = int(user_bal)\n",
    "            print(\"balance \",user_bal)\n",
    "            return user_bal\n",
    "            break\n",
    "        else:\n",
    "            print('Sorry ! Only integers Accepted')"
   ]
  },
  {
   "cell_type": "code",
   "execution_count": 6,
   "id": "1636c48f",
   "metadata": {},
   "outputs": [
    {
     "name": "stdout",
     "output_type": "stream",
     "text": [
      "balance  1111\n"
     ]
    }
   ],
   "source": [
    "a = \"1111\"\n",
    "b = int_validate(a)"
   ]
  },
  {
   "cell_type": "code",
   "execution_count": 7,
   "id": "308459a7",
   "metadata": {},
   "outputs": [
    {
     "data": {
      "text/plain": [
       "1111"
      ]
     },
     "execution_count": 7,
     "metadata": {},
     "output_type": "execute_result"
    }
   ],
   "source": [
    "b "
   ]
  },
  {
   "cell_type": "code",
   "execution_count": 9,
   "id": "156632d8",
   "metadata": {},
   "outputs": [
    {
     "name": "stdout",
     "output_type": "stream",
     "text": [
      "balance  1111\n"
     ]
    }
   ],
   "source": [
    "c = int_validate(a)"
   ]
  },
  {
   "cell_type": "code",
   "execution_count": 10,
   "id": "bc96b803",
   "metadata": {},
   "outputs": [
    {
     "data": {
      "text/plain": [
       "1111"
      ]
     },
     "execution_count": 10,
     "metadata": {},
     "output_type": "execute_result"
    }
   ],
   "source": [
    "c"
   ]
  },
  {
   "cell_type": "code",
   "execution_count": null,
   "id": "0796934f",
   "metadata": {},
   "outputs": [],
   "source": []
  },
  {
   "cell_type": "code",
   "execution_count": 11,
   "id": "ba879ce6",
   "metadata": {},
   "outputs": [],
   "source": [
    "# Different ways to handle integers as input"
   ]
  },
  {
   "cell_type": "markdown",
   "id": "808bf605",
   "metadata": {},
   "source": [
    "#### isnumeric()\n",
    "> Note: This method of checking if the string is an integer in Python will not work in negative numbers."
   ]
  },
  {
   "cell_type": "code",
   "execution_count": 13,
   "id": "4172e8cc",
   "metadata": {},
   "outputs": [
    {
     "name": "stdout",
     "output_type": "stream",
     "text": [
      "True\n"
     ]
    }
   ],
   "source": [
    "# using : isnumeric()\n",
    "\n",
    "a = \"1234\"\n",
    "print(a.isnumeric())\n"
   ]
  },
  {
   "cell_type": "code",
   "execution_count": 15,
   "id": "0daab24f",
   "metadata": {},
   "outputs": [
    {
     "name": "stdout",
     "output_type": "stream",
     "text": [
      "enter the number : gfdgdf\n",
      "the string is not an integer\n"
     ]
    }
   ],
   "source": [
    "# checking whether the string is an integer using error handling\n",
    "\n",
    "flag = True\n",
    "a = input(\"enter the number : \")\n",
    "    \n",
    "try:\n",
    "    int(a)\n",
    "except ValueError:\n",
    "    flag = False\n",
    "    \n",
    "if flag:\n",
    "    print(\"the string is an integer\")\n",
    "else:\n",
    "    print(\"the string is not an integer\")"
   ]
  },
  {
   "cell_type": "code",
   "execution_count": null,
   "id": "4c30ff7e",
   "metadata": {},
   "outputs": [],
   "source": []
  }
 ],
 "metadata": {
  "kernelspec": {
   "display_name": "Python 3 (ipykernel)",
   "language": "python",
   "name": "python3"
  },
  "language_info": {
   "codemirror_mode": {
    "name": "ipython",
    "version": 3
   },
   "file_extension": ".py",
   "mimetype": "text/x-python",
   "name": "python",
   "nbconvert_exporter": "python",
   "pygments_lexer": "ipython3",
   "version": "3.8.10"
  }
 },
 "nbformat": 4,
 "nbformat_minor": 5
}
