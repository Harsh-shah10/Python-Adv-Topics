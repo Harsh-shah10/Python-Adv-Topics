{
 "cells": [
  {
   "cell_type": "raw",
   "id": "fb62d294",
   "metadata": {},
   "source": [
    "data type -> class\n",
    "variable -> object"
   ]
  },
  {
   "cell_type": "code",
   "execution_count": null,
   "id": "a36ca37c",
   "metadata": {},
   "outputs": [],
   "source": []
  },
  {
   "cell_type": "code",
   "execution_count": 4,
   "id": "9794b9bc",
   "metadata": {},
   "outputs": [],
   "source": [
    "# class "
   ]
  },
  {
   "cell_type": "raw",
   "id": "c6821c9e",
   "metadata": {},
   "source": [
    "Class is a blueprint using which we can create objects"
   ]
  },
  {
   "cell_type": "code",
   "execution_count": null,
   "id": "742a9c14",
   "metadata": {},
   "outputs": [],
   "source": [
    "# objects"
   ]
  },
  {
   "cell_type": "raw",
   "id": "c926d85d",
   "metadata": {},
   "source": [
    "objects are the instance of class.\n",
    "At every instance the value of the obj contains different values"
   ]
  },
  {
   "cell_type": "code",
   "execution_count": null,
   "id": "8902c62d",
   "metadata": {},
   "outputs": [],
   "source": []
  },
  {
   "cell_type": "code",
   "execution_count": null,
   "id": "75d8b674",
   "metadata": {},
   "outputs": [],
   "source": [
    "# Object Literal"
   ]
  },
  {
   "cell_type": "raw",
   "id": "5279850a",
   "metadata": {},
   "source": [
    "Python also provides objecy literal through which we can create the obj of the class in thos way also for built in data types"
   ]
  },
  {
   "cell_type": "code",
   "execution_count": 3,
   "id": "23347938",
   "metadata": {},
   "outputs": [
    {
     "data": {
      "text/plain": [
       "[1, 2, 3]"
      ]
     },
     "execution_count": 3,
     "metadata": {},
     "output_type": "execute_result"
    }
   ],
   "source": [
    "l1 = list([1,2,3])\n",
    "l1"
   ]
  },
  {
   "cell_type": "code",
   "execution_count": 4,
   "id": "58924c28",
   "metadata": {},
   "outputs": [
    {
     "data": {
      "text/plain": [
       "[]"
      ]
     },
     "execution_count": 4,
     "metadata": {},
     "output_type": "execute_result"
    }
   ],
   "source": [
    "l2 = list()\n",
    "l2"
   ]
  },
  {
   "cell_type": "code",
   "execution_count": null,
   "id": "3ab8a07c",
   "metadata": {},
   "outputs": [],
   "source": []
  },
  {
   "cell_type": "code",
   "execution_count": 5,
   "id": "5438a426",
   "metadata": {},
   "outputs": [],
   "source": [
    "#Using Object Literal for built in data types"
   ]
  },
  {
   "cell_type": "code",
   "execution_count": 6,
   "id": "84544d00",
   "metadata": {},
   "outputs": [
    {
     "data": {
      "text/plain": [
       "[1, 2, 3]"
      ]
     },
     "execution_count": 6,
     "metadata": {},
     "output_type": "execute_result"
    }
   ],
   "source": [
    "l3 = [1,2,3]\n",
    "l3"
   ]
  },
  {
   "cell_type": "code",
   "execution_count": 7,
   "id": "c8ed1788",
   "metadata": {},
   "outputs": [
    {
     "data": {
      "text/plain": [
       "[]"
      ]
     },
     "execution_count": 7,
     "metadata": {},
     "output_type": "execute_result"
    }
   ],
   "source": [
    "l4 = []\n",
    "l4"
   ]
  },
  {
   "cell_type": "code",
   "execution_count": null,
   "id": "08f7400d",
   "metadata": {},
   "outputs": [],
   "source": []
  },
  {
   "cell_type": "code",
   "execution_count": 8,
   "id": "25ddfd8a",
   "metadata": {},
   "outputs": [],
   "source": [
    "# function"
   ]
  },
  {
   "cell_type": "raw",
   "id": "fd199b08",
   "metadata": {},
   "source": [
    "A function is a block of code which only runs when it is called. You can pass data, known as parameters, into a function"
   ]
  },
  {
   "cell_type": "code",
   "execution_count": 9,
   "id": "46970aa8",
   "metadata": {},
   "outputs": [],
   "source": [
    "# Method "
   ]
  },
  {
   "cell_type": "raw",
   "id": "de86f853",
   "metadata": {},
   "source": [
    "Method is a special fucntn/ fuctn defined inside a class"
   ]
  },
  {
   "cell_type": "code",
   "execution_count": null,
   "id": "9fa72472",
   "metadata": {},
   "outputs": [],
   "source": []
  },
  {
   "cell_type": "code",
   "execution_count": 12,
   "id": "83ef1645",
   "metadata": {},
   "outputs": [],
   "source": [
    "# Constructor / special / magic / dunder methods"
   ]
  },
  {
   "cell_type": "raw",
   "id": "0fdcea41",
   "metadata": {},
   "source": [
    "Constructor is a special kind of method  that is called when an object is created."
   ]
  },
  {
   "cell_type": "raw",
   "id": "09fa9131",
   "metadata": {},
   "source": [
    "The code written inside the constructor is run automatically when an object of the class is created"
   ]
  },
  {
   "cell_type": "code",
   "execution_count": null,
   "id": "9240d428",
   "metadata": {},
   "outputs": [],
   "source": []
  },
  {
   "cell_type": "code",
   "execution_count": 13,
   "id": "fbde4b97",
   "metadata": {},
   "outputs": [],
   "source": [
    "# creating an Atm"
   ]
  },
  {
   "cell_type": "code",
   "execution_count": 7,
   "id": "edeb11da",
   "metadata": {},
   "outputs": [],
   "source": [
    "class Atm:\n",
    "    def __init__(self):\n",
    "        self.pin=''\n",
    "        self.bal=0\n",
    "        \n",
    "        print('ID of self ',id(self))\n",
    "        self.menu()\n",
    "        \n",
    "    def menu(self):\n",
    "        while True:\n",
    "            user_inp = input('''\n",
    "Welcome to WesternNewton Bank\n",
    "\n",
    "press 1: to create pin\n",
    "press 2: to deposit money\n",
    "press 3: to withdraw\n",
    "press 4: to check balance\n",
    "press 5: to quit\n",
    "''')\n",
    "\n",
    "            if user_inp=='1':\n",
    "                #print('Creating Pin')\n",
    "                self.create_pin()\n",
    "            elif user_inp=='2':\n",
    "                #print('Depositing Money')\n",
    "                self.deposit()\n",
    "            elif user_inp=='3':\n",
    "                #print('Withdrawing Money')\n",
    "                self.withdraw()\n",
    "            elif user_inp=='4':\n",
    "                #print('Checking Balance')\n",
    "                self.check_bal()\n",
    "            elif user_inp=='5':\n",
    "                #print('Quitting Now')\n",
    "                break\n",
    "\n",
    "    def create_pin(self):\n",
    "        self.pin = int(input('\\nenter your pin : '))\n",
    "        print('PIN Set Successful !!')\n",
    "\n",
    "    def deposit(self):\n",
    "        #print('current pin ',self.pin)\n",
    "        tmp = int(input('\\nEnter the pin : '))\n",
    "        if tmp==self.pin:\n",
    "            amount = int(input('Enter the Deposit amount : '))\n",
    "            self.bal+=amount\n",
    "            print('Balance Updated Successfully')\n",
    "            print('Balance : ',self.bal)\n",
    "        else:\n",
    "            print('Incorrect Pin entered')\n",
    "\n",
    "    def withdraw(self):\n",
    "        tmp = int(input('\\nEnter the pin : '))\n",
    "        if tmp==self.pin:\n",
    "            amount = int(input('Enter the Withdrawal amount : '))\n",
    "\n",
    "            if amount<self.bal and amount>0:\n",
    "                self.bal-=amount\n",
    "                print('Balance Updated Successfully')\n",
    "                print('Balance : ',self.bal)\n",
    "            else:\n",
    "                print('Low Balance !!')\n",
    "                print('Balance : ',self.bal)\n",
    "        else:\n",
    "            print('Incorrect Pin entered')\n",
    "\n",
    "    def check_bal(self):\n",
    "        tmp = int(input('\\nEnter the pin : '))\n",
    "        if tmp==self.pin:\n",
    "            print('Balance : ',self.bal)\n",
    "        else:\n",
    "            print('Incorrect Pin entered')\n",
    "\n",
    " "
   ]
  },
  {
   "cell_type": "code",
   "execution_count": 3,
   "id": "8436497e",
   "metadata": {},
   "outputs": [
    {
     "name": "stdout",
     "output_type": "stream",
     "text": [
      "\n",
      "Welcome to WesternNewton Bank\n",
      "\n",
      "press 1: to create pin\n",
      "press 2: to deposit money\n",
      "press 3: to withdraw\n",
      "press 4: to check balance\n",
      "press 5: to quit\n",
      "1\n",
      "\n",
      "enter your pin : 1234\n",
      "PIN Set Successful !!\n",
      "\n",
      "Welcome to WesternNewton Bank\n",
      "\n",
      "press 1: to create pin\n",
      "press 2: to deposit money\n",
      "press 3: to withdraw\n",
      "press 4: to check balance\n",
      "press 5: to quit\n",
      "2\n",
      "\n",
      "Enter the pin : 121\n",
      "Incorrect Pin entered\n",
      "\n",
      "Welcome to WesternNewton Bank\n",
      "\n",
      "press 1: to create pin\n",
      "press 2: to deposit money\n",
      "press 3: to withdraw\n",
      "press 4: to check balance\n",
      "press 5: to quit\n",
      "2\n",
      "\n",
      "Enter the pin : 1234\n",
      "Enter the Deposit amount : 1000\n",
      "Balance Updated Successfully\n",
      "Balance :  1000\n",
      "\n",
      "Welcome to WesternNewton Bank\n",
      "\n",
      "press 1: to create pin\n",
      "press 2: to deposit money\n",
      "press 3: to withdraw\n",
      "press 4: to check balance\n",
      "press 5: to quit\n",
      "3\n",
      "\n",
      "Enter the pin : 200\n",
      "Incorrect Pin entered\n",
      "\n",
      "Welcome to WesternNewton Bank\n",
      "\n",
      "press 1: to create pin\n",
      "press 2: to deposit money\n",
      "press 3: to withdraw\n",
      "press 4: to check balance\n",
      "press 5: to quit\n",
      "3\n",
      "\n",
      "Enter the pin : 1234\n",
      "Enter the Withdrawal amount : 200\n",
      "Balance Updated Successfully\n",
      "Balance :  800\n",
      "\n",
      "Welcome to WesternNewton Bank\n",
      "\n",
      "press 1: to create pin\n",
      "press 2: to deposit money\n",
      "press 3: to withdraw\n",
      "press 4: to check balance\n",
      "press 5: to quit\n",
      "4\n",
      "\n",
      "Enter the pin : 1234\n",
      "Balance :  800\n",
      "\n",
      "Welcome to WesternNewton Bank\n",
      "\n",
      "press 1: to create pin\n",
      "press 2: to deposit money\n",
      "press 3: to withdraw\n",
      "press 4: to check balance\n",
      "press 5: to quit\n",
      "3\n",
      "\n",
      "Enter the pin : 1234\n",
      "Enter the Withdrawal amount : 900\n",
      "Low Balance !!\n",
      "Balance :  800\n",
      "\n",
      "Welcome to WesternNewton Bank\n",
      "\n",
      "press 1: to create pin\n",
      "press 2: to deposit money\n",
      "press 3: to withdraw\n",
      "press 4: to check balance\n",
      "press 5: to quit\n",
      "2\n",
      "\n",
      "Enter the pin : 1234\n",
      "Enter the Deposit amount : 1000\n",
      "Balance Updated Successfully\n",
      "Balance :  1800\n",
      "\n",
      "Welcome to WesternNewton Bank\n",
      "\n",
      "press 1: to create pin\n",
      "press 2: to deposit money\n",
      "press 3: to withdraw\n",
      "press 4: to check balance\n",
      "press 5: to quit\n",
      "5\n"
     ]
    }
   ],
   "source": [
    "harsh = Atm()"
   ]
  },
  {
   "cell_type": "code",
   "execution_count": null,
   "id": "36ae0ff0",
   "metadata": {},
   "outputs": [],
   "source": []
  },
  {
   "cell_type": "code",
   "execution_count": null,
   "id": "f9978d81",
   "metadata": {},
   "outputs": [],
   "source": [
    "Self : Current Obj"
   ]
  },
  {
   "cell_type": "raw",
   "id": "3e032279",
   "metadata": {},
   "source": [
    "JIS obj ke sath abhi kaam kr rhe hoto hoo wohi self hota hai"
   ]
  },
  {
   "cell_type": "raw",
   "id": "698d2714",
   "metadata": {},
   "source": [
    "the id of the object gets passed in self in the form of default parameter to methods inside the class"
   ]
  },
  {
   "cell_type": "code",
   "execution_count": 8,
   "id": "b06569e3",
   "metadata": {},
   "outputs": [
    {
     "name": "stdout",
     "output_type": "stream",
     "text": [
      "ID of self  139790454110288\n",
      "\n",
      "Welcome to WesternNewton Bank\n",
      "\n",
      "press 1: to create pin\n",
      "press 2: to deposit money\n",
      "press 3: to withdraw\n",
      "press 4: to check balance\n",
      "press 5: to quit\n",
      "5\n"
     ]
    }
   ],
   "source": [
    "sbi_atm = Atm()"
   ]
  },
  {
   "cell_type": "code",
   "execution_count": 9,
   "id": "ac8f5ae6",
   "metadata": {},
   "outputs": [
    {
     "name": "stdout",
     "output_type": "stream",
     "text": [
      "139790454110288\n"
     ]
    }
   ],
   "source": [
    "print(id(sbi_atm))"
   ]
  },
  {
   "cell_type": "code",
   "execution_count": null,
   "id": "7743c942",
   "metadata": {},
   "outputs": [],
   "source": []
  },
  {
   "cell_type": "code",
   "execution_count": 10,
   "id": "f1f216db",
   "metadata": {},
   "outputs": [
    {
     "name": "stdout",
     "output_type": "stream",
     "text": [
      "ID of self  139790448605744\n",
      "\n",
      "Welcome to WesternNewton Bank\n",
      "\n",
      "press 1: to create pin\n",
      "press 2: to deposit money\n",
      "press 3: to withdraw\n",
      "press 4: to check balance\n",
      "press 5: to quit\n",
      "5\n"
     ]
    }
   ],
   "source": [
    "hdfc_atm = Atm()"
   ]
  },
  {
   "cell_type": "code",
   "execution_count": 11,
   "id": "cdb225d7",
   "metadata": {},
   "outputs": [
    {
     "name": "stdout",
     "output_type": "stream",
     "text": [
      "139790448605744\n"
     ]
    }
   ],
   "source": [
    "print(id(hdfc_atm))"
   ]
  },
  {
   "cell_type": "code",
   "execution_count": null,
   "id": "8a02b44b",
   "metadata": {},
   "outputs": [],
   "source": []
  },
  {
   "cell_type": "raw",
   "id": "89b1eeb8",
   "metadata": {},
   "source": [
    "Fraction code \n",
    "\n",
    " 1 -> Numerator\n",
    "---\n",
    " 2 -> Denominator"
   ]
  },
  {
   "cell_type": "code",
   "execution_count": 19,
   "id": "5de7ae60",
   "metadata": {},
   "outputs": [],
   "source": [
    "class Fraction:\n",
    "    def __init__(self,n,d):\n",
    "        self.n = n\n",
    "        self.d = d\n"
   ]
  },
  {
   "cell_type": "code",
   "execution_count": 20,
   "id": "493cf9c1",
   "metadata": {},
   "outputs": [
    {
     "name": "stdout",
     "output_type": "stream",
     "text": [
      "<__main__.Fraction object at 0x7f2378686640>\n"
     ]
    }
   ],
   "source": [
    "f1 = Fraction(1,2)\n",
    "print(f1)"
   ]
  },
  {
   "cell_type": "code",
   "execution_count": null,
   "id": "68ea844e",
   "metadata": {},
   "outputs": [],
   "source": [
    "\n"
   ]
  },
  {
   "cell_type": "code",
   "execution_count": 21,
   "id": "3ad85fae",
   "metadata": {},
   "outputs": [],
   "source": [
    "class Fraction:\n",
    "    def __init__(self,n,d):\n",
    "        self.n = n\n",
    "        self.d = d\n",
    "        \n",
    "    def __str__(self):\n",
    "        return (f'{self.n}/{self.d}')"
   ]
  },
  {
   "cell_type": "code",
   "execution_count": 23,
   "id": "69762f85",
   "metadata": {},
   "outputs": [
    {
     "name": "stdout",
     "output_type": "stream",
     "text": [
      "2/3\n"
     ]
    }
   ],
   "source": [
    "frac1 = Fraction(2,3)\n",
    "print(frac1)"
   ]
  },
  {
   "cell_type": "code",
   "execution_count": 24,
   "id": "706ca109",
   "metadata": {},
   "outputs": [
    {
     "name": "stdout",
     "output_type": "stream",
     "text": [
      "4/5\n"
     ]
    }
   ],
   "source": [
    "frac2 = Fraction(4,5)\n",
    "print(frac2)"
   ]
  },
  {
   "cell_type": "code",
   "execution_count": 25,
   "id": "fd3bdc42",
   "metadata": {},
   "outputs": [
    {
     "ename": "TypeError",
     "evalue": "unsupported operand type(s) for +: 'Fraction' and 'Fraction'",
     "output_type": "error",
     "traceback": [
      "\u001b[0;31m---------------------------------------------------------------------------\u001b[0m",
      "\u001b[0;31mTypeError\u001b[0m                                 Traceback (most recent call last)",
      "Input \u001b[0;32mIn [25]\u001b[0m, in \u001b[0;36m<module>\u001b[0;34m\u001b[0m\n\u001b[1;32m      1\u001b[0m \u001b[38;5;66;03m# trying to add 2 fraction obj\u001b[39;00m\n\u001b[0;32m----> 2\u001b[0m \u001b[38;5;28mprint\u001b[39m(\u001b[43mfrac1\u001b[49m\u001b[38;5;241;43m+\u001b[39;49m\u001b[43mfrac2\u001b[49m)\n",
      "\u001b[0;31mTypeError\u001b[0m: unsupported operand type(s) for +: 'Fraction' and 'Fraction'"
     ]
    }
   ],
   "source": [
    "# trying to add 2 fraction obj\n",
    "print(frac1+frac2)"
   ]
  },
  {
   "cell_type": "code",
   "execution_count": null,
   "id": "4aed130c",
   "metadata": {},
   "outputs": [],
   "source": []
  },
  {
   "cell_type": "code",
   "execution_count": 41,
   "id": "86777bfe",
   "metadata": {},
   "outputs": [],
   "source": [
    "class Fraction:\n",
    "    def __init__(self,n,d):\n",
    "        self.n = n\n",
    "        self.d = d\n",
    "        \n",
    "    def __str__(self):\n",
    "        return (f'{self.n}/{self.d}')\n",
    "    \n",
    "    def __add__(self,other):\n",
    "        num = (self.n * other.d) + (self.d * other.n)\n",
    "        den = self.d * other.d\n",
    "        return f'{num}/{den}'\n",
    "    \n",
    "    def __sub__(self,other):\n",
    "        num = (self.n * other.d) - (self.d * other.n)\n",
    "        den = self.d * other.d\n",
    "        return f'{num}/{den}'\n",
    "    \n",
    "    def __mul__(self,other):\n",
    "        num = self.n * other.n\n",
    "        den = self.d * other.d\n",
    "        return f'{num}/{den}'\n",
    "    \n",
    "    def __truediv__(self,other):\n",
    "        num = self.n * other.d\n",
    "        den = self.d * other.n\n",
    "        return f'{num}/{den}'"
   ]
  },
  {
   "cell_type": "code",
   "execution_count": 42,
   "id": "e3755fa0",
   "metadata": {},
   "outputs": [
    {
     "name": "stdout",
     "output_type": "stream",
     "text": [
      "3/4\n"
     ]
    }
   ],
   "source": [
    "frac1 = Fraction(3,4)\n",
    "print(frac1)"
   ]
  },
  {
   "cell_type": "code",
   "execution_count": 43,
   "id": "789d81e2",
   "metadata": {},
   "outputs": [
    {
     "name": "stdout",
     "output_type": "stream",
     "text": [
      "5/6\n"
     ]
    }
   ],
   "source": [
    "frac2 = Fraction(5,6)\n",
    "print(frac2)"
   ]
  },
  {
   "cell_type": "code",
   "execution_count": 44,
   "id": "a7c5a13f",
   "metadata": {},
   "outputs": [
    {
     "name": "stdout",
     "output_type": "stream",
     "text": [
      "38/24\n"
     ]
    }
   ],
   "source": [
    "print(frac1+frac2)"
   ]
  },
  {
   "cell_type": "code",
   "execution_count": 45,
   "id": "511c33fc",
   "metadata": {},
   "outputs": [
    {
     "name": "stdout",
     "output_type": "stream",
     "text": [
      "-2/24\n"
     ]
    }
   ],
   "source": [
    "print(frac1-frac2)"
   ]
  },
  {
   "cell_type": "code",
   "execution_count": 46,
   "id": "b235b932",
   "metadata": {},
   "outputs": [
    {
     "name": "stdout",
     "output_type": "stream",
     "text": [
      "15/24\n"
     ]
    }
   ],
   "source": [
    "print(frac1*frac2)"
   ]
  },
  {
   "cell_type": "code",
   "execution_count": 47,
   "id": "58e1cedb",
   "metadata": {},
   "outputs": [
    {
     "name": "stdout",
     "output_type": "stream",
     "text": [
      "18/20\n"
     ]
    }
   ],
   "source": [
    "print(frac1/frac2)"
   ]
  },
  {
   "cell_type": "code",
   "execution_count": null,
   "id": "babbb897",
   "metadata": {},
   "outputs": [],
   "source": []
  },
  {
   "cell_type": "raw",
   "id": "1b70284d",
   "metadata": {},
   "source": [
    "Instance Variable : Is a kind of variable for which the value of the variable is different for differenet obj\n",
    "\n",
    "We can access the instance variable using the object and dot (.) operator.\n",
    "\n",
    "In Python, to work with an instance variable and method, we use the self keyword. We use the self keyword as the first parameter to a method. The self refers to the current object.\n",
    "\n",
    "Every object has its own copy of instance variables"
   ]
  },
  {
   "cell_type": "code",
   "execution_count": null,
   "id": "5eb98372",
   "metadata": {},
   "outputs": [],
   "source": []
  },
  {
   "cell_type": "raw",
   "id": "e33631cb",
   "metadata": {},
   "source": [
    "Making the data private so no one can access it Outside of the class"
   ]
  },
  {
   "cell_type": "code",
   "execution_count": 57,
   "id": "bd07a6f2",
   "metadata": {},
   "outputs": [],
   "source": [
    "class Atmx:\n",
    "    def __init__(self):\n",
    "        self.__pin=''\n",
    "        self.__bal=0\n",
    "        self.secret = 1212\n",
    "        \n",
    "        print('ID of self ',id(self))\n",
    "        print('Secret ID is ',self.secret)\n",
    "        self.__menu()\n",
    "        \n",
    "    def __menu(self):\n",
    "        while True:\n",
    "            user_inp = input('''\n",
    "Welcome to WesternNewton Bank\n",
    "\n",
    "press 1: to create pin\n",
    "press 2: to deposit money\n",
    "press 3: to withdraw\n",
    "press 4: to check balance\n",
    "press 5: to quit\n",
    "''')\n",
    "\n",
    "            if user_inp=='1':\n",
    "                #print('Creating Pin')\n",
    "                self.create_pin()\n",
    "            elif user_inp=='2':\n",
    "                #print('Depositing Money')\n",
    "                self.deposit()\n",
    "            elif user_inp=='3':\n",
    "                #print('Withdrawing Money')\n",
    "                self.withdraw()\n",
    "            elif user_inp=='4':\n",
    "                #print('Checking Balance')\n",
    "                self.check_bal()\n",
    "            elif user_inp=='5':\n",
    "                #print('Quitting Now')\n",
    "                break\n",
    "\n",
    "    def create_pin(self):\n",
    "        self.__pin = int(input('\\nenter your pin : '))\n",
    "        print('PIN Set Successful !!')\n",
    "\n",
    "    def deposit(self):\n",
    "        #print('current pin ',self.pin)\n",
    "        tmp = int(input('\\nEnter the pin : '))\n",
    "        if tmp==self.__pin:\n",
    "            amount = int(input('Enter the Deposit amount : '))\n",
    "            self.__bal+=amount\n",
    "            print('Balance Updated Successfully')\n",
    "            print('Balance : ',self.__bal)\n",
    "        else:\n",
    "            print('Incorrect Pin entered')\n",
    "\n",
    "    def withdraw(self):\n",
    "        tmp = int(input('\\nEnter the pin : '))\n",
    "        if tmp==self.__pin:\n",
    "            amount = int(input('Enter the Withdrawal amount : '))\n",
    "\n",
    "            if amount<self.__bal and amount>0:\n",
    "                self.__bal-=amount\n",
    "                print('Balance Updated Successfully')\n",
    "                print('Balance : ',self.__bal)\n",
    "            else:\n",
    "                print('Low Balance !!')\n",
    "                print('Balance : ',self.__bal)\n",
    "        else:\n",
    "            print('Incorrect Pin entered')\n",
    "\n",
    "    def check_bal(self):\n",
    "        tmp = int(input('\\nEnter the pin : '))\n",
    "        if tmp==self.__pin:\n",
    "            print('Balance : ',self.__bal)\n",
    "        else:\n",
    "            print('Incorrect Pin entered')\n",
    "\n",
    " "
   ]
  },
  {
   "cell_type": "code",
   "execution_count": 65,
   "id": "178af7a7",
   "metadata": {},
   "outputs": [
    {
     "name": "stdout",
     "output_type": "stream",
     "text": [
      "ID of self  139789956464496\n",
      "Secret ID is  1212\n",
      "\n",
      "Welcome to WesternNewton Bank\n",
      "\n",
      "press 1: to create pin\n",
      "press 2: to deposit money\n",
      "press 3: to withdraw\n",
      "press 4: to check balance\n",
      "press 5: to quit\n",
      "1\n",
      "\n",
      "enter your pin : 1234\n",
      "PIN Set Successful !!\n",
      "\n",
      "Welcome to WesternNewton Bank\n",
      "\n",
      "press 1: to create pin\n",
      "press 2: to deposit money\n",
      "press 3: to withdraw\n",
      "press 4: to check balance\n",
      "press 5: to quit\n",
      "5\n"
     ]
    }
   ],
   "source": [
    "hdfc = Atmx()"
   ]
  },
  {
   "cell_type": "code",
   "execution_count": 66,
   "id": "45039548",
   "metadata": {},
   "outputs": [
    {
     "data": {
      "text/plain": [
       "1212"
      ]
     },
     "execution_count": 66,
     "metadata": {},
     "output_type": "execute_result"
    }
   ],
   "source": [
    "hdfc.secret"
   ]
  },
  {
   "cell_type": "code",
   "execution_count": 67,
   "id": "b5182464",
   "metadata": {},
   "outputs": [],
   "source": [
    "hdfc.secret=999"
   ]
  },
  {
   "cell_type": "code",
   "execution_count": 68,
   "id": "424f335d",
   "metadata": {},
   "outputs": [
    {
     "data": {
      "text/plain": [
       "999"
      ]
     },
     "execution_count": 68,
     "metadata": {},
     "output_type": "execute_result"
    }
   ],
   "source": [
    "hdfc.secret"
   ]
  },
  {
   "cell_type": "raw",
   "id": "0bfd2a26",
   "metadata": {},
   "source": [
    "@ as we were easily able to modify secret as it was not set as private"
   ]
  },
  {
   "cell_type": "code",
   "execution_count": 71,
   "id": "ba3d2ba2",
   "metadata": {},
   "outputs": [],
   "source": [
    "hdfc.__pin = 9999"
   ]
  },
  {
   "cell_type": "code",
   "execution_count": 73,
   "id": "39869351",
   "metadata": {},
   "outputs": [],
   "source": [
    "hdfc.pin = 8888"
   ]
  },
  {
   "cell_type": "code",
   "execution_count": 76,
   "id": "fac17fea",
   "metadata": {},
   "outputs": [
    {
     "name": "stdout",
     "output_type": "stream",
     "text": [
      "\n",
      "Enter the pin : 8888\n",
      "Incorrect Pin entered\n"
     ]
    }
   ],
   "source": [
    "hdfc.check_bal()"
   ]
  },
  {
   "cell_type": "code",
   "execution_count": 77,
   "id": "d4d0a356",
   "metadata": {},
   "outputs": [
    {
     "name": "stdout",
     "output_type": "stream",
     "text": [
      "\n",
      "Enter the pin : 9999\n",
      "Incorrect Pin entered\n"
     ]
    }
   ],
   "source": [
    "hdfc.check_bal()"
   ]
  },
  {
   "cell_type": "raw",
   "id": "56892770",
   "metadata": {},
   "source": [
    "@ But the pin is not been changes as it was set private"
   ]
  },
  {
   "cell_type": "code",
   "execution_count": 80,
   "id": "75727e15",
   "metadata": {},
   "outputs": [
    {
     "name": "stdout",
     "output_type": "stream",
     "text": [
      "\n",
      "Enter the pin : 1234\n",
      "Enter the Deposit amount : 100\n",
      "Balance Updated Successfully\n",
      "Balance :  100\n"
     ]
    }
   ],
   "source": [
    "hdfc.deposit()"
   ]
  },
  {
   "cell_type": "code",
   "execution_count": null,
   "id": "9e680784",
   "metadata": {},
   "outputs": [],
   "source": []
  },
  {
   "cell_type": "raw",
   "id": "96278a58",
   "metadata": {},
   "source": [
    "NOTE ::\n",
    "        \n",
    "- When creating a private data/ variable we use \n",
    "__ brefore the var name \n",
    "\n",
    "- and when we do this it gets changed to _classname_varname\n",
    "\n",
    "- Ex:\n",
    "__pin -> _Atmx__pin\n",
    "\n",
    "__balance -> _Atmx__balance"
   ]
  },
  {
   "cell_type": "raw",
   "id": "9822fe02",
   "metadata": {},
   "source": [
    "Nothing in python is truly private"
   ]
  },
  {
   "cell_type": "code",
   "execution_count": null,
   "id": "9c762664",
   "metadata": {},
   "outputs": [],
   "source": []
  },
  {
   "cell_type": "code",
   "execution_count": null,
   "id": "bc5d274c",
   "metadata": {},
   "outputs": [],
   "source": []
  },
  {
   "cell_type": "code",
   "execution_count": 2,
   "id": "5bce37b1",
   "metadata": {},
   "outputs": [],
   "source": [
    "class Atmx:\n",
    "    def __init__(self):\n",
    "        self.__pin=''\n",
    "        self.__bal=0\n",
    "        self.secret = 1212\n",
    "        \n",
    "        print('ID of self ',id(self))\n",
    "        print('Secret ID is ',self.secret)\n",
    "        self.__menu()\n",
    "        \n",
    "    def __menu(self):\n",
    "        while True:\n",
    "            user_inp = input('''\n",
    "Welcome to WesternNewton Bank\n",
    "\n",
    "press 1: to create pin\n",
    "press 2: to deposit money\n",
    "press 3: to withdraw\n",
    "press 4: to check balance\n",
    "press 5: to quit\n",
    "''')\n",
    "\n",
    "            if user_inp=='1':\n",
    "                #print('Creating Pin')\n",
    "                self.create_pin()\n",
    "            elif user_inp=='2':\n",
    "                #print('Depositing Money')\n",
    "                self.deposit()\n",
    "            elif user_inp=='3':\n",
    "                #print('Withdrawing Money')\n",
    "                self.withdraw()\n",
    "            elif user_inp=='4':\n",
    "                #print('Checking Balance')\n",
    "                self.check_bal()\n",
    "            elif user_inp=='5':\n",
    "                #print('Quitting Now')\n",
    "                break\n",
    "                \n",
    "            \n",
    "    def create_pin(self):\n",
    "        self.__pin = int(input('\\nenter your pin : '))\n",
    "        print('PIN Set Successful !!')\n",
    "\n",
    "    def deposit(self):\n",
    "        #print('current pin ',self.pin)\n",
    "        tmp = int(input('\\nEnter the pin : '))\n",
    "        if tmp==self.__pin:\n",
    "            amount = int(input('Enter the Deposit amount : '))\n",
    "            self.__bal+=amount\n",
    "            print('Balance Updated Successfully')\n",
    "            print('Balance : ',self.__bal)\n",
    "        else:\n",
    "            print('Incorrect Pin entered')\n",
    "\n",
    "    # getter method\n",
    "    def get_pin(self):\n",
    "        return self.__pin\n",
    "    \n",
    "    # setter method\n",
    "    def set_pin(self,new_pin):\n",
    "        if type(new_pin)==str:\n",
    "            self.__pin=new_pin\n",
    "            print('PIN Changed')\n",
    "        else:\n",
    "            print('PIN not allowed. Use a new one !!')\n",
    "            \n",
    "    def withdraw(self):\n",
    "        tmp = int(input('\\nEnter the pin : '))\n",
    "        if tmp==self.__pin:\n",
    "            amount = int(input('Enter the Withdrawal amount : '))\n",
    "\n",
    "            if amount<self.__bal and amount>0:\n",
    "                self.__bal-=amount\n",
    "                print('Balance Updated Successfully')\n",
    "                print('Balance : ',self.__bal)\n",
    "            else:\n",
    "                print('Low Balance !!')\n",
    "                print('Balance : ',self.__bal)\n",
    "        else:\n",
    "            print('Incorrect Pin entered')\n",
    "\n",
    "    def check_bal(self):\n",
    "        tmp = int(input('\\nEnter the pin : '))\n",
    "        if tmp==self.__pin:\n",
    "            print('Balance : ',self.__bal)\n",
    "        else:\n",
    "            print('Incorrect Pin entered')\n",
    "\n",
    " "
   ]
  },
  {
   "cell_type": "code",
   "execution_count": 3,
   "id": "70063c1a",
   "metadata": {},
   "outputs": [
    {
     "name": "stdout",
     "output_type": "stream",
     "text": [
      "ID of self  139863734085760\n",
      "Secret ID is  1212\n",
      "\n",
      "Welcome to WesternNewton Bank\n",
      "\n",
      "press 1: to create pin\n",
      "press 2: to deposit money\n",
      "press 3: to withdraw\n",
      "press 4: to check balance\n",
      "press 5: to quit\n",
      "1\n",
      "\n",
      "enter your pin : 1234\n",
      "PIN Set Successful !!\n",
      "\n",
      "Welcome to WesternNewton Bank\n",
      "\n",
      "press 1: to create pin\n",
      "press 2: to deposit money\n",
      "press 3: to withdraw\n",
      "press 4: to check balance\n",
      "press 5: to quit\n",
      "5\n"
     ]
    }
   ],
   "source": [
    "idfc = Atmx()"
   ]
  },
  {
   "cell_type": "code",
   "execution_count": 4,
   "id": "f831907e",
   "metadata": {},
   "outputs": [
    {
     "data": {
      "text/plain": [
       "1234"
      ]
     },
     "execution_count": 4,
     "metadata": {},
     "output_type": "execute_result"
    }
   ],
   "source": [
    "idfc.get_pin()"
   ]
  },
  {
   "cell_type": "code",
   "execution_count": 5,
   "id": "186852d8",
   "metadata": {},
   "outputs": [
    {
     "name": "stdout",
     "output_type": "stream",
     "text": [
      "PIN not allowed. Use a new one !!\n"
     ]
    }
   ],
   "source": [
    "idfc.set_pin(1111)"
   ]
  },
  {
   "cell_type": "code",
   "execution_count": 6,
   "id": "35113138",
   "metadata": {},
   "outputs": [
    {
     "name": "stdout",
     "output_type": "stream",
     "text": [
      "PIN Changed\n"
     ]
    }
   ],
   "source": [
    "idfc.set_pin('4444')"
   ]
  },
  {
   "cell_type": "code",
   "execution_count": 7,
   "id": "ece1e288",
   "metadata": {},
   "outputs": [
    {
     "data": {
      "text/plain": [
       "'4444'"
      ]
     },
     "execution_count": 7,
     "metadata": {},
     "output_type": "execute_result"
    }
   ],
   "source": [
    "idfc.get_pin()"
   ]
  },
  {
   "cell_type": "code",
   "execution_count": null,
   "id": "0b093db5",
   "metadata": {},
   "outputs": [],
   "source": []
  },
  {
   "cell_type": "raw",
   "id": "a97da83c",
   "metadata": {},
   "source": [
    "Encapsulation :"
   ]
  },
  {
   "cell_type": "raw",
   "id": "3ccb0bdd",
   "metadata": {},
   "source": [
    "data = self.__balance\n",
    "\n",
    "methods = get_pin, set_pin\n",
    "\n",
    "[data member + fuctn 2 methods] Encapsulate"
   ]
  },
  {
   "cell_type": "raw",
   "id": "c5ebf98e",
   "metadata": {},
   "source": [
    "It describes the idea of wrapping data and the methods that work on data within one unit. \n",
    "\n",
    "This puts restrictions on accessing variables and methods directly and can prevent the accidental modification of data"
   ]
  },
  {
   "cell_type": "code",
   "execution_count": null,
   "id": "f587c7bc",
   "metadata": {},
   "outputs": [],
   "source": []
  },
  {
   "cell_type": "raw",
   "id": "93f638ad",
   "metadata": {},
   "source": [
    "Getter & Setter Methods :\n",
    "\n",
    "The primary use of getters and setters is to ensure data encapsulation in object-oriented programs.\n",
    "\n",
    "We use getters & setters to add validation logic around getting and setting a value."
   ]
  },
  {
   "cell_type": "raw",
   "id": "f56f419d",
   "metadata": {},
   "source": [
    "Setter: The setter is a method that is used to set the value of private attributes in a class."
   ]
  },
  {
   "cell_type": "raw",
   "id": "50537efc",
   "metadata": {},
   "source": [
    "Getters: These are the methods used in Object-Oriented Programming (OOPS) which helps to access the private attributes from a class."
   ]
  },
  {
   "cell_type": "code",
   "execution_count": null,
   "id": "61c6ad11",
   "metadata": {},
   "outputs": [],
   "source": [
    " "
   ]
  },
  {
   "cell_type": "raw",
   "id": "df62f03e",
   "metadata": {},
   "source": [
    "Pass By Reference :\n",
    "Pass by reference means that you have to pass the reference to a variable which refers that the variable already exists in memory consisting adress locn of the obj\n",
    "\n",
    "- Pass By Reference mai mutable data type ko bhejoge toh original data types mai permanent changes ho jayenge & immutable data type bhejoge toh changes nhi honge\n",
    "\n",
    "- To aboid this apan ko hamesa clone bhejna chaiya ex. l = [1,2,3] send l[:] instead of l in function"
   ]
  },
  {
   "cell_type": "code",
   "execution_count": 25,
   "id": "876077c5",
   "metadata": {},
   "outputs": [
    {
     "name": "stdout",
     "output_type": "stream",
     "text": [
      "<__main__.Customer object at 0x7f346bf9c1c0>\n"
     ]
    }
   ],
   "source": [
    "class Customer:\n",
    "    def __init__(self,name):\n",
    "        self.name = name\n",
    "\n",
    "def greet_customer(Customer):\n",
    "    print('hey ',Customer.name)\n",
    "    \n",
    "    \n",
    "c1 = Customer('Nitish')\n",
    "print(c1)"
   ]
  },
  {
   "cell_type": "code",
   "execution_count": 26,
   "id": "c7572207",
   "metadata": {},
   "outputs": [
    {
     "data": {
      "text/plain": [
       "'Nitish'"
      ]
     },
     "execution_count": 26,
     "metadata": {},
     "output_type": "execute_result"
    }
   ],
   "source": [
    "c1.name"
   ]
  },
  {
   "cell_type": "code",
   "execution_count": 28,
   "id": "b2ae0c42",
   "metadata": {},
   "outputs": [
    {
     "name": "stdout",
     "output_type": "stream",
     "text": [
      "hey  Nitish\n"
     ]
    }
   ],
   "source": [
    "# obj pass as argument\n",
    "\n",
    "greet_customer(c1)"
   ]
  },
  {
   "cell_type": "code",
   "execution_count": null,
   "id": "4728264d",
   "metadata": {},
   "outputs": [],
   "source": []
  },
  {
   "cell_type": "code",
   "execution_count": null,
   "id": "07e04406",
   "metadata": {},
   "outputs": [],
   "source": []
  },
  {
   "cell_type": "code",
   "execution_count": 41,
   "id": "3644ca34",
   "metadata": {},
   "outputs": [
    {
     "name": "stdout",
     "output_type": "stream",
     "text": [
      "Nitish\n",
      "Male\n"
     ]
    }
   ],
   "source": [
    "class Customer:\n",
    "    def __init__(self,name,gender):\n",
    "        self.name = name\n",
    "        self.gender = gender\n",
    "        \n",
    "def greet_customer(Customer):\n",
    "    if Customer.gender=='Male':\n",
    "        print('Hey Mr',Customer.name)\n",
    "    else:\n",
    "        print('Hi Miss ',Customer.name)\n",
    "    \n",
    "    \n",
    "c1 = Customer('Nitish','Male')\n",
    "print(c1.name)\n",
    "print(c1.gender)"
   ]
  },
  {
   "cell_type": "code",
   "execution_count": 42,
   "id": "1bd9bc65",
   "metadata": {},
   "outputs": [
    {
     "name": "stdout",
     "output_type": "stream",
     "text": [
      "Hey Mr Nitish\n"
     ]
    }
   ],
   "source": [
    "greet_customer(c1)"
   ]
  },
  {
   "cell_type": "code",
   "execution_count": null,
   "id": "54940a0b",
   "metadata": {},
   "outputs": [],
   "source": []
  },
  {
   "cell_type": "code",
   "execution_count": 39,
   "id": "d630c365",
   "metadata": {},
   "outputs": [
    {
     "name": "stdout",
     "output_type": "stream",
     "text": [
      "Nishi\n",
      "Female\n"
     ]
    }
   ],
   "source": [
    "c2 = Customer('Nishi','Female')\n",
    "print(c2.name)\n",
    "print(c2.gender)"
   ]
  },
  {
   "cell_type": "code",
   "execution_count": 40,
   "id": "a270b41f",
   "metadata": {},
   "outputs": [
    {
     "name": "stdout",
     "output_type": "stream",
     "text": [
      "Hi Miss  Nishi\n"
     ]
    }
   ],
   "source": [
    "greet_customer(c2)"
   ]
  },
  {
   "cell_type": "code",
   "execution_count": null,
   "id": "f1bb9cc9",
   "metadata": {},
   "outputs": [],
   "source": []
  },
  {
   "cell_type": "raw",
   "id": "82bb1214",
   "metadata": {},
   "source": [
    "Returning an object from the fucntiona nd storing it into a variable"
   ]
  },
  {
   "cell_type": "code",
   "execution_count": 2,
   "id": "ba9f7511",
   "metadata": {},
   "outputs": [
    {
     "name": "stdout",
     "output_type": "stream",
     "text": [
      "Hello  Harsh\n"
     ]
    }
   ],
   "source": [
    "class Customer:\n",
    "    def __init__(self,name):\n",
    "        self.name = name\n",
    "        \n",
    "def greet(cust):\n",
    "    print('Hello ',cust.name)\n",
    "    \n",
    "    c2 = Customer('Rajni')\n",
    "    return c2\n",
    "    \n",
    "    \n",
    "c1 = Customer('Harsh')\n",
    "x = greet(c1)"
   ]
  },
  {
   "cell_type": "code",
   "execution_count": 3,
   "id": "367b9ebe",
   "metadata": {},
   "outputs": [
    {
     "name": "stdout",
     "output_type": "stream",
     "text": [
      "Hello  Rajni\n",
      "<__main__.Customer object at 0x7f3670495240>\n"
     ]
    }
   ],
   "source": [
    "print(greet(x))"
   ]
  },
  {
   "cell_type": "code",
   "execution_count": null,
   "id": "7a0f52c7",
   "metadata": {},
   "outputs": [],
   "source": []
  },
  {
   "cell_type": "code",
   "execution_count": null,
   "id": "318b84d1",
   "metadata": {},
   "outputs": [],
   "source": []
  },
  {
   "cell_type": "raw",
   "id": "0536f6c4",
   "metadata": {},
   "source": [
    "Passing the id of the obj inside the fuctn"
   ]
  },
  {
   "cell_type": "code",
   "execution_count": 47,
   "id": "eea469eb",
   "metadata": {},
   "outputs": [],
   "source": [
    "class Customer:\n",
    "    def __init__(self,name):\n",
    "        self.name = name\n",
    "        \n",
    "def greet(cust):\n",
    "    print(id(cust))"
   ]
  },
  {
   "cell_type": "code",
   "execution_count": 49,
   "id": "0b0bbae0",
   "metadata": {},
   "outputs": [
    {
     "name": "stdout",
     "output_type": "stream",
     "text": [
      "139863126330912\n"
     ]
    }
   ],
   "source": [
    "c1 = Customer('akash')\n",
    "print(id(c1))"
   ]
  },
  {
   "cell_type": "code",
   "execution_count": 51,
   "id": "383ac6cd",
   "metadata": {},
   "outputs": [
    {
     "name": "stdout",
     "output_type": "stream",
     "text": [
      "139863126330912\n"
     ]
    }
   ],
   "source": [
    "greet(c1)"
   ]
  },
  {
   "cell_type": "code",
   "execution_count": null,
   "id": "20f7c874",
   "metadata": {},
   "outputs": [],
   "source": []
  },
  {
   "cell_type": "code",
   "execution_count": 6,
   "id": "661a43e8",
   "metadata": {},
   "outputs": [
    {
     "name": "stdout",
     "output_type": "stream",
     "text": [
      "94025525593184 94025525593184\n"
     ]
    }
   ],
   "source": [
    "a = 3\n",
    "b = 10-7\n",
    "print(id(a),id(b))"
   ]
  },
  {
   "cell_type": "code",
   "execution_count": null,
   "id": "a3c3b3c0",
   "metadata": {},
   "outputs": [],
   "source": []
  },
  {
   "cell_type": "code",
   "execution_count": 52,
   "id": "d295908c",
   "metadata": {},
   "outputs": [],
   "source": [
    "# pass by reference :: "
   ]
  },
  {
   "cell_type": "raw",
   "id": "f8dfbb88",
   "metadata": {},
   "source": [
    "Its working like aliasing"
   ]
  },
  {
   "cell_type": "code",
   "execution_count": 57,
   "id": "03aede9c",
   "metadata": {},
   "outputs": [
    {
     "name": "stdout",
     "output_type": "stream",
     "text": [
      "a = 10  Id : 9789248\n",
      "b = 10  Id : 9789248\n"
     ]
    }
   ],
   "source": [
    "a = 10\n",
    "b = a\n",
    "\n",
    "print(f'a = {a}  Id : {id(a)}')\n",
    "print(f'b = {b}  Id : {id(b)}')"
   ]
  },
  {
   "cell_type": "code",
   "execution_count": null,
   "id": "74c521b3",
   "metadata": {},
   "outputs": [],
   "source": []
  },
  {
   "cell_type": "raw",
   "id": "c954729b",
   "metadata": {},
   "source": [
    "If an obj is passed to the functn & if the functn made some changes to the (object attributes / data members). Then the changes will also be made to the orginal obj"
   ]
  },
  {
   "cell_type": "code",
   "execution_count": 67,
   "id": "4f362e23",
   "metadata": {},
   "outputs": [],
   "source": [
    "class Customer:\n",
    "    def __init__(self,name):\n",
    "        self.name = name\n",
    "        \n",
    "def greet(cust):\n",
    "    cust.name = 'new name'\n",
    "    print(cust.name)\n",
    "    "
   ]
  },
  {
   "cell_type": "code",
   "execution_count": 68,
   "id": "4c656bc4",
   "metadata": {},
   "outputs": [
    {
     "name": "stdout",
     "output_type": "stream",
     "text": [
      "Nitish\n"
     ]
    }
   ],
   "source": [
    "c1 = Customer('Nitish')\n",
    "print(c1.name)"
   ]
  },
  {
   "cell_type": "code",
   "execution_count": 69,
   "id": "de520d3b",
   "metadata": {},
   "outputs": [
    {
     "name": "stdout",
     "output_type": "stream",
     "text": [
      "new name\n"
     ]
    }
   ],
   "source": [
    "greet(c1)"
   ]
  },
  {
   "cell_type": "code",
   "execution_count": null,
   "id": "68fe2943",
   "metadata": {},
   "outputs": [],
   "source": []
  },
  {
   "cell_type": "raw",
   "id": "2b9c3dda",
   "metadata": {},
   "source": [
    "Note :: \n",
    "Objects of the class are also mutable like list, dict, sets"
   ]
  },
  {
   "cell_type": "code",
   "execution_count": null,
   "id": "6525e430",
   "metadata": {},
   "outputs": [],
   "source": []
  },
  {
   "cell_type": "raw",
   "id": "431b5af5",
   "metadata": {},
   "source": [
    "How elements in  List is being changed ?\n",
    "- List is mutable so changes would take place \n",
    "- But in the case of tuple the changes will not take place"
   ]
  },
  {
   "cell_type": "code",
   "execution_count": 14,
   "id": "5b62c244",
   "metadata": {},
   "outputs": [
    {
     "name": "stdout",
     "output_type": "stream",
     "text": [
      "Id of l1 :  139871789604424\n",
      "Before :  139871789604424 [1, 2, 3, 4]\n",
      "After :  139871789604424 [1, 2, 3, 4, 5]\n",
      "Original List  [1, 2, 3, 4, 5]\n"
     ]
    }
   ],
   "source": [
    "def change(l,item):\n",
    "    print('Before : ',id(l),l)\n",
    "    l.append(item)\n",
    "    print('After : ',id(l),l)\n",
    "    \n",
    "l1 = [1,2,3,4]\n",
    "print('Id of l1 : ',id(l1))\n",
    "change(l1,5)\n",
    "\n",
    "print('Original List ',l1)"
   ]
  },
  {
   "cell_type": "code",
   "execution_count": null,
   "id": "c4c0523f",
   "metadata": {},
   "outputs": [],
   "source": []
  },
  {
   "cell_type": "raw",
   "id": "97fd54a0",
   "metadata": {},
   "source": [
    "Sending a clone of the list inside the fuctn"
   ]
  },
  {
   "cell_type": "code",
   "execution_count": 15,
   "id": "fbfa8b15",
   "metadata": {},
   "outputs": [
    {
     "name": "stdout",
     "output_type": "stream",
     "text": [
      "Id of l1 :  139871789317768\n",
      "Before :  139871789604424 [1, 2, 3, 4]\n",
      "After :  139871789604424 [1, 2, 3, 4, 5]\n",
      "Original List  [1, 2, 3, 4]\n"
     ]
    }
   ],
   "source": [
    "def change(l,item):\n",
    "    print('Before : ',id(l),l)\n",
    "    l.append(item)\n",
    "    print('After : ',id(l),l)\n",
    "    \n",
    "l1 = [1,2,3,4]\n",
    "print('Id of l1 : ',id(l1))\n",
    "change(l1[:],5)\n",
    "\n",
    "print('Original List ',l1)"
   ]
  },
  {
   "cell_type": "code",
   "execution_count": null,
   "id": "689c2004",
   "metadata": {},
   "outputs": [],
   "source": []
  },
  {
   "cell_type": "code",
   "execution_count": 17,
   "id": "043ff714",
   "metadata": {},
   "outputs": [
    {
     "name": "stdout",
     "output_type": "stream",
     "text": [
      "Id of l1 :  139871788457240\n",
      "Before :  139871788457240 (1, 2, 3, 4)\n",
      "After :  139871866990928 (1, 2, 3, 4, 5)\n",
      "Original Tuple  (1, 2, 3, 4)\n"
     ]
    }
   ],
   "source": [
    "def change(l,item):\n",
    "    print('Before : ',id(l),l)\n",
    "    l+=(item,)\n",
    "    print('After : ',id(l),l)\n",
    "    \n",
    "l1 = (1,2,3,4)\n",
    "print('Id of l1 : ',id(l1))\n",
    "change(l1,5)\n",
    "\n",
    "print('Original Tuple ',l1)"
   ]
  },
  {
   "cell_type": "code",
   "execution_count": null,
   "id": "72b72272",
   "metadata": {},
   "outputs": [],
   "source": []
  },
  {
   "cell_type": "raw",
   "id": "50a82360",
   "metadata": {},
   "source": [
    "Looping through objects\n",
    "- Accessing obj data types/ attributes using loop"
   ]
  },
  {
   "cell_type": "code",
   "execution_count": null,
   "id": "7f3d7435",
   "metadata": {},
   "outputs": [],
   "source": []
  },
  {
   "cell_type": "code",
   "execution_count": 71,
   "id": "b93a6325",
   "metadata": {},
   "outputs": [],
   "source": [
    "class Customer:\n",
    "    def __init__(self,name):\n",
    "        self.name = name\n",
    "        \n",
    "def greet(cust):\n",
    "    print(id(cust))"
   ]
  },
  {
   "cell_type": "code",
   "execution_count": 73,
   "id": "969802a0",
   "metadata": {},
   "outputs": [],
   "source": [
    "c1 = Customer('ram')\n",
    "c2 = Customer('mohan')\n",
    "c3 = Customer('roy')"
   ]
  },
  {
   "cell_type": "code",
   "execution_count": 76,
   "id": "2d089336",
   "metadata": {},
   "outputs": [
    {
     "name": "stdout",
     "output_type": "stream",
     "text": [
      "ram  139863115396576\n",
      "mohan  139863115396960\n",
      "roy  139863115396720\n"
     ]
    }
   ],
   "source": [
    "l = [c1,c2,c3]\n",
    "for i in l:\n",
    "    print(f'{i.name}  {id(i)}')"
   ]
  },
  {
   "cell_type": "code",
   "execution_count": null,
   "id": "6d229bac",
   "metadata": {},
   "outputs": [],
   "source": []
  },
  {
   "cell_type": "code",
   "execution_count": null,
   "id": "98a57d9b",
   "metadata": {},
   "outputs": [],
   "source": []
  },
  {
   "cell_type": "code",
   "execution_count": 80,
   "id": "b0713c22",
   "metadata": {},
   "outputs": [],
   "source": [
    "class Customer:\n",
    "    def __init__(self,name,age):\n",
    "        self.name = name\n",
    "        self.age = age\n",
    "        \n",
    "    def intro(self):\n",
    "        print(f'My name is {self.name} & i am {self.age} years old.')\n",
    "\n",
    "def greet(cust):\n",
    "    print(id(cust))"
   ]
  },
  {
   "cell_type": "code",
   "execution_count": 81,
   "id": "edd4411c",
   "metadata": {},
   "outputs": [],
   "source": [
    "c1 = Customer('ram',21)\n",
    "c2 = Customer('mohan',22)\n",
    "c3 = Customer('roy',23)\n",
    "\n",
    "l = [c1,c2,c3]"
   ]
  },
  {
   "cell_type": "code",
   "execution_count": 84,
   "id": "d8e63ebe",
   "metadata": {},
   "outputs": [
    {
     "name": "stdout",
     "output_type": "stream",
     "text": [
      "My name is ram & i am 21 years old.\n",
      "My name is mohan & i am 22 years old.\n",
      "My name is roy & i am 23 years old.\n"
     ]
    }
   ],
   "source": [
    "for i in l:\n",
    "    i.intro()"
   ]
  },
  {
   "cell_type": "code",
   "execution_count": 85,
   "id": "65b66d17",
   "metadata": {},
   "outputs": [],
   "source": [
    "# This things only works with Mutable data types"
   ]
  },
  {
   "cell_type": "code",
   "execution_count": null,
   "id": "051948b0",
   "metadata": {},
   "outputs": [],
   "source": []
  },
  {
   "cell_type": "raw",
   "id": "ddcb31b7",
   "metadata": {},
   "source": [
    "Types of Variables :\n",
    "    \n",
    "1] Instance Variable : variable value jiske har obj ke lia alag hai\n",
    "- are present inside constructor\n",
    "-> access using self.\n",
    "\n",
    "2] Static/Class Variable  : variable jiski value, sare obj ke lia same hoou\n",
    "-> access using classname.class/static var name "
   ]
  },
  {
   "cell_type": "code",
   "execution_count": null,
   "id": "c4f2e626",
   "metadata": {},
   "outputs": [],
   "source": []
  },
  {
   "cell_type": "raw",
   "id": "b606cefa",
   "metadata": {},
   "source": [
    "Ex. Static/class variable"
   ]
  },
  {
   "cell_type": "code",
   "execution_count": 114,
   "id": "fef873a8",
   "metadata": {},
   "outputs": [],
   "source": [
    "class Customer:\n",
    "    customer_no = 1\n",
    "    def __init__(self,name,age):\n",
    "        self.name = name\n",
    "        self.age = age\n",
    "        self.cno = Customer.customer_no\n",
    "        Customer.customer_no+=1\n",
    "        \n",
    "    def intro(self):\n",
    "        print(f'\\nCustomer no : {self.cno}')\n",
    "        print(f'Name: {self.name}')\n",
    "        print(f'Age: {self.age}')"
   ]
  },
  {
   "cell_type": "code",
   "execution_count": 115,
   "id": "af83b21f",
   "metadata": {},
   "outputs": [],
   "source": [
    "c1 = Customer('ram',21)\n",
    "c2 = Customer('mohan',22)\n",
    "c3 = Customer('roy',23)\n"
   ]
  },
  {
   "cell_type": "code",
   "execution_count": 116,
   "id": "ca9ac618",
   "metadata": {},
   "outputs": [
    {
     "name": "stdout",
     "output_type": "stream",
     "text": [
      "\n",
      "Customer no : 1\n",
      "Name: ram\n",
      "Age: 21\n",
      "\n",
      "Customer no : 2\n",
      "Name: mohan\n",
      "Age: 22\n",
      "\n",
      "Customer no : 3\n",
      "Name: roy\n",
      "Age: 23\n"
     ]
    }
   ],
   "source": [
    "l = [c1,c2,c3]\n",
    "\n",
    "for i in l:\n",
    "    i.intro()"
   ]
  },
  {
   "cell_type": "code",
   "execution_count": null,
   "id": "5748269c",
   "metadata": {},
   "outputs": [],
   "source": []
  },
  {
   "cell_type": "code",
   "execution_count": 118,
   "id": "72940dcf",
   "metadata": {},
   "outputs": [
    {
     "name": "stdout",
     "output_type": "stream",
     "text": [
      "4\n",
      "4\n",
      "4\n"
     ]
    }
   ],
   "source": [
    "print(c1.customer_no)\n",
    "print(c2.customer_no)\n",
    "print(c3.customer_no)"
   ]
  },
  {
   "cell_type": "code",
   "execution_count": null,
   "id": "77cb8d64",
   "metadata": {},
   "outputs": [],
   "source": [
    "  "
   ]
  },
  {
   "cell_type": "raw",
   "id": "5655d547",
   "metadata": {},
   "source": [
    "we dont want to give any user the permissin to change the value of the counter.\n",
    "\n",
    "So to solve this issue we will be creating a get and set method & make our counter variable (static/class variable) private"
   ]
  },
  {
   "cell_type": "code",
   "execution_count": 1,
   "id": "fb28adb4",
   "metadata": {},
   "outputs": [],
   "source": [
    "class Customer:\n",
    "    \n",
    "    # static variable/class\n",
    "    __customer_no = 1\n",
    "    def __init__(self,name,age):\n",
    "        self.name = name\n",
    "        self.age = age\n",
    "        Customer.__customer_no+=1\n",
    "        \n",
    "    def intro(self):\n",
    "        print(f'Name: {self.name}')\n",
    "        print(f'Age: {self.age}')\n",
    "    \n",
    "    @staticmethod\n",
    "    def get_counter():\n",
    "        print('Counter no : ',Customer.__customer_no)\n",
    "    \n",
    "    @staticmethod\n",
    "    def update_counter(no):\n",
    "        if type(no)==int:\n",
    "            Customer.__customer_no=no\n",
    "            print('counter updated')\n",
    "        else:\n",
    "            print('Invalid Input')"
   ]
  },
  {
   "cell_type": "code",
   "execution_count": 2,
   "id": "e99863f1",
   "metadata": {},
   "outputs": [
    {
     "name": "stdout",
     "output_type": "stream",
     "text": [
      "Name: ram\n",
      "Age: 21\n",
      "Name: mohan\n",
      "Age: 22\n",
      "Name: roy\n",
      "Age: 23\n"
     ]
    }
   ],
   "source": [
    "c1 = Customer('ram',21)\n",
    "c2 = Customer('mohan',22)\n",
    "c3 = Customer('roy',23)\n",
    "\n",
    "l = [c1,c2,c3]\n",
    "\n",
    "for i in l:\n",
    "    i.intro()"
   ]
  },
  {
   "cell_type": "code",
   "execution_count": 3,
   "id": "f7cf962f",
   "metadata": {},
   "outputs": [],
   "source": [
    "# getting the value of counter using Getter method"
   ]
  },
  {
   "cell_type": "code",
   "execution_count": 4,
   "id": "fc1248b3",
   "metadata": {},
   "outputs": [
    {
     "name": "stdout",
     "output_type": "stream",
     "text": [
      "Counter no :  4\n",
      "Counter no :  4\n",
      "Counter no :  4\n"
     ]
    }
   ],
   "source": [
    "(c1.get_counter())\n",
    "(c2.get_counter())\n",
    "(c3.get_counter())"
   ]
  },
  {
   "cell_type": "code",
   "execution_count": 166,
   "id": "5e576fc0",
   "metadata": {},
   "outputs": [],
   "source": [
    "# setting the value of counter using Setter method"
   ]
  },
  {
   "cell_type": "code",
   "execution_count": 6,
   "id": "ce288121",
   "metadata": {},
   "outputs": [
    {
     "name": "stdout",
     "output_type": "stream",
     "text": [
      "counter updated\n",
      "Counter no :  11\n"
     ]
    }
   ],
   "source": [
    "c1.update_counter(11)\n",
    "\n",
    "(c1.get_counter())"
   ]
  },
  {
   "cell_type": "code",
   "execution_count": 7,
   "id": "fe77db56",
   "metadata": {},
   "outputs": [
    {
     "name": "stdout",
     "output_type": "stream",
     "text": [
      "Counter no :  11\n",
      "Counter no :  11\n",
      "Counter no :  11\n"
     ]
    }
   ],
   "source": [
    "# as we can see the value of counter has been updated\n",
    " \n",
    "\n",
    "(c1.get_counter())\n",
    "(c2.get_counter())\n",
    "(c3.get_counter())"
   ]
  },
  {
   "cell_type": "code",
   "execution_count": null,
   "id": "4d12303e",
   "metadata": {},
   "outputs": [],
   "source": []
  },
  {
   "cell_type": "raw",
   "id": "3a0795b2",
   "metadata": {},
   "source": [
    "Static Method \n",
    "The @staticmethod is a built-in decorator that defines a static method in the class in Python. \n",
    "\n",
    "- access without obj\n",
    "- use when dealing with static varibale\n",
    "\n",
    "The static method cannot access the class attributes or the instance attributes.\n",
    "\n",
    "The static method can be called using ClassName.MethodName() and also using object.MethodName().\n",
    "\n",
    "It can return an object of the class"
   ]
  },
  {
   "cell_type": "code",
   "execution_count": null,
   "id": "8f935610",
   "metadata": {},
   "outputs": [],
   "source": []
  },
  {
   "cell_type": "raw",
   "id": "98f7e7f3",
   "metadata": {},
   "source": []
  },
  {
   "cell_type": "code",
   "execution_count": null,
   "id": "c1f72653",
   "metadata": {},
   "outputs": [],
   "source": []
  },
  {
   "cell_type": "markdown",
   "id": "d88ec147",
   "metadata": {},
   "source": [
    "https://pythonguides.com/python-pass-by-reference-or-value/"
   ]
  },
  {
   "cell_type": "code",
   "execution_count": null,
   "id": "a2a95b51",
   "metadata": {},
   "outputs": [],
   "source": []
  },
  {
   "cell_type": "raw",
   "id": "3511e53d",
   "metadata": {},
   "source": [
    "Types of Relationship In Python:\n",
    "    \n",
    "1] Aggregation {Has-A} \n",
    "2] Inheritance {Is-A}\n",
    "\n",
    "2:32"
   ]
  },
  {
   "cell_type": "code",
   "execution_count": null,
   "id": "e5589392",
   "metadata": {},
   "outputs": [],
   "source": []
  },
  {
   "cell_type": "code",
   "execution_count": null,
   "id": "a18ea292",
   "metadata": {},
   "outputs": [],
   "source": [
    "Aggregation ex"
   ]
  },
  {
   "cell_type": "code",
   "execution_count": 180,
   "id": "f016ad36",
   "metadata": {},
   "outputs": [],
   "source": [
    "class Customer:\n",
    "    def __init__(self,name,gender,address):\n",
    "        self.name = name\n",
    "        self.gender = gender\n",
    "        self.address = address\n",
    "        \n",
    "    def intro(self):\n",
    "        print(f'Name = {self.name}')\n",
    "        print(f'Gender = {self.gender}')\n",
    "        print(f'Address = {self.address}')\n",
    "\n",
    "class Address:\n",
    "    def __init__(self,city,state,pincode):\n",
    "        self.city = city\n",
    "        self.state = state\n",
    "        self.pincode = pincode\n",
    "        "
   ]
  },
  {
   "cell_type": "code",
   "execution_count": 181,
   "id": "d00ff656",
   "metadata": {},
   "outputs": [],
   "source": [
    "add = Address('Ahmedabad','Gujarat',234234)\n",
    "c1 = Customer('Harsh','Male',add)"
   ]
  },
  {
   "cell_type": "code",
   "execution_count": 179,
   "id": "3f08a5d1",
   "metadata": {},
   "outputs": [
    {
     "name": "stdout",
     "output_type": "stream",
     "text": [
      "Name = Harsh\n",
      "Gender = Male\n",
      "Address = <__main__.Address object at 0x7f346bbf6940>\n"
     ]
    }
   ],
   "source": [
    "c1.intro()"
   ]
  },
  {
   "cell_type": "code",
   "execution_count": 183,
   "id": "9cf70765",
   "metadata": {},
   "outputs": [
    {
     "data": {
      "text/plain": [
       "'Ahmedabad'"
      ]
     },
     "execution_count": 183,
     "metadata": {},
     "output_type": "execute_result"
    }
   ],
   "source": [
    "c1.address.city"
   ]
  },
  {
   "cell_type": "code",
   "execution_count": 184,
   "id": "11e93054",
   "metadata": {},
   "outputs": [
    {
     "data": {
      "text/plain": [
       "234234"
      ]
     },
     "execution_count": 184,
     "metadata": {},
     "output_type": "execute_result"
    }
   ],
   "source": [
    "c1.address.pincode"
   ]
  },
  {
   "cell_type": "code",
   "execution_count": 185,
   "id": "f0e62d36",
   "metadata": {},
   "outputs": [
    {
     "data": {
      "text/plain": [
       "'Gujarat'"
      ]
     },
     "execution_count": 185,
     "metadata": {},
     "output_type": "execute_result"
    }
   ],
   "source": [
    "c1.address.state"
   ]
  },
  {
   "cell_type": "code",
   "execution_count": null,
   "id": "aaf21024",
   "metadata": {},
   "outputs": [],
   "source": []
  },
  {
   "cell_type": "code",
   "execution_count": null,
   "id": "cd70fca6",
   "metadata": {},
   "outputs": [],
   "source": []
  },
  {
   "cell_type": "code",
   "execution_count": 198,
   "id": "dfa3a06e",
   "metadata": {},
   "outputs": [],
   "source": [
    "class Customer:\n",
    "    def __init__(self,name,gender,address):\n",
    "        self.name = name\n",
    "        self.gender = gender\n",
    "        self.address = address\n",
    "        \n",
    "    def change_profile(self,new_name,new_gender,new_city,new_state,new_pincode):\n",
    "        self.name = new_name\n",
    "        self.gender = new_gender\n",
    "        self.address.change_add(new_city,new_state,new_pincode)\n",
    "        \n",
    "    def intro(self):\n",
    "        print(f'Name = {self.name}')\n",
    "        print(f'Gender = {self.gender}')\n",
    "        print(f'Address = {self.address}')\n",
    "\n",
    "class Address:\n",
    "    def __init__(self,city,state,pincode):\n",
    "        self.city = city\n",
    "        self.state = state\n",
    "        self.pincode = pincode\n",
    "        \n",
    "    def change_add(self,new_city,new_state,new_pincode):\n",
    "        self.city = new_city\n",
    "        self.state = new_state\n",
    "        self.pincode = new_pincode\n",
    "        "
   ]
  },
  {
   "cell_type": "code",
   "execution_count": 199,
   "id": "fbba94f7",
   "metadata": {},
   "outputs": [],
   "source": [
    "add = Address('Ahmedabad','Gujarat',234234)\n",
    "c1 = Customer('Harsh','Male',add)"
   ]
  },
  {
   "cell_type": "code",
   "execution_count": 200,
   "id": "0ddcb523",
   "metadata": {},
   "outputs": [
    {
     "name": "stdout",
     "output_type": "stream",
     "text": [
      "Name = Harsh\n",
      "Gender = Male\n",
      "Address = <__main__.Address object at 0x7f346bc8cb20>\n"
     ]
    }
   ],
   "source": [
    "c1.intro()"
   ]
  },
  {
   "cell_type": "code",
   "execution_count": 201,
   "id": "189518bc",
   "metadata": {},
   "outputs": [
    {
     "data": {
      "text/plain": [
       "'Harsh'"
      ]
     },
     "execution_count": 201,
     "metadata": {},
     "output_type": "execute_result"
    }
   ],
   "source": [
    "c1.name"
   ]
  },
  {
   "cell_type": "code",
   "execution_count": 202,
   "id": "010ba3cd",
   "metadata": {},
   "outputs": [
    {
     "data": {
      "text/plain": [
       "<__main__.Address at 0x7f346bc8cb20>"
      ]
     },
     "execution_count": 202,
     "metadata": {},
     "output_type": "execute_result"
    }
   ],
   "source": [
    "c1.address"
   ]
  },
  {
   "cell_type": "code",
   "execution_count": 203,
   "id": "9118c61a",
   "metadata": {},
   "outputs": [
    {
     "data": {
      "text/plain": [
       "'Ahmedabad'"
      ]
     },
     "execution_count": 203,
     "metadata": {},
     "output_type": "execute_result"
    }
   ],
   "source": [
    "c1.address.city"
   ]
  },
  {
   "cell_type": "code",
   "execution_count": null,
   "id": "de47e220",
   "metadata": {},
   "outputs": [],
   "source": []
  },
  {
   "cell_type": "code",
   "execution_count": 205,
   "id": "4aab2b16",
   "metadata": {},
   "outputs": [],
   "source": [
    "# updating the profile details\n",
    "\n",
    "c1.change_profile('Rin','female','pune','rishi',123123)"
   ]
  },
  {
   "cell_type": "code",
   "execution_count": 207,
   "id": "35497a1e",
   "metadata": {},
   "outputs": [
    {
     "name": "stdout",
     "output_type": "stream",
     "text": [
      "Name = Rin\n",
      "Gender = female\n",
      "Address = <__main__.Address object at 0x7f346bc8cb20>\n"
     ]
    }
   ],
   "source": [
    "c1.intro()"
   ]
  },
  {
   "cell_type": "code",
   "execution_count": 208,
   "id": "b1f28a16",
   "metadata": {},
   "outputs": [
    {
     "data": {
      "text/plain": [
       "<__main__.Address at 0x7f346bc8cb20>"
      ]
     },
     "execution_count": 208,
     "metadata": {},
     "output_type": "execute_result"
    }
   ],
   "source": [
    "c1.address"
   ]
  },
  {
   "cell_type": "code",
   "execution_count": 209,
   "id": "9880e137",
   "metadata": {},
   "outputs": [
    {
     "data": {
      "text/plain": [
       "'pune'"
      ]
     },
     "execution_count": 209,
     "metadata": {},
     "output_type": "execute_result"
    }
   ],
   "source": [
    "c1.address.city"
   ]
  },
  {
   "cell_type": "code",
   "execution_count": 210,
   "id": "47ff365a",
   "metadata": {},
   "outputs": [
    {
     "data": {
      "text/plain": [
       "123123"
      ]
     },
     "execution_count": 210,
     "metadata": {},
     "output_type": "execute_result"
    }
   ],
   "source": [
    "c1.address.pincode"
   ]
  },
  {
   "cell_type": "raw",
   "id": "8cc48261",
   "metadata": {},
   "source": [
    "2:43"
   ]
  },
  {
   "cell_type": "code",
   "execution_count": null,
   "id": "96e3cc40",
   "metadata": {},
   "outputs": [],
   "source": []
  },
  {
   "cell_type": "raw",
   "id": "e7bf0186",
   "metadata": {},
   "source": [
    "Inheritance 2:44, 2:50\n",
    "- DRY [Dont Repeat Yourself] concept\n",
    "- Biggest advantage : code reusability\n",
    "- Inherit -> data members, member functn : Methods, constructor\n",
    "- Private methods are not inherited"
   ]
  },
  {
   "cell_type": "code",
   "execution_count": 9,
   "id": "48e05a72",
   "metadata": {},
   "outputs": [],
   "source": [
    "class User:\n",
    "    def login(self):\n",
    "        print('login')\n",
    "        \n",
    "    def register(self):\n",
    "        print('register')\n",
    "        \n",
    "class Student(User):\n",
    "    def enroll(self):\n",
    "        print('enroll')\n",
    "        \n",
    "    def review(self):\n",
    "        print('review')"
   ]
  },
  {
   "cell_type": "raw",
   "id": "a7062359",
   "metadata": {},
   "source": [
    "As we can see Student class can access his Methods as well as the User class methods \n",
    "\n",
    "- Parent can't access the methods of the child class but the student can do it viceversa"
   ]
  },
  {
   "cell_type": "code",
   "execution_count": 10,
   "id": "3299b308",
   "metadata": {},
   "outputs": [],
   "source": [
    "s1 = Student()"
   ]
  },
  {
   "cell_type": "code",
   "execution_count": 12,
   "id": "bdc8ad0b",
   "metadata": {},
   "outputs": [
    {
     "name": "stdout",
     "output_type": "stream",
     "text": [
      "enroll\n"
     ]
    }
   ],
   "source": [
    "s1.enroll()"
   ]
  },
  {
   "cell_type": "code",
   "execution_count": 13,
   "id": "c2a9f03b",
   "metadata": {},
   "outputs": [
    {
     "name": "stdout",
     "output_type": "stream",
     "text": [
      "review\n"
     ]
    }
   ],
   "source": [
    "s1.review()"
   ]
  },
  {
   "cell_type": "code",
   "execution_count": 14,
   "id": "bf13a244",
   "metadata": {},
   "outputs": [
    {
     "name": "stdout",
     "output_type": "stream",
     "text": [
      "login\n"
     ]
    }
   ],
   "source": [
    "s1.login()"
   ]
  },
  {
   "cell_type": "code",
   "execution_count": 15,
   "id": "1af7a139",
   "metadata": {},
   "outputs": [
    {
     "name": "stdout",
     "output_type": "stream",
     "text": [
      "register\n"
     ]
    }
   ],
   "source": [
    "s1.register()"
   ]
  },
  {
   "cell_type": "code",
   "execution_count": null,
   "id": "14fe92f7",
   "metadata": {},
   "outputs": [],
   "source": []
  },
  {
   "cell_type": "raw",
   "id": "94a35638",
   "metadata": {},
   "source": [
    "2:55 : class diagram for inheritance"
   ]
  },
  {
   "cell_type": "code",
   "execution_count": null,
   "id": "6d5a1224",
   "metadata": {},
   "outputs": [],
   "source": []
  },
  {
   "cell_type": "raw",
   "id": "17343772",
   "metadata": {},
   "source": [
    "=> If the child class does not have any construcutor then the parent class constructor will be called"
   ]
  },
  {
   "cell_type": "code",
   "execution_count": 17,
   "id": "f6d3fad1",
   "metadata": {},
   "outputs": [],
   "source": [
    "class Phone:\n",
    "    def __init__(self,price,brand,camera):\n",
    "        print('Phone class constructor')\n",
    "        self.price = price\n",
    "        self.brand = brand\n",
    "        self.camera = camera\n",
    "        \n",
    "class Smartphone(Phone):\n",
    "    pass"
   ]
  },
  {
   "cell_type": "code",
   "execution_count": 18,
   "id": "4fe1a4fa",
   "metadata": {},
   "outputs": [
    {
     "name": "stdout",
     "output_type": "stream",
     "text": [
      "Phone class constructor\n"
     ]
    }
   ],
   "source": [
    "realmex = Smartphone(12000,'realme','12mp')"
   ]
  },
  {
   "cell_type": "code",
   "execution_count": 19,
   "id": "04fe56da",
   "metadata": {},
   "outputs": [
    {
     "data": {
      "text/plain": [
       "12000"
      ]
     },
     "execution_count": 19,
     "metadata": {},
     "output_type": "execute_result"
    }
   ],
   "source": [
    "realmex.price"
   ]
  },
  {
   "cell_type": "code",
   "execution_count": 20,
   "id": "a6f6112d",
   "metadata": {},
   "outputs": [
    {
     "data": {
      "text/plain": [
       "'realme'"
      ]
     },
     "execution_count": 20,
     "metadata": {},
     "output_type": "execute_result"
    }
   ],
   "source": [
    "realmex.brand"
   ]
  },
  {
   "cell_type": "code",
   "execution_count": 21,
   "id": "83ff2061",
   "metadata": {},
   "outputs": [
    {
     "data": {
      "text/plain": [
       "'12mp'"
      ]
     },
     "execution_count": 21,
     "metadata": {},
     "output_type": "execute_result"
    }
   ],
   "source": [
    "realmex.camera"
   ]
  },
  {
   "cell_type": "code",
   "execution_count": null,
   "id": "b93e6baa",
   "metadata": {},
   "outputs": [],
   "source": []
  },
  {
   "cell_type": "raw",
   "id": "6f94e6c8",
   "metadata": {},
   "source": [
    "=> Inheriting private Members\n",
    "- obj of child class cannot access the hidden/Private data members of the parent class"
   ]
  },
  {
   "cell_type": "code",
   "execution_count": 24,
   "id": "ddf133ca",
   "metadata": {},
   "outputs": [],
   "source": [
    "class Phone:\n",
    "    def __init__(self,price,brand,camera):\n",
    "        print('Phone class constructor called')\n",
    "        self.price = price\n",
    "        self.__brand = brand\n",
    "        self.camera = camera\n",
    "        \n",
    "class Smartphone(Phone):\n",
    "    pass"
   ]
  },
  {
   "cell_type": "raw",
   "id": "a3286171",
   "metadata": {},
   "source": [
    "here the brand data member of the parent class is set as private we will try to access it "
   ]
  },
  {
   "cell_type": "code",
   "execution_count": 25,
   "id": "29b44066",
   "metadata": {},
   "outputs": [
    {
     "name": "stdout",
     "output_type": "stream",
     "text": [
      "Phone class constructor called\n"
     ]
    }
   ],
   "source": [
    "p1 = Smartphone(1000,'Elephone','23mp')"
   ]
  },
  {
   "cell_type": "code",
   "execution_count": 26,
   "id": "10aec0d9",
   "metadata": {},
   "outputs": [
    {
     "data": {
      "text/plain": [
       "1000"
      ]
     },
     "execution_count": 26,
     "metadata": {},
     "output_type": "execute_result"
    }
   ],
   "source": [
    "p1.price"
   ]
  },
  {
   "cell_type": "code",
   "execution_count": 27,
   "id": "4f8e6242",
   "metadata": {},
   "outputs": [
    {
     "ename": "AttributeError",
     "evalue": "'Smartphone' object has no attribute '__brand'",
     "output_type": "error",
     "traceback": [
      "\u001b[0;31m---------------------------------------------------------------------------\u001b[0m",
      "\u001b[0;31mAttributeError\u001b[0m                            Traceback (most recent call last)",
      "Input \u001b[0;32mIn [27]\u001b[0m, in \u001b[0;36m<module>\u001b[0;34m\u001b[0m\n\u001b[0;32m----> 1\u001b[0m \u001b[43mp1\u001b[49m\u001b[38;5;241;43m.\u001b[39;49m\u001b[43m__brand\u001b[49m\n",
      "\u001b[0;31mAttributeError\u001b[0m: 'Smartphone' object has no attribute '__brand'"
     ]
    }
   ],
   "source": [
    "p1.__brand"
   ]
  },
  {
   "cell_type": "code",
   "execution_count": 28,
   "id": "c2afc049",
   "metadata": {},
   "outputs": [
    {
     "ename": "AttributeError",
     "evalue": "'Smartphone' object has no attribute 'brand'",
     "output_type": "error",
     "traceback": [
      "\u001b[0;31m---------------------------------------------------------------------------\u001b[0m",
      "\u001b[0;31mAttributeError\u001b[0m                            Traceback (most recent call last)",
      "Input \u001b[0;32mIn [28]\u001b[0m, in \u001b[0;36m<module>\u001b[0;34m\u001b[0m\n\u001b[0;32m----> 1\u001b[0m \u001b[43mp1\u001b[49m\u001b[38;5;241;43m.\u001b[39;49m\u001b[43mbrand\u001b[49m\n",
      "\u001b[0;31mAttributeError\u001b[0m: 'Smartphone' object has no attribute 'brand'"
     ]
    }
   ],
   "source": [
    "p1.brand"
   ]
  },
  {
   "cell_type": "code",
   "execution_count": null,
   "id": "632fbd1d",
   "metadata": {},
   "outputs": [],
   "source": []
  },
  {
   "cell_type": "code",
   "execution_count": 33,
   "id": "a50fc9ee",
   "metadata": {},
   "outputs": [],
   "source": [
    "class Parent:\n",
    "    def __init__(self,secret):\n",
    "        self.__secret = secret\n",
    "        \n",
    "    def show_secret(self):\n",
    "        return self.__secret\n",
    "    \n",
    "class Child(Parent):\n",
    "    def show(self):\n",
    "        print('This is a child class')"
   ]
  },
  {
   "cell_type": "code",
   "execution_count": 36,
   "id": "147a6c68",
   "metadata": {},
   "outputs": [
    {
     "data": {
      "text/plain": [
       "123"
      ]
     },
     "execution_count": 36,
     "metadata": {},
     "output_type": "execute_result"
    }
   ],
   "source": [
    "c1 = Child(123)\n",
    "c1.show_secret()"
   ]
  },
  {
   "cell_type": "code",
   "execution_count": 38,
   "id": "c683c67e",
   "metadata": {},
   "outputs": [
    {
     "name": "stdout",
     "output_type": "stream",
     "text": [
      "This is a child class\n"
     ]
    }
   ],
   "source": [
    "c1.show()"
   ]
  },
  {
   "cell_type": "code",
   "execution_count": null,
   "id": "d7fbbe84",
   "metadata": {},
   "outputs": [],
   "source": []
  },
  {
   "cell_type": "raw",
   "id": "dc692724",
   "metadata": {},
   "source": [
    "If the child has a contructor then the parent constructor is not called & if the child does not have a constructor then the constructor of the parent class is called automatically\n"
   ]
  },
  {
   "cell_type": "code",
   "execution_count": 39,
   "id": "c44c1740",
   "metadata": {},
   "outputs": [],
   "source": [
    "class Parent:\n",
    "    def __init__(self,secret):\n",
    "        self.__secret = secret\n",
    "        \n",
    "    def get_secret(self):\n",
    "        return self.__secret\n",
    "    \n",
    "class Child(Parent):\n",
    "    def __init__(self,name,secret):\n",
    "        self.__name = name\n",
    "        \n",
    "    def get_name(self):\n",
    "        return self.__name"
   ]
  },
  {
   "cell_type": "code",
   "execution_count": null,
   "id": "050a34d0",
   "metadata": {},
   "outputs": [],
   "source": []
  },
  {
   "cell_type": "code",
   "execution_count": 40,
   "id": "cf0823c9",
   "metadata": {},
   "outputs": [],
   "source": [
    "c1 = Child('harsh',123)"
   ]
  },
  {
   "cell_type": "code",
   "execution_count": 42,
   "id": "42d377f1",
   "metadata": {},
   "outputs": [
    {
     "data": {
      "text/plain": [
       "'harsh'"
      ]
     },
     "execution_count": 42,
     "metadata": {},
     "output_type": "execute_result"
    }
   ],
   "source": [
    "c1.get_name()"
   ]
  },
  {
   "cell_type": "code",
   "execution_count": 43,
   "id": "dc2d57dd",
   "metadata": {},
   "outputs": [
    {
     "ename": "AttributeError",
     "evalue": "'Child' object has no attribute '_Parent__secret'",
     "output_type": "error",
     "traceback": [
      "\u001b[0;31m---------------------------------------------------------------------------\u001b[0m",
      "\u001b[0;31mAttributeError\u001b[0m                            Traceback (most recent call last)",
      "Input \u001b[0;32mIn [43]\u001b[0m, in \u001b[0;36m<module>\u001b[0;34m\u001b[0m\n\u001b[0;32m----> 1\u001b[0m \u001b[43mc1\u001b[49m\u001b[38;5;241;43m.\u001b[39;49m\u001b[43mget_secret\u001b[49m\u001b[43m(\u001b[49m\u001b[43m)\u001b[49m\n",
      "Input \u001b[0;32mIn [39]\u001b[0m, in \u001b[0;36mParent.get_secret\u001b[0;34m(self)\u001b[0m\n\u001b[1;32m      5\u001b[0m \u001b[38;5;28;01mdef\u001b[39;00m \u001b[38;5;21mget_secret\u001b[39m(\u001b[38;5;28mself\u001b[39m):\n\u001b[0;32m----> 6\u001b[0m     \u001b[38;5;28;01mreturn\u001b[39;00m \u001b[38;5;28;43mself\u001b[39;49m\u001b[38;5;241;43m.\u001b[39;49m\u001b[43m__secret\u001b[49m\n",
      "\u001b[0;31mAttributeError\u001b[0m: 'Child' object has no attribute '_Parent__secret'"
     ]
    }
   ],
   "source": [
    "c1.get_secret()"
   ]
  },
  {
   "cell_type": "code",
   "execution_count": null,
   "id": "950dad80",
   "metadata": {},
   "outputs": [],
   "source": []
  },
  {
   "cell_type": "code",
   "execution_count": 4,
   "id": "e9daf3e0",
   "metadata": {},
   "outputs": [],
   "source": [
    "class A:\n",
    "    def __init__(self):\n",
    "        self.var1 = 100\n",
    "        \n",
    "    def display1(self,var1):\n",
    "        print('class A ',self.var1)\n",
    "        \n",
    "class B(A):\n",
    "    def display2(self,var1):\n",
    "        print('class B ',self.var1)\n",
    "        "
   ]
  },
  {
   "cell_type": "code",
   "execution_count": 5,
   "id": "47b5040d",
   "metadata": {},
   "outputs": [],
   "source": [
    "c1 = B()"
   ]
  },
  {
   "cell_type": "code",
   "execution_count": 6,
   "id": "cdf373ef",
   "metadata": {},
   "outputs": [
    {
     "name": "stdout",
     "output_type": "stream",
     "text": [
      "class A  100\n"
     ]
    }
   ],
   "source": [
    "c1.display1(100)"
   ]
  },
  {
   "cell_type": "code",
   "execution_count": null,
   "id": "a9236493",
   "metadata": {},
   "outputs": [],
   "source": []
  },
  {
   "cell_type": "raw",
   "id": "6d6e2149",
   "metadata": {},
   "source": [
    "Super Keyword :\n",
    "- super().classMethod()\n",
    "- super(), this should be ur first statement after constructor/ Method\n",
    "\n",
    "- using this keyword parents method, parent constructor invoke\n",
    "- we cant access even attribute using super \n",
    "- we can only use super inside the class not outside the class"
   ]
  },
  {
   "cell_type": "code",
   "execution_count": 13,
   "id": "ec0eebba",
   "metadata": {},
   "outputs": [],
   "source": [
    "class Phone:\n",
    "    def __init__(self,price,brand,camera):\n",
    "        print('Inside phone constructor')\n",
    "        self.__price = price\n",
    "        self.brand = brand\n",
    "        self.camera = camera \n",
    "        \n",
    "    def buy(self):\n",
    "        print('Buying a phone : Phone class')\n",
    "        \n",
    "class Smartphone(Phone):\n",
    "    def buy(self):\n",
    "        print('Buying a smart-phone : child class')\n",
    "        super().buy()"
   ]
  },
  {
   "cell_type": "code",
   "execution_count": 14,
   "id": "5e68d9e4",
   "metadata": {},
   "outputs": [
    {
     "name": "stdout",
     "output_type": "stream",
     "text": [
      "Inside phone constructor\n"
     ]
    }
   ],
   "source": [
    "s = Smartphone(20000,'INOX','12 mp')"
   ]
  },
  {
   "cell_type": "code",
   "execution_count": 15,
   "id": "ee6967b0",
   "metadata": {},
   "outputs": [
    {
     "name": "stdout",
     "output_type": "stream",
     "text": [
      "Buying a smart-phone : child class\n",
      "Buying a phone : Phone class\n"
     ]
    }
   ],
   "source": [
    "s.buy()"
   ]
  },
  {
   "cell_type": "code",
   "execution_count": null,
   "id": "ff63c4ce",
   "metadata": {},
   "outputs": [],
   "source": []
  },
  {
   "cell_type": "code",
   "execution_count": 16,
   "id": "67c469ea",
   "metadata": {},
   "outputs": [
    {
     "ename": "AttributeError",
     "evalue": "'Smartphone' object has no attribute 'super'",
     "output_type": "error",
     "traceback": [
      "\u001b[0;31m---------------------------------------------------------------------------\u001b[0m",
      "\u001b[0;31mAttributeError\u001b[0m                            Traceback (most recent call last)",
      "Input \u001b[0;32mIn [16]\u001b[0m, in \u001b[0;36m<module>\u001b[0;34m\u001b[0m\n\u001b[1;32m      1\u001b[0m \u001b[38;5;66;03m# u can't use constructor outside the class\u001b[39;00m\n\u001b[0;32m----> 2\u001b[0m \u001b[43ms\u001b[49m\u001b[38;5;241;43m.\u001b[39;49m\u001b[43msuper\u001b[49m()\u001b[38;5;241m.\u001b[39mbuy()\n",
      "\u001b[0;31mAttributeError\u001b[0m: 'Smartphone' object has no attribute 'super'"
     ]
    }
   ],
   "source": [
    "# u can't use constructor outside the class\n",
    "s.super().buy()"
   ]
  },
  {
   "cell_type": "code",
   "execution_count": null,
   "id": "4a3b7f35",
   "metadata": {},
   "outputs": [],
   "source": []
  },
  {
   "cell_type": "code",
   "execution_count": 17,
   "id": "e9ff5686",
   "metadata": {},
   "outputs": [],
   "source": [
    "class Phone:\n",
    "    def __init__(self,price,brand,camera):\n",
    "        print('Inside phone constructor')\n",
    "        self.price = price\n",
    "        self.brand = brand\n",
    "        self.camera = camera\n",
    "        \n",
    "    def get_phone_details(self):\n",
    "        print('Price ',self.price)\n",
    "        print('Brand ',self.brand)\n",
    "        print('Camera ',self.camera)\n",
    "        \n",
    "class Smartphone(Phone):\n",
    "    def __init__(self,os,ram,price,brand,camera):\n",
    "        print('Pehle yaha')\n",
    "        super().__init__(price,brand,camera)\n",
    "        print('Inside Smartphone constructor')\n",
    "        self.os = os\n",
    "        self.ram = ram\n",
    "        \n",
    "    def get_smarthphone_details(self):\n",
    "        print('Os ',self.os)\n",
    "        print('Ram ',self.ram)"
   ]
  },
  {
   "cell_type": "code",
   "execution_count": 18,
   "id": "7cec4e8c",
   "metadata": {},
   "outputs": [
    {
     "name": "stdout",
     "output_type": "stream",
     "text": [
      "Pehle yaha\n",
      "Inside phone constructor\n",
      "Inside Smartphone constructor\n"
     ]
    }
   ],
   "source": [
    "s1 = Smartphone('nogut','12 gb',12000,'NIOX','32mp')"
   ]
  },
  {
   "cell_type": "code",
   "execution_count": 19,
   "id": "a68e424d",
   "metadata": {},
   "outputs": [
    {
     "name": "stdout",
     "output_type": "stream",
     "text": [
      "Price  12000\n",
      "Brand  NIOX\n",
      "Camera  32mp\n"
     ]
    }
   ],
   "source": [
    "s1.get_phone_details()"
   ]
  },
  {
   "cell_type": "code",
   "execution_count": 20,
   "id": "8646a9b9",
   "metadata": {},
   "outputs": [
    {
     "name": "stdout",
     "output_type": "stream",
     "text": [
      "Os  nogut\n",
      "Ram  12 gb\n"
     ]
    }
   ],
   "source": [
    "s1.get_smarthphone_details()"
   ]
  },
  {
   "cell_type": "code",
   "execution_count": null,
   "id": "7e5e3c62",
   "metadata": {},
   "outputs": [],
   "source": []
  },
  {
   "cell_type": "raw",
   "id": "0d993fa4",
   "metadata": {},
   "source": [
    "Examples on super() keyword"
   ]
  },
  {
   "cell_type": "code",
   "execution_count": 21,
   "id": "0c5a333b",
   "metadata": {},
   "outputs": [],
   "source": [
    "class Parent:\n",
    "    def __init__(self,secretno):\n",
    "        self.__secretno = secretno\n",
    "        \n",
    "    def show_no(self):\n",
    "        return self.__secretno\n",
    "    \n",
    "class Child(Parent):\n",
    "    def __init__(self,secretno,secretword):\n",
    "        super().__init__(secretno)\n",
    "        self.__secretword = secretword\n",
    "        \n",
    "    def show_word(self):\n",
    "        return self.__secretword"
   ]
  },
  {
   "cell_type": "code",
   "execution_count": 22,
   "id": "ba55fc85",
   "metadata": {},
   "outputs": [],
   "source": [
    "c1 = Child(121,'wow')"
   ]
  },
  {
   "cell_type": "code",
   "execution_count": 23,
   "id": "a6bd811d",
   "metadata": {},
   "outputs": [
    {
     "data": {
      "text/plain": [
       "'wow'"
      ]
     },
     "execution_count": 23,
     "metadata": {},
     "output_type": "execute_result"
    }
   ],
   "source": [
    "c1.show_word()"
   ]
  },
  {
   "cell_type": "code",
   "execution_count": 25,
   "id": "ee8327ed",
   "metadata": {},
   "outputs": [
    {
     "data": {
      "text/plain": [
       "121"
      ]
     },
     "execution_count": 25,
     "metadata": {},
     "output_type": "execute_result"
    }
   ],
   "source": [
    "c1.show_no()"
   ]
  },
  {
   "cell_type": "code",
   "execution_count": null,
   "id": "1fef582c",
   "metadata": {},
   "outputs": [],
   "source": []
  },
  {
   "cell_type": "raw",
   "id": "ea9aeb4a",
   "metadata": {},
   "source": [
    "The self : keyword is used to represent an instance (object) of the given class."
   ]
  },
  {
   "cell_type": "code",
   "execution_count": null,
   "id": "19c31be6",
   "metadata": {},
   "outputs": [],
   "source": []
  },
  {
   "cell_type": "raw",
   "id": "7d0505d0",
   "metadata": {},
   "source": [
    "We can access the attribute of the parent class inside the method of child class. as self keyword is used to represent an instance (object) of the given class. "
   ]
  },
  {
   "cell_type": "code",
   "execution_count": 31,
   "id": "4cac236d",
   "metadata": {},
   "outputs": [],
   "source": [
    "class Parent:\n",
    "    def __init__(self):\n",
    "        self.no = 101\n",
    "        \n",
    "class Child(Parent):\n",
    "    def __init__(self):\n",
    "        super().__init__()\n",
    "        self.msg = 'Hii'\n",
    "        \n",
    "    def show(self):\n",
    "        print(self.msg, \n",
    "                self.no) "
   ]
  },
  {
   "cell_type": "code",
   "execution_count": 32,
   "id": "0f38630a",
   "metadata": {},
   "outputs": [],
   "source": [
    "c1=Child()"
   ]
  },
  {
   "cell_type": "code",
   "execution_count": 33,
   "id": "73896822",
   "metadata": {},
   "outputs": [
    {
     "name": "stdout",
     "output_type": "stream",
     "text": [
      "Hii 101\n"
     ]
    }
   ],
   "source": [
    "c1.show()"
   ]
  },
  {
   "cell_type": "code",
   "execution_count": null,
   "id": "cfec7ab6",
   "metadata": {},
   "outputs": [],
   "source": []
  },
  {
   "cell_type": "code",
   "execution_count": 37,
   "id": "72c679b2",
   "metadata": {},
   "outputs": [],
   "source": [
    "class Parent:\n",
    "    def __init__(self):\n",
    "        self.__now = 100\n",
    "        \n",
    "    def show(self):\n",
    "        print('Parent data member : ',self.__now)\n",
    "        \n",
    "class Child:\n",
    "    def __init__(self):\n",
    "        super().__init__()\n",
    "        self.__time = 200\n",
    "        \n",
    "    def show(self):\n",
    "        print('child data member : ',self.__time)"
   ]
  },
  {
   "cell_type": "code",
   "execution_count": 41,
   "id": "c1e4539b",
   "metadata": {},
   "outputs": [
    {
     "name": "stdout",
     "output_type": "stream",
     "text": [
      "Parent data member :  100\n"
     ]
    }
   ],
   "source": [
    "p1 = Parent()\n",
    "p1.show()"
   ]
  },
  {
   "cell_type": "code",
   "execution_count": 42,
   "id": "1d14141e",
   "metadata": {},
   "outputs": [
    {
     "name": "stdout",
     "output_type": "stream",
     "text": [
      "child data member :  200\n"
     ]
    }
   ],
   "source": [
    "c1 = Child()\n",
    "c1.show()"
   ]
  },
  {
   "cell_type": "code",
   "execution_count": 38,
   "id": "dcb1dc35",
   "metadata": {},
   "outputs": [],
   "source": []
  },
  {
   "cell_type": "code",
   "execution_count": null,
   "id": "eaae5e73",
   "metadata": {},
   "outputs": [],
   "source": []
  },
  {
   "cell_type": "raw",
   "id": "0e36b2bd",
   "metadata": {},
   "source": [
    "Polymorphism\n",
    "- Method Overriding\n",
    "- Method Overloading\n",
    "- Operator Overloading"
   ]
  },
  {
   "cell_type": "raw",
   "id": "8b8ff4ae",
   "metadata": {},
   "source": [
    "=> Method Overriding\n",
    "- If the same method is present in both the parent class and the child class and the child class is inheriting from the parent class. \n",
    "\n",
    "- If the method is called from the child class then the - method present in the child class will be executed and given priority"
   ]
  },
  {
   "cell_type": "code",
   "execution_count": null,
   "id": "17a8bb1a",
   "metadata": {},
   "outputs": [],
   "source": []
  },
  {
   "cell_type": "raw",
   "id": "67c6b222",
   "metadata": {},
   "source": [
    "Dynamically Add Instance Variable to a Object :\n",
    "\n",
    "We can add instance variables from the outside of class to a particular object. Use the following syntax to add the new instance variable to the object.\n",
    "\n",
    "object_referance.variable_name = value"
   ]
  },
  {
   "cell_type": "code",
   "execution_count": null,
   "id": "7d70423f",
   "metadata": {},
   "outputs": [],
   "source": []
  },
  {
   "cell_type": "raw",
   "id": "c23f34cd",
   "metadata": {},
   "source": [
    "Inheritance :\n",
    "Iheritance is the capability of one class to derive or inherit the properties from another class. \n",
    "\n",
    "Benefits of inheritance are: \n",
    "\n",
    "- It represents real-world relationships well.\n",
    "- It provides the reusability of a code. We don’t have to write the same code again and again. Also, it allows us to add more features to a class without modifying it.\n",
    "- It is transitive in nature, which means that if class B inherits from another class A, then all the subclasses of B would automatically inherit from class A."
   ]
  },
  {
   "cell_type": "code",
   "execution_count": null,
   "id": "f2c6d2ce",
   "metadata": {},
   "outputs": [],
   "source": []
  },
  {
   "cell_type": "raw",
   "id": "85849422",
   "metadata": {},
   "source": [
    "Types of inheritance :\n",
    "\n",
    "    Single inheritance.\n",
    "    Multi-level inheritance.\n",
    "    Multiple inheritance.\n",
    "    Hierarchical Inheritance.\n",
    "    Hybrid Inheritance."
   ]
  },
  {
   "cell_type": "code",
   "execution_count": 1,
   "id": "de546cdb",
   "metadata": {},
   "outputs": [],
   "source": [
    "# Single level inheritancs\n",
    "\n",
    "class Parent:\n",
    "    def __init__(self,fname,lname):\n",
    "        self.fname = fname\n",
    "        self.lname = lname\n",
    "        \n",
    "    def get_details(self):\n",
    "        print(f'My name is {self.fname} {self.lname}')\n",
    "        \n",
    "class Child(Parent):\n",
    "    pass\n"
   ]
  },
  {
   "cell_type": "code",
   "execution_count": 2,
   "id": "aa730e99",
   "metadata": {},
   "outputs": [],
   "source": [
    "c1 = Child('Happy','Harsh')"
   ]
  },
  {
   "cell_type": "code",
   "execution_count": 4,
   "id": "d09d07a4",
   "metadata": {},
   "outputs": [
    {
     "name": "stdout",
     "output_type": "stream",
     "text": [
      "My name is Happy Harsh\n"
     ]
    }
   ],
   "source": [
    "c1.get_details()"
   ]
  },
  {
   "cell_type": "code",
   "execution_count": null,
   "id": "41f2f263",
   "metadata": {},
   "outputs": [],
   "source": []
  },
  {
   "cell_type": "code",
   "execution_count": 5,
   "id": "b7747c17",
   "metadata": {},
   "outputs": [],
   "source": [
    "# Multi-level Inheritance\n",
    "\n",
    "class Product:\n",
    "    def review(self):\n",
    "        print('review on the way')\n",
    "        \n",
    "class Phone(Product):\n",
    "    def __init__(self,name,brand,price):\n",
    "        self.name = name\n",
    "        self.brand = brand\n",
    "        self.__price = price\n",
    "        \n",
    "    def get_details(self):\n",
    "        print('Model ',self.name)\n",
    "        print('Brand ',self.brand)\n",
    "        print('price ',self.__price)\n",
    "\n",
    "class Smartphone(Phone):\n",
    "    pass\n",
    "\n"
   ]
  },
  {
   "cell_type": "code",
   "execution_count": 6,
   "id": "aad1e6a1",
   "metadata": {},
   "outputs": [],
   "source": [
    "s1 = Smartphone('x1','Nothing','12000')"
   ]
  },
  {
   "cell_type": "code",
   "execution_count": 7,
   "id": "c651094e",
   "metadata": {},
   "outputs": [
    {
     "name": "stdout",
     "output_type": "stream",
     "text": [
      "Model  x1\n",
      "Brand  Nothing\n",
      "price  12000\n"
     ]
    }
   ],
   "source": [
    "s1.get_details()"
   ]
  },
  {
   "cell_type": "code",
   "execution_count": 8,
   "id": "d319387b",
   "metadata": {},
   "outputs": [
    {
     "name": "stdout",
     "output_type": "stream",
     "text": [
      "review on the way\n"
     ]
    }
   ],
   "source": [
    "s1.review()"
   ]
  },
  {
   "cell_type": "code",
   "execution_count": null,
   "id": "aaa79420",
   "metadata": {},
   "outputs": [],
   "source": []
  },
  {
   "cell_type": "code",
   "execution_count": 9,
   "id": "f36dcca3",
   "metadata": {},
   "outputs": [],
   "source": [
    "p1 = Phone('s7 edge','Samsung',32000)"
   ]
  },
  {
   "cell_type": "code",
   "execution_count": 10,
   "id": "4fc7b776",
   "metadata": {},
   "outputs": [
    {
     "name": "stdout",
     "output_type": "stream",
     "text": [
      "Model  s7 edge\n",
      "Brand  Samsung\n",
      "price  32000\n"
     ]
    }
   ],
   "source": [
    "p1.get_details()"
   ]
  },
  {
   "cell_type": "code",
   "execution_count": 11,
   "id": "82b47ce9",
   "metadata": {},
   "outputs": [
    {
     "name": "stdout",
     "output_type": "stream",
     "text": [
      "review on the way\n"
     ]
    }
   ],
   "source": [
    "p1.review()"
   ]
  },
  {
   "cell_type": "code",
   "execution_count": null,
   "id": "6faba628",
   "metadata": {},
   "outputs": [],
   "source": []
  },
  {
   "cell_type": "code",
   "execution_count": 12,
   "id": "3900449b",
   "metadata": {},
   "outputs": [],
   "source": [
    "#  Hierarchical Inheritance\n",
    "\n",
    "class Product:\n",
    "    def review(self):\n",
    "        print('review on the way')\n",
    "        \n",
    "class Phone(Product):\n",
    "    def __init__(self,name,brand,price):\n",
    "        self.name = name\n",
    "        self.brand = brand\n",
    "        self.__price = price\n",
    "        \n",
    "    def get_details(self):\n",
    "        print('Model ',self.name)\n",
    "        print('Brand ',self.brand)\n",
    "        print('price ',self.__price)\n",
    "\n",
    "class Smartphone(Phone):\n",
    "    pass\n",
    "\n",
    "class FeaturePhone(Phone):\n",
    "    pass"
   ]
  },
  {
   "cell_type": "code",
   "execution_count": 13,
   "id": "18de496d",
   "metadata": {},
   "outputs": [],
   "source": [
    "s1 = Smartphone('s7 edge','samsung',32000)"
   ]
  },
  {
   "cell_type": "code",
   "execution_count": 14,
   "id": "7b9b7fea",
   "metadata": {},
   "outputs": [
    {
     "name": "stdout",
     "output_type": "stream",
     "text": [
      "Model  s7 edge\n",
      "Brand  samsung\n",
      "price  32000\n"
     ]
    }
   ],
   "source": [
    "s1.get_details()"
   ]
  },
  {
   "cell_type": "code",
   "execution_count": 15,
   "id": "6ce86dee",
   "metadata": {},
   "outputs": [
    {
     "name": "stdout",
     "output_type": "stream",
     "text": [
      "review on the way\n"
     ]
    }
   ],
   "source": [
    "s1.review()"
   ]
  },
  {
   "cell_type": "code",
   "execution_count": null,
   "id": "70ef3e8e",
   "metadata": {},
   "outputs": [],
   "source": [
    "\n"
   ]
  },
  {
   "cell_type": "code",
   "execution_count": 16,
   "id": "e3e89bb6",
   "metadata": {},
   "outputs": [],
   "source": [
    "f1 = FeaturePhone('3310','NOkia',5000)"
   ]
  },
  {
   "cell_type": "code",
   "execution_count": 17,
   "id": "2d33b485",
   "metadata": {},
   "outputs": [
    {
     "name": "stdout",
     "output_type": "stream",
     "text": [
      "Model  3310\n",
      "Brand  NOkia\n",
      "price  5000\n"
     ]
    }
   ],
   "source": [
    "f1.get_details()"
   ]
  },
  {
   "cell_type": "code",
   "execution_count": 18,
   "id": "f4f900ff",
   "metadata": {},
   "outputs": [
    {
     "name": "stdout",
     "output_type": "stream",
     "text": [
      "review on the way\n"
     ]
    }
   ],
   "source": [
    "f1.review()"
   ]
  },
  {
   "cell_type": "code",
   "execution_count": null,
   "id": "11ab751a",
   "metadata": {},
   "outputs": [],
   "source": []
  },
  {
   "cell_type": "code",
   "execution_count": 23,
   "id": "76dd5632",
   "metadata": {},
   "outputs": [],
   "source": [
    "# Mulitple Inheritance\n",
    "\n",
    "class Phone:\n",
    "    def __init__(self,name,brand,price):\n",
    "        self.name = name\n",
    "        self.brand = brand\n",
    "        self.__price = price\n",
    "        \n",
    "    def get_details(self):\n",
    "        print('Model ',self.name)\n",
    "        print('Brand ',self.brand)\n",
    "        print('price ',self.__price)\n",
    "        \n",
    "class Product:\n",
    "    def review(self):\n",
    "        print('\\nCustomer review')\n",
    "        print(f'For model {self.name}')\n",
    "# using multiple inheritance here \n",
    "class SmartPhone(Phone,Product):\n",
    "    pass"
   ]
  },
  {
   "cell_type": "code",
   "execution_count": 24,
   "id": "c82c4f49",
   "metadata": {},
   "outputs": [],
   "source": [
    "s1 = SmartPhone('Iphone XR','Apple',45000)"
   ]
  },
  {
   "cell_type": "code",
   "execution_count": 25,
   "id": "60797008",
   "metadata": {},
   "outputs": [
    {
     "name": "stdout",
     "output_type": "stream",
     "text": [
      "\n",
      "Customer review\n",
      "For model Iphone XR\n"
     ]
    }
   ],
   "source": [
    "s1.review()"
   ]
  },
  {
   "cell_type": "code",
   "execution_count": 26,
   "id": "469e7335",
   "metadata": {},
   "outputs": [
    {
     "name": "stdout",
     "output_type": "stream",
     "text": [
      "Model  Iphone XR\n",
      "Brand  Apple\n",
      "price  45000\n"
     ]
    }
   ],
   "source": [
    "s1.get_details()"
   ]
  },
  {
   "cell_type": "code",
   "execution_count": null,
   "id": "7628417b",
   "metadata": {},
   "outputs": [],
   "source": []
  },
  {
   "cell_type": "raw",
   "id": "d48b2f56",
   "metadata": {},
   "source": [
    "Method Resolution Order ::\n",
    "\n",
    "- In python, method resolution order defines the order in which the base classes are searched when executing a method. \n",
    "\n",
    "First, the method or attribute is searched within a class and then it follows the order we specified while inheriting. \n",
    "\n",
    "This order is also called Linearization of a class and set of rules are called MRO(Method Resolution Order)"
   ]
  },
  {
   "cell_type": "code",
   "execution_count": 38,
   "id": "f04f56f1",
   "metadata": {},
   "outputs": [],
   "source": [
    "# Mulitple Inheritance explaning MRO\n",
    "\n",
    "class Phone:\n",
    "    def __init__(self,name,brand,price):\n",
    "        self.name = name\n",
    "        self.brand = brand\n",
    "        self.__price = price\n",
    "        \n",
    "    def buy(self):\n",
    "        print('-- Phone Class --')\n",
    "        print('Model ',self.name)\n",
    "        print('Brand ',self.brand)\n",
    "        print('price ',self.__price)\n",
    "        \n",
    "class Product:\n",
    "    def review(self):\n",
    "        print('\\nCustomer review')\n",
    "        print(f'For model {self.name}')\n",
    "        \n",
    "    def buy(self):\n",
    "        print('-- Product Class --')\n",
    "        print('Model ',self.name)\n",
    "        print('Brand ',self.brand)\n",
    "        print('price ',self.__price)\n",
    "        \n",
    "# using multiple inheritance here MRO\n",
    "class SmartPhone(Phone,Product):\n",
    "    pass"
   ]
  },
  {
   "cell_type": "code",
   "execution_count": 39,
   "id": "abd2cd68",
   "metadata": {},
   "outputs": [],
   "source": [
    "s1 = SmartPhone('Reno x5','OPPO',23000)"
   ]
  },
  {
   "cell_type": "code",
   "execution_count": 40,
   "id": "5f84efb5",
   "metadata": {},
   "outputs": [
    {
     "name": "stdout",
     "output_type": "stream",
     "text": [
      "-- Phone Class --\n",
      "Model  Reno x5\n",
      "Brand  OPPO\n",
      "price  23000\n"
     ]
    }
   ],
   "source": [
    "s1.buy()"
   ]
  },
  {
   "cell_type": "code",
   "execution_count": null,
   "id": "270f4c69",
   "metadata": {},
   "outputs": [],
   "source": []
  },
  {
   "cell_type": "code",
   "execution_count": 44,
   "id": "9f50e5be",
   "metadata": {},
   "outputs": [],
   "source": [
    "# Mulitple Inheritance explaning MRO\n",
    "\n",
    "class Phone:\n",
    "    def __init__(self,name,brand,price):\n",
    "        self.name = name\n",
    "        self.brand = brand\n",
    "        self.__price = price\n",
    "        \n",
    "    def buy(self):\n",
    "        print('-- Phone Class --')\n",
    "        print('Model ',self.name)\n",
    "        print('Brand ',self.brand)\n",
    "             \n",
    "class Product:\n",
    "    def review(self):\n",
    "        print('\\nCustomer review')\n",
    "        print(f'For model {self.name}')\n",
    "        \n",
    "    def buy(self):\n",
    "        print('-- Product Class --')\n",
    "        print('Model ',self.name)\n",
    "        print('Brand ',self.brand)\n",
    "        \n",
    "# using multiple inheritance here MRO\n",
    "class SmartPhone(Product,Phone):\n",
    "    pass"
   ]
  },
  {
   "cell_type": "code",
   "execution_count": 45,
   "id": "f27fa94d",
   "metadata": {},
   "outputs": [],
   "source": [
    "s2 = SmartPhone('Reno x5','OPPO',23000)"
   ]
  },
  {
   "cell_type": "code",
   "execution_count": 46,
   "id": "4eb6b721",
   "metadata": {},
   "outputs": [
    {
     "name": "stdout",
     "output_type": "stream",
     "text": [
      "-- Product Class --\n",
      "Model  Reno x5\n",
      "Brand  OPPO\n"
     ]
    }
   ],
   "source": [
    "s2.buy()"
   ]
  },
  {
   "cell_type": "code",
   "execution_count": null,
   "id": "03fa4d0b",
   "metadata": {},
   "outputs": [],
   "source": []
  },
  {
   "cell_type": "code",
   "execution_count": 47,
   "id": "307aa932",
   "metadata": {},
   "outputs": [],
   "source": [
    "# Multi-level Inheritance\n",
    "\n",
    "class A:\n",
    "    def m1(self):\n",
    "        return 20\n",
    "\n",
    "class B(A):\n",
    "    def m1(self):\n",
    "        return 30\n",
    "    \n",
    "    def m2(self):\n",
    "        return 40\n",
    "    \n",
    "class C(B):\n",
    "    def m2(self):\n",
    "        return 20"
   ]
  },
  {
   "cell_type": "code",
   "execution_count": 49,
   "id": "14119b59",
   "metadata": {},
   "outputs": [],
   "source": [
    "obj1 = A()\n",
    "obj2 = B()\n",
    "obj3 = C()"
   ]
  },
  {
   "cell_type": "code",
   "execution_count": 50,
   "id": "03a1ab09",
   "metadata": {},
   "outputs": [
    {
     "data": {
      "text/plain": [
       "70"
      ]
     },
     "execution_count": 50,
     "metadata": {},
     "output_type": "execute_result"
    }
   ],
   "source": [
    "# 20 + 30 + 20\n",
    "obj1.m1() + obj2.m1() + obj3.m2()"
   ]
  },
  {
   "cell_type": "code",
   "execution_count": null,
   "id": "ad79055a",
   "metadata": {},
   "outputs": [],
   "source": []
  },
  {
   "cell_type": "code",
   "execution_count": 55,
   "id": "04b74073",
   "metadata": {},
   "outputs": [],
   "source": [
    "class A:\n",
    "    def m1(self):\n",
    "        return 20\n",
    "\n",
    "class B(A):\n",
    "    def m1(self):\n",
    "        val = self.m1() + 10\n",
    "        return val"
   ]
  },
  {
   "cell_type": "code",
   "execution_count": 56,
   "id": "8f90ee2f",
   "metadata": {},
   "outputs": [],
   "source": [
    "obj1 = B()"
   ]
  },
  {
   "cell_type": "code",
   "execution_count": 57,
   "id": "1ef66bfa",
   "metadata": {},
   "outputs": [
    {
     "ename": "RecursionError",
     "evalue": "maximum recursion depth exceeded",
     "output_type": "error",
     "traceback": [
      "\u001b[0;31m---------------------------------------------------------------------------\u001b[0m",
      "\u001b[0;31mRecursionError\u001b[0m                            Traceback (most recent call last)",
      "Input \u001b[0;32mIn [57]\u001b[0m, in \u001b[0;36m<module>\u001b[0;34m\u001b[0m\n\u001b[0;32m----> 1\u001b[0m \u001b[43mobj1\u001b[49m\u001b[38;5;241;43m.\u001b[39;49m\u001b[43mm1\u001b[49m\u001b[43m(\u001b[49m\u001b[43m)\u001b[49m\n",
      "Input \u001b[0;32mIn [55]\u001b[0m, in \u001b[0;36mB.m1\u001b[0;34m(self)\u001b[0m\n\u001b[1;32m      6\u001b[0m \u001b[38;5;28;01mdef\u001b[39;00m \u001b[38;5;21mm1\u001b[39m(\u001b[38;5;28mself\u001b[39m):\n\u001b[0;32m----> 7\u001b[0m     val \u001b[38;5;241m=\u001b[39m \u001b[38;5;28;43mself\u001b[39;49m\u001b[38;5;241;43m.\u001b[39;49m\u001b[43mm1\u001b[49m\u001b[43m(\u001b[49m\u001b[43m)\u001b[49m \u001b[38;5;241m+\u001b[39m \u001b[38;5;241m10\u001b[39m\n\u001b[1;32m      8\u001b[0m     \u001b[38;5;28;01mreturn\u001b[39;00m val\n",
      "Input \u001b[0;32mIn [55]\u001b[0m, in \u001b[0;36mB.m1\u001b[0;34m(self)\u001b[0m\n\u001b[1;32m      6\u001b[0m \u001b[38;5;28;01mdef\u001b[39;00m \u001b[38;5;21mm1\u001b[39m(\u001b[38;5;28mself\u001b[39m):\n\u001b[0;32m----> 7\u001b[0m     val \u001b[38;5;241m=\u001b[39m \u001b[38;5;28;43mself\u001b[39;49m\u001b[38;5;241;43m.\u001b[39;49m\u001b[43mm1\u001b[49m\u001b[43m(\u001b[49m\u001b[43m)\u001b[49m \u001b[38;5;241m+\u001b[39m \u001b[38;5;241m10\u001b[39m\n\u001b[1;32m      8\u001b[0m     \u001b[38;5;28;01mreturn\u001b[39;00m val\n",
      "    \u001b[0;31m[... skipping similar frames: B.m1 at line 7 (2970 times)]\u001b[0m\n",
      "Input \u001b[0;32mIn [55]\u001b[0m, in \u001b[0;36mB.m1\u001b[0;34m(self)\u001b[0m\n\u001b[1;32m      6\u001b[0m \u001b[38;5;28;01mdef\u001b[39;00m \u001b[38;5;21mm1\u001b[39m(\u001b[38;5;28mself\u001b[39m):\n\u001b[0;32m----> 7\u001b[0m     val \u001b[38;5;241m=\u001b[39m \u001b[38;5;28;43mself\u001b[39;49m\u001b[38;5;241;43m.\u001b[39;49m\u001b[43mm1\u001b[49m\u001b[43m(\u001b[49m\u001b[43m)\u001b[49m \u001b[38;5;241m+\u001b[39m \u001b[38;5;241m10\u001b[39m\n\u001b[1;32m      8\u001b[0m     \u001b[38;5;28;01mreturn\u001b[39;00m val\n",
      "\u001b[0;31mRecursionError\u001b[0m: maximum recursion depth exceeded"
     ]
    }
   ],
   "source": [
    "obj1.m1()"
   ]
  },
  {
   "cell_type": "code",
   "execution_count": null,
   "id": "eb860119",
   "metadata": {},
   "outputs": [],
   "source": []
  },
  {
   "cell_type": "raw",
   "id": "cf374c98",
   "metadata": {},
   "source": [
    "Polymorphism\n",
    "- Method Overriding\n",
    "- Method Overloading\n",
    "- Operator Overloading"
   ]
  },
  {
   "cell_type": "raw",
   "id": "12f6463a",
   "metadata": {},
   "source": [
    "2] Method Overloading"
   ]
  },
  {
   "cell_type": "raw",
   "id": "768889bb",
   "metadata": {},
   "source": [
    "Methods in Python can be called with zero, one, or more parameters. This process of calling the same method in different ways is called method overloading. \n",
    "\n",
    "- one method behave in diffrent manner when different no of arguments are passed."
   ]
  },
  {
   "cell_type": "code",
   "execution_count": 62,
   "id": "396ff513",
   "metadata": {},
   "outputs": [],
   "source": [
    "class GetArea:\n",
    "    def area(self,r):\n",
    "        self.r = r\n",
    "        print(f'Area of circle is {3.14*self.r *self.r }')\n",
    "    \n",
    "    def area(self,h,b):\n",
    "        self.h = h # height\n",
    "        self.b = b # breadth\n",
    "        print(f'Area of Rectangle is {self.h*self.b}')\n",
    "        "
   ]
  },
  {
   "cell_type": "code",
   "execution_count": 63,
   "id": "86b60f41",
   "metadata": {},
   "outputs": [],
   "source": [
    "q1 = GetArea()"
   ]
  },
  {
   "cell_type": "code",
   "execution_count": 64,
   "id": "3e661326",
   "metadata": {},
   "outputs": [
    {
     "ename": "TypeError",
     "evalue": "area() missing 1 required positional argument: 'b'",
     "output_type": "error",
     "traceback": [
      "\u001b[0;31m---------------------------------------------------------------------------\u001b[0m",
      "\u001b[0;31mTypeError\u001b[0m                                 Traceback (most recent call last)",
      "Input \u001b[0;32mIn [64]\u001b[0m, in \u001b[0;36m<module>\u001b[0;34m\u001b[0m\n\u001b[0;32m----> 1\u001b[0m \u001b[43mq1\u001b[49m\u001b[38;5;241;43m.\u001b[39;49m\u001b[43marea\u001b[49m\u001b[43m(\u001b[49m\u001b[38;5;241;43m22\u001b[39;49m\u001b[43m)\u001b[49m\n",
      "\u001b[0;31mTypeError\u001b[0m: area() missing 1 required positional argument: 'b'"
     ]
    }
   ],
   "source": [
    "q1.area(22)"
   ]
  },
  {
   "cell_type": "raw",
   "id": "bd5b7204",
   "metadata": {},
   "source": [
    "Note :: As we can see the method has been over-rided by the same area method written below. Python does not support method-Over riding"
   ]
  },
  {
   "cell_type": "code",
   "execution_count": null,
   "id": "271210c0",
   "metadata": {},
   "outputs": [],
   "source": []
  },
  {
   "cell_type": "raw",
   "id": "d43e91b2",
   "metadata": {},
   "source": [
    "But we can also use Over-riding in a smarter way"
   ]
  },
  {
   "cell_type": "code",
   "execution_count": 68,
   "id": "33a81f22",
   "metadata": {},
   "outputs": [],
   "source": [
    "class GetArea:\n",
    "    def area(self,a,b=0):\n",
    "        if b==0:\n",
    "            self.r = a\n",
    "            print(f'Area of circle is {3.14*self.r *self.r }')\n",
    "        else:\n",
    "            self.h = a # height\n",
    "            self.b = b # breadth\n",
    "            print(f'Area of Rectangle is {self.h*self.b}')\n"
   ]
  },
  {
   "cell_type": "code",
   "execution_count": 69,
   "id": "97e526b5",
   "metadata": {},
   "outputs": [],
   "source": [
    "q1 = GetArea()"
   ]
  },
  {
   "cell_type": "code",
   "execution_count": 70,
   "id": "34363b32",
   "metadata": {},
   "outputs": [
    {
     "name": "stdout",
     "output_type": "stream",
     "text": [
      "Area of circle is 50.24\n"
     ]
    }
   ],
   "source": [
    "q1.area(4)"
   ]
  },
  {
   "cell_type": "code",
   "execution_count": 71,
   "id": "75d8e717",
   "metadata": {},
   "outputs": [
    {
     "name": "stdout",
     "output_type": "stream",
     "text": [
      "Area of Rectangle is 8\n"
     ]
    }
   ],
   "source": [
    "q1.area(4,2)"
   ]
  },
  {
   "cell_type": "code",
   "execution_count": null,
   "id": "87c3c2c1",
   "metadata": {},
   "outputs": [],
   "source": []
  },
  {
   "cell_type": "raw",
   "id": "af1dad8e",
   "metadata": {},
   "source": [
    "Polymorphism\n",
    "- Method Overriding\n",
    "- Method Overloading\n",
    "- Operator Overloading"
   ]
  },
  {
   "cell_type": "raw",
   "id": "873ecc57",
   "metadata": {},
   "source": [
    "3] Operator Over-loading\n",
    "\n",
    "Operator Overloading means giving extended meaning beyond their predefined operational meaning. \n",
    "\n",
    "or.\n",
    "\n",
    "Python that allows the same operator to have different meaning according to the context is called operator overloading"
   ]
  },
  {
   "cell_type": "raw",
   "id": "38dc520d",
   "metadata": {},
   "source": [
    "For example operator + is used to add two integers as well as join two strings and merge two lists. \n",
    "\n",
    "It is achievable because ‘+’ operator is overloaded by int class and str class. \n",
    "\n",
    "You might have noticed that the same built-in operator or function shows different behavior for objects of different classes, this is called Operator Overloading.  "
   ]
  },
  {
   "cell_type": "code",
   "execution_count": 77,
   "id": "e216642c",
   "metadata": {},
   "outputs": [
    {
     "name": "stdout",
     "output_type": "stream",
     "text": [
      "5/4\n"
     ]
    }
   ],
   "source": [
    "from fractions import Fraction\n",
    "x = Fraction(1,2)\n",
    "y = Fraction(3,4)\n",
    "print(x+y) # this is fraction addn not mathematical addn"
   ]
  },
  {
   "cell_type": "code",
   "execution_count": null,
   "id": "e9d719b8",
   "metadata": {},
   "outputs": [],
   "source": []
  },
  {
   "cell_type": "code",
   "execution_count": null,
   "id": "62cb94c6",
   "metadata": {},
   "outputs": [],
   "source": []
  }
 ],
 "metadata": {
  "kernelspec": {
   "display_name": "Python 3 (ipykernel)",
   "language": "python",
   "name": "python3"
  },
  "language_info": {
   "codemirror_mode": {
    "name": "ipython",
    "version": 3
   },
   "file_extension": ".py",
   "mimetype": "text/x-python",
   "name": "python",
   "nbconvert_exporter": "python",
   "pygments_lexer": "ipython3",
   "version": "3.8.10"
  }
 },
 "nbformat": 4,
 "nbformat_minor": 5
}
