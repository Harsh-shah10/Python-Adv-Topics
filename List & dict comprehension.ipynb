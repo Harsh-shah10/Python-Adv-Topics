{
 "cells": [
  {
   "cell_type": "markdown",
   "id": "8cd95dac",
   "metadata": {},
   "source": [
    "List comprehension : "
   ]
  },
  {
   "cell_type": "code",
   "execution_count": 1,
   "id": "27e43938",
   "metadata": {},
   "outputs": [
    {
     "name": "stdout",
     "output_type": "stream",
     "text": [
      "[1, 2, 3, 4, 5, 62, 33, 11, 55, 21] 140403694046144\n"
     ]
    }
   ],
   "source": [
    "l1 = [1,2,3,4,5,62,33,11,55,21]\n",
    "print(l1,id(l1))"
   ]
  },
  {
   "cell_type": "markdown",
   "id": "870c7209",
   "metadata": {},
   "source": [
    "Multiplying each item of a list by 2"
   ]
  },
  {
   "cell_type": "code",
   "execution_count": 2,
   "id": "63909cd5",
   "metadata": {},
   "outputs": [
    {
     "name": "stdout",
     "output_type": "stream",
     "text": [
      "[1, 4, 9, 16, 25, 3844, 1089, 121, 3025, 441] 140403694047552\n"
     ]
    }
   ],
   "source": [
    "l1 = [i**2 for i in l1]\n",
    "print(l1,id(l1))"
   ]
  },
  {
   "cell_type": "code",
   "execution_count": null,
   "id": "5083aa31",
   "metadata": {},
   "outputs": [],
   "source": []
  },
  {
   "cell_type": "markdown",
   "id": "91d6aa07",
   "metadata": {},
   "source": [
    "Generating list of 10 no's"
   ]
  },
  {
   "cell_type": "code",
   "execution_count": 9,
   "id": "60cf6c1b",
   "metadata": {},
   "outputs": [
    {
     "name": "stdout",
     "output_type": "stream",
     "text": [
      "[0, 1, 2, 3, 4, 5, 6, 7, 8, 9] 140403693955776\n"
     ]
    }
   ],
   "source": [
    "l2 = [i for i in range(10)]\n",
    "print(l2,id(l2))"
   ]
  },
  {
   "cell_type": "code",
   "execution_count": null,
   "id": "b814f304",
   "metadata": {},
   "outputs": [],
   "source": []
  },
  {
   "cell_type": "markdown",
   "id": "fac15a1e",
   "metadata": {},
   "source": [
    "Geenrating a list of even-no between a specified range"
   ]
  },
  {
   "cell_type": "code",
   "execution_count": 10,
   "id": "ca020857",
   "metadata": {},
   "outputs": [
    {
     "name": "stdout",
     "output_type": "stream",
     "text": [
      "[0, 2, 4, 6, 8]\n"
     ]
    }
   ],
   "source": [
    "even_lst = [i for i in range(10) if i%2==0]\n",
    "print(even_lst)"
   ]
  },
  {
   "cell_type": "code",
   "execution_count": null,
   "id": "7c3758e2",
   "metadata": {},
   "outputs": [],
   "source": []
  },
  {
   "cell_type": "markdown",
   "id": "48f90653",
   "metadata": {},
   "source": [
    "Generating a list of even-no between a specified range and multiplying it by 2"
   ]
  },
  {
   "cell_type": "code",
   "execution_count": 11,
   "id": "ea729567",
   "metadata": {},
   "outputs": [
    {
     "data": {
      "text/plain": [
       "[0, 4, 8, 12, 16]"
      ]
     },
     "execution_count": 11,
     "metadata": {},
     "output_type": "execute_result"
    }
   ],
   "source": [
    "l4 = [i*2 for i in range(10) if i%2==0]\n",
    "l4"
   ]
  },
  {
   "cell_type": "code",
   "execution_count": null,
   "id": "5bafcbd8",
   "metadata": {},
   "outputs": [],
   "source": []
  },
  {
   "cell_type": "markdown",
   "id": "31a07763",
   "metadata": {},
   "source": [
    "generate a list of fruits consisting of char 'e'"
   ]
  },
  {
   "cell_type": "code",
   "execution_count": 18,
   "id": "05276b93",
   "metadata": {},
   "outputs": [
    {
     "data": {
      "text/plain": [
       "['Apple', 'Watermelon', 'Nectarine', 'Grape', 'Blueberry', 'Pomegranate']"
      ]
     },
     "execution_count": 18,
     "metadata": {},
     "output_type": "execute_result"
    }
   ],
   "source": [
    "fruits = ['Apple', 'Watermelon', 'Mandarin', 'Jackfruit', 'Papaya', 'Kiwi', 'Nectarine', 'Grape', 'Mango', 'Blueberry', 'Pomegranate']\n",
    "list(filter(lambda i:'e' in i,fruits))"
   ]
  },
  {
   "cell_type": "markdown",
   "id": "482e02a9",
   "metadata": {},
   "source": [
    "or."
   ]
  },
  {
   "cell_type": "code",
   "execution_count": 21,
   "id": "aff49499",
   "metadata": {},
   "outputs": [
    {
     "data": {
      "text/plain": [
       "['Apple', 'Watermelon', 'Nectarine', 'Grape', 'Blueberry', 'Pomegranate']"
      ]
     },
     "execution_count": 21,
     "metadata": {},
     "output_type": "execute_result"
    }
   ],
   "source": [
    "l_fruits = [i for i in fruits if 'e' in i]\n",
    "l_fruits"
   ]
  },
  {
   "cell_type": "code",
   "execution_count": null,
   "id": "ebc0ffc2",
   "metadata": {},
   "outputs": [],
   "source": []
  },
  {
   "cell_type": "code",
   "execution_count": 27,
   "id": "c7bb142d",
   "metadata": {},
   "outputs": [
    {
     "name": "stdout",
     "output_type": "stream",
     "text": [
      "['Apple', 'Watermelon', 'Orange', 'Pear', 'Cherry', 'Strawberry', 'Nectarine', 'Grape', 'Mango', 'Blueberry', 'Pomegranate', 'Plum', 'Banana', 'Raspberry', 'Mandarin', 'Jackfruit', 'Papaya', 'Kiwi', 'Pineapple', 'Lime', 'Lemon', 'Apricot', 'Grapefruit', 'Melon', 'Coconut', 'Avocado', 'Peach']\n"
     ]
    }
   ],
   "source": [
    "txt = '''Apple\n",
    "Watermelon\n",
    "Orange\n",
    "Pear\n",
    "Cherry\n",
    "Strawberry\n",
    "Nectarine\n",
    "Grape\n",
    "Mango\n",
    "Blueberry\n",
    "Pomegranate\n",
    "Plum\n",
    "Banana\n",
    "Raspberry\n",
    "Mandarin\n",
    "Jackfruit\n",
    "Papaya\n",
    "Kiwi\n",
    "Pineapple\n",
    "Lime\n",
    "Lemon\n",
    "Apricot\n",
    "Grapefruit\n",
    "Melon\n",
    "Coconut\n",
    "Avocado\n",
    "Peach'''\n",
    "\n",
    "lst = txt.split()\n",
    "print(lst)"
   ]
  },
  {
   "cell_type": "code",
   "execution_count": null,
   "id": "b51ca452",
   "metadata": {},
   "outputs": [],
   "source": []
  },
  {
   "cell_type": "markdown",
   "id": "04b551b9",
   "metadata": {},
   "source": [
    "Fetch the list of fruits starting with A"
   ]
  },
  {
   "cell_type": "code",
   "execution_count": 28,
   "id": "5284f448",
   "metadata": {},
   "outputs": [
    {
     "name": "stdout",
     "output_type": "stream",
     "text": [
      "['Apple', 'Apricot', 'Avocado']\n"
     ]
    }
   ],
   "source": [
    "fruits = ['Apple', 'Watermelon', 'Orange', 'Pear', 'Cherry', 'Strawberry', 'Nectarine', 'Grape', 'Mango', 'Blueberry', 'Pomegranate', 'Plum', 'Banana', 'Raspberry', 'Mandarin', 'Jackfruit', 'Papaya', 'Kiwi', 'Pineapple', 'Lime', 'Lemon', 'Apricot', 'Grapefruit', 'Melon', 'Coconut', 'Avocado', 'Peach']\n",
    "result = [i for i in fruits if i[0]=='A']\n",
    "print(result)"
   ]
  },
  {
   "cell_type": "code",
   "execution_count": null,
   "id": "028e857f",
   "metadata": {},
   "outputs": [],
   "source": []
  },
  {
   "cell_type": "markdown",
   "id": "4287caec",
   "metadata": {},
   "source": [
    "dict comprehensions :"
   ]
  },
  {
   "cell_type": "code",
   "execution_count": 43,
   "id": "a78741c1",
   "metadata": {},
   "outputs": [],
   "source": [
    "students = {1:{'name': 'harsh', 'age': 19, 'country': 'USA'},\n",
    " 2:{'name': 'methew', 'age': 18, 'country': 'Russia'},\n",
    " 3:{'name': 'Rin', 'age': 22, 'country': 'Canada'},\n",
    " 4:{'name': 'Tom', 'age': 12, 'country': 'Africa'}}"
   ]
  },
  {
   "cell_type": "code",
   "execution_count": 54,
   "id": "b71df465",
   "metadata": {},
   "outputs": [
    {
     "name": "stdout",
     "output_type": "stream",
     "text": [
      "harsh\n",
      "methew\n",
      "Rin\n",
      "Tom\n"
     ]
    }
   ],
   "source": [
    "for i in students.values():\n",
    "    print(i['name'])"
   ]
  },
  {
   "cell_type": "code",
   "execution_count": 65,
   "id": "5c77f5d0",
   "metadata": {},
   "outputs": [
    {
     "name": "stdout",
     "output_type": "stream",
     "text": [
      "harsh\n",
      "methew\n",
      "Rin\n",
      "Tom\n"
     ]
    }
   ],
   "source": [
    "for k,v in students.items():\n",
    "    print(v['name'])"
   ]
  },
  {
   "cell_type": "code",
   "execution_count": null,
   "id": "1ab21d2f",
   "metadata": {},
   "outputs": [],
   "source": []
  },
  {
   "cell_type": "markdown",
   "id": "644c240d",
   "metadata": {},
   "source": [
    "Fething the list of dict whose name is grater than 3 characters"
   ]
  },
  {
   "cell_type": "code",
   "execution_count": 57,
   "id": "f80d2344",
   "metadata": {},
   "outputs": [
    {
     "name": "stdout",
     "output_type": "stream",
     "text": [
      "['harsh', 'methew']\n"
     ]
    }
   ],
   "source": [
    "res = [i['name'] for i in students.values() if len(i['name'])>3]\n",
    "print(res)"
   ]
  },
  {
   "cell_type": "markdown",
   "id": "bdf84e68",
   "metadata": {},
   "source": [
    "or"
   ]
  },
  {
   "cell_type": "code",
   "execution_count": 69,
   "id": "6027c537",
   "metadata": {},
   "outputs": [
    {
     "data": {
      "text/plain": [
       "{1: {'name': 'harsh', 'age': 19, 'country': 'USA'},\n",
       " 2: {'name': 'methew', 'age': 18, 'country': 'Russia'}}"
      ]
     },
     "execution_count": 69,
     "metadata": {},
     "output_type": "execute_result"
    }
   ],
   "source": [
    "res = {k:v for k,v in students.items() if len(v['name'])>3}\n",
    "res"
   ]
  },
  {
   "cell_type": "code",
   "execution_count": null,
   "id": "d5cade4d",
   "metadata": {},
   "outputs": [],
   "source": []
  },
  {
   "cell_type": "markdown",
   "id": "198c2153",
   "metadata": {},
   "source": [
    "Creating a dict \n",
    "- where items of dict : key\n",
    "- where items*2 of dict : values"
   ]
  },
  {
   "cell_type": "raw",
   "id": "b53861c1",
   "metadata": {},
   "source": [
    "Basic idea : "
   ]
  },
  {
   "cell_type": "code",
   "execution_count": 70,
   "id": "9eb93914",
   "metadata": {},
   "outputs": [],
   "source": [
    "l1 = [1,2,3,4,5]\n",
    "res = [i*2 for i in l1]"
   ]
  },
  {
   "cell_type": "code",
   "execution_count": 71,
   "id": "9f9913a2",
   "metadata": {},
   "outputs": [
    {
     "data": {
      "text/plain": [
       "[2, 4, 6, 8, 10]"
      ]
     },
     "execution_count": 71,
     "metadata": {},
     "output_type": "execute_result"
    }
   ],
   "source": [
    "res"
   ]
  },
  {
   "cell_type": "code",
   "execution_count": null,
   "id": "fc16d3fe",
   "metadata": {},
   "outputs": [],
   "source": []
  },
  {
   "cell_type": "code",
   "execution_count": 74,
   "id": "c83a3103",
   "metadata": {},
   "outputs": [
    {
     "data": {
      "text/plain": [
       "{1: 2, 2: 4, 3: 6, 4: 8, 5: 10}"
      ]
     },
     "execution_count": 74,
     "metadata": {},
     "output_type": "execute_result"
    }
   ],
   "source": [
    "d1 = {i:i*2 for i in l1}\n",
    "d1"
   ]
  },
  {
   "cell_type": "code",
   "execution_count": null,
   "id": "13f598b2",
   "metadata": {},
   "outputs": [],
   "source": []
  },
  {
   "cell_type": "markdown",
   "id": "33f6347b",
   "metadata": {},
   "source": [
    "Creating a dict\n",
    "\n",
    "- where items of dict : key\n",
    "- where even item of dict : values"
   ]
  },
  {
   "cell_type": "code",
   "execution_count": 76,
   "id": "08c8b66b",
   "metadata": {},
   "outputs": [
    {
     "data": {
      "text/plain": [
       "{2: 2, 4: 4}"
      ]
     },
     "execution_count": 76,
     "metadata": {},
     "output_type": "execute_result"
    }
   ],
   "source": [
    "even_lst1 = {i:i for i in l1 if i%2==0}\n",
    "even_lst1"
   ]
  },
  {
   "cell_type": "code",
   "execution_count": null,
   "id": "0d587d4d",
   "metadata": {},
   "outputs": [],
   "source": []
  },
  {
   "cell_type": "markdown",
   "id": "fccb240c",
   "metadata": {},
   "source": [
    "Creating a dict\n",
    "\n",
    "- where items of dict : key\n",
    "- where odd item of dict : values"
   ]
  },
  {
   "cell_type": "code",
   "execution_count": 77,
   "id": "527cd5d8",
   "metadata": {},
   "outputs": [
    {
     "data": {
      "text/plain": [
       "{1: 1, 3: 3, 5: 5}"
      ]
     },
     "execution_count": 77,
     "metadata": {},
     "output_type": "execute_result"
    }
   ],
   "source": [
    "odd_lst1 = {i:i for i in l1 if i%2!=0}\n",
    "odd_lst1"
   ]
  },
  {
   "cell_type": "code",
   "execution_count": null,
   "id": "7d6c6557",
   "metadata": {},
   "outputs": [],
   "source": []
  }
 ],
 "metadata": {
  "kernelspec": {
   "display_name": "Python 3 (ipykernel)",
   "language": "python",
   "name": "python3"
  },
  "language_info": {
   "codemirror_mode": {
    "name": "ipython",
    "version": 3
   },
   "file_extension": ".py",
   "mimetype": "text/x-python",
   "name": "python",
   "nbconvert_exporter": "python",
   "pygments_lexer": "ipython3",
   "version": "3.8.10"
  }
 },
 "nbformat": 4,
 "nbformat_minor": 5
}
