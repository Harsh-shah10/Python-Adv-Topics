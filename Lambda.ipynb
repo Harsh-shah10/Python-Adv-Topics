{
 "cells": [
  {
   "cell_type": "markdown",
   "id": "babe50be",
   "metadata": {},
   "source": [
    "lambda : \n",
    "- A lambda function is a small anonymous function.\n",
    "- A lambda function can take any number of arguments, but can only have one expression.\n",
    "\n"
   ]
  },
  {
   "cell_type": "raw",
   "id": "942dabd3",
   "metadata": {},
   "source": [
    "lambda arguments : expression"
   ]
  },
  {
   "cell_type": "code",
   "execution_count": null,
   "id": "003a7944",
   "metadata": {},
   "outputs": [],
   "source": []
  },
  {
   "cell_type": "code",
   "execution_count": 1,
   "id": "4f8642e0",
   "metadata": {},
   "outputs": [
    {
     "data": {
      "text/plain": [
       "<function __main__.<lambda>(x)>"
      ]
     },
     "execution_count": 1,
     "metadata": {},
     "output_type": "execute_result"
    }
   ],
   "source": [
    "lambda x:x+2"
   ]
  },
  {
   "cell_type": "code",
   "execution_count": 2,
   "id": "a65c5163",
   "metadata": {},
   "outputs": [
    {
     "data": {
      "text/plain": [
       "3"
      ]
     },
     "execution_count": 2,
     "metadata": {},
     "output_type": "execute_result"
    }
   ],
   "source": [
    "x = lambda x:x+2\n",
    "x(1)"
   ]
  },
  {
   "cell_type": "code",
   "execution_count": 3,
   "id": "a0ded7e9",
   "metadata": {},
   "outputs": [
    {
     "data": {
      "text/plain": [
       "30"
      ]
     },
     "execution_count": 3,
     "metadata": {},
     "output_type": "execute_result"
    }
   ],
   "source": [
    "# addn using lambda fuctn\n",
    "\n",
    "addx = lambda x,y:x+y\n",
    "addx(10,20)"
   ]
  },
  {
   "cell_type": "code",
   "execution_count": null,
   "id": "7021ac59",
   "metadata": {},
   "outputs": [],
   "source": []
  },
  {
   "cell_type": "markdown",
   "id": "37e038f5",
   "metadata": {},
   "source": [
    "Lambda v/s Normal fuctn :\n",
    "- Lambda fuctn has no return value\n",
    "    + (it returns fuctn)\n",
    "- 1 line\n",
    "- Not used for code-readability as normal fuctn's\n",
    "- no name \n",
    "    + ex. def name()"
   ]
  },
  {
   "cell_type": "markdown",
   "id": "29d9793f",
   "metadata": {},
   "source": [
    "Why ?\n",
    "- Along with higher order fuctn"
   ]
  },
  {
   "cell_type": "code",
   "execution_count": null,
   "id": "8065c5a2",
   "metadata": {},
   "outputs": [],
   "source": []
  },
  {
   "cell_type": "markdown",
   "id": "ac824251",
   "metadata": {},
   "source": [
    "check if the no. is even or odd "
   ]
  },
  {
   "cell_type": "code",
   "execution_count": 4,
   "id": "1144ae95",
   "metadata": {},
   "outputs": [
    {
     "data": {
      "text/plain": [
       "'Even'"
      ]
     },
     "execution_count": 4,
     "metadata": {},
     "output_type": "execute_result"
    }
   ],
   "source": [
    "check = lambda x:'Even' if x%2==0 else 'Odd'\n",
    "check(12)"
   ]
  },
  {
   "cell_type": "code",
   "execution_count": 5,
   "id": "47dbadfe",
   "metadata": {},
   "outputs": [
    {
     "data": {
      "text/plain": [
       "'Odd'"
      ]
     },
     "execution_count": 5,
     "metadata": {},
     "output_type": "execute_result"
    }
   ],
   "source": [
    "check(7)"
   ]
  },
  {
   "cell_type": "code",
   "execution_count": null,
   "id": "9f408f4b",
   "metadata": {},
   "outputs": [],
   "source": []
  },
  {
   "cell_type": "markdown",
   "id": "87408a1e",
   "metadata": {},
   "source": [
    "check if the string consist 3 char [scratch card]\n",
    "- www : winning combination"
   ]
  },
  {
   "cell_type": "code",
   "execution_count": 6,
   "id": "cf5aa514",
   "metadata": {},
   "outputs": [],
   "source": [
    "card = lambda x:'Won lottery' if x[0]=='w' and x[1]=='w' and x[2]=='w' else 'Lose'"
   ]
  },
  {
   "cell_type": "code",
   "execution_count": 7,
   "id": "c8013d95",
   "metadata": {},
   "outputs": [
    {
     "data": {
      "text/plain": [
       "'Won lottery'"
      ]
     },
     "execution_count": 7,
     "metadata": {},
     "output_type": "execute_result"
    }
   ],
   "source": [
    "card('www')"
   ]
  },
  {
   "cell_type": "code",
   "execution_count": 8,
   "id": "05f58594",
   "metadata": {},
   "outputs": [
    {
     "data": {
      "text/plain": [
       "'Lose'"
      ]
     },
     "execution_count": 8,
     "metadata": {},
     "output_type": "execute_result"
    }
   ],
   "source": [
    "card('xne')"
   ]
  },
  {
   "cell_type": "code",
   "execution_count": 9,
   "id": "6048decc",
   "metadata": {},
   "outputs": [
    {
     "data": {
      "text/plain": [
       "'Lose'"
      ]
     },
     "execution_count": 9,
     "metadata": {},
     "output_type": "execute_result"
    }
   ],
   "source": [
    "card('wnw')"
   ]
  },
  {
   "cell_type": "code",
   "execution_count": null,
   "id": "b9d389dc",
   "metadata": {},
   "outputs": [],
   "source": []
  },
  {
   "cell_type": "markdown",
   "id": "d8b50ba8",
   "metadata": {},
   "source": [
    "Inside list if \n",
    "- all even no. : find sum\n",
    "- all odd no : find sum\n",
    "- all no/3 : find sum"
   ]
  },
  {
   "cell_type": "code",
   "execution_count": 21,
   "id": "d76f978e",
   "metadata": {},
   "outputs": [],
   "source": [
    "def listsol(l):\n",
    "    even,odd,divby3 = 0,0,0\n",
    "\n",
    "    for i in l:\n",
    "        if i%2==0:\n",
    "            even+=i\n",
    "        if i%3==0:\n",
    "            divby3+=i\n",
    "        if i%2!=0:\n",
    "            odd+=i\n",
    "                \n",
    "    print(f'Sum of even no in {l} is {even}')\n",
    "    print(f'\\nSum of odd no in {l} is {odd}')\n",
    "    print(f'\\nSum of Divby3 no in {l} is {divby3}')"
   ]
  },
  {
   "cell_type": "code",
   "execution_count": 22,
   "id": "0a46d406",
   "metadata": {},
   "outputs": [
    {
     "name": "stdout",
     "output_type": "stream",
     "text": [
      "Sum of even no in [1, 3, 6, 5] is 6\n",
      "\n",
      "Sum of odd no in [1, 3, 6, 5] is 9\n",
      "\n",
      "Sum of Divby3 no in [1, 3, 6, 5] is 9\n"
     ]
    }
   ],
   "source": [
    "listsol([1,3,6,5])"
   ]
  },
  {
   "cell_type": "code",
   "execution_count": null,
   "id": "7027297b",
   "metadata": {},
   "outputs": [],
   "source": []
  },
  {
   "cell_type": "markdown",
   "id": "0282b851",
   "metadata": {},
   "source": [
    "Creating the same prog. using Lambda fuctn"
   ]
  },
  {
   "cell_type": "code",
   "execution_count": 17,
   "id": "8f4464f1",
   "metadata": {},
   "outputs": [],
   "source": [
    "def listsoln2(fuctn,l):\n",
    "    res = 0\n",
    "    for i in l:\n",
    "        if fuctn(i):\n",
    "            res+=i\n",
    "    return res\n",
    "\n",
    "even = lambda x:x%2==0\n",
    "odd = lambda x:x%2!=0\n",
    "divby3 = lambda x:x%3==0"
   ]
  },
  {
   "cell_type": "code",
   "execution_count": 18,
   "id": "7429620c",
   "metadata": {},
   "outputs": [
    {
     "data": {
      "text/plain": [
       "6"
      ]
     },
     "execution_count": 18,
     "metadata": {},
     "output_type": "execute_result"
    }
   ],
   "source": [
    "listsoln2(even,[1,3,6,5])"
   ]
  },
  {
   "cell_type": "code",
   "execution_count": 19,
   "id": "24a022be",
   "metadata": {},
   "outputs": [
    {
     "data": {
      "text/plain": [
       "9"
      ]
     },
     "execution_count": 19,
     "metadata": {},
     "output_type": "execute_result"
    }
   ],
   "source": [
    "listsoln2(odd,[1,3,6,5])"
   ]
  },
  {
   "cell_type": "code",
   "execution_count": 20,
   "id": "aa5d6baa",
   "metadata": {},
   "outputs": [
    {
     "data": {
      "text/plain": [
       "9"
      ]
     },
     "execution_count": 20,
     "metadata": {},
     "output_type": "execute_result"
    }
   ],
   "source": [
    "listsoln2(divby3,[1,3,6,5])"
   ]
  },
  {
   "cell_type": "code",
   "execution_count": null,
   "id": "7f086e91",
   "metadata": {},
   "outputs": [],
   "source": []
  },
  {
   "cell_type": "markdown",
   "id": "1b73d0df",
   "metadata": {},
   "source": [
    "Higher Order Function  :\n",
    "- A function is called Higher Order Function if it contains other functions as a parameter or returns a function as an output \n",
    "    + i.e, the functions that operate with another function are known as Higher order Functions. "
   ]
  },
  {
   "cell_type": "code",
   "execution_count": null,
   "id": "897238a0",
   "metadata": {},
   "outputs": [],
   "source": []
  },
  {
   "cell_type": "markdown",
   "id": "b32ef643",
   "metadata": {},
   "source": [
    "Different Higher order fuctn's are :\n",
    "- Map()\n",
    "- Filter()\n",
    "- Reduce()"
   ]
  },
  {
   "cell_type": "markdown",
   "id": "f152d061",
   "metadata": {},
   "source": [
    "Map()\n",
    "- Map in Python is a function that works as an iterator to return a result after applying a function to every item of an iterable (tuple, lists, etc.).\n",
    "\n",
    "syntex : map(fun, iter)\n",
    "\n",
    "NOTE : You can pass one or more iterable to the map() function.\n",
    "\n",
    "Returns :\n",
    "- Returns a list of the results after applying the given function to each item of a given iterable (list, tuple etc.) "
   ]
  },
  {
   "cell_type": "code",
   "execution_count": null,
   "id": "044acf13",
   "metadata": {},
   "outputs": [],
   "source": []
  },
  {
   "cell_type": "markdown",
   "id": "752d22cd",
   "metadata": {},
   "source": [
    "Create a program to multiply each item in a iterable"
   ]
  },
  {
   "cell_type": "code",
   "execution_count": 24,
   "id": "27711e46",
   "metadata": {},
   "outputs": [
    {
     "data": {
      "text/plain": [
       "<map at 0x7f93443381c0>"
      ]
     },
     "execution_count": 24,
     "metadata": {},
     "output_type": "execute_result"
    }
   ],
   "source": [
    "l = [1,2,3,4,5,6]\n",
    "\n",
    "map(lambda x:x*2,l) # map fuctn returns a map obj "
   ]
  },
  {
   "cell_type": "code",
   "execution_count": 25,
   "id": "c3c0708e",
   "metadata": {},
   "outputs": [
    {
     "data": {
      "text/plain": [
       "[2, 4, 6, 8, 10, 12]"
      ]
     },
     "execution_count": 25,
     "metadata": {},
     "output_type": "execute_result"
    }
   ],
   "source": [
    "list(map(lambda x:x*2,l))"
   ]
  },
  {
   "cell_type": "code",
   "execution_count": null,
   "id": "90fcb456",
   "metadata": {},
   "outputs": [],
   "source": []
  },
  {
   "cell_type": "markdown",
   "id": "4a660440",
   "metadata": {},
   "source": [
    "Creting a prog. to check whether each item of the list is divisible by 2 or not"
   ]
  },
  {
   "cell_type": "code",
   "execution_count": 27,
   "id": "c12734b2",
   "metadata": {},
   "outputs": [
    {
     "data": {
      "text/plain": [
       "[False, True, False, True, False, True]"
      ]
     },
     "execution_count": 27,
     "metadata": {},
     "output_type": "execute_result"
    }
   ],
   "source": [
    "l = [1,2,3,4,5,6]\n",
    "list(map(lambda x:x%2==0,l))"
   ]
  },
  {
   "cell_type": "code",
   "execution_count": null,
   "id": "841c3147",
   "metadata": {},
   "outputs": [],
   "source": []
  },
  {
   "cell_type": "markdown",
   "id": "061f85b9",
   "metadata": {},
   "source": [
    "Extract name from the var student using map"
   ]
  },
  {
   "cell_type": "code",
   "execution_count": 30,
   "id": "a38647fd",
   "metadata": {},
   "outputs": [],
   "source": [
    "student = [{'name':'harsh',\n",
    "           'age':19,\n",
    "           'country':'USA'},\n",
    "          {'name':'methew',\n",
    "           'age':18,\n",
    "           'country':'Russia'},\n",
    "          {'name':'Rin',\n",
    "           'age':22,\n",
    "           'country':'Canada'}]"
   ]
  },
  {
   "cell_type": "code",
   "execution_count": 31,
   "id": "a4c98362",
   "metadata": {},
   "outputs": [
    {
     "data": {
      "text/plain": [
       "[{'name': 'harsh', 'age': 19, 'country': 'USA'},\n",
       " {'name': 'methew', 'age': 18, 'country': 'Russia'},\n",
       " {'name': 'Rin', 'age': 22, 'country': 'Canada'}]"
      ]
     },
     "execution_count": 31,
     "metadata": {},
     "output_type": "execute_result"
    }
   ],
   "source": [
    "student"
   ]
  },
  {
   "cell_type": "code",
   "execution_count": 36,
   "id": "51068fb3",
   "metadata": {},
   "outputs": [
    {
     "data": {
      "text/plain": [
       "['harsh', 'methew', 'Rin']"
      ]
     },
     "execution_count": 36,
     "metadata": {},
     "output_type": "execute_result"
    }
   ],
   "source": [
    "list(map(lambda i:i['name'],student))"
   ]
  },
  {
   "cell_type": "markdown",
   "id": "0e6b69bd",
   "metadata": {},
   "source": [
    "or."
   ]
  },
  {
   "cell_type": "code",
   "execution_count": 35,
   "id": "5f634b4e",
   "metadata": {},
   "outputs": [
    {
     "name": "stdout",
     "output_type": "stream",
     "text": [
      "harsh\n",
      "methew\n",
      "Rin\n"
     ]
    }
   ],
   "source": [
    "for i in student:\n",
    "    print(i['name'])"
   ]
  },
  {
   "cell_type": "code",
   "execution_count": null,
   "id": "0d4799b7",
   "metadata": {},
   "outputs": [],
   "source": []
  },
  {
   "cell_type": "markdown",
   "id": "ce950cd8",
   "metadata": {},
   "source": [
    "Filter "
   ]
  },
  {
   "cell_type": "markdown",
   "id": "6802e4b8",
   "metadata": {},
   "source": [
    "Print the no. which are greater than 4 "
   ]
  },
  {
   "cell_type": "code",
   "execution_count": 40,
   "id": "e76fd784",
   "metadata": {},
   "outputs": [
    {
     "data": {
      "text/plain": [
       "[False, True, False, True, True, True, False, False]"
      ]
     },
     "execution_count": 40,
     "metadata": {},
     "output_type": "execute_result"
    }
   ],
   "source": [
    "l = [1,13,4,5,6,7,2,0]\n",
    "\n",
    "list(map(lambda i:i>4,l))"
   ]
  },
  {
   "cell_type": "code",
   "execution_count": null,
   "id": "729bdaca",
   "metadata": {},
   "outputs": [],
   "source": []
  },
  {
   "cell_type": "code",
   "execution_count": 45,
   "id": "0a4d8462",
   "metadata": {},
   "outputs": [
    {
     "data": {
      "text/plain": [
       "[13, 5, 6, 7]"
      ]
     },
     "execution_count": 45,
     "metadata": {},
     "output_type": "execute_result"
    }
   ],
   "source": [
    "list(filter(lambda i:i>4,l))"
   ]
  },
  {
   "cell_type": "code",
   "execution_count": null,
   "id": "10cb8aa3",
   "metadata": {},
   "outputs": [],
   "source": []
  },
  {
   "cell_type": "markdown",
   "id": "e03b2d7f",
   "metadata": {},
   "source": [
    "Fetch the names of all the fruits that consist 'e' in their name"
   ]
  },
  {
   "cell_type": "code",
   "execution_count": 55,
   "id": "40fff2bf",
   "metadata": {},
   "outputs": [
    {
     "name": "stdout",
     "output_type": "stream",
     "text": [
      "['Apple', 'Watermelon', 'Mandarin', 'Jackfruit', 'Papaya', 'Kiwi', 'Nectarine', 'Grape', 'Mango', 'Blueberry', 'Pomegranate']\n"
     ]
    }
   ],
   "source": [
    "txt = '''Apple\n",
    "Watermelon\n",
    "Mandarin\n",
    "Jackfruit\n",
    "Papaya\n",
    "Kiwi\n",
    "Nectarine\n",
    "Grape\n",
    "Mango\n",
    "Blueberry\n",
    "Pomegranate'''\n",
    "x = txt.split()\n",
    "print(x)\n"
   ]
  },
  {
   "cell_type": "code",
   "execution_count": null,
   "id": "e9735a28",
   "metadata": {},
   "outputs": [],
   "source": []
  },
  {
   "cell_type": "code",
   "execution_count": 56,
   "id": "9d09ee76",
   "metadata": {},
   "outputs": [
    {
     "data": {
      "text/plain": [
       "['Apple', 'Watermelon', 'Nectarine', 'Grape', 'Blueberry', 'Pomegranate']"
      ]
     },
     "execution_count": 56,
     "metadata": {},
     "output_type": "execute_result"
    }
   ],
   "source": [
    "fruits = ['Apple', 'Watermelon', 'Mandarin', 'Jackfruit', 'Papaya', 'Kiwi', 'Nectarine', 'Grape', 'Mango', 'Blueberry', 'Pomegranate']\n",
    "list(filter(lambda i:'e' in i,fruits))"
   ]
  },
  {
   "cell_type": "code",
   "execution_count": null,
   "id": "964614ba",
   "metadata": {},
   "outputs": [],
   "source": []
  },
  {
   "cell_type": "markdown",
   "id": "3c81d120",
   "metadata": {},
   "source": [
    "Map v/s Filter :\n",
    "\n",
    "In map: \n",
    "- Function will be applied to all objects of iterable. \n",
    "\n",
    "In filter: \n",
    "- Function will be applied to only those objects of iterable who goes True on the condition specified in expression."
   ]
  },
  {
   "cell_type": "code",
   "execution_count": null,
   "id": "3c41e75b",
   "metadata": {},
   "outputs": [],
   "source": []
  },
  {
   "cell_type": "markdown",
   "id": "3f496bf9",
   "metadata": {},
   "source": [
    "Reduce :\n",
    "- The reduce() function in python performs functional computation by taking a function and an iterable (eg: list, tuple, dictionary etc.) as arguments and result is returned after computation (the process of applying the function on the iterable)\n",
    "\n",
    "Syntax \n",
    "- functools.reduce(function, iterable)"
   ]
  },
  {
   "cell_type": "code",
   "execution_count": 59,
   "id": "76bdb055",
   "metadata": {},
   "outputs": [
    {
     "name": "stdout",
     "output_type": "stream",
     "text": [
      "10\n"
     ]
    }
   ],
   "source": [
    "from functools import reduce \n",
    "\n",
    "nums = [1, 2, 3, 4]\n",
    "ans = reduce(lambda x, y: x + y, nums)\n",
    "print(ans) "
   ]
  },
  {
   "cell_type": "markdown",
   "id": "38560a0d",
   "metadata": {},
   "source": [
    "or."
   ]
  },
  {
   "cell_type": "code",
   "execution_count": 61,
   "id": "918841d3",
   "metadata": {},
   "outputs": [
    {
     "name": "stdout",
     "output_type": "stream",
     "text": [
      "10\n"
     ]
    }
   ],
   "source": [
    "import functools\n",
    "nums = [1, 2, 3, 4]\n",
    "ans = functools.reduce(lambda x, y: x + y, nums)\n",
    "print(ans) "
   ]
  },
  {
   "cell_type": "code",
   "execution_count": null,
   "id": "06bd7f0d",
   "metadata": {},
   "outputs": [],
   "source": []
  },
  {
   "cell_type": "markdown",
   "id": "b35ab7f6",
   "metadata": {},
   "source": [
    "Find the greatest number inside the list"
   ]
  },
  {
   "cell_type": "code",
   "execution_count": 62,
   "id": "3957e40a",
   "metadata": {},
   "outputs": [
    {
     "data": {
      "text/plain": [
       "62"
      ]
     },
     "execution_count": 62,
     "metadata": {},
     "output_type": "execute_result"
    }
   ],
   "source": [
    "l1 = [1,2,3,4,5,62,33,11,55,21]\n",
    "max(l1)"
   ]
  },
  {
   "cell_type": "markdown",
   "id": "a400a24f",
   "metadata": {},
   "source": [
    "or."
   ]
  },
  {
   "cell_type": "code",
   "execution_count": 66,
   "id": "1e4045c6",
   "metadata": {},
   "outputs": [
    {
     "data": {
      "text/plain": [
       "62"
      ]
     },
     "execution_count": 66,
     "metadata": {},
     "output_type": "execute_result"
    }
   ],
   "source": [
    "l1 = [1,2,3,4,5,62,33,11,55,21]\n",
    "functools.reduce(lambda x,y: x if x>y else y,l1)"
   ]
  },
  {
   "cell_type": "code",
   "execution_count": null,
   "id": "060f4430",
   "metadata": {},
   "outputs": [],
   "source": []
  },
  {
   "cell_type": "markdown",
   "id": "96ff2aa4",
   "metadata": {},
   "source": [
    "Find the least number inside the list"
   ]
  },
  {
   "cell_type": "code",
   "execution_count": 67,
   "id": "398996d6",
   "metadata": {},
   "outputs": [
    {
     "data": {
      "text/plain": [
       "1"
      ]
     },
     "execution_count": 67,
     "metadata": {},
     "output_type": "execute_result"
    }
   ],
   "source": [
    "l1 = [1,2,3,4,5,62,33,11,55,21]\n",
    "min(l1)"
   ]
  },
  {
   "cell_type": "code",
   "execution_count": 69,
   "id": "b70bf2b4",
   "metadata": {},
   "outputs": [
    {
     "data": {
      "text/plain": [
       "1"
      ]
     },
     "execution_count": 69,
     "metadata": {},
     "output_type": "execute_result"
    }
   ],
   "source": [
    "functools.reduce(lambda x,y: x if x<y else y,l1)"
   ]
  },
  {
   "cell_type": "code",
   "execution_count": null,
   "id": "7c802eaf",
   "metadata": {},
   "outputs": [],
   "source": []
  },
  {
   "cell_type": "code",
   "execution_count": null,
   "id": "2932139d",
   "metadata": {},
   "outputs": [],
   "source": []
  },
  {
   "cell_type": "code",
   "execution_count": null,
   "id": "dc296c4f",
   "metadata": {},
   "outputs": [],
   "source": []
  }
 ],
 "metadata": {
  "kernelspec": {
   "display_name": "Python 3 (ipykernel)",
   "language": "python",
   "name": "python3"
  },
  "language_info": {
   "codemirror_mode": {
    "name": "ipython",
    "version": 3
   },
   "file_extension": ".py",
   "mimetype": "text/x-python",
   "name": "python",
   "nbconvert_exporter": "python",
   "pygments_lexer": "ipython3",
   "version": "3.8.10"
  }
 },
 "nbformat": 4,
 "nbformat_minor": 5
}
