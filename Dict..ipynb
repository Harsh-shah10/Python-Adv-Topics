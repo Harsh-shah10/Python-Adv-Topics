{
 "cells": [
  {
   "cell_type": "markdown",
   "id": "4c29b936",
   "metadata": {},
   "source": [
    "Dict.\n",
    "- Dictionaries are used to store data values in key:value pairs. \n",
    "- A dictionary is a collection \n",
    "    + which is ordered\n",
    "    + changeable and \n",
    "    + do not allow duplicates."
   ]
  },
  {
   "cell_type": "code",
   "execution_count": null,
   "id": "7b53700b",
   "metadata": {},
   "outputs": [],
   "source": []
  },
  {
   "cell_type": "markdown",
   "id": "777c9e56",
   "metadata": {},
   "source": [
    "Rules in Dict \n",
    "- Dict. have no indexing\n",
    "- Dict. is a mutable data type\n",
    "- Dict : \n",
    "    + keys - immutable     \n",
    "    + values - can be mutable\n",
    "- Dict. keys should be unique"
   ]
  },
  {
   "cell_type": "code",
   "execution_count": null,
   "id": "7d750ad4",
   "metadata": {},
   "outputs": [],
   "source": []
  },
  {
   "cell_type": "markdown",
   "id": "d396b213",
   "metadata": {},
   "source": [
    "Mutable and Immutable data types \n",
    "\n",
    "- Mutable \n",
    "    + List\n",
    "    + Sets\n",
    "    + Dict.\n",
    "- Immutable\n",
    "    + String\n",
    "    + Tuples\n",
    "    + Int\n",
    "    + Float\n",
    "    + Boolean \n",
    "    + Complex"
   ]
  },
  {
   "cell_type": "code",
   "execution_count": null,
   "id": "df667b12",
   "metadata": {},
   "outputs": [],
   "source": []
  },
  {
   "cell_type": "markdown",
   "id": "49a42990",
   "metadata": {},
   "source": [
    "Creating an empty dic"
   ]
  },
  {
   "cell_type": "code",
   "execution_count": 3,
   "id": "c06c1b51",
   "metadata": {},
   "outputs": [
    {
     "data": {
      "text/plain": [
       "{}"
      ]
     },
     "execution_count": 3,
     "metadata": {},
     "output_type": "execute_result"
    }
   ],
   "source": [
    "d1 = {}\n",
    "d1"
   ]
  },
  {
   "cell_type": "code",
   "execution_count": 4,
   "id": "ec7cb4cf",
   "metadata": {},
   "outputs": [
    {
     "data": {
      "text/plain": [
       "dict"
      ]
     },
     "execution_count": 4,
     "metadata": {},
     "output_type": "execute_result"
    }
   ],
   "source": [
    "type(d1)"
   ]
  },
  {
   "cell_type": "code",
   "execution_count": null,
   "id": "cec67519",
   "metadata": {},
   "outputs": [],
   "source": []
  },
  {
   "cell_type": "code",
   "execution_count": 5,
   "id": "1055cf45",
   "metadata": {},
   "outputs": [
    {
     "data": {
      "text/plain": [
       "{'name': 'harsh', 'age': 19, 'college': 'GIT'}"
      ]
     },
     "execution_count": 5,
     "metadata": {},
     "output_type": "execute_result"
    }
   ],
   "source": [
    "d2 = {'name':'harsh',\n",
    "     'age':19,\n",
    "     'college':'GIT'}\n",
    "d2"
   ]
  },
  {
   "cell_type": "code",
   "execution_count": null,
   "id": "cdaebdad",
   "metadata": {},
   "outputs": [],
   "source": []
  },
  {
   "cell_type": "markdown",
   "id": "fb4d73cb",
   "metadata": {},
   "source": [
    "Proving dic. keys should be immutable"
   ]
  },
  {
   "cell_type": "code",
   "execution_count": 6,
   "id": "ce429747",
   "metadata": {},
   "outputs": [
    {
     "ename": "TypeError",
     "evalue": "unhashable type: 'list'",
     "output_type": "error",
     "traceback": [
      "\u001b[0;31m---------------------------------------------------------------------------\u001b[0m",
      "\u001b[0;31mTypeError\u001b[0m                                 Traceback (most recent call last)",
      "Input \u001b[0;32mIn [6]\u001b[0m, in \u001b[0;36m<module>\u001b[0;34m\u001b[0m\n\u001b[0;32m----> 1\u001b[0m d2 \u001b[38;5;241m=\u001b[39m {[\u001b[38;5;241m1\u001b[39m,\u001b[38;5;241m2\u001b[39m,\u001b[38;5;241m3\u001b[39m]:\u001b[38;5;124m'\u001b[39m\u001b[38;5;124mlist\u001b[39m\u001b[38;5;124m'\u001b[39m}\n\u001b[1;32m      2\u001b[0m d2\n",
      "\u001b[0;31mTypeError\u001b[0m: unhashable type: 'list'"
     ]
    }
   ],
   "source": [
    "d2 = {[1,2,3]:'list'}\n",
    "d2"
   ]
  },
  {
   "cell_type": "code",
   "execution_count": 8,
   "id": "538d9a82",
   "metadata": {},
   "outputs": [
    {
     "data": {
      "text/plain": [
       "{(1, 2, 3): 'list'}"
      ]
     },
     "execution_count": 8,
     "metadata": {},
     "output_type": "execute_result"
    }
   ],
   "source": [
    "'''\n",
    "doing same with tuple : \n",
    "its success beacuse tuple is immutable \n",
    "and key in dic are immutable\n",
    "'''\n",
    "\n",
    "d2 = {(1,2,3):'list'}\n",
    "d2"
   ]
  },
  {
   "cell_type": "code",
   "execution_count": null,
   "id": "dec30ef0",
   "metadata": {},
   "outputs": [],
   "source": []
  },
  {
   "cell_type": "markdown",
   "id": "6ba547db",
   "metadata": {},
   "source": [
    "Proving duplicate keys is not allowed in dic.\n",
    "- Whenever we use the repeating key\n",
    "- the value of the key is updated with the latest value associated witht he same key"
   ]
  },
  {
   "cell_type": "code",
   "execution_count": 11,
   "id": "fd53b4dd",
   "metadata": {},
   "outputs": [],
   "source": [
    "d3 = {1:'harsh',\n",
    "         2:'rishi',\n",
    "         1:'rin'}"
   ]
  },
  {
   "cell_type": "code",
   "execution_count": 12,
   "id": "9a7c962e",
   "metadata": {},
   "outputs": [
    {
     "data": {
      "text/plain": [
       "{1: 'rin', 2: 'rishi'}"
      ]
     },
     "execution_count": 12,
     "metadata": {},
     "output_type": "execute_result"
    }
   ],
   "source": [
    "d3"
   ]
  },
  {
   "cell_type": "code",
   "execution_count": null,
   "id": "10896729",
   "metadata": {},
   "outputs": [],
   "source": []
  },
  {
   "cell_type": "code",
   "execution_count": 13,
   "id": "bed8eade",
   "metadata": {},
   "outputs": [],
   "source": [
    "d4 = {'name':'harsh',\n",
    "     'name':'rin',\n",
    "     'age':21}"
   ]
  },
  {
   "cell_type": "code",
   "execution_count": 14,
   "id": "69310dfa",
   "metadata": {},
   "outputs": [
    {
     "data": {
      "text/plain": [
       "{'name': 'rin', 'age': 21}"
      ]
     },
     "execution_count": 14,
     "metadata": {},
     "output_type": "execute_result"
    }
   ],
   "source": [
    "d4"
   ]
  },
  {
   "cell_type": "code",
   "execution_count": null,
   "id": "70f31eeb",
   "metadata": {},
   "outputs": [],
   "source": []
  },
  {
   "cell_type": "markdown",
   "id": "d93a051f",
   "metadata": {},
   "source": [
    "We can create 2D 3D 4D dic"
   ]
  },
  {
   "cell_type": "code",
   "execution_count": 15,
   "id": "6b90f318",
   "metadata": {},
   "outputs": [],
   "source": [
    "d1 = {'name':'Harsh',\n",
    "     'branch':'CE',\n",
    "     'sem':8,\n",
    "     'marks':{'sub1':90,'sub2':80,'sub3':90}}"
   ]
  },
  {
   "cell_type": "code",
   "execution_count": 16,
   "id": "ab7af152",
   "metadata": {},
   "outputs": [
    {
     "data": {
      "text/plain": [
       "{'name': 'Harsh',\n",
       " 'branch': 'CE',\n",
       " 'sem': 8,\n",
       " 'marks': {'sub1': 90, 'sub2': 80, 'sub3': 90}}"
      ]
     },
     "execution_count": 16,
     "metadata": {},
     "output_type": "execute_result"
    }
   ],
   "source": [
    "d1"
   ]
  },
  {
   "cell_type": "code",
   "execution_count": null,
   "id": "c8a66f90",
   "metadata": {},
   "outputs": [],
   "source": []
  },
  {
   "cell_type": "markdown",
   "id": "2fdf21c3",
   "metadata": {},
   "source": [
    "We can access the items from the dic\n",
    "- as we know there is no concept of indexing and slicing in dic\n",
    "- therefore we need to pass the name of the key to access the vlaue from the dic"
   ]
  },
  {
   "cell_type": "code",
   "execution_count": 17,
   "id": "b5094a5b",
   "metadata": {},
   "outputs": [],
   "source": [
    "d1 = {'name':'Harsh',\n",
    "     'branch':'CE',\n",
    "     'sem':8,\n",
    "     'marks':{'sub1':90,'sub2':80,'sub3':90}}"
   ]
  },
  {
   "cell_type": "code",
   "execution_count": 18,
   "id": "f2dd11cb",
   "metadata": {},
   "outputs": [
    {
     "data": {
      "text/plain": [
       "'Harsh'"
      ]
     },
     "execution_count": 18,
     "metadata": {},
     "output_type": "execute_result"
    }
   ],
   "source": [
    "d1['name']"
   ]
  },
  {
   "cell_type": "code",
   "execution_count": 19,
   "id": "12f97b60",
   "metadata": {},
   "outputs": [
    {
     "data": {
      "text/plain": [
       "{'sub1': 90, 'sub2': 80, 'sub3': 90}"
      ]
     },
     "execution_count": 19,
     "metadata": {},
     "output_type": "execute_result"
    }
   ],
   "source": [
    "d1['marks']"
   ]
  },
  {
   "cell_type": "code",
   "execution_count": null,
   "id": "45b6b045",
   "metadata": {},
   "outputs": [],
   "source": []
  },
  {
   "cell_type": "code",
   "execution_count": 20,
   "id": "c1000066",
   "metadata": {},
   "outputs": [
    {
     "data": {
      "text/plain": [
       "90"
      ]
     },
     "execution_count": 20,
     "metadata": {},
     "output_type": "execute_result"
    }
   ],
   "source": [
    "#Accessing data from the 2D dic\n",
    "d1['marks']['sub1']"
   ]
  },
  {
   "cell_type": "code",
   "execution_count": 21,
   "id": "1fee5429",
   "metadata": {},
   "outputs": [
    {
     "data": {
      "text/plain": [
       "80"
      ]
     },
     "execution_count": 21,
     "metadata": {},
     "output_type": "execute_result"
    }
   ],
   "source": [
    "d1['marks']['sub2']"
   ]
  },
  {
   "cell_type": "code",
   "execution_count": null,
   "id": "0087b9ca",
   "metadata": {},
   "outputs": [],
   "source": []
  },
  {
   "cell_type": "markdown",
   "id": "efe731ca",
   "metadata": {},
   "source": [
    "Edit \n",
    "- In dic we can edit the dic in the same way we are able to access it "
   ]
  },
  {
   "cell_type": "code",
   "execution_count": 22,
   "id": "e0f850f5",
   "metadata": {},
   "outputs": [],
   "source": [
    "d1 = {'name':'Harsh',\n",
    "     'branch':'CE',\n",
    "     'sem':8,\n",
    "     'marks':{'sub1':90,'sub2':80,'sub3':90}}"
   ]
  },
  {
   "cell_type": "code",
   "execution_count": 23,
   "id": "7b4fa513",
   "metadata": {},
   "outputs": [],
   "source": [
    "d1['name']='rin'"
   ]
  },
  {
   "cell_type": "code",
   "execution_count": 24,
   "id": "05ff9d9d",
   "metadata": {},
   "outputs": [
    {
     "data": {
      "text/plain": [
       "{'name': 'rin',\n",
       " 'branch': 'CE',\n",
       " 'sem': 8,\n",
       " 'marks': {'sub1': 90, 'sub2': 80, 'sub3': 90}}"
      ]
     },
     "execution_count": 24,
     "metadata": {},
     "output_type": "execute_result"
    }
   ],
   "source": [
    "d1"
   ]
  },
  {
   "cell_type": "code",
   "execution_count": null,
   "id": "2fafef57",
   "metadata": {},
   "outputs": [],
   "source": []
  },
  {
   "cell_type": "code",
   "execution_count": 25,
   "id": "46603db3",
   "metadata": {},
   "outputs": [],
   "source": [
    "# editing data inside the 2D dic \n",
    "d1['marks']['sub1'] = 100"
   ]
  },
  {
   "cell_type": "code",
   "execution_count": 26,
   "id": "4bec5216",
   "metadata": {},
   "outputs": [
    {
     "data": {
      "text/plain": [
       "{'name': 'rin',\n",
       " 'branch': 'CE',\n",
       " 'sem': 8,\n",
       " 'marks': {'sub1': 100, 'sub2': 80, 'sub3': 90}}"
      ]
     },
     "execution_count": 26,
     "metadata": {},
     "output_type": "execute_result"
    }
   ],
   "source": [
    "d1"
   ]
  },
  {
   "cell_type": "code",
   "execution_count": null,
   "id": "fdf77597",
   "metadata": {},
   "outputs": [],
   "source": []
  },
  {
   "cell_type": "markdown",
   "id": "2d071e47",
   "metadata": {},
   "source": [
    "We can access the data from the dic in 2 ways\n",
    "- using get() : but is only applicable to 1D array"
   ]
  },
  {
   "cell_type": "code",
   "execution_count": 28,
   "id": "56beade1",
   "metadata": {},
   "outputs": [],
   "source": [
    "d1 = {'name': 'rin',\n",
    " 'branch': 'CE',\n",
    " 'sem': 8,\n",
    " 'marks': {'sub1': 100, 'sub2': 80, 'sub3': 90}}\n"
   ]
  },
  {
   "cell_type": "code",
   "execution_count": 29,
   "id": "0e0fa519",
   "metadata": {},
   "outputs": [
    {
     "data": {
      "text/plain": [
       "{'name': 'rin',\n",
       " 'branch': 'CE',\n",
       " 'sem': 8,\n",
       " 'marks': {'sub1': 100, 'sub2': 80, 'sub3': 90}}"
      ]
     },
     "execution_count": 29,
     "metadata": {},
     "output_type": "execute_result"
    }
   ],
   "source": [
    "d1"
   ]
  },
  {
   "cell_type": "code",
   "execution_count": 30,
   "id": "8e82c91e",
   "metadata": {},
   "outputs": [
    {
     "data": {
      "text/plain": [
       "'rin'"
      ]
     },
     "execution_count": 30,
     "metadata": {},
     "output_type": "execute_result"
    }
   ],
   "source": [
    "d1['name']"
   ]
  },
  {
   "cell_type": "code",
   "execution_count": 31,
   "id": "f895289f",
   "metadata": {},
   "outputs": [
    {
     "data": {
      "text/plain": [
       "'rin'"
      ]
     },
     "execution_count": 31,
     "metadata": {},
     "output_type": "execute_result"
    }
   ],
   "source": [
    "d1.get('name')"
   ]
  },
  {
   "cell_type": "code",
   "execution_count": null,
   "id": "c463a5c3",
   "metadata": {},
   "outputs": [],
   "source": []
  },
  {
   "cell_type": "markdown",
   "id": "1fdb6794",
   "metadata": {},
   "source": [
    "Adding new key-value pairs into the dic"
   ]
  },
  {
   "cell_type": "code",
   "execution_count": 32,
   "id": "4d3ea9f8",
   "metadata": {},
   "outputs": [],
   "source": [
    "d1 = {'name': 'rin',\n",
    " 'branch': 'CE',\n",
    " 'sem': 8,\n",
    " 'marks': {'sub1': 100, 'sub2': 80, 'sub3': 90}}"
   ]
  },
  {
   "cell_type": "code",
   "execution_count": 33,
   "id": "cf69f272",
   "metadata": {},
   "outputs": [],
   "source": [
    "d1['college']='GIT'"
   ]
  },
  {
   "cell_type": "code",
   "execution_count": 34,
   "id": "7f9f1115",
   "metadata": {},
   "outputs": [
    {
     "data": {
      "text/plain": [
       "{'name': 'rin',\n",
       " 'branch': 'CE',\n",
       " 'sem': 8,\n",
       " 'marks': {'sub1': 100, 'sub2': 80, 'sub3': 90},\n",
       " 'college': 'GIT'}"
      ]
     },
     "execution_count": 34,
     "metadata": {},
     "output_type": "execute_result"
    }
   ],
   "source": [
    "d1"
   ]
  },
  {
   "cell_type": "code",
   "execution_count": null,
   "id": "5f792879",
   "metadata": {},
   "outputs": [],
   "source": []
  },
  {
   "cell_type": "code",
   "execution_count": 35,
   "id": "9c0376f8",
   "metadata": {},
   "outputs": [],
   "source": [
    "# adding new data into the 2D dic\n",
    "\n",
    "d1['marks']['newsub']=999"
   ]
  },
  {
   "cell_type": "code",
   "execution_count": 36,
   "id": "0a2c0a1f",
   "metadata": {},
   "outputs": [
    {
     "data": {
      "text/plain": [
       "{'name': 'rin',\n",
       " 'branch': 'CE',\n",
       " 'sem': 8,\n",
       " 'marks': {'sub1': 100, 'sub2': 80, 'sub3': 90, 'newsub': 999},\n",
       " 'college': 'GIT'}"
      ]
     },
     "execution_count": 36,
     "metadata": {},
     "output_type": "execute_result"
    }
   ],
   "source": [
    "d1"
   ]
  },
  {
   "cell_type": "code",
   "execution_count": null,
   "id": "5dcb2bdf",
   "metadata": {},
   "outputs": [],
   "source": []
  },
  {
   "cell_type": "markdown",
   "id": "5de9777a",
   "metadata": {},
   "source": [
    "Deleting key value pair from the dic"
   ]
  },
  {
   "cell_type": "code",
   "execution_count": 37,
   "id": "d7eac8ab",
   "metadata": {},
   "outputs": [
    {
     "data": {
      "text/plain": [
       "{'name': 'rin',\n",
       " 'branch': 'CE',\n",
       " 'sem': 8,\n",
       " 'marks': {'sub1': 100, 'sub2': 80, 'sub3': 90, 'newsub': 999},\n",
       " 'college': 'GIT'}"
      ]
     },
     "execution_count": 37,
     "metadata": {},
     "output_type": "execute_result"
    }
   ],
   "source": [
    "d1"
   ]
  },
  {
   "cell_type": "code",
   "execution_count": 38,
   "id": "f0648fd3",
   "metadata": {},
   "outputs": [],
   "source": [
    "# deleting from 2D dic\n",
    "del d1['marks']['newsub']"
   ]
  },
  {
   "cell_type": "code",
   "execution_count": 39,
   "id": "4717a065",
   "metadata": {},
   "outputs": [
    {
     "data": {
      "text/plain": [
       "{'name': 'rin',\n",
       " 'branch': 'CE',\n",
       " 'sem': 8,\n",
       " 'marks': {'sub1': 100, 'sub2': 80, 'sub3': 90},\n",
       " 'college': 'GIT'}"
      ]
     },
     "execution_count": 39,
     "metadata": {},
     "output_type": "execute_result"
    }
   ],
   "source": [
    "d1"
   ]
  },
  {
   "cell_type": "code",
   "execution_count": null,
   "id": "238af23b",
   "metadata": {},
   "outputs": [],
   "source": []
  },
  {
   "cell_type": "code",
   "execution_count": 40,
   "id": "5eb19899",
   "metadata": {},
   "outputs": [],
   "source": [
    "del d1['marks']"
   ]
  },
  {
   "cell_type": "code",
   "execution_count": 41,
   "id": "6545372c",
   "metadata": {},
   "outputs": [
    {
     "data": {
      "text/plain": [
       "{'name': 'rin', 'branch': 'CE', 'sem': 8, 'college': 'GIT'}"
      ]
     },
     "execution_count": 41,
     "metadata": {},
     "output_type": "execute_result"
    }
   ],
   "source": [
    "d1"
   ]
  },
  {
   "cell_type": "code",
   "execution_count": null,
   "id": "b4d05977",
   "metadata": {},
   "outputs": [],
   "source": []
  },
  {
   "cell_type": "code",
   "execution_count": 42,
   "id": "05c9bad8",
   "metadata": {},
   "outputs": [],
   "source": [
    "del d1"
   ]
  },
  {
   "cell_type": "code",
   "execution_count": 43,
   "id": "87b57d44",
   "metadata": {},
   "outputs": [
    {
     "ename": "NameError",
     "evalue": "name 'd1' is not defined",
     "output_type": "error",
     "traceback": [
      "\u001b[0;31m---------------------------------------------------------------------------\u001b[0m",
      "\u001b[0;31mNameError\u001b[0m                                 Traceback (most recent call last)",
      "Input \u001b[0;32mIn [43]\u001b[0m, in \u001b[0;36m<module>\u001b[0;34m\u001b[0m\n\u001b[0;32m----> 1\u001b[0m \u001b[43md1\u001b[49m\n",
      "\u001b[0;31mNameError\u001b[0m: name 'd1' is not defined"
     ]
    }
   ],
   "source": [
    "d1"
   ]
  },
  {
   "cell_type": "code",
   "execution_count": null,
   "id": "ec03fd3d",
   "metadata": {},
   "outputs": [],
   "source": []
  },
  {
   "cell_type": "markdown",
   "id": "350d6c73",
   "metadata": {},
   "source": [
    "Using clear(), to empty the dic."
   ]
  },
  {
   "cell_type": "code",
   "execution_count": 44,
   "id": "762d7ccc",
   "metadata": {},
   "outputs": [],
   "source": [
    "d1 = {'name': 'rin',\n",
    " 'branch': 'CE',\n",
    " 'sem': 8,}"
   ]
  },
  {
   "cell_type": "code",
   "execution_count": 45,
   "id": "20965cc6",
   "metadata": {},
   "outputs": [
    {
     "data": {
      "text/plain": [
       "{'name': 'rin', 'branch': 'CE', 'sem': 8}"
      ]
     },
     "execution_count": 45,
     "metadata": {},
     "output_type": "execute_result"
    }
   ],
   "source": [
    "d1"
   ]
  },
  {
   "cell_type": "code",
   "execution_count": 46,
   "id": "7e1ebc08",
   "metadata": {},
   "outputs": [],
   "source": [
    "d1.clear()"
   ]
  },
  {
   "cell_type": "code",
   "execution_count": 47,
   "id": "335d4af0",
   "metadata": {},
   "outputs": [
    {
     "data": {
      "text/plain": [
       "{}"
      ]
     },
     "execution_count": 47,
     "metadata": {},
     "output_type": "execute_result"
    }
   ],
   "source": [
    "d1"
   ]
  },
  {
   "cell_type": "code",
   "execution_count": null,
   "id": "ef6e6567",
   "metadata": {},
   "outputs": [],
   "source": []
  },
  {
   "cell_type": "markdown",
   "id": "ca18e9b6",
   "metadata": {},
   "source": [
    "Operations \n",
    "- Concatenation (+) and mul (*) does not work with dic\n",
    "- But we can iterate or perform looping opern on it\n",
    "- also membership is supported here : but checking always get performed on keys not values"
   ]
  },
  {
   "cell_type": "code",
   "execution_count": 48,
   "id": "8edf4605",
   "metadata": {},
   "outputs": [],
   "source": [
    "d1 = {'name': 'rin', 'branch': 'CE', 'sem': 8}"
   ]
  },
  {
   "cell_type": "code",
   "execution_count": 49,
   "id": "d075fe3e",
   "metadata": {},
   "outputs": [
    {
     "data": {
      "text/plain": [
       "{'name': 'rin', 'branch': 'CE', 'sem': 8}"
      ]
     },
     "execution_count": 49,
     "metadata": {},
     "output_type": "execute_result"
    }
   ],
   "source": [
    "d1"
   ]
  },
  {
   "cell_type": "code",
   "execution_count": 50,
   "id": "d6e3c1c0",
   "metadata": {},
   "outputs": [
    {
     "name": "stdout",
     "output_type": "stream",
     "text": [
      "name\n",
      "branch\n",
      "sem\n"
     ]
    }
   ],
   "source": [
    "for i in d1:\n",
    "    print(i)"
   ]
  },
  {
   "cell_type": "code",
   "execution_count": null,
   "id": "f698d76c",
   "metadata": {},
   "outputs": [],
   "source": []
  },
  {
   "cell_type": "code",
   "execution_count": 51,
   "id": "a696dceb",
   "metadata": {},
   "outputs": [
    {
     "name": "stdout",
     "output_type": "stream",
     "text": [
      "name\n",
      "branch\n",
      "sem\n"
     ]
    }
   ],
   "source": [
    "for i in d1.keys():\n",
    "    print(i)"
   ]
  },
  {
   "cell_type": "code",
   "execution_count": 52,
   "id": "3de2ffd8",
   "metadata": {},
   "outputs": [
    {
     "name": "stdout",
     "output_type": "stream",
     "text": [
      "rin\n",
      "CE\n",
      "8\n"
     ]
    }
   ],
   "source": [
    "for i in d1.values():\n",
    "    print(i)"
   ]
  },
  {
   "cell_type": "code",
   "execution_count": null,
   "id": "e297a28a",
   "metadata": {},
   "outputs": [],
   "source": []
  },
  {
   "cell_type": "code",
   "execution_count": 56,
   "id": "bf54c035",
   "metadata": {},
   "outputs": [
    {
     "name": "stdout",
     "output_type": "stream",
     "text": [
      "name rin\n",
      "branch CE\n",
      "sem 8\n"
     ]
    }
   ],
   "source": [
    "for i in d1:\n",
    "    print(i,d1[i])"
   ]
  },
  {
   "cell_type": "code",
   "execution_count": null,
   "id": "e518a23e",
   "metadata": {},
   "outputs": [],
   "source": []
  },
  {
   "cell_type": "code",
   "execution_count": 57,
   "id": "c607357a",
   "metadata": {},
   "outputs": [
    {
     "name": "stdout",
     "output_type": "stream",
     "text": [
      "('name', 'rin')\n",
      "('branch', 'CE')\n",
      "('sem', 8)\n"
     ]
    }
   ],
   "source": [
    "for i in d1.items():\n",
    "    print(i)"
   ]
  },
  {
   "cell_type": "code",
   "execution_count": null,
   "id": "1e8e1d52",
   "metadata": {},
   "outputs": [],
   "source": []
  },
  {
   "cell_type": "code",
   "execution_count": 59,
   "id": "b9481354",
   "metadata": {},
   "outputs": [
    {
     "name": "stdout",
     "output_type": "stream",
     "text": [
      "name rin\n",
      "branch CE\n",
      "sem 8\n"
     ]
    }
   ],
   "source": [
    "for i,j in d1.items():\n",
    "    print(i,j)"
   ]
  },
  {
   "cell_type": "code",
   "execution_count": null,
   "id": "f0ee1fa2",
   "metadata": {},
   "outputs": [],
   "source": []
  },
  {
   "cell_type": "markdown",
   "id": "a5983a55",
   "metadata": {},
   "source": [
    "Using memebrship operator on dict"
   ]
  },
  {
   "cell_type": "code",
   "execution_count": 60,
   "id": "22373065",
   "metadata": {},
   "outputs": [],
   "source": [
    "d1 = {'name': 'rin', 'branch': 'CE', 'sem': 8}"
   ]
  },
  {
   "cell_type": "code",
   "execution_count": 61,
   "id": "f6cf8a82",
   "metadata": {},
   "outputs": [
    {
     "data": {
      "text/plain": [
       "False"
      ]
     },
     "execution_count": 61,
     "metadata": {},
     "output_type": "execute_result"
    }
   ],
   "source": [
    "'rin' in d1"
   ]
  },
  {
   "cell_type": "code",
   "execution_count": 62,
   "id": "5e373898",
   "metadata": {},
   "outputs": [
    {
     "data": {
      "text/plain": [
       "True"
      ]
     },
     "execution_count": 62,
     "metadata": {},
     "output_type": "execute_result"
    }
   ],
   "source": [
    "'name' in d1"
   ]
  },
  {
   "cell_type": "code",
   "execution_count": null,
   "id": "0f6d1b68",
   "metadata": {},
   "outputs": [],
   "source": []
  },
  {
   "cell_type": "markdown",
   "id": "6277b7c8",
   "metadata": {},
   "source": [
    "Functions : supported in dic\n",
    "- min/max\n",
    "- len\n",
    "- sorted\n",
    "\n",
    "- If our keys are int : sum() can also be used"
   ]
  },
  {
   "cell_type": "code",
   "execution_count": 63,
   "id": "34242860",
   "metadata": {},
   "outputs": [],
   "source": [
    "d1 = {'name': 'rin', 'branch': 'CE', 'sem': 8}"
   ]
  },
  {
   "cell_type": "code",
   "execution_count": 66,
   "id": "6ad51e3c",
   "metadata": {},
   "outputs": [
    {
     "data": {
      "text/plain": [
       "'branch'"
      ]
     },
     "execution_count": 66,
     "metadata": {},
     "output_type": "execute_result"
    }
   ],
   "source": [
    "# on the basis of ascii value : \n",
    "# lexiographically\n",
    "\n",
    "min(d1) "
   ]
  },
  {
   "cell_type": "code",
   "execution_count": 67,
   "id": "46408d7e",
   "metadata": {},
   "outputs": [
    {
     "data": {
      "text/plain": [
       "'sem'"
      ]
     },
     "execution_count": 67,
     "metadata": {},
     "output_type": "execute_result"
    }
   ],
   "source": [
    "max(d1)"
   ]
  },
  {
   "cell_type": "code",
   "execution_count": 68,
   "id": "ba42e9c2",
   "metadata": {},
   "outputs": [
    {
     "data": {
      "text/plain": [
       "['branch', 'name', 'sem']"
      ]
     },
     "execution_count": 68,
     "metadata": {},
     "output_type": "execute_result"
    }
   ],
   "source": [
    "sorted(d1)"
   ]
  },
  {
   "cell_type": "code",
   "execution_count": 69,
   "id": "f88e3a61",
   "metadata": {},
   "outputs": [
    {
     "data": {
      "text/plain": [
       "['sem', 'name', 'branch']"
      ]
     },
     "execution_count": 69,
     "metadata": {},
     "output_type": "execute_result"
    }
   ],
   "source": [
    "sorted(d1,reverse=True)"
   ]
  },
  {
   "cell_type": "code",
   "execution_count": null,
   "id": "25c4f4ad",
   "metadata": {},
   "outputs": [],
   "source": []
  },
  {
   "cell_type": "code",
   "execution_count": 76,
   "id": "cdb6a388",
   "metadata": {},
   "outputs": [],
   "source": [
    "d2 = {4:'a',2:'b',3:'c'}"
   ]
  },
  {
   "cell_type": "code",
   "execution_count": 77,
   "id": "c8b9db9b",
   "metadata": {},
   "outputs": [
    {
     "data": {
      "text/plain": [
       "2"
      ]
     },
     "execution_count": 77,
     "metadata": {},
     "output_type": "execute_result"
    }
   ],
   "source": [
    "min(d2)"
   ]
  },
  {
   "cell_type": "code",
   "execution_count": 78,
   "id": "7c8fd749",
   "metadata": {},
   "outputs": [
    {
     "data": {
      "text/plain": [
       "4"
      ]
     },
     "execution_count": 78,
     "metadata": {},
     "output_type": "execute_result"
    }
   ],
   "source": [
    "max(d2)"
   ]
  },
  {
   "cell_type": "code",
   "execution_count": 79,
   "id": "d97b2e30",
   "metadata": {},
   "outputs": [
    {
     "data": {
      "text/plain": [
       "[2, 3, 4]"
      ]
     },
     "execution_count": 79,
     "metadata": {},
     "output_type": "execute_result"
    }
   ],
   "source": [
    "sorted(d2)"
   ]
  },
  {
   "cell_type": "code",
   "execution_count": 82,
   "id": "30dc1901",
   "metadata": {},
   "outputs": [
    {
     "data": {
      "text/plain": [
       "[4, 3, 2]"
      ]
     },
     "execution_count": 82,
     "metadata": {},
     "output_type": "execute_result"
    }
   ],
   "source": [
    "sorted(d2,reverse=True)"
   ]
  },
  {
   "cell_type": "code",
   "execution_count": 80,
   "id": "c3dc6890",
   "metadata": {},
   "outputs": [
    {
     "data": {
      "text/plain": [
       "9"
      ]
     },
     "execution_count": 80,
     "metadata": {},
     "output_type": "execute_result"
    }
   ],
   "source": [
    "sum(d2)"
   ]
  },
  {
   "cell_type": "code",
   "execution_count": null,
   "id": "855cb771",
   "metadata": {},
   "outputs": [],
   "source": []
  },
  {
   "cell_type": "markdown",
   "id": "2b72030b",
   "metadata": {},
   "source": [
    "Fucntions specific to dic\n",
    "- keys\n",
    "- values"
   ]
  },
  {
   "cell_type": "code",
   "execution_count": 83,
   "id": "6cf573d1",
   "metadata": {},
   "outputs": [
    {
     "data": {
      "text/plain": [
       "{4: 'a', 2: 'b', 3: 'c'}"
      ]
     },
     "execution_count": 83,
     "metadata": {},
     "output_type": "execute_result"
    }
   ],
   "source": [
    "d2"
   ]
  },
  {
   "cell_type": "code",
   "execution_count": 84,
   "id": "aadc3cf9",
   "metadata": {},
   "outputs": [
    {
     "data": {
      "text/plain": [
       "dict_keys([4, 2, 3])"
      ]
     },
     "execution_count": 84,
     "metadata": {},
     "output_type": "execute_result"
    }
   ],
   "source": [
    "d2.keys()"
   ]
  },
  {
   "cell_type": "code",
   "execution_count": 85,
   "id": "f438798d",
   "metadata": {},
   "outputs": [
    {
     "data": {
      "text/plain": [
       "dict_values(['a', 'b', 'c'])"
      ]
     },
     "execution_count": 85,
     "metadata": {},
     "output_type": "execute_result"
    }
   ],
   "source": [
    "d2.values()"
   ]
  },
  {
   "cell_type": "code",
   "execution_count": null,
   "id": "e510899b",
   "metadata": {},
   "outputs": [],
   "source": []
  }
 ],
 "metadata": {
  "kernelspec": {
   "display_name": "Python 3 (ipykernel)",
   "language": "python",
   "name": "python3"
  },
  "language_info": {
   "codemirror_mode": {
    "name": "ipython",
    "version": 3
   },
   "file_extension": ".py",
   "mimetype": "text/x-python",
   "name": "python",
   "nbconvert_exporter": "python",
   "pygments_lexer": "ipython3",
   "version": "3.8.10"
  }
 },
 "nbformat": 4,
 "nbformat_minor": 5
}
