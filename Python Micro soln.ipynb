{
 "cells": [
  {
   "cell_type": "code",
   "execution_count": 8,
   "id": "07f9d624",
   "metadata": {
    "scrolled": false
   },
   "outputs": [
    {
     "name": "stdout",
     "output_type": "stream",
     "text": [
      "Hello harsh\n"
     ]
    }
   ],
   "source": [
    "print('Hello harsh')"
   ]
  },
  {
   "cell_type": "code",
   "execution_count": null,
   "id": "1bede66c",
   "metadata": {},
   "outputs": [],
   "source": []
  },
  {
   "cell_type": "code",
   "execution_count": 9,
   "id": "0dde8ac4",
   "metadata": {},
   "outputs": [
    {
     "data": {
      "text/plain": [
       "8"
      ]
     },
     "execution_count": 9,
     "metadata": {},
     "output_type": "execute_result"
    }
   ],
   "source": [
    "2+6"
   ]
  },
  {
   "cell_type": "code",
   "execution_count": 14,
   "id": "9cdda54f",
   "metadata": {},
   "outputs": [
    {
     "data": {
      "text/plain": [
       "2.5"
      ]
     },
     "execution_count": 14,
     "metadata": {},
     "output_type": "execute_result"
    }
   ],
   "source": [
    "5/2 # div:  point mai bhi div karega [quotient]"
   ]
  },
  {
   "cell_type": "code",
   "execution_count": 15,
   "id": "1ba2ec10",
   "metadata": {},
   "outputs": [
    {
     "data": {
      "text/plain": [
       "1"
      ]
     },
     "execution_count": 15,
     "metadata": {},
     "output_type": "execute_result"
    }
   ],
   "source": [
    "5%2 # modulas : [remainder]"
   ]
  },
  {
   "cell_type": "code",
   "execution_count": 16,
   "id": "5557f47a",
   "metadata": {},
   "outputs": [
    {
     "data": {
      "text/plain": [
       "2"
      ]
     },
     "execution_count": 16,
     "metadata": {},
     "output_type": "execute_result"
    }
   ],
   "source": [
    "5//2 # floor division : point mai div nhi hoga"
   ]
  },
  {
   "cell_type": "code",
   "execution_count": 17,
   "id": "e2402655",
   "metadata": {},
   "outputs": [
    {
     "data": {
      "text/plain": [
       "10"
      ]
     },
     "execution_count": 17,
     "metadata": {},
     "output_type": "execute_result"
    }
   ],
   "source": [
    "5*2"
   ]
  },
  {
   "cell_type": "code",
   "execution_count": 21,
   "id": "3210dfc5",
   "metadata": {},
   "outputs": [
    {
     "data": {
      "text/plain": [
       "6"
      ]
     },
     "execution_count": 21,
     "metadata": {},
     "output_type": "execute_result"
    }
   ],
   "source": [
    "2^4"
   ]
  },
  {
   "cell_type": "code",
   "execution_count": 20,
   "id": "d7227c60",
   "metadata": {},
   "outputs": [
    {
     "data": {
      "text/plain": [
       "16"
      ]
     },
     "execution_count": 20,
     "metadata": {},
     "output_type": "execute_result"
    }
   ],
   "source": [
    "2**4 # exponent operator"
   ]
  },
  {
   "cell_type": "code",
   "execution_count": null,
   "id": "877b21f1",
   "metadata": {},
   "outputs": [],
   "source": []
  },
  {
   "cell_type": "markdown",
   "id": "ca755d35",
   "metadata": {},
   "source": [
    "#### Simple interest"
   ]
  },
  {
   "cell_type": "code",
   "execution_count": 25,
   "id": "1375597f",
   "metadata": {},
   "outputs": [
    {
     "name": "stdout",
     "output_type": "stream",
     "text": [
      "p = 2000\n",
      "r = 0.055\n",
      "t = 4\n",
      "Simple Interest :  440.0\n"
     ]
    }
   ],
   "source": [
    "p = float(input('p = '))\n",
    "r = float(input('r = '))\n",
    "t = float(input('t = '))\n",
    "si = p*r*t\n",
    "print('Simple Interest : ',si)"
   ]
  },
  {
   "cell_type": "markdown",
   "id": "5cb850a6",
   "metadata": {},
   "source": [
    "#### Square of a number"
   ]
  },
  {
   "cell_type": "code",
   "execution_count": 26,
   "id": "c3cf5e1f",
   "metadata": {},
   "outputs": [
    {
     "name": "stdout",
     "output_type": "stream",
     "text": [
      "Enter the no. : 4\n",
      "Square of 4 is  16\n"
     ]
    }
   ],
   "source": [
    "no = int(input('Enter the no. : '))\n",
    "sq = no*no\n",
    "print(f'Square of {no} is ',sq)"
   ]
  },
  {
   "cell_type": "markdown",
   "id": "a250bade",
   "metadata": {},
   "source": [
    "#### Area of circle"
   ]
  },
  {
   "cell_type": "code",
   "execution_count": 30,
   "id": "1ba4dab1",
   "metadata": {},
   "outputs": [
    {
     "name": "stdout",
     "output_type": "stream",
     "text": [
      "Enter the radius value : 7\n",
      "Area of circle is  153.86\n"
     ]
    }
   ],
   "source": [
    "r = float(input('Enter the radius value : '))\n",
    "area = 3.14*r*r\n",
    "print('Area of circle is ',area)"
   ]
  },
  {
   "cell_type": "code",
   "execution_count": null,
   "id": "adada2ee",
   "metadata": {},
   "outputs": [],
   "source": []
  },
  {
   "cell_type": "markdown",
   "id": "ee841f6b",
   "metadata": {},
   "source": [
    "##### Types of Operators"
   ]
  },
  {
   "cell_type": "raw",
   "id": "3e77df13",
   "metadata": {},
   "source": [
    "Arithmatic Operators\n",
    "Relational Operators \n",
    "Assignment Operators\n",
    "Logical Operators\n",
    "Membership Operators\n",
    "Identity Operators"
   ]
  },
  {
   "cell_type": "code",
   "execution_count": null,
   "id": "77115298",
   "metadata": {},
   "outputs": [],
   "source": []
  },
  {
   "cell_type": "code",
   "execution_count": 35,
   "id": "f5f80963",
   "metadata": {},
   "outputs": [
    {
     "name": "stdout",
     "output_type": "stream",
     "text": [
      "PYTHON IS too awesome\n"
     ]
    }
   ],
   "source": [
    "d1 = 'PYTHON IS AWESOME'\n",
    "d2 = 'flask'\n",
    "x = d1.replace('AWESOME','too awesome')\n",
    "print(x)"
   ]
  },
  {
   "cell_type": "code",
   "execution_count": 37,
   "id": "105b2bc8",
   "metadata": {},
   "outputs": [
    {
     "name": "stdout",
     "output_type": "stream",
     "text": [
      "python is awesome\n",
      "FLASK\n"
     ]
    }
   ],
   "source": [
    "print(d1.lower())\n",
    "print(d2.upper())"
   ]
  },
  {
   "cell_type": "code",
   "execution_count": 38,
   "id": "aca32ce1",
   "metadata": {},
   "outputs": [
    {
     "name": "stdout",
     "output_type": "stream",
     "text": [
      "['PYTHON', 'IS', 'AWESOME']\n"
     ]
    }
   ],
   "source": [
    "d1 = 'PYTHON IS AWESOME'\n",
    "print(d1.split())"
   ]
  },
  {
   "cell_type": "code",
   "execution_count": 65,
   "id": "7d5f8874",
   "metadata": {},
   "outputs": [
    {
     "name": "stdout",
     "output_type": "stream",
     "text": [
      "Flask is\n"
     ]
    }
   ],
   "source": [
    "d2 = 'flask is'\n",
    "print(d2.capitalize())"
   ]
  },
  {
   "cell_type": "code",
   "execution_count": null,
   "id": "c841e9e8",
   "metadata": {},
   "outputs": [],
   "source": []
  },
  {
   "cell_type": "code",
   "execution_count": 40,
   "id": "85f66864",
   "metadata": {},
   "outputs": [
    {
     "name": "stdout",
     "output_type": "stream",
     "text": [
      "     flask     \n"
     ]
    }
   ],
   "source": [
    "d2 = 'flask'\n",
    "print(d2.center(15))"
   ]
  },
  {
   "cell_type": "code",
   "execution_count": null,
   "id": "d0ef8e34",
   "metadata": {},
   "outputs": [],
   "source": []
  },
  {
   "cell_type": "code",
   "execution_count": 41,
   "id": "3a115af9",
   "metadata": {},
   "outputs": [
    {
     "name": "stdout",
     "output_type": "stream",
     "text": [
      "False\n"
     ]
    }
   ],
   "source": [
    "d1 = 'PYTHON IS AWESOME'\n",
    "print(d1.endswith('me'))"
   ]
  },
  {
   "cell_type": "code",
   "execution_count": 42,
   "id": "86940d09",
   "metadata": {},
   "outputs": [
    {
     "name": "stdout",
     "output_type": "stream",
     "text": [
      "True\n"
     ]
    }
   ],
   "source": [
    "print(d1.endswith('ME'))"
   ]
  },
  {
   "cell_type": "code",
   "execution_count": 44,
   "id": "af9d7abc",
   "metadata": {},
   "outputs": [
    {
     "name": "stdout",
     "output_type": "stream",
     "text": [
      "False\n"
     ]
    }
   ],
   "source": [
    "print(d1.endswith('xx'))"
   ]
  },
  {
   "cell_type": "code",
   "execution_count": null,
   "id": "a7296ab9",
   "metadata": {},
   "outputs": [],
   "source": []
  },
  {
   "cell_type": "code",
   "execution_count": 46,
   "id": "98b44335",
   "metadata": {},
   "outputs": [
    {
     "name": "stdout",
     "output_type": "stream",
     "text": [
      "4\n"
     ]
    }
   ],
   "source": [
    "d1 = 'PYTHON IS AWESOME THON'\n",
    "print(d1.find('ON'))"
   ]
  },
  {
   "cell_type": "code",
   "execution_count": 48,
   "id": "15d71247",
   "metadata": {},
   "outputs": [
    {
     "name": "stdout",
     "output_type": "stream",
     "text": [
      "0\n"
     ]
    }
   ],
   "source": [
    "print(d1.find('P'))"
   ]
  },
  {
   "cell_type": "code",
   "execution_count": 49,
   "id": "ab8ba4f0",
   "metadata": {},
   "outputs": [
    {
     "name": "stdout",
     "output_type": "stream",
     "text": [
      "5\n"
     ]
    }
   ],
   "source": [
    "print(d1.find('N'))"
   ]
  },
  {
   "cell_type": "code",
   "execution_count": null,
   "id": "796785d8",
   "metadata": {},
   "outputs": [],
   "source": []
  },
  {
   "cell_type": "code",
   "execution_count": 52,
   "id": "9dd48620",
   "metadata": {},
   "outputs": [
    {
     "name": "stdout",
     "output_type": "stream",
     "text": [
      "5\n"
     ]
    }
   ],
   "source": [
    "d1 = 'PYTHON IS AWESOME THON'\n",
    "print(d1.index('N'))"
   ]
  },
  {
   "cell_type": "code",
   "execution_count": null,
   "id": "95b99d08",
   "metadata": {},
   "outputs": [],
   "source": []
  },
  {
   "cell_type": "code",
   "execution_count": 53,
   "id": "05e4da6e",
   "metadata": {},
   "outputs": [
    {
     "name": "stdout",
     "output_type": "stream",
     "text": [
      "False\n"
     ]
    }
   ],
   "source": [
    "d1 = 'PYTHON IS AWESOME THON'\n",
    "print(d1.isalpha())"
   ]
  },
  {
   "cell_type": "code",
   "execution_count": 54,
   "id": "94e61b02",
   "metadata": {},
   "outputs": [
    {
     "name": "stdout",
     "output_type": "stream",
     "text": [
      "True\n"
     ]
    }
   ],
   "source": [
    "d1 = 'PYTHONISAWESOMETHON'\n",
    "print(d1.isalpha())"
   ]
  },
  {
   "cell_type": "code",
   "execution_count": 55,
   "id": "3e09060d",
   "metadata": {},
   "outputs": [
    {
     "name": "stdout",
     "output_type": "stream",
     "text": [
      "False\n"
     ]
    }
   ],
   "source": [
    "d1 = 'PYTHON00ISAWESOMETHON'\n",
    "print(d1.isalpha())"
   ]
  },
  {
   "cell_type": "code",
   "execution_count": null,
   "id": "2faa5b64",
   "metadata": {},
   "outputs": [],
   "source": []
  },
  {
   "cell_type": "code",
   "execution_count": 56,
   "id": "11164413",
   "metadata": {},
   "outputs": [
    {
     "name": "stdout",
     "output_type": "stream",
     "text": [
      "False\n"
     ]
    }
   ],
   "source": [
    "d1 = 'PYTHON00ISAWESOMETHON'\n",
    "print(d1.isdigit())"
   ]
  },
  {
   "cell_type": "code",
   "execution_count": 57,
   "id": "a9d0803b",
   "metadata": {},
   "outputs": [
    {
     "name": "stdout",
     "output_type": "stream",
     "text": [
      "True\n"
     ]
    }
   ],
   "source": [
    "d1 = '123'\n",
    "print(d1.isdigit())"
   ]
  },
  {
   "cell_type": "code",
   "execution_count": null,
   "id": "7219ae6a",
   "metadata": {},
   "outputs": [],
   "source": []
  },
  {
   "cell_type": "code",
   "execution_count": 64,
   "id": "61d1cdd4",
   "metadata": {},
   "outputs": [
    {
     "name": "stdout",
     "output_type": "stream",
     "text": [
      "False\n"
     ]
    }
   ],
   "source": [
    "d1 = '1 23'\n",
    "print(d1.isspace())"
   ]
  },
  {
   "cell_type": "code",
   "execution_count": 62,
   "id": "50e52bf3",
   "metadata": {},
   "outputs": [
    {
     "name": "stdout",
     "output_type": "stream",
     "text": [
      "False\n"
     ]
    }
   ],
   "source": [
    "d1 = ''\n",
    "print(d1.isspace())"
   ]
  },
  {
   "cell_type": "code",
   "execution_count": 63,
   "id": "914a2b2f",
   "metadata": {},
   "outputs": [
    {
     "name": "stdout",
     "output_type": "stream",
     "text": [
      "True\n"
     ]
    }
   ],
   "source": [
    "d1 = ' '\n",
    "print(d1.isspace())"
   ]
  },
  {
   "cell_type": "code",
   "execution_count": null,
   "id": "3cc2f832",
   "metadata": {},
   "outputs": [],
   "source": []
  },
  {
   "cell_type": "code",
   "execution_count": 66,
   "id": "92bf0002",
   "metadata": {},
   "outputs": [
    {
     "name": "stdout",
     "output_type": "stream",
     "text": [
      "True\n"
     ]
    }
   ],
   "source": [
    "d1 = 'Python'\n",
    "print(d1.istitle()) # first word capital"
   ]
  },
  {
   "cell_type": "code",
   "execution_count": 67,
   "id": "f17c1b65",
   "metadata": {},
   "outputs": [
    {
     "name": "stdout",
     "output_type": "stream",
     "text": [
      "False\n"
     ]
    }
   ],
   "source": [
    "d1 = 'python'\n",
    "print(d1.istitle())"
   ]
  },
  {
   "cell_type": "code",
   "execution_count": null,
   "id": "bc15f43a",
   "metadata": {},
   "outputs": [],
   "source": []
  },
  {
   "cell_type": "code",
   "execution_count": 68,
   "id": "084b8751",
   "metadata": {},
   "outputs": [
    {
     "name": "stdout",
     "output_type": "stream",
     "text": [
      "3\n"
     ]
    }
   ],
   "source": [
    "d1 = 'is python is best is'\n",
    "print(d1.count('is'))"
   ]
  },
  {
   "cell_type": "code",
   "execution_count": 69,
   "id": "2413c71b",
   "metadata": {},
   "outputs": [
    {
     "name": "stdout",
     "output_type": "stream",
     "text": [
      "2\n"
     ]
    }
   ],
   "source": [
    "print(d1.count('t'))"
   ]
  },
  {
   "cell_type": "code",
   "execution_count": null,
   "id": "a1d355f5",
   "metadata": {},
   "outputs": [],
   "source": []
  },
  {
   "cell_type": "code",
   "execution_count": 3,
   "id": "adbbb583",
   "metadata": {},
   "outputs": [
    {
     "name": "stdout",
     "output_type": "stream",
     "text": [
      "['harry', 'is', 'a', 'goog', 'man']\n"
     ]
    }
   ],
   "source": [
    "st = 'harry is a goog man'\n",
    "print(st.split())"
   ]
  },
  {
   "cell_type": "code",
   "execution_count": null,
   "id": "d0283a27",
   "metadata": {},
   "outputs": [],
   "source": []
  },
  {
   "cell_type": "code",
   "execution_count": 4,
   "id": "3e81268f",
   "metadata": {},
   "outputs": [
    {
     "name": "stdout",
     "output_type": "stream",
     "text": [
      "harry$is$a$goog$man\n"
     ]
    }
   ],
   "source": [
    "l1 = ['harry', 'is', 'a', 'goog', 'man']\n",
    "x = '$'.join(l1)\n",
    "print(x)"
   ]
  },
  {
   "cell_type": "code",
   "execution_count": 5,
   "id": "6fbaf1fc",
   "metadata": {},
   "outputs": [
    {
     "name": "stdout",
     "output_type": "stream",
     "text": [
      "harry_is_a_goog_man\n"
     ]
    }
   ],
   "source": [
    "x = '_'.join(l1)\n",
    "print(x)"
   ]
  },
  {
   "cell_type": "code",
   "execution_count": null,
   "id": "09cc2a4a",
   "metadata": {},
   "outputs": [],
   "source": []
  },
  {
   "cell_type": "markdown",
   "id": "ba6e8270",
   "metadata": {},
   "source": [
    "##### Python Collections"
   ]
  },
  {
   "cell_type": "raw",
   "id": "8a478f56",
   "metadata": {},
   "source": [
    "- List\n",
    "- Tuple\n",
    "- Set\n",
    "- Dictionaries\n",
    "\n",
    "1:55"
   ]
  },
  {
   "cell_type": "markdown",
   "id": "ea1b3dd0",
   "metadata": {},
   "source": [
    "##### List"
   ]
  },
  {
   "cell_type": "code",
   "execution_count": null,
   "id": "d64b0443",
   "metadata": {},
   "outputs": [],
   "source": [
    "# replace item"
   ]
  },
  {
   "cell_type": "code",
   "execution_count": 7,
   "id": "c37d0fcd",
   "metadata": {},
   "outputs": [
    {
     "name": "stdout",
     "output_type": "stream",
     "text": [
      "['harry', 'is', 'a', 'GOOD', 'man']\n"
     ]
    }
   ],
   "source": [
    "l1 = ['harry', 'is', 'a', 'goog', 'man']\n",
    "l1[3]='GOOD'\n",
    "print(l1)"
   ]
  },
  {
   "cell_type": "code",
   "execution_count": 8,
   "id": "15beac24",
   "metadata": {},
   "outputs": [],
   "source": [
    "# append/add items"
   ]
  },
  {
   "cell_type": "code",
   "execution_count": 9,
   "id": "f361baf7",
   "metadata": {},
   "outputs": [
    {
     "name": "stdout",
     "output_type": "stream",
     "text": [
      "['apple', 'mango', 'kiwi', 'peach', 'kiwi']\n"
     ]
    }
   ],
   "source": [
    "l1 = ['apple','mango','kiwi','peach']\n",
    "l1.append('kiwi')\n",
    "print(l1)"
   ]
  },
  {
   "cell_type": "code",
   "execution_count": 10,
   "id": "cf46bb65",
   "metadata": {},
   "outputs": [
    {
     "name": "stdout",
     "output_type": "stream",
     "text": [
      "2\n"
     ]
    }
   ],
   "source": [
    "print(l1.count('kiwi'))"
   ]
  },
  {
   "cell_type": "code",
   "execution_count": 11,
   "id": "3e8cfe2e",
   "metadata": {},
   "outputs": [],
   "source": [
    "# remvove item"
   ]
  },
  {
   "cell_type": "code",
   "execution_count": 15,
   "id": "0d6e8d42",
   "metadata": {},
   "outputs": [
    {
     "name": "stdout",
     "output_type": "stream",
     "text": [
      "['apple', 'mango', 'peach']\n"
     ]
    }
   ],
   "source": [
    "l1 = ['apple','mango','kiwi','peach']\n",
    "l1.remove('kiwi')\n",
    "print(l1)"
   ]
  },
  {
   "cell_type": "code",
   "execution_count": 16,
   "id": "5c425f88",
   "metadata": {},
   "outputs": [
    {
     "name": "stdout",
     "output_type": "stream",
     "text": [
      "['apple', 'mango']\n"
     ]
    }
   ],
   "source": [
    "l1.pop()\n",
    "print(l1)"
   ]
  },
  {
   "cell_type": "code",
   "execution_count": 17,
   "id": "114134aa",
   "metadata": {},
   "outputs": [
    {
     "name": "stdout",
     "output_type": "stream",
     "text": [
      "mango\n"
     ]
    }
   ],
   "source": [
    "print(l1[1]) # ordered format"
   ]
  },
  {
   "cell_type": "code",
   "execution_count": null,
   "id": "322967e6",
   "metadata": {},
   "outputs": [],
   "source": [
    "# del a list"
   ]
  },
  {
   "cell_type": "code",
   "execution_count": 18,
   "id": "6be01481",
   "metadata": {},
   "outputs": [],
   "source": [
    "l1 = ['apple','mango','kiwi','peach']\n",
    "del l1"
   ]
  },
  {
   "cell_type": "code",
   "execution_count": 19,
   "id": "1044af57",
   "metadata": {},
   "outputs": [
    {
     "ename": "NameError",
     "evalue": "name 'l1' is not defined",
     "output_type": "error",
     "traceback": [
      "\u001b[0;31m---------------------------------------------------------------------------\u001b[0m",
      "\u001b[0;31mNameError\u001b[0m                                 Traceback (most recent call last)",
      "Input \u001b[0;32mIn [19]\u001b[0m, in \u001b[0;36m<module>\u001b[0;34m\u001b[0m\n\u001b[0;32m----> 1\u001b[0m \u001b[38;5;28mprint\u001b[39m(\u001b[43ml1\u001b[49m)\n",
      "\u001b[0;31mNameError\u001b[0m: name 'l1' is not defined"
     ]
    }
   ],
   "source": [
    "print(l1)"
   ]
  },
  {
   "cell_type": "code",
   "execution_count": 20,
   "id": "a901d460",
   "metadata": {},
   "outputs": [
    {
     "name": "stdout",
     "output_type": "stream",
     "text": [
      "[]\n"
     ]
    }
   ],
   "source": [
    "# empty/clear the list\n",
    "l1 = ['apple','mango','kiwi','peach']\n",
    "l1.clear()\n",
    "print(l1)"
   ]
  },
  {
   "cell_type": "code",
   "execution_count": null,
   "id": "2fe5081e",
   "metadata": {},
   "outputs": [],
   "source": []
  },
  {
   "cell_type": "code",
   "execution_count": 3,
   "id": "242e7700",
   "metadata": {},
   "outputs": [
    {
     "name": "stdout",
     "output_type": "stream",
     "text": [
      "apple#mango#kiwi#peach\n"
     ]
    }
   ],
   "source": [
    "l1 = ['apple','mango','kiwi','peach']\n",
    "print('#'.join(l1))"
   ]
  },
  {
   "cell_type": "markdown",
   "id": "b6b3c4a0",
   "metadata": {},
   "source": [
    "##### tuple"
   ]
  },
  {
   "cell_type": "code",
   "execution_count": 5,
   "id": "b8345d9a",
   "metadata": {},
   "outputs": [
    {
     "data": {
      "text/plain": [
       "('apple', 'mango', 'kiwi', 'peach')"
      ]
     },
     "execution_count": 5,
     "metadata": {},
     "output_type": "execute_result"
    }
   ],
   "source": [
    "t1 = ('apple','mango','kiwi','peach')\n",
    "t1"
   ]
  },
  {
   "cell_type": "code",
   "execution_count": 6,
   "id": "00dc17d8",
   "metadata": {},
   "outputs": [
    {
     "data": {
      "text/plain": [
       "('apple', 'mango', 'kiwi', 'peach', 'a', 'b', 'c', 'd')"
      ]
     },
     "execution_count": 6,
     "metadata": {},
     "output_type": "execute_result"
    }
   ],
   "source": [
    "t1 = ('apple','mango','kiwi','peach')\n",
    "t2 = ('a','b','c','d')\n",
    "t1+t2"
   ]
  },
  {
   "cell_type": "code",
   "execution_count": null,
   "id": "03a4b470",
   "metadata": {},
   "outputs": [],
   "source": []
  },
  {
   "cell_type": "code",
   "execution_count": 9,
   "id": "b5eb26fe",
   "metadata": {},
   "outputs": [
    {
     "data": {
      "text/plain": [
       "1"
      ]
     },
     "execution_count": 9,
     "metadata": {},
     "output_type": "execute_result"
    }
   ],
   "source": [
    "t1 = ('apple','mango','kiwi','peach')\n",
    "t1.count('kiwi')"
   ]
  },
  {
   "cell_type": "code",
   "execution_count": 10,
   "id": "960c44f0",
   "metadata": {},
   "outputs": [
    {
     "data": {
      "text/plain": [
       "3"
      ]
     },
     "execution_count": 10,
     "metadata": {},
     "output_type": "execute_result"
    }
   ],
   "source": [
    "t2 = ('a','b','c','a','d','a')\n",
    "t2.count('a')"
   ]
  },
  {
   "cell_type": "code",
   "execution_count": null,
   "id": "716fe088",
   "metadata": {},
   "outputs": [],
   "source": []
  },
  {
   "cell_type": "code",
   "execution_count": 11,
   "id": "8995ed71",
   "metadata": {},
   "outputs": [
    {
     "data": {
      "text/plain": [
       "0"
      ]
     },
     "execution_count": 11,
     "metadata": {},
     "output_type": "execute_result"
    }
   ],
   "source": [
    "t2 = ('a','b','c','a','d','a')\n",
    "t2.index('a')"
   ]
  },
  {
   "cell_type": "code",
   "execution_count": 12,
   "id": "fdc9a2c9",
   "metadata": {},
   "outputs": [
    {
     "data": {
      "text/plain": [
       "2"
      ]
     },
     "execution_count": 12,
     "metadata": {},
     "output_type": "execute_result"
    }
   ],
   "source": [
    "t1 = ('apple','mango','kiwi','peach')\n",
    "t1.index('kiwi')"
   ]
  },
  {
   "cell_type": "code",
   "execution_count": null,
   "id": "713fca73",
   "metadata": {},
   "outputs": [],
   "source": []
  },
  {
   "cell_type": "markdown",
   "id": "cb3779e1",
   "metadata": {},
   "source": [
    "##### Set"
   ]
  },
  {
   "cell_type": "code",
   "execution_count": 14,
   "id": "1b6e4bc9",
   "metadata": {},
   "outputs": [
    {
     "data": {
      "text/plain": [
       "{'a', 'b', 'c', 'd'}"
      ]
     },
     "execution_count": 14,
     "metadata": {},
     "output_type": "execute_result"
    }
   ],
   "source": [
    "s1 = {'a','b','c','d','a','b','c','d'}\n",
    "s1"
   ]
  },
  {
   "cell_type": "code",
   "execution_count": 15,
   "id": "5667a11a",
   "metadata": {},
   "outputs": [
    {
     "data": {
      "text/plain": [
       "{'apple', 'kiwi', 'mango', 'peach'}"
      ]
     },
     "execution_count": 15,
     "metadata": {},
     "output_type": "execute_result"
    }
   ],
   "source": [
    "s1 = {'apple','mango','kiwi','peach'}\n",
    "s1"
   ]
  },
  {
   "cell_type": "code",
   "execution_count": null,
   "id": "1da07c92",
   "metadata": {},
   "outputs": [],
   "source": []
  },
  {
   "cell_type": "code",
   "execution_count": 16,
   "id": "66e60a95",
   "metadata": {},
   "outputs": [
    {
     "data": {
      "text/plain": [
       "{'apple', 'kiwi', 'mango', 'peach'}"
      ]
     },
     "execution_count": 16,
     "metadata": {},
     "output_type": "execute_result"
    }
   ],
   "source": [
    "s1 = {'apple','mango','kiwi','peach'}\n",
    "s1.add('mango')\n",
    "s1"
   ]
  },
  {
   "cell_type": "code",
   "execution_count": 17,
   "id": "f21f17ee",
   "metadata": {},
   "outputs": [
    {
     "data": {
      "text/plain": [
       "{'apple', 'berry', 'kiwi', 'mango', 'peach'}"
      ]
     },
     "execution_count": 17,
     "metadata": {},
     "output_type": "execute_result"
    }
   ],
   "source": [
    "s1 = {'apple','mango','kiwi','peach'}\n",
    "s1.add('berry')\n",
    "s1"
   ]
  },
  {
   "cell_type": "code",
   "execution_count": null,
   "id": "93c6a86b",
   "metadata": {},
   "outputs": [],
   "source": []
  },
  {
   "cell_type": "code",
   "execution_count": 18,
   "id": "19777d2c",
   "metadata": {},
   "outputs": [
    {
     "data": {
      "text/plain": [
       "{'a', 'apple', 'b', 'c', 'kiwi', 'mango', 'peach'}"
      ]
     },
     "execution_count": 18,
     "metadata": {},
     "output_type": "execute_result"
    }
   ],
   "source": [
    "s1 = {'apple','mango','kiwi','peach'}\n",
    "s1.update(['a','b','c'])\n",
    "s1"
   ]
  },
  {
   "cell_type": "code",
   "execution_count": null,
   "id": "f5fe5e29",
   "metadata": {},
   "outputs": [],
   "source": [
    " "
   ]
  },
  {
   "cell_type": "markdown",
   "id": "e2247f74",
   "metadata": {},
   "source": [
    "##### Dict"
   ]
  },
  {
   "cell_type": "code",
   "execution_count": 20,
   "id": "6df6f8c0",
   "metadata": {},
   "outputs": [
    {
     "data": {
      "text/plain": [
       "{'a': 100, 'b': 200, 'c': 'zero'}"
      ]
     },
     "execution_count": 20,
     "metadata": {},
     "output_type": "execute_result"
    }
   ],
   "source": [
    "d1 = {\n",
    "    'a':100,\n",
    "    'b':200,\n",
    "    'c':'zero'\n",
    "}\n",
    "d1"
   ]
  },
  {
   "cell_type": "code",
   "execution_count": null,
   "id": "82b984b6",
   "metadata": {},
   "outputs": [],
   "source": []
  },
  {
   "cell_type": "code",
   "execution_count": 23,
   "id": "648598a7",
   "metadata": {},
   "outputs": [
    {
     "data": {
      "text/plain": [
       "{'a': 'updated', 'b': 200, 'c': 'zero'}"
      ]
     },
     "execution_count": 23,
     "metadata": {},
     "output_type": "execute_result"
    }
   ],
   "source": [
    "d1['a']='updated'\n",
    "d1"
   ]
  },
  {
   "cell_type": "code",
   "execution_count": 24,
   "id": "a7d3f3c5",
   "metadata": {},
   "outputs": [
    {
     "data": {
      "text/plain": [
       "{'a': 'updated', 'b': 200, 'c': 'updated'}"
      ]
     },
     "execution_count": 24,
     "metadata": {},
     "output_type": "execute_result"
    }
   ],
   "source": [
    "d1['c']='updated'\n",
    "d1"
   ]
  },
  {
   "cell_type": "code",
   "execution_count": null,
   "id": "c6017394",
   "metadata": {},
   "outputs": [],
   "source": []
  },
  {
   "cell_type": "code",
   "execution_count": 26,
   "id": "490bf9f7",
   "metadata": {},
   "outputs": [
    {
     "data": {
      "text/plain": [
       "'updated'"
      ]
     },
     "execution_count": 26,
     "metadata": {},
     "output_type": "execute_result"
    }
   ],
   "source": [
    "x = d1['c']\n",
    "x"
   ]
  },
  {
   "cell_type": "code",
   "execution_count": null,
   "id": "9f3fc7f7",
   "metadata": {},
   "outputs": [],
   "source": []
  },
  {
   "cell_type": "code",
   "execution_count": 27,
   "id": "79315ddc",
   "metadata": {},
   "outputs": [
    {
     "data": {
      "text/plain": [
       "{'a': 'updated', 'b': 200, 'c': 'updated', 'new': 'new item added'}"
      ]
     },
     "execution_count": 27,
     "metadata": {},
     "output_type": "execute_result"
    }
   ],
   "source": [
    "d1['new']='new item added'\n",
    "d1"
   ]
  },
  {
   "cell_type": "code",
   "execution_count": null,
   "id": "76c6b2bc",
   "metadata": {},
   "outputs": [],
   "source": []
  },
  {
   "cell_type": "code",
   "execution_count": 29,
   "id": "82e7ddce",
   "metadata": {},
   "outputs": [
    {
     "data": {
      "text/plain": [
       "{'a': 'updated', 'b': 200, 'c': 'updated'}"
      ]
     },
     "execution_count": 29,
     "metadata": {},
     "output_type": "execute_result"
    }
   ],
   "source": [
    "d1 = {'a': 'updated', 'b': 200, 'c': 'updated', 'new': 'new item added'}\n",
    "d1.pop('new')\n",
    "d1"
   ]
  },
  {
   "cell_type": "code",
   "execution_count": 31,
   "id": "d2e40b4a",
   "metadata": {},
   "outputs": [],
   "source": [
    "#or"
   ]
  },
  {
   "cell_type": "code",
   "execution_count": 32,
   "id": "4874ac8e",
   "metadata": {},
   "outputs": [
    {
     "data": {
      "text/plain": [
       "{'a': 'updated', 'b': 200, 'c': 'updated'}"
      ]
     },
     "execution_count": 32,
     "metadata": {},
     "output_type": "execute_result"
    }
   ],
   "source": [
    "d1 = {'a': 'updated', 'b': 200, 'c': 'updated', 'new': 'new item added'}\n",
    "del d1['new']\n",
    "d1"
   ]
  },
  {
   "cell_type": "code",
   "execution_count": null,
   "id": "cbc05712",
   "metadata": {},
   "outputs": [],
   "source": []
  },
  {
   "cell_type": "code",
   "execution_count": 33,
   "id": "72545cb6",
   "metadata": {},
   "outputs": [
    {
     "ename": "NameError",
     "evalue": "name 'd1' is not defined",
     "output_type": "error",
     "traceback": [
      "\u001b[0;31m---------------------------------------------------------------------------\u001b[0m",
      "\u001b[0;31mNameError\u001b[0m                                 Traceback (most recent call last)",
      "Input \u001b[0;32mIn [33]\u001b[0m, in \u001b[0;36m<module>\u001b[0;34m\u001b[0m\n\u001b[1;32m      1\u001b[0m d1 \u001b[38;5;241m=\u001b[39m {\u001b[38;5;124m'\u001b[39m\u001b[38;5;124ma\u001b[39m\u001b[38;5;124m'\u001b[39m: \u001b[38;5;124m'\u001b[39m\u001b[38;5;124mupdated\u001b[39m\u001b[38;5;124m'\u001b[39m, \u001b[38;5;124m'\u001b[39m\u001b[38;5;124mb\u001b[39m\u001b[38;5;124m'\u001b[39m: \u001b[38;5;241m200\u001b[39m, \u001b[38;5;124m'\u001b[39m\u001b[38;5;124mc\u001b[39m\u001b[38;5;124m'\u001b[39m: \u001b[38;5;124m'\u001b[39m\u001b[38;5;124mupdated\u001b[39m\u001b[38;5;124m'\u001b[39m, \u001b[38;5;124m'\u001b[39m\u001b[38;5;124mnew\u001b[39m\u001b[38;5;124m'\u001b[39m: \u001b[38;5;124m'\u001b[39m\u001b[38;5;124mnew item added\u001b[39m\u001b[38;5;124m'\u001b[39m}\n\u001b[1;32m      2\u001b[0m \u001b[38;5;28;01mdel\u001b[39;00m d1\n\u001b[0;32m----> 3\u001b[0m \u001b[43md1\u001b[49m\n",
      "\u001b[0;31mNameError\u001b[0m: name 'd1' is not defined"
     ]
    }
   ],
   "source": [
    "d1 = {'a': 'updated', 'b': 200, 'c': 'updated', 'new': 'new item added'}\n",
    "del d1\n",
    "d1"
   ]
  },
  {
   "cell_type": "code",
   "execution_count": null,
   "id": "5bc4b23d",
   "metadata": {},
   "outputs": [],
   "source": []
  },
  {
   "cell_type": "code",
   "execution_count": 35,
   "id": "2fb5d786",
   "metadata": {},
   "outputs": [
    {
     "data": {
      "text/plain": [
       "{}"
      ]
     },
     "execution_count": 35,
     "metadata": {},
     "output_type": "execute_result"
    }
   ],
   "source": [
    "d1 = {'a': 'updated', 'b': 200, 'c': 'updated', 'new': 'new item added'}\n",
    "d1.clear()\n",
    "d1"
   ]
  },
  {
   "cell_type": "code",
   "execution_count": null,
   "id": "06da9994",
   "metadata": {},
   "outputs": [],
   "source": []
  },
  {
   "cell_type": "code",
   "execution_count": 36,
   "id": "9c9d7982",
   "metadata": {},
   "outputs": [],
   "source": [
    "marks_d1 = {'ram':100,'raju':80}\n",
    "marks_d2 = marks_d1.copy()"
   ]
  },
  {
   "cell_type": "code",
   "execution_count": 37,
   "id": "050aed5f",
   "metadata": {},
   "outputs": [
    {
     "data": {
      "text/plain": [
       "{'ram': 100, 'raju': 80}"
      ]
     },
     "execution_count": 37,
     "metadata": {},
     "output_type": "execute_result"
    }
   ],
   "source": [
    "marks_d1"
   ]
  },
  {
   "cell_type": "code",
   "execution_count": 38,
   "id": "2cb87eac",
   "metadata": {},
   "outputs": [
    {
     "data": {
      "text/plain": [
       "{'ram': 100, 'raju': 80}"
      ]
     },
     "execution_count": 38,
     "metadata": {},
     "output_type": "execute_result"
    }
   ],
   "source": [
    "marks_d2"
   ]
  },
  {
   "cell_type": "code",
   "execution_count": null,
   "id": "37145299",
   "metadata": {},
   "outputs": [],
   "source": []
  },
  {
   "cell_type": "markdown",
   "id": "4906d97c",
   "metadata": {},
   "source": [
    "#### Python Conditions\n"
   ]
  },
  {
   "cell_type": "raw",
   "id": "ee52030f",
   "metadata": {},
   "source": [
    "if condition"
   ]
  },
  {
   "cell_type": "code",
   "execution_count": 39,
   "id": "6fdf7cde",
   "metadata": {
    "scrolled": true
   },
   "outputs": [
    {
     "name": "stdout",
     "output_type": "stream",
     "text": [
      "If true then execute\n"
     ]
    }
   ],
   "source": [
    "a = True\n",
    "if a:\n",
    "    print('If true then execute')"
   ]
  },
  {
   "cell_type": "code",
   "execution_count": null,
   "id": "0d9ea178",
   "metadata": {},
   "outputs": [],
   "source": []
  },
  {
   "cell_type": "raw",
   "id": "629e5c4c",
   "metadata": {},
   "source": [
    "if-else condition"
   ]
  },
  {
   "cell_type": "code",
   "execution_count": 46,
   "id": "11b019d1",
   "metadata": {},
   "outputs": [
    {
     "name": "stdout",
     "output_type": "stream",
     "text": [
      "if false then execute\n"
     ]
    }
   ],
   "source": [
    "a = False\n",
    "if a:\n",
    "    print('If true then execute')\n",
    "else:\n",
    "    #pass\n",
    "    print('if false then execute')"
   ]
  },
  {
   "cell_type": "code",
   "execution_count": null,
   "id": "214254c7",
   "metadata": {},
   "outputs": [],
   "source": []
  },
  {
   "cell_type": "raw",
   "id": "e6af6b82",
   "metadata": {},
   "source": [
    "simple Elif "
   ]
  },
  {
   "cell_type": "code",
   "execution_count": 49,
   "id": "552d11c1",
   "metadata": {},
   "outputs": [
    {
     "name": "stdout",
     "output_type": "stream",
     "text": [
      "value is 10\n"
     ]
    }
   ],
   "source": [
    "a = 10\n",
    "if a>10:\n",
    "    print('greater than 10')\n",
    "elif a<10:\n",
    "    print('less than 10')\n",
    "else:\n",
    "    print('value is 10')"
   ]
  },
  {
   "cell_type": "code",
   "execution_count": null,
   "id": "b6b09e98",
   "metadata": {},
   "outputs": [],
   "source": []
  },
  {
   "cell_type": "raw",
   "id": "c2bb1433",
   "metadata": {},
   "source": [
    "Nested If"
   ]
  },
  {
   "cell_type": "code",
   "execution_count": 51,
   "id": "3c896c6f",
   "metadata": {},
   "outputs": [
    {
     "name": "stdout",
     "output_type": "stream",
     "text": [
      "A is True B is True\n"
     ]
    }
   ],
   "source": [
    "a = True\n",
    "b = True\n",
    "if a:\n",
    "    if b==False:\n",
    "        print('A is True B is False')\n",
    "    else:\n",
    "        print('A is True B is True')"
   ]
  },
  {
   "cell_type": "code",
   "execution_count": null,
   "id": "9e5492f8",
   "metadata": {},
   "outputs": [],
   "source": []
  },
  {
   "cell_type": "code",
   "execution_count": 57,
   "id": "27e54d61",
   "metadata": {},
   "outputs": [
    {
     "name": "stdout",
     "output_type": "stream",
     "text": [
      "1\n",
      "1\n",
      "1\n",
      "(1, 1, 1) are same\n"
     ]
    }
   ],
   "source": [
    "a = int(input())\n",
    "b = int(input())\n",
    "c = int(input())\n",
    "\n",
    "if a>b and a>c:\n",
    "    print(f'{a} is greatest among {a,b,c}')\n",
    "elif b>a and b>c:\n",
    "    print(f'{b} is greatest among {a,b,c}')\n",
    "elif a==b and b==c and c==a:\n",
    "    print(f'{a,b,c} are same')\n",
    "else:\n",
    "    print(f'{c} is greatest among {a,b,c}')"
   ]
  },
  {
   "cell_type": "code",
   "execution_count": null,
   "id": "8b1baee1",
   "metadata": {},
   "outputs": [],
   "source": []
  },
  {
   "cell_type": "markdown",
   "id": "5d63d9ab",
   "metadata": {},
   "source": [
    "##### Python Loops"
   ]
  },
  {
   "cell_type": "raw",
   "id": "4cba544e",
   "metadata": {},
   "source": [
    "While Loop"
   ]
  },
  {
   "cell_type": "code",
   "execution_count": 59,
   "id": "5f8f8bac",
   "metadata": {},
   "outputs": [
    {
     "name": "stdout",
     "output_type": "stream",
     "text": [
      "1 2 3 4 5 6 7 8 9 10 "
     ]
    }
   ],
   "source": [
    "i = 1\n",
    "while i<=10:\n",
    "    print(i, end=' ')\n",
    "    i+=1"
   ]
  },
  {
   "cell_type": "code",
   "execution_count": null,
   "id": "a33dc229",
   "metadata": {},
   "outputs": [],
   "source": []
  },
  {
   "cell_type": "markdown",
   "id": "73263bb1",
   "metadata": {},
   "source": [
    "##### Iterating over a list"
   ]
  },
  {
   "cell_type": "code",
   "execution_count": 69,
   "id": "7fe85c62",
   "metadata": {},
   "outputs": [
    {
     "name": "stdout",
     "output_type": "stream",
     "text": [
      "apple\n",
      "mango\n",
      "kiwi\n",
      "peach\n",
      "melon\n",
      "berry\n"
     ]
    }
   ],
   "source": [
    "l1 = ['apple','mango','kiwi','peach','melon','berry']\n",
    "for i in l1:\n",
    "    print(i)"
   ]
  },
  {
   "cell_type": "code",
   "execution_count": 71,
   "id": "7a06541b",
   "metadata": {},
   "outputs": [
    {
     "name": "stdout",
     "output_type": "stream",
     "text": [
      "apple\n",
      "mango\n",
      "kiwi\n",
      "peach\n"
     ]
    }
   ],
   "source": [
    "l1 = ['apple','mango','kiwi','peach','melon','berry']\n",
    "for i in range(4):\n",
    "    print(l1[i])"
   ]
  },
  {
   "cell_type": "code",
   "execution_count": 72,
   "id": "a131ed40",
   "metadata": {},
   "outputs": [
    {
     "name": "stdout",
     "output_type": "stream",
     "text": [
      "apple\n",
      "mango\n",
      "kiwi\n",
      "peach\n"
     ]
    }
   ],
   "source": [
    "l1 = ['apple','mango','kiwi','peach','melon','berry']\n",
    "for i in range(0,4):\n",
    "    print(l1[i])"
   ]
  },
  {
   "cell_type": "code",
   "execution_count": 73,
   "id": "fb3917a7",
   "metadata": {},
   "outputs": [
    {
     "name": "stdout",
     "output_type": "stream",
     "text": [
      "kiwi\n",
      "peach\n"
     ]
    }
   ],
   "source": [
    "l1 = ['apple','mango','kiwi','peach','melon','berry']\n",
    "for i in range(2,4):\n",
    "    print(l1[i])"
   ]
  },
  {
   "cell_type": "code",
   "execution_count": null,
   "id": "a3304a91",
   "metadata": {},
   "outputs": [],
   "source": []
  },
  {
   "cell_type": "raw",
   "id": "3dde3c2d",
   "metadata": {},
   "source": [
    "Prog. for printing table for any no"
   ]
  },
  {
   "cell_type": "code",
   "execution_count": 74,
   "id": "139ff1d4",
   "metadata": {},
   "outputs": [
    {
     "name": "stdout",
     "output_type": "stream",
     "text": [
      "3\n",
      "3 X 1 = 3\n",
      "3 X 2 = 6\n",
      "3 X 3 = 9\n",
      "3 X 4 = 12\n",
      "3 X 5 = 15\n",
      "3 X 6 = 18\n",
      "3 X 7 = 21\n",
      "3 X 8 = 24\n",
      "3 X 9 = 27\n",
      "3 X 10 = 30\n"
     ]
    }
   ],
   "source": [
    "table_no = int(input())\n",
    "for i in range(1,11):\n",
    "    print(f'{table_no} X {i} = {i*table_no}')"
   ]
  },
  {
   "cell_type": "code",
   "execution_count": null,
   "id": "ba6aec28",
   "metadata": {},
   "outputs": [],
   "source": []
  },
  {
   "cell_type": "code",
   "execution_count": 76,
   "id": "74ed4f48",
   "metadata": {},
   "outputs": [
    {
     "name": "stdout",
     "output_type": "stream",
     "text": [
      "Enter the number till u wanna generate tables : 3\n",
      "1 X 1 = 1\n",
      "1 X 2 = 2\n",
      "1 X 3 = 3\n",
      "1 X 4 = 4\n",
      "1 X 5 = 5\n",
      "1 X 6 = 6\n",
      "1 X 7 = 7\n",
      "1 X 8 = 8\n",
      "1 X 9 = 9\n",
      "1 X 10 = 10\n",
      "\n",
      "2 X 1 = 2\n",
      "2 X 2 = 4\n",
      "2 X 3 = 6\n",
      "2 X 4 = 8\n",
      "2 X 5 = 10\n",
      "2 X 6 = 12\n",
      "2 X 7 = 14\n",
      "2 X 8 = 16\n",
      "2 X 9 = 18\n",
      "2 X 10 = 20\n",
      "\n",
      "3 X 1 = 3\n",
      "3 X 2 = 6\n",
      "3 X 3 = 9\n",
      "3 X 4 = 12\n",
      "3 X 5 = 15\n",
      "3 X 6 = 18\n",
      "3 X 7 = 21\n",
      "3 X 8 = 24\n",
      "3 X 9 = 27\n",
      "3 X 10 = 30\n",
      "\n"
     ]
    }
   ],
   "source": [
    "table_no = int(input('Enter the number till u wanna generate tables : '))\n",
    "\n",
    "for i in range(1,table_no+1):\n",
    "    for j in range(1,11):\n",
    "        print(f'{i} X {j} = {i*j}')\n",
    "    print()"
   ]
  },
  {
   "cell_type": "code",
   "execution_count": null,
   "id": "15d79f16",
   "metadata": {},
   "outputs": [],
   "source": []
  },
  {
   "cell_type": "code",
   "execution_count": 78,
   "id": "6cc287cd",
   "metadata": {},
   "outputs": [
    {
     "name": "stdout",
     "output_type": "stream",
     "text": [
      "111\n",
      "1\n",
      "max of 111 & 1 is 111\n"
     ]
    }
   ],
   "source": [
    "a = int(input())\n",
    "b = int(input())\n",
    "print(f'max of {a} & {b} is {max(a,b)}')"
   ]
  },
  {
   "cell_type": "code",
   "execution_count": null,
   "id": "0a151efe",
   "metadata": {},
   "outputs": [],
   "source": []
  },
  {
   "cell_type": "code",
   "execution_count": 80,
   "id": "70c3ce44",
   "metadata": {},
   "outputs": [
    {
     "name": "stdout",
     "output_type": "stream",
     "text": [
      "3\n",
      "3 X 1 = 3\n",
      "3 X 2 = 6\n",
      "3 X 3 = 9\n",
      "3 X 4 = 12\n",
      "3 X 5 = 15\n",
      "3 X 6 = 18\n",
      "3 X 7 = 21\n",
      "3 X 8 = 24\n",
      "3 X 9 = 27\n",
      "3 X 10 = 30\n"
     ]
    }
   ],
   "source": [
    "# functn to generate table\n",
    "\n",
    "def table(table_no):\n",
    "    for i in range(1,11):\n",
    "        print(f'{table_no} X {i} = {i*table_no}')\n",
    "        \n",
    "n = int(input())\n",
    "table(n)"
   ]
  },
  {
   "cell_type": "code",
   "execution_count": null,
   "id": "ec534142",
   "metadata": {},
   "outputs": [],
   "source": []
  },
  {
   "cell_type": "code",
   "execution_count": 86,
   "id": "0ddd8de5",
   "metadata": {},
   "outputs": [
    {
     "name": "stdout",
     "output_type": "stream",
     "text": [
      "Enter sci marks : 23\n",
      "Enter math marks : 34\n",
      "Enter hindi marks : 56\n",
      "Enter eng marks : 78\n",
      "Enter guj marks : 98\n"
     ]
    },
    {
     "data": {
      "text/plain": [
       "'percentage is 57.8'"
      ]
     },
     "execution_count": 86,
     "metadata": {},
     "output_type": "execute_result"
    }
   ],
   "source": [
    "# fuctn to find percentage\n",
    "\n",
    "sci = int(input('Enter sci marks : '))\n",
    "math = int(input('Enter math marks : '))\n",
    "hindi = int(input('Enter hindi marks : '))\n",
    "eng = int(input('Enter eng marks : '))\n",
    "guj = int(input('Enter guj marks : '))\n",
    "\n",
    "total = sum((sci,math,hindi,eng,guj))\n",
    "\n",
    "def per(total):\n",
    "    return f'percentage is {total/500*100}'\n",
    "\n",
    "# calling the fucntn\n",
    "per(total)"
   ]
  },
  {
   "cell_type": "code",
   "execution_count": null,
   "id": "4c5eab69",
   "metadata": {},
   "outputs": [],
   "source": []
  },
  {
   "cell_type": "raw",
   "id": "7ed97152",
   "metadata": {},
   "source": [
    "Lambda Fuctn"
   ]
  },
  {
   "cell_type": "code",
   "execution_count": 87,
   "id": "2eb2a883",
   "metadata": {},
   "outputs": [
    {
     "data": {
      "text/plain": [
       "2302"
      ]
     },
     "execution_count": 87,
     "metadata": {},
     "output_type": "execute_result"
    }
   ],
   "source": [
    " sum((344,616,449,394,499))"
   ]
  },
  {
   "cell_type": "code",
   "execution_count": null,
   "id": "3d4780ae",
   "metadata": {},
   "outputs": [],
   "source": []
  },
  {
   "cell_type": "markdown",
   "id": "3152f155",
   "metadata": {},
   "source": [
    "lambda arguments : expression\n",
    "- One line function / Anonymous function"
   ]
  },
  {
   "cell_type": "code",
   "execution_count": 88,
   "id": "8e2fb685",
   "metadata": {},
   "outputs": [
    {
     "name": "stdout",
     "output_type": "stream",
     "text": [
      "15\n"
     ]
    }
   ],
   "source": [
    "x = lambda a : a + 10\n",
    "print(x(5))"
   ]
  },
  {
   "cell_type": "code",
   "execution_count": 89,
   "id": "58dd5a38",
   "metadata": {},
   "outputs": [
    {
     "name": "stdout",
     "output_type": "stream",
     "text": [
      "5\n"
     ]
    }
   ],
   "source": [
    "x = lambda a,b,c : a+b+b\n",
    "print(x(1,2,3))"
   ]
  },
  {
   "cell_type": "code",
   "execution_count": 3,
   "id": "c74e2552",
   "metadata": {},
   "outputs": [
    {
     "name": "stdout",
     "output_type": "stream",
     "text": [
      "22\n"
     ]
    }
   ],
   "source": [
    "def myfunc(n):\n",
    "  return lambda a : a * n\n",
    "\n",
    "mydoubler = myfunc(2)\n",
    "\n",
    "print(mydoubler(11))"
   ]
  },
  {
   "cell_type": "code",
   "execution_count": null,
   "id": "45e001fb",
   "metadata": {},
   "outputs": [],
   "source": []
  },
  {
   "cell_type": "markdown",
   "id": "e6cbfcb6",
   "metadata": {},
   "source": [
    "##### Python Modules"
   ]
  },
  {
   "cell_type": "markdown",
   "id": "e31ab708",
   "metadata": {},
   "source": [
    "Module is a file consisting of fucntions which can be imported and used in our programs"
   ]
  },
  {
   "cell_type": "markdown",
   "id": "c10a69f4",
   "metadata": {},
   "source": [
    "2 types : Built in, user defined"
   ]
  },
  {
   "cell_type": "code",
   "execution_count": 4,
   "id": "5e997ffa",
   "metadata": {},
   "outputs": [
    {
     "name": "stdout",
     "output_type": "stream",
     "text": [
      "Thu Jul 14 00:16:53 2022\n"
     ]
    }
   ],
   "source": [
    "# pre-installed fuctn in py\n",
    "\n",
    "import time\n",
    "local_time = time.asctime(time.localtime(time.time()))\n",
    "print(local_time)"
   ]
  },
  {
   "cell_type": "code",
   "execution_count": 7,
   "id": "b43e7788",
   "metadata": {},
   "outputs": [
    {
     "name": "stdout",
     "output_type": "stream",
     "text": [
      "     July 2022\n",
      "Mo Tu We Th Fr Sa Su\n",
      "             1  2  3\n",
      " 4  5  6  7  8  9 10\n",
      "11 12 13 14 15 16 17\n",
      "18 19 20 21 22 23 24\n",
      "25 26 27 28 29 30 31\n",
      "\n"
     ]
    }
   ],
   "source": [
    "# pre-installed fucntn in py\n",
    "\n",
    "import calendar\n",
    "cal = calendar.month(2022, 7)\n",
    "print(cal)"
   ]
  },
  {
   "cell_type": "code",
   "execution_count": 10,
   "id": "bb96ce22",
   "metadata": {},
   "outputs": [
    {
     "name": "stdout",
     "output_type": "stream",
     "text": [
      "     April 2000\n",
      "Mo Tu We Th Fr Sa Su\n",
      "                1  2\n",
      " 3  4  5  6  7  8  9\n",
      "10 11 12 13 14 15 16\n",
      "17 18 19 20 21 22 23\n",
      "24 25 26 27 28 29 30\n",
      "\n"
     ]
    }
   ],
   "source": [
    "# importing the calendar module\n",
    "\n",
    "import calendar\n",
    "cal = calendar.month(2000, 4) \n",
    "# importing the month futn from calendar module\n",
    "\n",
    "print(cal)"
   ]
  },
  {
   "cell_type": "code",
   "execution_count": null,
   "id": "0c83f0e0",
   "metadata": {},
   "outputs": [],
   "source": []
  },
  {
   "cell_type": "code",
   "execution_count": null,
   "id": "af833df4",
   "metadata": {},
   "outputs": [],
   "source": []
  },
  {
   "cell_type": "code",
   "execution_count": 12,
   "id": "a9fb2463",
   "metadata": {},
   "outputs": [
    {
     "data": {
      "text/plain": [
       "4"
      ]
     },
     "execution_count": 12,
     "metadata": {},
     "output_type": "execute_result"
    }
   ],
   "source": [
    "from myfunc import *\n",
    "\n",
    "x = sqroot(2)\n",
    "x"
   ]
  },
  {
   "cell_type": "code",
   "execution_count": 13,
   "id": "8f085877",
   "metadata": {},
   "outputs": [
    {
     "data": {
      "text/plain": [
       "8"
      ]
     },
     "execution_count": 13,
     "metadata": {},
     "output_type": "execute_result"
    }
   ],
   "source": [
    "y = cube(2)\n",
    "y"
   ]
  },
  {
   "cell_type": "markdown",
   "id": "4a0fc8a5",
   "metadata": {},
   "source": [
    "or"
   ]
  },
  {
   "cell_type": "code",
   "execution_count": 15,
   "id": "f1f8c87e",
   "metadata": {},
   "outputs": [
    {
     "name": "stdout",
     "output_type": "stream",
     "text": [
      "27\n"
     ]
    }
   ],
   "source": [
    "import myfunc as f\n",
    "cube = f.cube(3)\n",
    "print(cube)"
   ]
  },
  {
   "cell_type": "code",
   "execution_count": 17,
   "id": "2a30916f",
   "metadata": {},
   "outputs": [
    {
     "name": "stdout",
     "output_type": "stream",
     "text": [
      "64\n"
     ]
    }
   ],
   "source": [
    "import myfunc \n",
    "cube = myfunc.cube(4)\n",
    "print(cube)"
   ]
  },
  {
   "cell_type": "code",
   "execution_count": null,
   "id": "5a5eaa6e",
   "metadata": {},
   "outputs": [],
   "source": []
  },
  {
   "cell_type": "markdown",
   "id": "5211d64c",
   "metadata": {},
   "source": [
    "##### File handling"
   ]
  },
  {
   "cell_type": "code",
   "execution_count": 18,
   "id": "a444e485",
   "metadata": {},
   "outputs": [
    {
     "data": {
      "text/plain": [
       "<_io.TextIOWrapper name='myfunc.py' mode='r' encoding='UTF-8'>"
      ]
     },
     "execution_count": 18,
     "metadata": {},
     "output_type": "execute_result"
    }
   ],
   "source": [
    "open('myfunc.py','r')"
   ]
  },
  {
   "cell_type": "code",
   "execution_count": null,
   "id": "9b49f875",
   "metadata": {},
   "outputs": [],
   "source": []
  },
  {
   "cell_type": "markdown",
   "id": "7cf805e3",
   "metadata": {},
   "source": [
    "##### opening a file by passing the access mode"
   ]
  },
  {
   "cell_type": "code",
   "execution_count": 22,
   "id": "cd6f2b43",
   "metadata": {},
   "outputs": [
    {
     "name": "stdout",
     "output_type": "stream",
     "text": [
      "hey there everyone I am here with you lorem \n"
     ]
    }
   ],
   "source": [
    "f = open('msg.txt','r')\n",
    "# open is a functn that take the file and the mode type to open the file \n",
    "myfile = f.read()\n",
    "# now we are reading the file by storing thefile into the variable \n",
    "print(myfile)\n",
    "# its important to close the file once the work has been completed\n",
    "f.close()"
   ]
  },
  {
   "cell_type": "code",
   "execution_count": null,
   "id": "b40f9d65",
   "metadata": {},
   "outputs": [],
   "source": []
  },
  {
   "cell_type": "code",
   "execution_count": 23,
   "id": "a2efcd6c",
   "metadata": {},
   "outputs": [
    {
     "name": "stdout",
     "output_type": "stream",
     "text": [
      "this  is a second file for the same project \n"
     ]
    }
   ],
   "source": [
    "# opening the file name msg2 into the read mode\n",
    "\n",
    "f = open('msg2.txt')\n",
    "file = f.read()\n",
    "print(file)\n",
    "f.close()"
   ]
  },
  {
   "cell_type": "code",
   "execution_count": null,
   "id": "a4ce216f",
   "metadata": {},
   "outputs": [],
   "source": []
  },
  {
   "cell_type": "code",
   "execution_count": null,
   "id": "fa9aafdc",
   "metadata": {},
   "outputs": [],
   "source": []
  },
  {
   "cell_type": "code",
   "execution_count": 28,
   "id": "c72f3f7d",
   "metadata": {},
   "outputs": [],
   "source": [
    "# opening a file name.txt in read mode\n",
    "\n",
    "# firstly writing a file called name.txt\n",
    "file = open(\"name.txt\", \"w\") \n",
    "file.write(\"Your text goes baby\") \n",
    "file.close() "
   ]
  },
  {
   "cell_type": "code",
   "execution_count": 29,
   "id": "9c31c119",
   "metadata": {},
   "outputs": [
    {
     "name": "stdout",
     "output_type": "stream",
     "text": [
      "Your text goes baby\n"
     ]
    }
   ],
   "source": [
    "# opening name.txt file\n",
    "\n",
    "f = open('name.txt','r')\n",
    "print(f.read())"
   ]
  },
  {
   "cell_type": "code",
   "execution_count": null,
   "id": "51ad5fa3",
   "metadata": {},
   "outputs": [],
   "source": []
  },
  {
   "cell_type": "markdown",
   "id": "9cd3d209",
   "metadata": {},
   "source": [
    "##### over-writng the file using the same way we created a file"
   ]
  },
  {
   "cell_type": "code",
   "execution_count": 36,
   "id": "1f0cb9cd",
   "metadata": {},
   "outputs": [
    {
     "name": "stdout",
     "output_type": "stream",
     "text": [
      "Your text goes baby\n"
     ]
    }
   ],
   "source": [
    "# opening the file in read mode\n",
    "file = open('name.txt','r')\n",
    "print(file.read())\n",
    "file.close()"
   ]
  },
  {
   "cell_type": "code",
   "execution_count": 37,
   "id": "e4f45317",
   "metadata": {},
   "outputs": [
    {
     "name": "stdout",
     "output_type": "stream",
     "text": [
      "Data of the file :  Your text goes baby\n"
     ]
    }
   ],
   "source": [
    "# we can also aassign the data of the file opened to the variable\n",
    "f = open('name.txt','r')\n",
    "x = f.read()\n",
    "print('Data of the file : ',x)\n",
    "\n",
    "f.close()"
   ]
  },
  {
   "cell_type": "code",
   "execution_count": null,
   "id": "e9431024",
   "metadata": {},
   "outputs": [],
   "source": []
  },
  {
   "cell_type": "code",
   "execution_count": 54,
   "id": "d8b4b438",
   "metadata": {},
   "outputs": [],
   "source": [
    "# writing data into the file by creating a new file 'newboy.txt'\n",
    "\n",
    "file = open('nameboy.txt','w')\n",
    "file.write('Writing some new data here!! ')\n",
    "file.close()"
   ]
  },
  {
   "cell_type": "code",
   "execution_count": 55,
   "id": "7334a42e",
   "metadata": {},
   "outputs": [
    {
     "name": "stdout",
     "output_type": "stream",
     "text": [
      "Writing some new data here!! \n"
     ]
    }
   ],
   "source": [
    "# reading the data fromthe 'newboy,txt' into read mode\n",
    "# opening the file 'newboy.txt' into read only mode \n",
    "f = open('nameboy.txt','r')\n",
    "print(f.read())\n",
    "f.close()"
   ]
  },
  {
   "cell_type": "code",
   "execution_count": null,
   "id": "efa6ecd1",
   "metadata": {},
   "outputs": [],
   "source": []
  },
  {
   "cell_type": "code",
   "execution_count": 56,
   "id": "c7a85ae7",
   "metadata": {},
   "outputs": [],
   "source": [
    "# modifying the contents of the file 'newboy.txt'\n",
    "\n",
    "# Open in read mode \n",
    "f = open('nameboy.txt','w')\n",
    "f.write('love you santa')\n",
    "f.close()\n",
    "\n"
   ]
  },
  {
   "cell_type": "code",
   "execution_count": 59,
   "id": "187f5f29",
   "metadata": {},
   "outputs": [
    {
     "name": "stdout",
     "output_type": "stream",
     "text": [
      "love you santa\n"
     ]
    }
   ],
   "source": [
    "# checking whether the data has been modifoed successfully or not\n",
    "\n",
    "    # opening the file into the read mode\n",
    "f = open('nameboy.txt','r')\n",
    "print(f.read())\n",
    "f.close()"
   ]
  },
  {
   "cell_type": "code",
   "execution_count": null,
   "id": "e9679319",
   "metadata": {},
   "outputs": [],
   "source": []
  },
  {
   "cell_type": "code",
   "execution_count": 66,
   "id": "9c1e8e57",
   "metadata": {},
   "outputs": [
    {
     "name": "stdout",
     "output_type": "stream",
     "text": [
      "love y\n"
     ]
    }
   ],
   "source": [
    "# reading only a specific number if characters from the file while opening the file\n",
    "\n",
    "# file : 'nameboy.txt'\n",
    "\n",
    "f = open('nameboy.txt','r')\n",
    "print(f.read(6))\n",
    "# here hte spaces are counted when you are accessign the \n",
    "# specific number of char from the file\n",
    "f.close()"
   ]
  },
  {
   "cell_type": "code",
   "execution_count": null,
   "id": "eaf2abe5",
   "metadata": {},
   "outputs": [],
   "source": []
  },
  {
   "cell_type": "markdown",
   "id": "ce2b4785",
   "metadata": {},
   "source": [
    "#### if we want it read the file line by lin we gonna use readline() funtn for it "
   ]
  },
  {
   "cell_type": "code",
   "execution_count": 76,
   "id": "c4fa9aee",
   "metadata": {},
   "outputs": [],
   "source": [
    "f = open('newtext.txt','w')\n",
    "f.write('this is the first line\\n')\n",
    "f.write('this is the secind line\\n')\n",
    "f.write('this is the third line\\n')\n",
    "f.close()"
   ]
  },
  {
   "cell_type": "code",
   "execution_count": 77,
   "id": "dbd39c2e",
   "metadata": {
    "scrolled": true
   },
   "outputs": [
    {
     "name": "stdout",
     "output_type": "stream",
     "text": [
      "this is the first line\n",
      "this is the secind line\n",
      "this is the third line\n",
      "\n"
     ]
    }
   ],
   "source": [
    "# verifying if the data is succcessfully written into the file 'newtext.txt'\n",
    "\n",
    "f = open('newtext.txt','r')\n",
    "print(f.read())"
   ]
  },
  {
   "cell_type": "code",
   "execution_count": 78,
   "id": "aa982296",
   "metadata": {},
   "outputs": [
    {
     "data": {
      "text/plain": [
       "'this is the first line\\n'"
      ]
     },
     "execution_count": 78,
     "metadata": {},
     "output_type": "execute_result"
    }
   ],
   "source": [
    "# using readline() for reading the file line by line\n",
    "f = open('newtext.txt','r')\n",
    "\n",
    "# reading the first line\n",
    "f.readline()"
   ]
  },
  {
   "cell_type": "code",
   "execution_count": 81,
   "id": "2708aabb",
   "metadata": {},
   "outputs": [
    {
     "data": {
      "text/plain": [
       "'this is the secind line.\\n'"
      ]
     },
     "execution_count": 81,
     "metadata": {},
     "output_type": "execute_result"
    }
   ],
   "source": [
    "# reading the second line\n",
    "f.readline()\n"
   ]
  },
  {
   "cell_type": "code",
   "execution_count": 82,
   "id": "3b2fe70d",
   "metadata": {},
   "outputs": [],
   "source": [
    "# reading the second line\n",
    "f.readline()\n",
    "\n",
    "f.close()"
   ]
  },
  {
   "cell_type": "code",
   "execution_count": null,
   "id": "e82222b6",
   "metadata": {},
   "outputs": [],
   "source": []
  },
  {
   "cell_type": "markdown",
   "id": "f09e66e3",
   "metadata": {},
   "source": [
    "Different ways to access/read the data from the file"
   ]
  },
  {
   "cell_type": "code",
   "execution_count": 84,
   "id": "d661b70c",
   "metadata": {},
   "outputs": [
    {
     "name": "stdout",
     "output_type": "stream",
     "text": [
      "this is the first line.\n",
      "this is the secind line.\n",
      "this is the third line.\n"
     ]
    }
   ],
   "source": [
    "f = open('newday.txt','r')\n",
    "print(f.read())\n",
    "f.close()"
   ]
  },
  {
   "cell_type": "code",
   "execution_count": null,
   "id": "18690d1e",
   "metadata": {},
   "outputs": [],
   "source": []
  },
  {
   "cell_type": "code",
   "execution_count": 87,
   "id": "2b4923c2",
   "metadata": {},
   "outputs": [
    {
     "name": "stdout",
     "output_type": "stream",
     "text": [
      "this is the first line.\n",
      "\n",
      "this is the secind line.\n",
      "\n",
      "this is the third line.\n"
     ]
    }
   ],
   "source": [
    "f = open('newday.txt','r')\n",
    "print(f.readline())\n",
    "print(f.readline())\n",
    "print(f.readline())\n",
    "f.close()"
   ]
  },
  {
   "cell_type": "code",
   "execution_count": null,
   "id": "fffbc512",
   "metadata": {},
   "outputs": [],
   "source": []
  },
  {
   "cell_type": "code",
   "execution_count": 90,
   "id": "0ee6647f",
   "metadata": {},
   "outputs": [
    {
     "name": "stdout",
     "output_type": "stream",
     "text": [
      "this is the first line.\n",
      "\n",
      "this is the secind line.\n",
      "\n",
      "this is the third line.\n"
     ]
    }
   ],
   "source": [
    "f = open('newday.txt','r')\n",
    "for i in f:\n",
    "    print(i)"
   ]
  },
  {
   "cell_type": "code",
   "execution_count": null,
   "id": "db3546a8",
   "metadata": {},
   "outputs": [],
   "source": []
  },
  {
   "cell_type": "markdown",
   "id": "d55e871e",
   "metadata": {},
   "source": [
    "##### Different types of modes in file handling are"
   ]
  },
  {
   "cell_type": "raw",
   "id": "147cf2de",
   "metadata": {},
   "source": [
    "'r': Read : Open the file for reading file. Error of the file does not exist\n",
    "\n",
    "'a': Append : Opens the file for appending, Creates the file if it soes note exists\n",
    "\n",
    "'w': Write :  Opens the file for writing, Creates the file if it soes note exists\n",
    "\n",
    "'x': Create : Creates the specified file, returns an eroor if the file already exist\n",
    "        \n",
    "    "
   ]
  },
  {
   "cell_type": "code",
   "execution_count": 91,
   "id": "980876e5",
   "metadata": {},
   "outputs": [],
   "source": [
    "# creating a file using 'x' mode\n",
    "\n",
    "f = open('newfile.txt','x')\n",
    "f.close()"
   ]
  },
  {
   "cell_type": "code",
   "execution_count": 92,
   "id": "63a53328",
   "metadata": {},
   "outputs": [
    {
     "ename": "FileExistsError",
     "evalue": "[Errno 17] File exists: 'newfile.txt'",
     "output_type": "error",
     "traceback": [
      "\u001b[0;31m---------------------------------------------------------------------------\u001b[0m",
      "\u001b[0;31mFileExistsError\u001b[0m                           Traceback (most recent call last)",
      "Input \u001b[0;32mIn [92]\u001b[0m, in \u001b[0;36m<module>\u001b[0;34m\u001b[0m\n\u001b[1;32m      1\u001b[0m \u001b[38;5;66;03m# trying to create the same file again\u001b[39;00m\n\u001b[0;32m----> 3\u001b[0m f \u001b[38;5;241m=\u001b[39m \u001b[38;5;28;43mopen\u001b[39;49m\u001b[43m(\u001b[49m\u001b[38;5;124;43m'\u001b[39;49m\u001b[38;5;124;43mnewfile.txt\u001b[39;49m\u001b[38;5;124;43m'\u001b[39;49m\u001b[43m,\u001b[49m\u001b[38;5;124;43m'\u001b[39;49m\u001b[38;5;124;43mx\u001b[39;49m\u001b[38;5;124;43m'\u001b[39;49m\u001b[43m)\u001b[49m\n",
      "\u001b[0;31mFileExistsError\u001b[0m: [Errno 17] File exists: 'newfile.txt'"
     ]
    }
   ],
   "source": [
    "# trying to create the same file again\n",
    "\n",
    "f = open('newfile.txt','x')"
   ]
  },
  {
   "cell_type": "code",
   "execution_count": null,
   "id": "271ed098",
   "metadata": {},
   "outputs": [],
   "source": []
  },
  {
   "cell_type": "code",
   "execution_count": 114,
   "id": "ab65c370",
   "metadata": {},
   "outputs": [],
   "source": [
    "# opening the file into write mode to add some data\n",
    "\n",
    "    # here we are using 'w' mode as the file is empty\n",
    "\n",
    "f = open('newfile.txt','w')\n",
    "f.write('hey\\n')\n",
    "f.write('there\\n')\n",
    "f.write('my boy\\n')\n",
    "f.close()"
   ]
  },
  {
   "cell_type": "code",
   "execution_count": 115,
   "id": "4efe4137",
   "metadata": {
    "scrolled": true
   },
   "outputs": [
    {
     "name": "stdout",
     "output_type": "stream",
     "text": [
      "hey\n",
      "there\n",
      "my boy\n",
      "\n"
     ]
    }
   ],
   "source": [
    "    # checking whether the data is added to file\n",
    "    \n",
    "f = open('newfile.txt','r')\n",
    "print(f.read())"
   ]
  },
  {
   "cell_type": "code",
   "execution_count": null,
   "id": "4cabfe2f",
   "metadata": {},
   "outputs": [],
   "source": []
  },
  {
   "cell_type": "code",
   "execution_count": 116,
   "id": "5db0227b",
   "metadata": {},
   "outputs": [],
   "source": [
    "    # Appending new data into the newfile.txt\n",
    "    \n",
    "f = open('newfile.txt','a')\n",
    "f.write('Steven')\n",
    "f.close()"
   ]
  },
  {
   "cell_type": "code",
   "execution_count": 117,
   "id": "550faa50",
   "metadata": {},
   "outputs": [
    {
     "name": "stdout",
     "output_type": "stream",
     "text": [
      "hey\n",
      "there\n",
      "my boy\n",
      "Steven\n"
     ]
    }
   ],
   "source": [
    "    # checking whether the new data has been added to the file\n",
    "f = open('newfile.txt','r')\n",
    "print(f.read())\n",
    "f.close()"
   ]
  },
  {
   "cell_type": "code",
   "execution_count": 118,
   "id": "53e1d5e4",
   "metadata": {},
   "outputs": [],
   "source": [
    "    # Appending new data into the newfile.txt\n",
    "    \n",
    "f = open('newfile.txt','a')\n",
    "f.write('\\njerry')\n",
    "f.write('\\nbenny')\n",
    "f.close()"
   ]
  },
  {
   "cell_type": "code",
   "execution_count": 119,
   "id": "dea3dfa1",
   "metadata": {},
   "outputs": [
    {
     "name": "stdout",
     "output_type": "stream",
     "text": [
      "hey\n",
      "there\n",
      "my boy\n",
      "Steven\n",
      "jerry\n",
      "benny\n"
     ]
    }
   ],
   "source": [
    "    # checking whether the new data has been added to the file\n",
    "f = open('newfile.txt','r')\n",
    "print(f.read())\n",
    "f.close()"
   ]
  },
  {
   "cell_type": "code",
   "execution_count": null,
   "id": "1de95698",
   "metadata": {},
   "outputs": [],
   "source": []
  },
  {
   "cell_type": "raw",
   "id": "d7ed3da8",
   "metadata": {},
   "source": [
    "Using with to open the file instead of traditional method\n",
    "- the main advantage of using woth is we dont need to close the file when using with statement"
   ]
  },
  {
   "cell_type": "code",
   "execution_count": 121,
   "id": "5668e626",
   "metadata": {},
   "outputs": [
    {
     "name": "stdout",
     "output_type": "stream",
     "text": [
      "hey\n",
      "there\n",
      "my boy\n",
      "Steven\n",
      "jerry\n",
      "benny\n"
     ]
    }
   ],
   "source": [
    "# using traditional way to open the file 'newfile.txt'\n",
    "\n",
    "f = open('newfile.txt','r')\n",
    "print(f.read())\n",
    "f.close()"
   ]
  },
  {
   "cell_type": "code",
   "execution_count": 123,
   "id": "21dc6d5c",
   "metadata": {},
   "outputs": [
    {
     "name": "stdout",
     "output_type": "stream",
     "text": [
      "hey\n",
      "there\n",
      "my boy\n",
      "Steven\n",
      "jerry\n",
      "benny\n"
     ]
    }
   ],
   "source": [
    "# using with statement to open the file\n",
    "\n",
    "with open('newfile.txt','r') as p:\n",
    "    print(p.read())"
   ]
  },
  {
   "cell_type": "code",
   "execution_count": 124,
   "id": "6062a77b",
   "metadata": {},
   "outputs": [
    {
     "name": "stdout",
     "output_type": "stream",
     "text": [
      "hey\n",
      "\n",
      "there\n",
      "\n"
     ]
    }
   ],
   "source": [
    "# usign readline() with [with statement]\n",
    "\n",
    "with open('newfile.txt','r') as q:\n",
    "    print(q.readline())\n",
    "    print(q.readline())"
   ]
  },
  {
   "cell_type": "code",
   "execution_count": null,
   "id": "a28f712f",
   "metadata": {},
   "outputs": [],
   "source": []
  },
  {
   "cell_type": "markdown",
   "id": "91d4aa23",
   "metadata": {},
   "source": [
    "##### rename  the file name"
   ]
  },
  {
   "cell_type": "code",
   "execution_count": 129,
   "id": "a15341ed",
   "metadata": {},
   "outputs": [
    {
     "name": "stdout",
     "output_type": "stream",
     "text": [
      "hey\n",
      "there\n",
      "my boy\n",
      "Steven\n",
      "jerry\n",
      "benny\n"
     ]
    }
   ],
   "source": [
    "# here we will rename the file newfile.txt to newmsg.txt\n",
    "\n",
    "    # here we have read the data fromt the file successfully\n",
    "with open('newfile.txt','r') as f:\n",
    "    data = f.read()\n",
    "    \n",
    "    # now we will create a new file and write this data to it\n",
    "with open('newmsg.txt','w') as nm:\n",
    "    nm.write(data)\n",
    "    \n",
    "    # verifying the data has been written successfully to the new file\n",
    "with open('newmsg.txt','r') as p:\n",
    "    print(p.read())\n",
    "    \n",
    "    # the data has been addedd successfully\n",
    "    \n",
    "    # now we will del the old file with file name 'newfile.txt'\n",
    "import os\n",
    "os.remove('newfile.txt')"
   ]
  },
  {
   "cell_type": "code",
   "execution_count": 132,
   "id": "f9eab36d",
   "metadata": {},
   "outputs": [
    {
     "ename": "FileNotFoundError",
     "evalue": "[Errno 2] No such file or directory: 'newfile.txt'",
     "output_type": "error",
     "traceback": [
      "\u001b[0;31m---------------------------------------------------------------------------\u001b[0m",
      "\u001b[0;31mFileNotFoundError\u001b[0m                         Traceback (most recent call last)",
      "Input \u001b[0;32mIn [132]\u001b[0m, in \u001b[0;36m<module>\u001b[0;34m\u001b[0m\n\u001b[1;32m      1\u001b[0m \u001b[38;5;66;03m# verifying the file has been removed or not\u001b[39;00m\n\u001b[0;32m----> 2\u001b[0m \u001b[38;5;28;01mwith\u001b[39;00m \u001b[38;5;28;43mopen\u001b[39;49m\u001b[43m(\u001b[49m\u001b[38;5;124;43m'\u001b[39;49m\u001b[38;5;124;43mnewfile.txt\u001b[39;49m\u001b[38;5;124;43m'\u001b[39;49m\u001b[43m)\u001b[49m \u001b[38;5;28;01mas\u001b[39;00m x:\n\u001b[1;32m      3\u001b[0m     \u001b[38;5;28mprint\u001b[39m(x\u001b[38;5;241m.\u001b[39mread())\n",
      "\u001b[0;31mFileNotFoundError\u001b[0m: [Errno 2] No such file or directory: 'newfile.txt'"
     ]
    }
   ],
   "source": [
    "    # verifying the file has been removed or not\n",
    "with open('newfile.txt') as x:\n",
    "        print(x.read())"
   ]
  },
  {
   "cell_type": "code",
   "execution_count": 133,
   "id": "26c75db7",
   "metadata": {},
   "outputs": [],
   "source": [
    "    # WE got an error means the file has been del or removed successfully"
   ]
  },
  {
   "cell_type": "code",
   "execution_count": null,
   "id": "a2ef9c8a",
   "metadata": {},
   "outputs": [],
   "source": []
  },
  {
   "cell_type": "markdown",
   "id": "f46f5ce5",
   "metadata": {},
   "source": [
    "##### Using Class & Object"
   ]
  },
  {
   "cell_type": "code",
   "execution_count": 134,
   "id": "2da1f60c",
   "metadata": {},
   "outputs": [
    {
     "name": "stdout",
     "output_type": "stream",
     "text": [
      "name = Raj\n",
      "rollno = 234\n"
     ]
    }
   ],
   "source": [
    "class StoreDetail():\n",
    "    def getinfo(self):\n",
    "        print(f'name = {self.name}')\n",
    "        print(f'rollno = {self.rollno}')\n",
    "        \n",
    "# creating an instance of the class StoreDetail name : 'raj'\n",
    "\n",
    "raj = StoreDetail()\n",
    "raj.name = 'Raj'\n",
    "raj.rollno = 234\n",
    "\n",
    "raj.getinfo()"
   ]
  },
  {
   "cell_type": "code",
   "execution_count": 135,
   "id": "d2d2b069",
   "metadata": {},
   "outputs": [
    {
     "name": "stdout",
     "output_type": "stream",
     "text": [
      "name = Shiva\n",
      "rollno = 0\n"
     ]
    }
   ],
   "source": [
    "# creating an instance of the class StoreDetail name : 'shiv'\n",
    "\n",
    "shiv = StoreDetail()\n",
    "shiv.name='Shiva'\n",
    "shiv.rollno='0'\n",
    "\n",
    "shiv.getinfo()"
   ]
  },
  {
   "cell_type": "code",
   "execution_count": null,
   "id": "807adf06",
   "metadata": {},
   "outputs": [],
   "source": []
  },
  {
   "cell_type": "raw",
   "id": "2d758d62",
   "metadata": {},
   "source": [
    "note :\n",
    "\n",
    "Jab bhi object create hota hai tab kisi class ke help sai \n",
    "aur jab wo obj wo class ke koi fucntn ko access karna chata hai tab object ek default argument pass karta hai is lia apna ko class\n",
    "ke fuctn mai self include karna padta hai \n",
    "fucntn ke positional argument mai"
   ]
  },
  {
   "cell_type": "raw",
   "id": "0193cdb0",
   "metadata": {},
   "source": [
    "Agar self add nhi karoge toh ye error receive hoga\n",
    "- class functn() takes 0 positional argument nut 1 was given\n",
    "\n",
    "Is lia class fucnt mai self ko include karna jaroori hai"
   ]
  },
  {
   "cell_type": "code",
   "execution_count": null,
   "id": "6c88889a",
   "metadata": {},
   "outputs": [],
   "source": []
  },
  {
   "cell_type": "raw",
   "id": "c21042ea",
   "metadata": {},
   "source": [
    "note :\n",
    "- Agar koi obj apna instance variabke create karta hai toh priority usko milta hai as compared to the class variable \n",
    "- And wo object ke instance varibale ke lia ek personal space alocate hoti hai\n",
    "    "
   ]
  },
  {
   "cell_type": "code",
   "execution_count": 139,
   "id": "ad1a8060",
   "metadata": {},
   "outputs": [
    {
     "name": "stdout",
     "output_type": "stream",
     "text": [
      "name = Shivaji\n",
      "roll no  = 35\n",
      "School -  DPS\n"
     ]
    }
   ],
   "source": [
    "class Details():\n",
    "    school = 'DPS'\n",
    "    def getinfo(self):\n",
    "        print(f'name = {self.name}')\n",
    "        print(f'roll no  = {self.age}')\n",
    "        \n",
    "# creating an isntance of the class Details\n",
    "s1 = Details()\n",
    "s1.name='Shivaji'\n",
    "s1.age=35\n",
    "\n",
    "s1.getinfo()\n",
    "print('School - ',s1.school)\n",
    "\n",
    "# as we can see here there is no isntance var with name school \n",
    "# for object s1, so the obj will move to the class variable"
   ]
  },
  {
   "cell_type": "code",
   "execution_count": 141,
   "id": "d122bb1a",
   "metadata": {},
   "outputs": [
    {
     "name": "stdout",
     "output_type": "stream",
     "text": [
      "name = roshi\n",
      "roll no  = 34\n",
      "Proton\n"
     ]
    }
   ],
   "source": [
    "# now we have created an instance variable for the object with \n",
    "# school as 'conrell'\n",
    "\n",
    "# creating a new instance of the class Details namem 's2'\n",
    "s2 = Details()\n",
    "s2.name = 'roshi'\n",
    "s2.age = 34\n",
    "\n",
    "s2.getinfo()\n",
    "\n",
    "# initializing an isntance variable here.\n",
    "# so this will get the 1st priority over the class variable\n",
    "s2.school = 'Proton'\n",
    "print(s2.school)"
   ]
  },
  {
   "cell_type": "code",
   "execution_count": null,
   "id": "3c8e70df",
   "metadata": {},
   "outputs": [],
   "source": []
  },
  {
   "cell_type": "code",
   "execution_count": 152,
   "id": "88dc5d70",
   "metadata": {},
   "outputs": [
    {
     "data": {
      "text/plain": [
       "'Add of 12+12 = 24'"
      ]
     },
     "execution_count": 152,
     "metadata": {},
     "output_type": "execute_result"
    }
   ],
   "source": [
    "# creating a class prog to make add of 2 numbers\n",
    "\n",
    "class Calculate:\n",
    "    # initialzing the cinstructor here\n",
    "    def __init__(self,a,b):\n",
    "        self.a = a\n",
    "        self.b = b\n",
    "    def add(self):\n",
    "        return f'Add of {self.a}+{self.b} = {self.a+self.b}'\n",
    "    def mul(self):\n",
    "        return f'Mul of {self.a}*{self.b} = {self.a*self.b}'\n",
    "    def sub(self):\n",
    "        return f'Sub of {self.a}-{self.b} = {self.a-self.b}'\n",
    "      \n",
    "\n",
    "# using the add functn\n",
    "ram = Calculate(12,12)\n",
    "ram.add()"
   ]
  },
  {
   "cell_type": "code",
   "execution_count": 153,
   "id": "1fa84473",
   "metadata": {},
   "outputs": [
    {
     "data": {
      "text/plain": [
       "'Mul of 12*12 = 144'"
      ]
     },
     "execution_count": 153,
     "metadata": {},
     "output_type": "execute_result"
    }
   ],
   "source": [
    "# using the mul funcnt \n",
    "ram.mul()"
   ]
  },
  {
   "cell_type": "code",
   "execution_count": 154,
   "id": "31fbb43b",
   "metadata": {},
   "outputs": [
    {
     "data": {
      "text/plain": [
       "'Sub of 12-12 = 0'"
      ]
     },
     "execution_count": 154,
     "metadata": {},
     "output_type": "execute_result"
    }
   ],
   "source": [
    "# usng the sub fuctn\n",
    "ram.sub()"
   ]
  },
  {
   "cell_type": "code",
   "execution_count": null,
   "id": "b53e5576",
   "metadata": {},
   "outputs": [],
   "source": []
  },
  {
   "cell_type": "code",
   "execution_count": null,
   "id": "57d3dd49",
   "metadata": {},
   "outputs": [],
   "source": []
  },
  {
   "cell_type": "raw",
   "id": "385d1a61",
   "metadata": {},
   "source": [
    "constructor is a special fuctn which get's called automatically\n",
    "when an obj is created"
   ]
  },
  {
   "cell_type": "code",
   "execution_count": 156,
   "id": "d43a1b2c",
   "metadata": {},
   "outputs": [],
   "source": [
    "class SmartCalc:\n",
    "    def __init__(self,a,b):\n",
    "        self.a=a\n",
    "        self.b=b\n",
    "        print(f'add of {self.a} & {self.b} = {self.a+self.b}')\n",
    "        print(f'mul of {self.a} & {self.b} = {self.a*self.b}')\n",
    "        print(f'sub of {self.a} & {self.b} = {self.a-self.b}')"
   ]
  },
  {
   "cell_type": "code",
   "execution_count": 157,
   "id": "0e9c6f7b",
   "metadata": {},
   "outputs": [
    {
     "name": "stdout",
     "output_type": "stream",
     "text": [
      "add of 12 & 12 = 24\n",
      "mul of 12 & 12 = 144\n",
      "sub of 12 & 12 = 0\n"
     ]
    }
   ],
   "source": [
    "# as we can see after creating the obj the specia; fucntn \n",
    "# got called automatically\n",
    "# __init__ constructor/ SPecial methoid is called automatically after \n",
    "# it is created \n",
    "\n",
    "raju = SmartCalc(12,12)"
   ]
  },
  {
   "cell_type": "code",
   "execution_count": null,
   "id": "3ec7fa91",
   "metadata": {},
   "outputs": [],
   "source": []
  },
  {
   "cell_type": "code",
   "execution_count": 168,
   "id": "1fc427fd",
   "metadata": {},
   "outputs": [
    {
     "name": "stdout",
     "output_type": "stream",
     "text": [
      "enter 1st no : 12\n",
      "enter 2nd no : 24\n",
      "Enter the choice : 1\n",
      "Add = 36\n",
      "enter 1st no : 12\n",
      "enter 2nd no : 24\n",
      "Enter the choice : 3\n",
      "Sub = -12\n",
      "enter 1st no : 10\n",
      "enter 2nd no : 10\n",
      "Enter the choice : 2\n",
      "Mul = 100\n",
      "enter 1st no : 45\n",
      "enter 2nd no : 45\n",
      "Enter the choice : 45\n"
     ]
    }
   ],
   "source": [
    "# creating a menu base calc using class \n",
    "\n",
    "class Calculate():\n",
    "    def __init__(self,a,b):\n",
    "        self.a = a\n",
    "        self.b = b\n",
    "        \n",
    "    def add(self):\n",
    "        print(f'Add = {self.a+self.b}') \n",
    "    def mul(self):\n",
    "        print(f'Mul = {self.a*self.b}')\n",
    "    def sub(self):\n",
    "        print(f'Sub = {self.a-self.b}')\n",
    "\n",
    "while True:\n",
    "    a = int(input('enter 1st no : '))\n",
    "    b = int(input('enter 2nd no : '))\n",
    "    cal = Calculate(a,b)\n",
    "    \n",
    "    choice = input(\"Enter the choice : \")\n",
    "    if choice == '1':\n",
    "        cal.add()\n",
    "        \n",
    "    elif choice == '2':\n",
    "        cal.mul()\n",
    "        \n",
    "    elif choice =='3':\n",
    "        cal.sub()\n",
    "    else:\n",
    "        break\n",
    "        "
   ]
  },
  {
   "cell_type": "code",
   "execution_count": null,
   "id": "d8f9fba4",
   "metadata": {},
   "outputs": [],
   "source": []
  },
  {
   "cell_type": "markdown",
   "id": "0ac642d6",
   "metadata": {},
   "source": [
    "##### File handling task"
   ]
  },
  {
   "cell_type": "code",
   "execution_count": null,
   "id": "d8df1130",
   "metadata": {},
   "outputs": [],
   "source": [
    "# Creating a file using 'x' mode\n",
    "\n",
    "f = open('aboutme.txt','x')\n",
    "f.close()"
   ]
  },
  {
   "cell_type": "code",
   "execution_count": 7,
   "id": "5c3812f6",
   "metadata": {},
   "outputs": [],
   "source": [
    "# witing a data to the file using 'w' mode\n",
    "f = open('aboutme.txt','w')\n",
    "f.write('\\nmy name is charles')\n",
    "f.write('\\nI am son of god')\n",
    "f.close()\n",
    "\n"
   ]
  },
  {
   "cell_type": "code",
   "execution_count": 8,
   "id": "64919249",
   "metadata": {},
   "outputs": [
    {
     "name": "stdout",
     "output_type": "stream",
     "text": [
      "\n",
      "my name is charles\n",
      "I am son of god\n"
     ]
    }
   ],
   "source": [
    "f = open('aboutme.txt','r')\n",
    "print(f.read())"
   ]
  },
  {
   "cell_type": "code",
   "execution_count": null,
   "id": "39fc7e6a",
   "metadata": {},
   "outputs": [],
   "source": []
  },
  {
   "cell_type": "code",
   "execution_count": 10,
   "id": "5a2e371f",
   "metadata": {},
   "outputs": [],
   "source": [
    "# appending new into the file using 'a' mode\n",
    "f= open('aboutme.txt','a')\n",
    "f.write('\\nI will not lose')\n",
    "f.write('\\nI will defeat every challenge')\n",
    "f.close()"
   ]
  },
  {
   "cell_type": "code",
   "execution_count": 14,
   "id": "bf26261a",
   "metadata": {},
   "outputs": [
    {
     "name": "stdout",
     "output_type": "stream",
     "text": [
      "\n",
      "\n",
      "my name is charles\n",
      "\n",
      "I am son of god\n",
      "\n",
      "I will not lose\n",
      "\n"
     ]
    }
   ],
   "source": [
    "# reading the data from file line by line\n",
    "f = open('aboutme.txt','r')\n",
    "print(f.readline())\n",
    "print(f.readline())\n",
    "print(f.readline())\n",
    "print(f.readline())\n",
    "f.close()"
   ]
  },
  {
   "cell_type": "code",
   "execution_count": 15,
   "id": "2f9e16e5",
   "metadata": {},
   "outputs": [
    {
     "data": {
      "text/plain": [
       "'\\nmy name is charles\\nI am son of god\\nI will not lose\\nI will defeat every challenge'"
      ]
     },
     "execution_count": 15,
     "metadata": {},
     "output_type": "execute_result"
    }
   ],
   "source": [
    "# reading all the data from the file at once\n",
    "f = open('aboutme.txt','r')\n",
    "f.read()"
   ]
  },
  {
   "cell_type": "code",
   "execution_count": 18,
   "id": "54a5f124",
   "metadata": {},
   "outputs": [
    {
     "name": "stdout",
     "output_type": "stream",
     "text": [
      "\n",
      "my name is charles\n",
      "I am son of god\n",
      "I will not lose\n",
      "I will defeat every challenge\n"
     ]
    }
   ],
   "source": [
    "f = open('aboutme.txt','r')\n",
    "print(f.read())\n",
    "f.close()"
   ]
  },
  {
   "cell_type": "code",
   "execution_count": null,
   "id": "e55b9531",
   "metadata": {},
   "outputs": [],
   "source": []
  },
  {
   "cell_type": "markdown",
   "id": "8cbbdf6f",
   "metadata": {},
   "source": [
    "##### class & objects"
   ]
  },
  {
   "cell_type": "raw",
   "id": "34153818",
   "metadata": {},
   "source": [
    "Inheritance => concept of code resuability"
   ]
  },
  {
   "cell_type": "code",
   "execution_count": 27,
   "id": "d41ab415",
   "metadata": {},
   "outputs": [
    {
     "name": "stdout",
     "output_type": "stream",
     "text": [
      "your salary is  45000.0\n",
      "Employee Id is 121\n",
      "Employee Name is harsh carter\n",
      "Employee Age is 22\n"
     ]
    }
   ],
   "source": [
    "class PersonalInfo():\n",
    "    def printdetails(self):\n",
    "        print(f'Employee Id is {self.empId}')\n",
    "        print(f'Employee Name is {self.empName}')\n",
    "        print(f'Employee Age is {self.empAge}')\n",
    "\n",
    "class Salary(PersonalInfo):\n",
    "    def calcSalary(self):\n",
    "        onedaysal = self.msal/30\n",
    "        working_days = 30-self.leave\n",
    "        totalsalary = working_days*onedaysal\n",
    "        print('your salary is ',totalsalary)\n",
    "\n",
    "\n",
    "# creating an instance of the salary class\n",
    "harsh = Salary()\n",
    "harsh.msal = 50000\n",
    "harsh.leave = 3\n",
    "\n",
    "# calling the calcSalary fuctn of the Salary class\n",
    "harsh.calcSalary()\n",
    "\n",
    "# Accesssing the printdetails fuctn of the parent class\n",
    "harsh.empId=121\n",
    "harsh.empName='harsh carter'\n",
    "harsh.empAge = 22\n",
    "\n",
    "harsh.printdetails()"
   ]
  },
  {
   "cell_type": "code",
   "execution_count": null,
   "id": "5bc45cff",
   "metadata": {},
   "outputs": [],
   "source": []
  },
  {
   "cell_type": "raw",
   "id": "6fd35134",
   "metadata": {},
   "source": [
    "ex2 : parent and child class"
   ]
  },
  {
   "cell_type": "code",
   "execution_count": 5,
   "id": "16e61866",
   "metadata": {},
   "outputs": [
    {
     "name": "stdout",
     "output_type": "stream",
     "text": [
      "My name is  Adam\n",
      "My age is  32\n",
      "My gender is  Male\n"
     ]
    }
   ],
   "source": [
    "class Parent():\n",
    "    def name(self,name):\n",
    "        self.name = name\n",
    "    def age(self,age):\n",
    "        self.age=age\n",
    "    def gender(self,gen):\n",
    "        self.gender = gen\n",
    "\n",
    "class Child(Parent):\n",
    "    def show_details(self):\n",
    "        print('My name is ',self.name)\n",
    "        print('My age is ',self.age)\n",
    "        print('My gender is ',self.gender)\n",
    "        \n",
    "# creating an instance of the child class\n",
    "adam = Child()\n",
    "\n",
    "# passing all the paramters of the aprent class\n",
    "\n",
    "adam.name = 'Adam'\n",
    "adam.age = 32\n",
    "adam.gender = 'Male'\n",
    "\n",
    "# accessing the methods of the  child class show_details\n",
    "\n",
    "adam.show_details()"
   ]
  },
  {
   "cell_type": "code",
   "execution_count": null,
   "id": "5204c1ec",
   "metadata": {},
   "outputs": [],
   "source": []
  },
  {
   "cell_type": "raw",
   "id": "acd2dc47",
   "metadata": {},
   "source": [
    "Inheritance example "
   ]
  },
  {
   "cell_type": "code",
   "execution_count": 7,
   "id": "77641b59",
   "metadata": {},
   "outputs": [
    {
     "name": "stdout",
     "output_type": "stream",
     "text": [
      "first name is  ram\n",
      "last name is  gopal\n",
      "ram gopal welcome to the class of 2022\n"
     ]
    }
   ],
   "source": [
    "# creating a parent class\n",
    "\n",
    "class Person():\n",
    "    def __init__(self,fname,lname):\n",
    "        self.fname=fname\n",
    "        self.lname=lname\n",
    "    \n",
    "    def show(self):\n",
    "        print('first name is ',self.fname)\n",
    "        print('last name is ',self.lname)\n",
    "  \n",
    "\n",
    "# creating a child class\n",
    "class Student(Person):\n",
    "    def msg(self):\n",
    "        print(f'{self.fname} {self.lname} welcome to the class of 2022')\n",
    "        \n",
    "# creating an instance of the child class\n",
    "\n",
    "s1 = Student('ram','gopal')\n",
    "s1.show()\n",
    "\n",
    "s1.msg()"
   ]
  },
  {
   "cell_type": "code",
   "execution_count": null,
   "id": "071e6c37",
   "metadata": {},
   "outputs": [],
   "source": []
  },
  {
   "cell_type": "raw",
   "id": "735a2b02",
   "metadata": {},
   "source": [
    "use of super keyword\n",
    "\n",
    "The Python super() function returns objects represented in the parent’s class and enables multiple inheritances."
   ]
  },
  {
   "cell_type": "code",
   "execution_count": 16,
   "id": "9dad8f13",
   "metadata": {},
   "outputs": [
    {
     "name": "stdout",
     "output_type": "stream",
     "text": [
      "Id is  123\n",
      "Name is  harsh watson\n",
      "Address is  ahmedabad\n",
      "Graduation year is  2022\n"
     ]
    }
   ],
   "source": [
    "# creatinf an employee class\n",
    "\n",
    "class Emp():\n",
    "    def __init__(self,ID,name,add):\n",
    "        self.ID = ID\n",
    "        self.name = name\n",
    "        self.add = add\n",
    "        \n",
    "    \n",
    "# creating a child class\n",
    "\n",
    "class Freelancer(Emp):\n",
    "    def __init__(self,ID,name,add,email,gyear):\n",
    "        super().__init__(ID,name,add)\n",
    "        self.email = email\n",
    "        self.gyear = gyear\n",
    "        \n",
    "    def show(self):\n",
    "        print('Id is ',self.ID)\n",
    "        print('Name is ',self.name)\n",
    "        print('Address is ',self.add)\n",
    "        print('Graduation year is ',self.gyear)\n",
    "        \n",
    "        \n",
    "# creating an instance of the child class\n",
    "\n",
    "harsh = Freelancer(123,'harsh watson','ahmedabad','harsh@gmail.com',2022)\n",
    "\n",
    "harsh.show()\n"
   ]
  },
  {
   "cell_type": "code",
   "execution_count": null,
   "id": "47c5127e",
   "metadata": {},
   "outputs": [],
   "source": []
  },
  {
   "cell_type": "code",
   "execution_count": null,
   "id": "54f8971b",
   "metadata": {},
   "outputs": [],
   "source": []
  },
  {
   "cell_type": "raw",
   "id": "2060f91b",
   "metadata": {},
   "source": [
    "Iterators in Python\n",
    "\n",
    "Lists, tuples, dictionaries, and sets are all iterable objects. They are iterable containers which you can get an iterator from.\n",
    "\n",
    "All these objects have a iter() method which is used to get an iterator:"
   ]
  },
  {
   "cell_type": "raw",
   "id": "d04bf224",
   "metadata": {},
   "source": [
    "Iterators are mainly of 2 types \n",
    "__iter__()\n",
    "__next__()"
   ]
  },
  {
   "cell_type": "raw",
   "id": "3f6baf2c",
   "metadata": {},
   "source": [
    "Q. Iterable vs Iterators in python"
   ]
  },
  {
   "cell_type": "code",
   "execution_count": 29,
   "id": "6fd5cf23",
   "metadata": {},
   "outputs": [
    {
     "name": "stdout",
     "output_type": "stream",
     "text": [
      "I\n"
     ]
    }
   ],
   "source": [
    "tup = ('I','am','a','good','man')\n",
    "tupit = iter(tup)\n",
    "\n",
    "print(next(tupit))"
   ]
  },
  {
   "cell_type": "code",
   "execution_count": 30,
   "id": "ca840aee",
   "metadata": {},
   "outputs": [
    {
     "name": "stdout",
     "output_type": "stream",
     "text": [
      "am\n",
      "a\n",
      "good\n",
      "man\n"
     ]
    }
   ],
   "source": [
    "print(next(tupit))\n",
    "print(next(tupit))\n",
    "print(next(tupit))\n",
    "print(next(tupit))\n",
    "#print(next(tupit))"
   ]
  },
  {
   "cell_type": "code",
   "execution_count": null,
   "id": "203e25df",
   "metadata": {},
   "outputs": [],
   "source": []
  },
  {
   "cell_type": "code",
   "execution_count": 31,
   "id": "08b6259f",
   "metadata": {},
   "outputs": [
    {
     "name": "stdout",
     "output_type": "stream",
     "text": [
      "h\n",
      "e\n",
      "y\n",
      " \n",
      "t\n",
      "h\n",
      "e\n",
      "r\n",
      "e\n"
     ]
    }
   ],
   "source": [
    "st = 'hey there'\n",
    "for i in st:\n",
    "    print(i)"
   ]
  },
  {
   "cell_type": "code",
   "execution_count": 32,
   "id": "b5b03c57",
   "metadata": {},
   "outputs": [
    {
     "name": "stdout",
     "output_type": "stream",
     "text": [
      "<tuple_iterator object at 0x7f72fac98e50>\n"
     ]
    }
   ],
   "source": [
    "tup = ('I','am','a','good','man')\n",
    "print(iter(tup))"
   ]
  },
  {
   "cell_type": "code",
   "execution_count": 33,
   "id": "ebf0dd85",
   "metadata": {
    "scrolled": true
   },
   "outputs": [
    {
     "name": "stdout",
     "output_type": "stream",
     "text": [
      "I\n",
      "am\n",
      "a\n",
      "good\n",
      "man\n"
     ]
    }
   ],
   "source": [
    "tup = ('I','am','a','good','man')\n",
    "for i in tup:\n",
    "    print(i)"
   ]
  },
  {
   "cell_type": "code",
   "execution_count": null,
   "id": "2cdb8821",
   "metadata": {},
   "outputs": [],
   "source": []
  },
  {
   "cell_type": "raw",
   "id": "7d42ff10",
   "metadata": {},
   "source": [
    "Using the generator fucntion"
   ]
  },
  {
   "cell_type": "code",
   "execution_count": 41,
   "id": "df2d7fd0",
   "metadata": {},
   "outputs": [
    {
     "name": "stdout",
     "output_type": "stream",
     "text": [
      "Generator Obj :  <generator object store at 0x7f72facf1cf0>\n"
     ]
    }
   ],
   "source": [
    "\n",
    "def store(a,b):\n",
    "    yield a\n",
    "    yield b\n",
    "    \n",
    "x = store(1,2)\n",
    "print('Generator Obj : ',x)"
   ]
  },
  {
   "cell_type": "code",
   "execution_count": 42,
   "id": "92a49540",
   "metadata": {},
   "outputs": [
    {
     "name": "stdout",
     "output_type": "stream",
     "text": [
      "<class 'int'>\n",
      "2\n"
     ]
    }
   ],
   "source": [
    "# using next on the generator obj to print the elements\n",
    "\n",
    "print(type(next(x)))\n",
    "print(next(x))"
   ]
  },
  {
   "cell_type": "code",
   "execution_count": null,
   "id": "963f923a",
   "metadata": {},
   "outputs": [],
   "source": []
  },
  {
   "cell_type": "raw",
   "id": "d188a1ea",
   "metadata": {},
   "source": [
    "Another way to access the data from the generaor object"
   ]
  },
  {
   "cell_type": "code",
   "execution_count": 45,
   "id": "7b5b07bd",
   "metadata": {},
   "outputs": [
    {
     "name": "stdout",
     "output_type": "stream",
     "text": [
      "[3, 4]\n"
     ]
    }
   ],
   "source": [
    "def store(a,b):\n",
    "    yield a\n",
    "    yield b\n",
    "    \n",
    "# converting the generator obj into the list to print the data\n",
    "y = store(3,4)\n",
    "print(list(y))"
   ]
  },
  {
   "cell_type": "code",
   "execution_count": null,
   "id": "74ef6704",
   "metadata": {},
   "outputs": [],
   "source": [
    "\n"
   ]
  },
  {
   "cell_type": "raw",
   "id": "8a079e8e",
   "metadata": {},
   "source": [
    "Yield -> generator function to generaot obj"
   ]
  },
  {
   "cell_type": "code",
   "execution_count": 54,
   "id": "c228c9d7",
   "metadata": {},
   "outputs": [
    {
     "name": "stdout",
     "output_type": "stream",
     "text": [
      "Generator object  <generator object show at 0x7f72fac88f90>\n",
      "1\n",
      "2\n",
      "[3, 4]\n"
     ]
    }
   ],
   "source": [
    "# creating a range of yield stateents i.e generator fuctn \n",
    "\n",
    "def show(a,b):\n",
    "    while a<b:\n",
    "        # generator function\n",
    "        # yield generate a sequence of elements\n",
    "        yield a\n",
    "        a+=1\n",
    "        \n",
    "x = show(1,5)\n",
    "print('Generator object ',x)\n",
    "\n",
    "print(next(x))\n",
    "print(next(x))\n",
    "\n",
    "\n",
    "# as we can see once we access the value from the generator\n",
    "# it gets removed from the generator object  \n",
    "\n",
    "print(list(x))"
   ]
  },
  {
   "cell_type": "code",
   "execution_count": null,
   "id": "40ffebe8",
   "metadata": {},
   "outputs": [],
   "source": []
  },
  {
   "cell_type": "code",
   "execution_count": 3,
   "id": "9a14b278",
   "metadata": {},
   "outputs": [
    {
     "data": {
      "text/plain": [
       "<generator object genfucn at 0x7f1dd0258ba0>"
      ]
     },
     "execution_count": 3,
     "metadata": {},
     "output_type": "execute_result"
    }
   ],
   "source": [
    "# practise yeild and generator fucntion\n",
    "\n",
    "def genfucn(a,b):\n",
    "    while a<b:\n",
    "        yield a\n",
    "        # generator fucntion generates the generator obj\n",
    "        a+=1\n",
    "\n",
    "# generating a sequence of numbers using the generator fucn\n",
    "genfucn(1,6)"
   ]
  },
  {
   "cell_type": "code",
   "execution_count": 5,
   "id": "d81f017c",
   "metadata": {},
   "outputs": [
    {
     "name": "stdout",
     "output_type": "stream",
     "text": [
      "<generator object genfucn at 0x7f1dd0258ac0>\n",
      "1\n",
      "2\n",
      "3\n",
      "4\n",
      "5\n"
     ]
    }
   ],
   "source": [
    "# storing the data inside the generator fucn\n",
    "l1 = genfucn(1,6)\n",
    "print(l1)\n",
    "\n",
    "# printing the data from the generator fucntion\n",
    "\n",
    "for i in l1:\n",
    "    print(i)"
   ]
  },
  {
   "cell_type": "code",
   "execution_count": 9,
   "id": "3a3718f5",
   "metadata": {},
   "outputs": [
    {
     "name": "stdout",
     "output_type": "stream",
     "text": [
      "1\n",
      "2\n",
      "3\n",
      "4\n",
      "5\n",
      "6\n",
      "7\n",
      "8\n",
      "9\n"
     ]
    }
   ],
   "source": [
    "# another way of generating data from the generator fucn\n",
    "l = genfucn(1,10)\n",
    "\n",
    "# printing al; the data from the generator func using thee next statement\n",
    "a = 1\n",
    "b = 10\n",
    "\n",
    "while a<b:\n",
    "    print(next(l))\n",
    "    a+=1\n"
   ]
  },
  {
   "cell_type": "code",
   "execution_count": null,
   "id": "840d52ff",
   "metadata": {},
   "outputs": [],
   "source": []
  },
  {
   "cell_type": "code",
   "execution_count": null,
   "id": "c53b0028",
   "metadata": {},
   "outputs": [],
   "source": []
  },
  {
   "cell_type": "markdown",
   "id": "a08fcc67",
   "metadata": {},
   "source": [
    "##### Exceptional Handling"
   ]
  },
  {
   "cell_type": "raw",
   "id": "87499f77",
   "metadata": {},
   "source": [
    "Exception - runtime error, an abnormal conditon in a program"
   ]
  },
  {
   "cell_type": "code",
   "execution_count": 1,
   "id": "d49ea8c5",
   "metadata": {},
   "outputs": [
    {
     "name": "stdout",
     "output_type": "stream",
     "text": [
      "\n",
      "Enter 1st number : k\n",
      "only integers accepted !!\n",
      "\n",
      "Enter 1st number : 12\n",
      "Enter 2nd number : 24\n",
      "Output is  36\n",
      "Thank you\n"
     ]
    }
   ],
   "source": [
    "while True:\n",
    "    try: \n",
    "        a = int(input('\\nEnter 1st number : '))\n",
    "        b = int(input('Enter 2nd number : '))\n",
    "        c = a+b\n",
    "        print('Output is ',c)\n",
    "    except ValueError:\n",
    "        print('only integers accepted !!')\n",
    "    else:\n",
    "        print('Thank you')\n",
    "        break"
   ]
  },
  {
   "cell_type": "code",
   "execution_count": null,
   "id": "1e47dc1e",
   "metadata": {},
   "outputs": [],
   "source": []
  },
  {
   "cell_type": "code",
   "execution_count": 11,
   "id": "8e3c8fa5",
   "metadata": {},
   "outputs": [
    {
     "name": "stdout",
     "output_type": "stream",
     "text": [
      "\n",
      "Enter 1st number : 1\n",
      "Enter 2nd number : 0\n",
      "Divide by 0 not accepted\n",
      "\n",
      "Enter 1st number : 1\n",
      "Enter 2nd number : 2\n",
      "Output is  0.5\n",
      "Thank you\n"
     ]
    }
   ],
   "source": [
    "while True:\n",
    "    try: \n",
    "        a = int(input('\\nEnter 1st number : '))\n",
    "        b = int(input('Enter 2nd number : '))\n",
    "        c = a/b\n",
    "        print('Output is ',c)\n",
    "    except ValueError:\n",
    "        print('only integers accepted !!')\n",
    "    except ArithmeticError:\n",
    "        print('Divide by 0 not accepted')\n",
    "    else:\n",
    "        print('Thank you')\n",
    "        break"
   ]
  },
  {
   "cell_type": "code",
   "execution_count": null,
   "id": "18b45070",
   "metadata": {},
   "outputs": [],
   "source": []
  },
  {
   "cell_type": "markdown",
   "id": "eca2eddc",
   "metadata": {},
   "source": [
    "banking example with exceeption handling"
   ]
  },
  {
   "cell_type": "code",
   "execution_count": 14,
   "id": "295fb60f",
   "metadata": {},
   "outputs": [
    {
     "name": "stdout",
     "output_type": "stream",
     "text": [
      "\n",
      "Available Balance :  5000\n",
      "-------------------------------------------\n",
      "\n",
      "Enter to Continue. y to exit ? \n",
      "-------------------------------------------\n",
      "enter the amount : 100\n",
      "\n",
      "100 has been debited!!\n",
      "Updated Balance =  4900\n",
      "\n",
      "Available Balance :  4900\n",
      "-------------------------------------------\n",
      "\n",
      "Enter to Continue. y to exit ? \n",
      "-------------------------------------------\n",
      "enter the amount : 0\n",
      "Amount should be greater than 0, try again!\n",
      "\n",
      "\n",
      "Available Balance :  4900\n",
      "-------------------------------------------\n",
      "\n",
      "Enter to Continue. y to exit ? \n",
      "-------------------------------------------\n",
      "enter the amount : 4901\n",
      "balance is Low, try again!\n",
      "Current balacne =  4900\n",
      "\n",
      "\n",
      "Available Balance :  4900\n",
      "-------------------------------------------\n",
      "\n",
      "Enter to Continue. y to exit ? \n",
      "-------------------------------------------\n",
      "enter the amount : 4900\n",
      "\n",
      "4900 has been debited!!\n",
      "Updated Balance =  0\n",
      "\n",
      "Available Balance :  0\n",
      "-------------------------------------------\n",
      "\n",
      "Enter to Continue. y to exit ? y\n",
      "-------------------------------------------\n"
     ]
    }
   ],
   "source": [
    "# define Python user-defined exceptions\n",
    "class Error(Exception):\n",
    "    \"\"\"Base class for other exceptions\"\"\"\n",
    "    pass\n",
    "\n",
    "\n",
    "class ValueTooSmallError(Error):\n",
    "    \"\"\"Raised when the input value is too small\"\"\"\n",
    "    pass\n",
    "\n",
    "\n",
    "class ValueTooLargeError(Error):\n",
    "    \"\"\"Raised when the input value is too large\"\"\"\n",
    "    pass\n",
    "\n",
    "savings = 5000\n",
    "while True:\n",
    "    try:\n",
    "        print('\\nAvailable Balance : ',savings)\n",
    "        print('-------------------------------------------')\n",
    "        choice = input('\\nEnter to Continue. y to exit ? ')\n",
    "        print('-------------------------------------------')\n",
    "        if choice=='y':\n",
    "            break \n",
    "        else:\n",
    "            withdrawl = int(input('enter the amount : '))\n",
    "            if withdrawl<=0:\n",
    "                raise ValueTooSmallError\n",
    "            elif withdrawl>savings:\n",
    "                raise ValueTooLargeError\n",
    "            else:\n",
    "                savings = savings-withdrawl\n",
    "                print(f'\\n{withdrawl} has been debited!!')\n",
    "                print('Updated Balance = ',savings)\n",
    "            \n",
    "    except ValueError:\n",
    "        print('only integers accepted !!')\n",
    "        print()\n",
    "    except ValueTooSmallError:\n",
    "        print(\"Amount should be greater than 0, try again!\")\n",
    "        print()\n",
    "    except ValueTooLargeError:\n",
    "        print(\"balance is Low, try again!\")\n",
    "        print('Current balacne = ',savings)\n",
    "        print()\n"
   ]
  },
  {
   "cell_type": "code",
   "execution_count": null,
   "id": "77a8b9e5",
   "metadata": {},
   "outputs": [],
   "source": []
  },
  {
   "cell_type": "markdown",
   "id": "98e62dd3",
   "metadata": {},
   "source": [
    "Handling IOError using Exceptionhandling"
   ]
  },
  {
   "cell_type": "code",
   "execution_count": 18,
   "id": "d3dd25c7",
   "metadata": {},
   "outputs": [],
   "source": [
    "# handling the exception in a file \n",
    "# while writing the data to the file in 'r' mode\n",
    "\n",
    "# 1] creating a test file\n",
    "\n",
    "f = open('testfile.txt','w')\n",
    "f.write('hello world')\n",
    "f.close()"
   ]
  },
  {
   "cell_type": "code",
   "execution_count": 20,
   "id": "6e74941f",
   "metadata": {},
   "outputs": [
    {
     "name": "stdout",
     "output_type": "stream",
     "text": [
      "Error can't write data inside the file\n"
     ]
    }
   ],
   "source": [
    "# 2] writeing the data inside the file in 'r' mode\n",
    "\n",
    "try:\n",
    "    f = open('testfile.txt','r')\n",
    "    f.write('new data')\n",
    "    f.close()\n",
    "    \n",
    "except IOError:\n",
    "    print(\"Error can't write data inside the file\")\n",
    "else:\n",
    "    print('data written successfully')"
   ]
  },
  {
   "cell_type": "code",
   "execution_count": 21,
   "id": "c467f1a7",
   "metadata": {},
   "outputs": [
    {
     "name": "stdout",
     "output_type": "stream",
     "text": [
      "data written successfully\n"
     ]
    }
   ],
   "source": [
    "# 3] Fix bu opening the file in 'a' mode\n",
    "\n",
    "try:\n",
    "    f = open('testfile.txt','a')\n",
    "    f.write('new data')\n",
    "    f.close()\n",
    "    \n",
    "except IOError:\n",
    "    print(\"Error can't write data inside the file\")\n",
    "else:\n",
    "    print('data written successfully')"
   ]
  },
  {
   "cell_type": "code",
   "execution_count": 23,
   "id": "4fe60d8b",
   "metadata": {},
   "outputs": [
    {
     "name": "stdout",
     "output_type": "stream",
     "text": [
      "hello worldnew data\n"
     ]
    }
   ],
   "source": [
    "with open('testfile.txt','r') as f:\n",
    "    print(f.read())"
   ]
  },
  {
   "cell_type": "code",
   "execution_count": null,
   "id": "aaac0a76",
   "metadata": {},
   "outputs": [],
   "source": []
  }
 ],
 "metadata": {
  "kernelspec": {
   "display_name": "Python 3 (ipykernel)",
   "language": "python",
   "name": "python3"
  },
  "language_info": {
   "codemirror_mode": {
    "name": "ipython",
    "version": 3
   },
   "file_extension": ".py",
   "mimetype": "text/x-python",
   "name": "python",
   "nbconvert_exporter": "python",
   "pygments_lexer": "ipython3",
   "version": "3.8.10"
  }
 },
 "nbformat": 4,
 "nbformat_minor": 5
}
