{
 "cells": [
  {
   "cell_type": "markdown",
   "id": "7ae8c060",
   "metadata": {},
   "source": [
    "Lists \n",
    "- What is list \n",
    "- List vs Array\n",
    "- Create list\n",
    "- Access list\n",
    "- Edit list\n",
    "- Add list\n",
    "- Delete list\n",
    "- Operations\n",
    "- Fucntions"
   ]
  },
  {
   "cell_type": "markdown",
   "id": "28aa034c",
   "metadata": {},
   "source": [
    "Array vs List \n",
    "\n",
    "--> Array : homogenous, List : heterogeneous\n",
    "- Array is homogeneous : All data type inside the array must be of the same data type \n",
    "- Ex. such as. Int list\n",
    "\n",
    "\n",
    "- Whereas, List can contain heterogeneous values such as integers, floats, strings, tuples, lists, and dictionaries but they are commonly used to store collections of homogeneous objects\n",
    "\n",
    "---> Array : continue memory locn item store, List : mai aisa kuch nhi hia\n",
    "- Array's are stored in continuous memory location where as list can be or cannot be it's not compulsory\n",
    "\n",
    "---> Array are faster, List are slower when compared\n",
    "- Because of the continuous memory locn of the array the array are faster. Faster access\n",
    "\n",
    "---> List are more programmer friendly in comparison to Array\n",
    "\n"
   ]
  },
  {
   "cell_type": "code",
   "execution_count": null,
   "id": "ca36bb91",
   "metadata": {},
   "outputs": [],
   "source": []
  },
  {
   "cell_type": "markdown",
   "id": "88ee1dad",
   "metadata": {},
   "source": [
    "List \n",
    "- In Python, a list is created by placing elements inside square brackets [] , separated by commas.\n",
    "\n",
    "- Lists are used to store multiple items in a single variable. "
   ]
  },
  {
   "cell_type": "code",
   "execution_count": 2,
   "id": "4507ca8d",
   "metadata": {},
   "outputs": [
    {
     "data": {
      "text/plain": [
       "[]"
      ]
     },
     "execution_count": 2,
     "metadata": {},
     "output_type": "execute_result"
    }
   ],
   "source": [
    "# Empty list \n",
    "l1 = []\n",
    "l1"
   ]
  },
  {
   "cell_type": "code",
   "execution_count": 11,
   "id": "867344f7",
   "metadata": {},
   "outputs": [
    {
     "data": {
      "text/plain": [
       "[]"
      ]
     },
     "execution_count": 11,
     "metadata": {},
     "output_type": "execute_result"
    }
   ],
   "source": [
    "l4 = list()\n",
    "l4"
   ]
  },
  {
   "cell_type": "code",
   "execution_count": 3,
   "id": "fd13b2e5",
   "metadata": {},
   "outputs": [
    {
     "data": {
      "text/plain": [
       "[1, 2, 3, 4]"
      ]
     },
     "execution_count": 3,
     "metadata": {},
     "output_type": "execute_result"
    }
   ],
   "source": [
    "# homogeneous list\n",
    "l2 = [1,2,3,4]\n",
    "l2"
   ]
  },
  {
   "cell_type": "code",
   "execution_count": 4,
   "id": "4f6e53ac",
   "metadata": {},
   "outputs": [
    {
     "data": {
      "text/plain": [
       "['am', 1, 'doc', 2]"
      ]
     },
     "execution_count": 4,
     "metadata": {},
     "output_type": "execute_result"
    }
   ],
   "source": [
    "# heterogenous list\n",
    "l3 = ['am',1,'doc',2]\n",
    "l3"
   ]
  },
  {
   "cell_type": "code",
   "execution_count": null,
   "id": "0abf2aae",
   "metadata": {},
   "outputs": [],
   "source": []
  },
  {
   "cell_type": "markdown",
   "id": "0e7570cf",
   "metadata": {},
   "source": [
    "Mutli-dimensional List \n",
    "\n",
    "2D - List :\n",
    "- list inside a list [[]]\n",
    "- are always heterogenous \n",
    "\n",
    "3D List :\n",
    "- list inside a list, another list inside a list [[[]]]\n",
    "- are always heterogenous "
   ]
  },
  {
   "cell_type": "code",
   "execution_count": 5,
   "id": "1457f428",
   "metadata": {},
   "outputs": [
    {
     "data": {
      "text/plain": [
       "[1, 2, 3, [4, 5]]"
      ]
     },
     "execution_count": 5,
     "metadata": {},
     "output_type": "execute_result"
    }
   ],
   "source": [
    "# 2D List\n",
    "\n",
    "l1 = [1,2,3,[4,5]]\n",
    "l1"
   ]
  },
  {
   "cell_type": "code",
   "execution_count": 6,
   "id": "6d49a35b",
   "metadata": {},
   "outputs": [
    {
     "data": {
      "text/plain": [
       "[[[1, 2], [2, 3], [3, 4]]]"
      ]
     },
     "execution_count": 6,
     "metadata": {},
     "output_type": "execute_result"
    }
   ],
   "source": [
    "# 3D List\n",
    "\n",
    "l2 = [[[1,2],[2,3],[3,4]]]\n",
    "l2"
   ]
  },
  {
   "cell_type": "code",
   "execution_count": null,
   "id": "d807fd35",
   "metadata": {},
   "outputs": [],
   "source": []
  },
  {
   "cell_type": "markdown",
   "id": "1b3c5a70",
   "metadata": {},
   "source": [
    "Converting str to list"
   ]
  },
  {
   "cell_type": "code",
   "execution_count": 9,
   "id": "ef61930c",
   "metadata": {},
   "outputs": [
    {
     "data": {
      "text/plain": [
       "['N', 'e', 'w', 'Y', 'o', 'r', 'k']"
      ]
     },
     "execution_count": 9,
     "metadata": {},
     "output_type": "execute_result"
    }
   ],
   "source": [
    "l3 = list('NewYork')\n",
    "l3"
   ]
  },
  {
   "cell_type": "code",
   "execution_count": 10,
   "id": "b965aad0",
   "metadata": {},
   "outputs": [
    {
     "data": {
      "text/plain": [
       "[]"
      ]
     },
     "execution_count": 10,
     "metadata": {},
     "output_type": "execute_result"
    }
   ],
   "source": [
    "l4 = list()\n",
    "l4"
   ]
  },
  {
   "cell_type": "code",
   "execution_count": null,
   "id": "5f0278b8",
   "metadata": {},
   "outputs": [],
   "source": []
  },
  {
   "cell_type": "markdown",
   "id": "c80ffb10",
   "metadata": {},
   "source": [
    "Accessing Items from the list  "
   ]
  },
  {
   "cell_type": "code",
   "execution_count": 12,
   "id": "b46a3b6e",
   "metadata": {},
   "outputs": [],
   "source": [
    "l1 = [1,2,3,4,5]"
   ]
  },
  {
   "cell_type": "code",
   "execution_count": 13,
   "id": "5a8e543d",
   "metadata": {},
   "outputs": [
    {
     "data": {
      "text/plain": [
       "1"
      ]
     },
     "execution_count": 13,
     "metadata": {},
     "output_type": "execute_result"
    }
   ],
   "source": [
    "l1[0]"
   ]
  },
  {
   "cell_type": "code",
   "execution_count": 14,
   "id": "56057585",
   "metadata": {},
   "outputs": [
    {
     "data": {
      "text/plain": [
       "5"
      ]
     },
     "execution_count": 14,
     "metadata": {},
     "output_type": "execute_result"
    }
   ],
   "source": [
    "l1[-1]"
   ]
  },
  {
   "cell_type": "code",
   "execution_count": 15,
   "id": "94229c28",
   "metadata": {},
   "outputs": [
    {
     "data": {
      "text/plain": [
       "[5, 4, 3, 2, 1]"
      ]
     },
     "execution_count": 15,
     "metadata": {},
     "output_type": "execute_result"
    }
   ],
   "source": [
    "l1[::-1]"
   ]
  },
  {
   "cell_type": "code",
   "execution_count": 16,
   "id": "4df23f98",
   "metadata": {},
   "outputs": [
    {
     "data": {
      "text/plain": [
       "[5, 4, 3, 2, 1]"
      ]
     },
     "execution_count": 16,
     "metadata": {},
     "output_type": "execute_result"
    }
   ],
   "source": [
    "l1[-1::-1]"
   ]
  },
  {
   "cell_type": "code",
   "execution_count": null,
   "id": "d08207ca",
   "metadata": {},
   "outputs": [],
   "source": []
  },
  {
   "cell_type": "markdown",
   "id": "1a35d7fe",
   "metadata": {},
   "source": [
    "Accessing items from a 2D List"
   ]
  },
  {
   "cell_type": "code",
   "execution_count": 20,
   "id": "00a1005f",
   "metadata": {},
   "outputs": [],
   "source": [
    "l2 = [1,2,3,4,[5,6,7]]"
   ]
  },
  {
   "cell_type": "code",
   "execution_count": 21,
   "id": "3acb0838",
   "metadata": {},
   "outputs": [
    {
     "data": {
      "text/plain": [
       "[5, 6, 7]"
      ]
     },
     "execution_count": 21,
     "metadata": {},
     "output_type": "execute_result"
    }
   ],
   "source": [
    "l2[4]"
   ]
  },
  {
   "cell_type": "code",
   "execution_count": 22,
   "id": "3dcd6543",
   "metadata": {},
   "outputs": [
    {
     "data": {
      "text/plain": [
       "5"
      ]
     },
     "execution_count": 22,
     "metadata": {},
     "output_type": "execute_result"
    }
   ],
   "source": [
    "l2[4][0]"
   ]
  },
  {
   "cell_type": "code",
   "execution_count": null,
   "id": "cde0eee0",
   "metadata": {},
   "outputs": [],
   "source": []
  },
  {
   "cell_type": "markdown",
   "id": "f0627939",
   "metadata": {},
   "source": [
    "Accessing items from a 3D List"
   ]
  },
  {
   "cell_type": "code",
   "execution_count": 26,
   "id": "5e1f4f29",
   "metadata": {},
   "outputs": [
    {
     "data": {
      "text/plain": [
       "[[[1, 2], [3, 4]], [[5, 6], [7, 8]]]"
      ]
     },
     "execution_count": 26,
     "metadata": {},
     "output_type": "execute_result"
    }
   ],
   "source": [
    "l3 = [ [[1,2],[3,4]],\n",
    "       [[5,6],[7,8]] ]\n",
    "l3 "
   ]
  },
  {
   "cell_type": "code",
   "execution_count": 29,
   "id": "06ff7da6",
   "metadata": {},
   "outputs": [
    {
     "data": {
      "text/plain": [
       "7"
      ]
     },
     "execution_count": 29,
     "metadata": {},
     "output_type": "execute_result"
    }
   ],
   "source": [
    "# accessing 7 from l3 list\n",
    "\n",
    "l3[1][1][0]"
   ]
  },
  {
   "cell_type": "code",
   "execution_count": null,
   "id": "e73ed33c",
   "metadata": {},
   "outputs": [],
   "source": []
  },
  {
   "cell_type": "markdown",
   "id": "e0e2367b",
   "metadata": {},
   "source": [
    "Edit items inside the list\n",
    "- list is mutable"
   ]
  },
  {
   "cell_type": "code",
   "execution_count": 30,
   "id": "d0cb2ac5",
   "metadata": {},
   "outputs": [],
   "source": [
    "l1 = [1,2,3,4,5]"
   ]
  },
  {
   "cell_type": "code",
   "execution_count": 31,
   "id": "ff6f6bae",
   "metadata": {},
   "outputs": [
    {
     "data": {
      "text/plain": [
       "['xx', 2, 3, 4, 5]"
      ]
     },
     "execution_count": 31,
     "metadata": {},
     "output_type": "execute_result"
    }
   ],
   "source": [
    "l1[0]='xx'\n",
    "l1"
   ]
  },
  {
   "cell_type": "code",
   "execution_count": 32,
   "id": "76faa128",
   "metadata": {},
   "outputs": [
    {
     "data": {
      "text/plain": [
       "['xx', 2, 3, 4, 100]"
      ]
     },
     "execution_count": 32,
     "metadata": {},
     "output_type": "execute_result"
    }
   ],
   "source": [
    "l1[-1]=100\n",
    "l1"
   ]
  },
  {
   "cell_type": "code",
   "execution_count": null,
   "id": "01f657fd",
   "metadata": {},
   "outputs": [],
   "source": []
  },
  {
   "cell_type": "code",
   "execution_count": 33,
   "id": "ccd1f007",
   "metadata": {},
   "outputs": [],
   "source": [
    "# making changes to the list using slicing\n",
    "\n",
    "l1 = [1,2,3,4,5]\n",
    "l1[0:3]=['a','b','c']"
   ]
  },
  {
   "cell_type": "code",
   "execution_count": 34,
   "id": "1fc9765d",
   "metadata": {},
   "outputs": [
    {
     "data": {
      "text/plain": [
       "['a', 'b', 'c', 4, 5]"
      ]
     },
     "execution_count": 34,
     "metadata": {},
     "output_type": "execute_result"
    }
   ],
   "source": [
    "l1"
   ]
  },
  {
   "cell_type": "code",
   "execution_count": null,
   "id": "e218aa7f",
   "metadata": {},
   "outputs": [],
   "source": []
  },
  {
   "cell_type": "markdown",
   "id": "14db9055",
   "metadata": {},
   "source": [
    "Add new items to the list\n",
    "- append : add item to the end of the lst\n",
    "- insert : pass (posn, value)\n",
    "- extend\n",
    "- String +="
   ]
  },
  {
   "cell_type": "code",
   "execution_count": 35,
   "id": "8ced45c8",
   "metadata": {},
   "outputs": [
    {
     "data": {
      "text/plain": [
       "[1, 2, 3, 4, 5]"
      ]
     },
     "execution_count": 35,
     "metadata": {},
     "output_type": "execute_result"
    }
   ],
   "source": [
    "l1 = [1,2,3,4,5] \n",
    "l1"
   ]
  },
  {
   "cell_type": "code",
   "execution_count": 36,
   "id": "e386857b",
   "metadata": {},
   "outputs": [
    {
     "data": {
      "text/plain": [
       "[1, 2, 3, 4, 5, 100]"
      ]
     },
     "execution_count": 36,
     "metadata": {},
     "output_type": "execute_result"
    }
   ],
   "source": [
    "l1.append(100)\n",
    "l1"
   ]
  },
  {
   "cell_type": "code",
   "execution_count": null,
   "id": "99539aeb",
   "metadata": {},
   "outputs": [],
   "source": []
  },
  {
   "cell_type": "markdown",
   "id": "ceb960a6",
   "metadata": {},
   "source": [
    "Insert:\n",
    "- insert(posn,item)\n",
    "- "
   ]
  },
  {
   "cell_type": "code",
   "execution_count": 39,
   "id": "3d542cb5",
   "metadata": {},
   "outputs": [
    {
     "data": {
      "text/plain": [
       "['inserted', 1, 2, 3, 4, 5, 100]"
      ]
     },
     "execution_count": 39,
     "metadata": {},
     "output_type": "execute_result"
    }
   ],
   "source": [
    "l1 =[1, 2, 3, 4, 5, 100]\n",
    "l1.insert(0,'inserted')\n",
    "l1"
   ]
  },
  {
   "cell_type": "code",
   "execution_count": 41,
   "id": "9d18f1db",
   "metadata": {},
   "outputs": [
    {
     "data": {
      "text/plain": [
       "[1, '-', 2, 3, 4, 5, 100, 1]"
      ]
     },
     "execution_count": 41,
     "metadata": {},
     "output_type": "execute_result"
    }
   ],
   "source": [
    "l1 = [1, 2, 3, 4, 5, 100,1]\n",
    "l1.insert(1,'-')\n",
    "l1"
   ]
  },
  {
   "cell_type": "code",
   "execution_count": null,
   "id": "016c03f4",
   "metadata": {},
   "outputs": [],
   "source": []
  },
  {
   "cell_type": "code",
   "execution_count": 42,
   "id": "2c3c86cf",
   "metadata": {},
   "outputs": [],
   "source": [
    "l1 =[1, 2, 3, 4, 5, 100]\n",
    "l1.extend('str')"
   ]
  },
  {
   "cell_type": "code",
   "execution_count": 43,
   "id": "f184717e",
   "metadata": {},
   "outputs": [
    {
     "data": {
      "text/plain": [
       "[1, 2, 3, 4, 5, 100, 's', 't', 'r']"
      ]
     },
     "execution_count": 43,
     "metadata": {},
     "output_type": "execute_result"
    }
   ],
   "source": [
    "l1"
   ]
  },
  {
   "cell_type": "code",
   "execution_count": 46,
   "id": "1d89d541",
   "metadata": {},
   "outputs": [],
   "source": [
    "l1 =[1, 2, 3, 4, 5, 100]\n",
    "l1.extend([11,22,33,1])"
   ]
  },
  {
   "cell_type": "code",
   "execution_count": 47,
   "id": "e4aea308",
   "metadata": {},
   "outputs": [
    {
     "data": {
      "text/plain": [
       "[1, 2, 3, 4, 5, 100, 11, 22, 33, 1]"
      ]
     },
     "execution_count": 47,
     "metadata": {},
     "output_type": "execute_result"
    }
   ],
   "source": [
    "l1"
   ]
  },
  {
   "cell_type": "code",
   "execution_count": null,
   "id": "0242369c",
   "metadata": {},
   "outputs": [],
   "source": []
  },
  {
   "cell_type": "code",
   "execution_count": 50,
   "id": "17d80805",
   "metadata": {},
   "outputs": [
    {
     "data": {
      "text/plain": [
       "[1, 2, 3, 4, 5, 100, '1x1', 22, 33]"
      ]
     },
     "execution_count": 50,
     "metadata": {},
     "output_type": "execute_result"
    }
   ],
   "source": [
    "l1 =[1, 2, 3, 4, 5, 100]\n",
    "l1+=['1x1',22,33]\n",
    "l1"
   ]
  },
  {
   "cell_type": "code",
   "execution_count": null,
   "id": "d638fde4",
   "metadata": {},
   "outputs": [],
   "source": []
  },
  {
   "cell_type": "markdown",
   "id": "46cf9fd1",
   "metadata": {},
   "source": [
    "Append vs Extend\n",
    "- Append : single item append to list\n",
    "- Extend : multiple items append to list\n",
    "    \n",
    "    "
   ]
  },
  {
   "cell_type": "code",
   "execution_count": 51,
   "id": "1fe0253b",
   "metadata": {},
   "outputs": [],
   "source": [
    "l1 =[1, 2, 3, 4, 5, 100]\n",
    "l1.append([1,3,4])"
   ]
  },
  {
   "cell_type": "code",
   "execution_count": 52,
   "id": "8f3071d6",
   "metadata": {},
   "outputs": [
    {
     "data": {
      "text/plain": [
       "[1, 2, 3, 4, 5, 100, [1, 3, 4]]"
      ]
     },
     "execution_count": 52,
     "metadata": {},
     "output_type": "execute_result"
    }
   ],
   "source": [
    "l1"
   ]
  },
  {
   "cell_type": "code",
   "execution_count": null,
   "id": "0033808f",
   "metadata": {},
   "outputs": [],
   "source": []
  },
  {
   "cell_type": "code",
   "execution_count": 56,
   "id": "de211b5e",
   "metadata": {},
   "outputs": [],
   "source": [
    "l1 =[1, 2, 3, 4, 5, 100]\n",
    "l1.extend([11,33,55])"
   ]
  },
  {
   "cell_type": "code",
   "execution_count": 57,
   "id": "f93ec509",
   "metadata": {},
   "outputs": [
    {
     "data": {
      "text/plain": [
       "[1, 2, 3, 4, 5, 100, 11, 33, 55]"
      ]
     },
     "execution_count": 57,
     "metadata": {},
     "output_type": "execute_result"
    }
   ],
   "source": [
    "l1"
   ]
  },
  {
   "cell_type": "code",
   "execution_count": null,
   "id": "47250da7",
   "metadata": {},
   "outputs": [],
   "source": []
  },
  {
   "cell_type": "markdown",
   "id": "6e669b0d",
   "metadata": {},
   "source": [
    "Deleting items from the list\n",
    "- del\n",
    "- remove\n",
    "- pop\n",
    "- clear"
   ]
  },
  {
   "cell_type": "code",
   "execution_count": 58,
   "id": "b54f8e6d",
   "metadata": {},
   "outputs": [
    {
     "data": {
      "text/plain": [
       "[1, 2, 3, 4, 5, 100]"
      ]
     },
     "execution_count": 58,
     "metadata": {},
     "output_type": "execute_result"
    }
   ],
   "source": [
    "# deleting an entore list \n",
    "l1 =[1, 2, 3, 4, 5, 100]\n",
    "l1"
   ]
  },
  {
   "cell_type": "code",
   "execution_count": 59,
   "id": "535714e3",
   "metadata": {},
   "outputs": [],
   "source": [
    "del l1"
   ]
  },
  {
   "cell_type": "code",
   "execution_count": 60,
   "id": "460ef3f8",
   "metadata": {},
   "outputs": [
    {
     "ename": "NameError",
     "evalue": "name 'l1' is not defined",
     "output_type": "error",
     "traceback": [
      "\u001b[0;31m---------------------------------------------------------------------------\u001b[0m",
      "\u001b[0;31mNameError\u001b[0m                                 Traceback (most recent call last)",
      "Input \u001b[0;32mIn [60]\u001b[0m, in \u001b[0;36m<module>\u001b[0;34m\u001b[0m\n\u001b[0;32m----> 1\u001b[0m \u001b[43ml1\u001b[49m\n",
      "\u001b[0;31mNameError\u001b[0m: name 'l1' is not defined"
     ]
    }
   ],
   "source": [
    "l1"
   ]
  },
  {
   "cell_type": "code",
   "execution_count": null,
   "id": "8253293d",
   "metadata": {},
   "outputs": [],
   "source": []
  },
  {
   "cell_type": "code",
   "execution_count": 62,
   "id": "4ed21277",
   "metadata": {},
   "outputs": [
    {
     "data": {
      "text/plain": [
       "[1, 2, 3, 4, 5, [6, 7], 100]"
      ]
     },
     "execution_count": 62,
     "metadata": {},
     "output_type": "execute_result"
    }
   ],
   "source": [
    "# deleting an item inside the list\n",
    "l1 =[1, 2, 3, 4, 5,[6,7], 100]\n",
    "l1"
   ]
  },
  {
   "cell_type": "code",
   "execution_count": 64,
   "id": "95ec1eac",
   "metadata": {},
   "outputs": [
    {
     "data": {
      "text/plain": [
       "[1, 2, 3, 4, 100]"
      ]
     },
     "execution_count": 64,
     "metadata": {},
     "output_type": "execute_result"
    }
   ],
   "source": [
    "del l1[-2]\n",
    "l1"
   ]
  },
  {
   "cell_type": "code",
   "execution_count": null,
   "id": "e7c91d96",
   "metadata": {},
   "outputs": [],
   "source": []
  },
  {
   "cell_type": "code",
   "execution_count": 65,
   "id": "f58aa0f7",
   "metadata": {},
   "outputs": [
    {
     "data": {
      "text/plain": [
       "[1, 2, 3, 4, 5, [6, 7], 100]"
      ]
     },
     "execution_count": 65,
     "metadata": {},
     "output_type": "execute_result"
    }
   ],
   "source": [
    "l1 =[1, 2, 3, 4, 5,[6,7], 100]\n",
    "l1"
   ]
  },
  {
   "cell_type": "code",
   "execution_count": 66,
   "id": "f408b866",
   "metadata": {},
   "outputs": [
    {
     "data": {
      "text/plain": [
       "[2, 3, 4, 5, [6, 7], 100]"
      ]
     },
     "execution_count": 66,
     "metadata": {},
     "output_type": "execute_result"
    }
   ],
   "source": [
    "del l1[0]\n",
    "l1"
   ]
  },
  {
   "cell_type": "code",
   "execution_count": null,
   "id": "40b8a631",
   "metadata": {},
   "outputs": [],
   "source": []
  },
  {
   "cell_type": "code",
   "execution_count": 71,
   "id": "d056c1fa",
   "metadata": {},
   "outputs": [
    {
     "data": {
      "text/plain": [
       "[1, 2, 3, 4, 5, [6, 7], 100]"
      ]
     },
     "execution_count": 71,
     "metadata": {},
     "output_type": "execute_result"
    }
   ],
   "source": [
    "l1 =[1, 2, 3, 4, 5,[6,7], 100]\n",
    "l1"
   ]
  },
  {
   "cell_type": "code",
   "execution_count": 72,
   "id": "c097c408",
   "metadata": {},
   "outputs": [
    {
     "data": {
      "text/plain": [
       "[1, 2, 3, 4, 5, [7], 100]"
      ]
     },
     "execution_count": 72,
     "metadata": {},
     "output_type": "execute_result"
    }
   ],
   "source": [
    "del l1[-2][0]\n",
    "l1"
   ]
  },
  {
   "cell_type": "code",
   "execution_count": null,
   "id": "ab579955",
   "metadata": {},
   "outputs": [],
   "source": []
  },
  {
   "cell_type": "code",
   "execution_count": 78,
   "id": "09db8a4a",
   "metadata": {},
   "outputs": [
    {
     "data": {
      "text/plain": [
       "[1, 2, 3, 4, 5, [6, 7], 100]"
      ]
     },
     "execution_count": 78,
     "metadata": {},
     "output_type": "execute_result"
    }
   ],
   "source": [
    "# del a series of item in list using slicing\n",
    "\n",
    "l1 =[1, 2, 3, 4, 5,[6,7], 100]\n",
    "l1"
   ]
  },
  {
   "cell_type": "code",
   "execution_count": 79,
   "id": "cd1668bb",
   "metadata": {},
   "outputs": [],
   "source": [
    "del l1[:3]"
   ]
  },
  {
   "cell_type": "code",
   "execution_count": 80,
   "id": "d1fb5014",
   "metadata": {},
   "outputs": [
    {
     "data": {
      "text/plain": [
       "[4, 5, [6, 7], 100]"
      ]
     },
     "execution_count": 80,
     "metadata": {},
     "output_type": "execute_result"
    }
   ],
   "source": [
    "l1"
   ]
  },
  {
   "cell_type": "code",
   "execution_count": null,
   "id": "417ebdf5",
   "metadata": {},
   "outputs": [],
   "source": []
  },
  {
   "cell_type": "markdown",
   "id": "a3717e5a",
   "metadata": {},
   "source": [
    "remove \n",
    "- remove is used when we dont know the index of the element\n",
    "- but we know the element exist\n",
    "\n",
    "- it only removes the element found in first occurance"
   ]
  },
  {
   "cell_type": "code",
   "execution_count": 81,
   "id": "9784c4bd",
   "metadata": {},
   "outputs": [
    {
     "data": {
      "text/plain": [
       "[1, 2, 3, 4, 5, [6, 7, 1], 100, 1]"
      ]
     },
     "execution_count": 81,
     "metadata": {},
     "output_type": "execute_result"
    }
   ],
   "source": [
    "l1 =[1, 2, 3, 4, 5,[6,7,1], 100,1]\n",
    "l1"
   ]
  },
  {
   "cell_type": "code",
   "execution_count": 82,
   "id": "8fa56f82",
   "metadata": {},
   "outputs": [],
   "source": [
    "l1.remove(1)"
   ]
  },
  {
   "cell_type": "code",
   "execution_count": 83,
   "id": "73d50723",
   "metadata": {},
   "outputs": [
    {
     "data": {
      "text/plain": [
       "[2, 3, 4, 5, [6, 7, 1], 100, 1]"
      ]
     },
     "execution_count": 83,
     "metadata": {},
     "output_type": "execute_result"
    }
   ],
   "source": [
    "l1"
   ]
  },
  {
   "cell_type": "code",
   "execution_count": null,
   "id": "6eccfb0d",
   "metadata": {},
   "outputs": [],
   "source": []
  },
  {
   "cell_type": "markdown",
   "id": "1d3f61b0",
   "metadata": {},
   "source": [
    "pop \n",
    "- removes the last element of the list"
   ]
  },
  {
   "cell_type": "code",
   "execution_count": 84,
   "id": "30b307fa",
   "metadata": {},
   "outputs": [
    {
     "data": {
      "text/plain": [
       "[1, 2, 3, 4, 5, [6, 7, 1]]"
      ]
     },
     "execution_count": 84,
     "metadata": {},
     "output_type": "execute_result"
    }
   ],
   "source": [
    "l1 =[1, 2, 3, 4, 5,[6,7,1]]\n",
    "l1"
   ]
  },
  {
   "cell_type": "code",
   "execution_count": 85,
   "id": "d8cd86dc",
   "metadata": {},
   "outputs": [
    {
     "data": {
      "text/plain": [
       "[1, 2, 3, 4, 5]"
      ]
     },
     "execution_count": 85,
     "metadata": {},
     "output_type": "execute_result"
    }
   ],
   "source": [
    "l1.pop()\n",
    "l1"
   ]
  },
  {
   "cell_type": "code",
   "execution_count": null,
   "id": "d1e4f1a5",
   "metadata": {},
   "outputs": [],
   "source": []
  },
  {
   "cell_type": "code",
   "execution_count": 86,
   "id": "b2571af4",
   "metadata": {},
   "outputs": [
    {
     "data": {
      "text/plain": [
       "[1, 2, 3, 4]"
      ]
     },
     "execution_count": 86,
     "metadata": {},
     "output_type": "execute_result"
    }
   ],
   "source": [
    "l1.pop()\n",
    "l1"
   ]
  },
  {
   "cell_type": "code",
   "execution_count": null,
   "id": "366ed6e3",
   "metadata": {},
   "outputs": [],
   "source": []
  },
  {
   "cell_type": "markdown",
   "id": "74c5a22d",
   "metadata": {},
   "source": [
    "clear()\n",
    "- used to empty the list"
   ]
  },
  {
   "cell_type": "code",
   "execution_count": 1,
   "id": "89c5b517",
   "metadata": {},
   "outputs": [
    {
     "data": {
      "text/plain": [
       "[1, 2, 3, 4, 5, [6, 7, 1]]"
      ]
     },
     "execution_count": 1,
     "metadata": {},
     "output_type": "execute_result"
    }
   ],
   "source": [
    "l1 =[1, 2, 3, 4, 5,[6,7,1]]\n",
    "l1"
   ]
  },
  {
   "cell_type": "code",
   "execution_count": 3,
   "id": "02bfcd90",
   "metadata": {},
   "outputs": [],
   "source": [
    "l1.clear()"
   ]
  },
  {
   "cell_type": "code",
   "execution_count": 4,
   "id": "938cd7fc",
   "metadata": {},
   "outputs": [
    {
     "data": {
      "text/plain": [
       "[]"
      ]
     },
     "execution_count": 4,
     "metadata": {},
     "output_type": "execute_result"
    }
   ],
   "source": [
    "l1"
   ]
  },
  {
   "cell_type": "code",
   "execution_count": null,
   "id": "3271e484",
   "metadata": {},
   "outputs": [],
   "source": []
  },
  {
   "cell_type": "markdown",
   "id": "e72b91fc",
   "metadata": {},
   "source": [
    "Operations on list\n",
    "- addition of lists\n",
    "- multiplication of lists"
   ]
  },
  {
   "cell_type": "code",
   "execution_count": 5,
   "id": "bd2cb3b4",
   "metadata": {},
   "outputs": [
    {
     "data": {
      "text/plain": [
       "[1, 2, 3, 'a', 'b', 'c', 4, 5, 6]"
      ]
     },
     "execution_count": 5,
     "metadata": {},
     "output_type": "execute_result"
    }
   ],
   "source": [
    "# additon of list\n",
    "l1 = [1,2,3]\n",
    "l2 = ['a','b','c']\n",
    "l3 = [4,5,6]\n",
    "\n",
    "l1+l2+l3"
   ]
  },
  {
   "cell_type": "code",
   "execution_count": 6,
   "id": "776d0d61",
   "metadata": {},
   "outputs": [
    {
     "data": {
      "text/plain": [
       "['a', 'b', 'c', 1, 2, 3, 4, 5, 6]"
      ]
     },
     "execution_count": 6,
     "metadata": {},
     "output_type": "execute_result"
    }
   ],
   "source": [
    "l2+l1+l3"
   ]
  },
  {
   "cell_type": "code",
   "execution_count": null,
   "id": "5bd3270a",
   "metadata": {},
   "outputs": [],
   "source": []
  },
  {
   "cell_type": "code",
   "execution_count": 8,
   "id": "731e96ac",
   "metadata": {},
   "outputs": [
    {
     "data": {
      "text/plain": [
       "[1, 2, 3, 1, 2, 3, 1, 2, 3]"
      ]
     },
     "execution_count": 8,
     "metadata": {},
     "output_type": "execute_result"
    }
   ],
   "source": [
    "# multiplication of list\n",
    "l1 = [1,2,3]\n",
    "l3 = [4,5,6]\n",
    "l1*3"
   ]
  },
  {
   "cell_type": "code",
   "execution_count": null,
   "id": "07d24c28",
   "metadata": {},
   "outputs": [],
   "source": []
  },
  {
   "cell_type": "code",
   "execution_count": 10,
   "id": "f1ca4ab1",
   "metadata": {},
   "outputs": [
    {
     "name": "stdout",
     "output_type": "stream",
     "text": [
      "1 2 3 a b c [5, 6] 6 "
     ]
    }
   ],
   "source": [
    "# iterating throught the lists\n",
    "l1 = [1, 2, 3, 'a', 'b', 'c',[5,6], 6]\n",
    "\n",
    "for i in l1:\n",
    "    print(i,end= ' ')"
   ]
  },
  {
   "cell_type": "code",
   "execution_count": null,
   "id": "5bee6d9e",
   "metadata": {},
   "outputs": [],
   "source": []
  },
  {
   "cell_type": "code",
   "execution_count": 11,
   "id": "a4c5b2cc",
   "metadata": {},
   "outputs": [
    {
     "data": {
      "text/plain": [
       "True"
      ]
     },
     "execution_count": 11,
     "metadata": {},
     "output_type": "execute_result"
    }
   ],
   "source": [
    "# using membership operators in list \n",
    "l1 = [1, 2, 3, 'a', 'b', 'c',[5,6], 6]\n",
    "'a' in l1"
   ]
  },
  {
   "cell_type": "code",
   "execution_count": 12,
   "id": "391672e5",
   "metadata": {},
   "outputs": [
    {
     "data": {
      "text/plain": [
       "False"
      ]
     },
     "execution_count": 12,
     "metadata": {},
     "output_type": "execute_result"
    }
   ],
   "source": [
    "5 in l1"
   ]
  },
  {
   "cell_type": "markdown",
   "id": "be801710",
   "metadata": {},
   "source": [
    "fuctions on list\n",
    "- For using functions on list the list should contain numberical values\n",
    "\n",
    "- They are :\n",
    "    - min/max\n",
    "    - len\n",
    "    - sort\n",
    "    - sorted (not permanent changes)\n",
    "    - index (to find index of item)"
   ]
  },
  {
   "cell_type": "code",
   "execution_count": 18,
   "id": "1f9fa2bb",
   "metadata": {},
   "outputs": [
    {
     "data": {
      "text/plain": [
       "5"
      ]
     },
     "execution_count": 18,
     "metadata": {},
     "output_type": "execute_result"
    }
   ],
   "source": [
    "l1 = [1,2,3,4,4.0]\n",
    "len(l1)"
   ]
  },
  {
   "cell_type": "code",
   "execution_count": 19,
   "id": "ddf19515",
   "metadata": {},
   "outputs": [
    {
     "data": {
      "text/plain": [
       "4"
      ]
     },
     "execution_count": 19,
     "metadata": {},
     "output_type": "execute_result"
    }
   ],
   "source": [
    "max(l1)"
   ]
  },
  {
   "cell_type": "code",
   "execution_count": 20,
   "id": "33794590",
   "metadata": {},
   "outputs": [
    {
     "data": {
      "text/plain": [
       "1"
      ]
     },
     "execution_count": 20,
     "metadata": {},
     "output_type": "execute_result"
    }
   ],
   "source": [
    "min(l1)"
   ]
  },
  {
   "cell_type": "code",
   "execution_count": null,
   "id": "a8e5d676",
   "metadata": {},
   "outputs": [],
   "source": []
  },
  {
   "cell_type": "code",
   "execution_count": 21,
   "id": "83d81acd",
   "metadata": {},
   "outputs": [],
   "source": [
    "l2 = [1,2,3,4,0,-1]"
   ]
  },
  {
   "cell_type": "code",
   "execution_count": 22,
   "id": "4910e6d9",
   "metadata": {},
   "outputs": [
    {
     "data": {
      "text/plain": [
       "4"
      ]
     },
     "execution_count": 22,
     "metadata": {},
     "output_type": "execute_result"
    }
   ],
   "source": [
    "max(l2)"
   ]
  },
  {
   "cell_type": "code",
   "execution_count": 23,
   "id": "933d9887",
   "metadata": {},
   "outputs": [
    {
     "data": {
      "text/plain": [
       "-1"
      ]
     },
     "execution_count": 23,
     "metadata": {},
     "output_type": "execute_result"
    }
   ],
   "source": [
    "min(l2)"
   ]
  },
  {
   "cell_type": "code",
   "execution_count": 24,
   "id": "c82079d5",
   "metadata": {},
   "outputs": [
    {
     "data": {
      "text/plain": [
       "6"
      ]
     },
     "execution_count": 24,
     "metadata": {},
     "output_type": "execute_result"
    }
   ],
   "source": [
    "len(l2)"
   ]
  },
  {
   "cell_type": "code",
   "execution_count": null,
   "id": "50a99ede",
   "metadata": {},
   "outputs": [],
   "source": []
  },
  {
   "cell_type": "markdown",
   "id": "79b7559f",
   "metadata": {},
   "source": [
    "Sorted fuctn\n",
    "- Creates a new list into the memory\n",
    "- does not affect's the original list\n",
    "- we can also pass (reverse=True) to reverse the order of the list"
   ]
  },
  {
   "cell_type": "code",
   "execution_count": 25,
   "id": "241792dd",
   "metadata": {},
   "outputs": [
    {
     "data": {
      "text/plain": [
       "[-1, 0, 1, 2, 3, 4]"
      ]
     },
     "execution_count": 25,
     "metadata": {},
     "output_type": "execute_result"
    }
   ],
   "source": [
    "l1 = [1,2,3,4,0,-1]\n",
    "sorted(l1)"
   ]
  },
  {
   "cell_type": "code",
   "execution_count": 26,
   "id": "be01fe3c",
   "metadata": {},
   "outputs": [
    {
     "data": {
      "text/plain": [
       "[4, 3, 2, 1, 0, -1]"
      ]
     },
     "execution_count": 26,
     "metadata": {},
     "output_type": "execute_result"
    }
   ],
   "source": [
    "l2 = [1,2,3,4,0,-1]\n",
    "sorted(l2,reverse=True)"
   ]
  },
  {
   "cell_type": "code",
   "execution_count": 27,
   "id": "930f6525",
   "metadata": {},
   "outputs": [
    {
     "data": {
      "text/plain": [
       "[1, 2, 3, 4, 0, -1]"
      ]
     },
     "execution_count": 27,
     "metadata": {},
     "output_type": "execute_result"
    }
   ],
   "source": [
    "l1 # does not affects the original list"
   ]
  },
  {
   "cell_type": "code",
   "execution_count": 28,
   "id": "bcb7a520",
   "metadata": {},
   "outputs": [
    {
     "data": {
      "text/plain": [
       "[1, 2, 3, 4, 0, -1]"
      ]
     },
     "execution_count": 28,
     "metadata": {},
     "output_type": "execute_result"
    }
   ],
   "source": [
    "l2 # does not affects the original list"
   ]
  },
  {
   "cell_type": "markdown",
   "id": "c1115df9",
   "metadata": {},
   "source": [
    "Sort fuctn \n",
    "- Sort fuctn is a permanent operation\n",
    "- if modifies the original list \n",
    "\n",
    "- we can also reverse the order by passing teh argument reverse=True"
   ]
  },
  {
   "cell_type": "code",
   "execution_count": 29,
   "id": "24a335e3",
   "metadata": {},
   "outputs": [
    {
     "data": {
      "text/plain": [
       "[1, 2, 3, 4, 0, -1]"
      ]
     },
     "execution_count": 29,
     "metadata": {},
     "output_type": "execute_result"
    }
   ],
   "source": [
    "l1 = [1,2,3,4,0,-1]\n",
    "l1"
   ]
  },
  {
   "cell_type": "code",
   "execution_count": 30,
   "id": "75cea800",
   "metadata": {},
   "outputs": [],
   "source": [
    "l1.sort()"
   ]
  },
  {
   "cell_type": "code",
   "execution_count": 31,
   "id": "b62d20a1",
   "metadata": {},
   "outputs": [
    {
     "data": {
      "text/plain": [
       "[-1, 0, 1, 2, 3, 4]"
      ]
     },
     "execution_count": 31,
     "metadata": {},
     "output_type": "execute_result"
    }
   ],
   "source": [
    "l1"
   ]
  },
  {
   "cell_type": "code",
   "execution_count": null,
   "id": "197f6bb5",
   "metadata": {},
   "outputs": [],
   "source": []
  },
  {
   "cell_type": "code",
   "execution_count": 35,
   "id": "7516b0d8",
   "metadata": {},
   "outputs": [
    {
     "data": {
      "text/plain": [
       "[4, 3, 0, -1, 2, 1]"
      ]
     },
     "execution_count": 35,
     "metadata": {},
     "output_type": "execute_result"
    }
   ],
   "source": [
    "l2 = [4, 3, 0, -1,2, 1]\n",
    "l2"
   ]
  },
  {
   "cell_type": "code",
   "execution_count": 36,
   "id": "02476bd4",
   "metadata": {},
   "outputs": [],
   "source": [
    "l2.sort(reverse=True)"
   ]
  },
  {
   "cell_type": "code",
   "execution_count": 37,
   "id": "a673b4cd",
   "metadata": {},
   "outputs": [
    {
     "data": {
      "text/plain": [
       "[4, 3, 2, 1, 0, -1]"
      ]
     },
     "execution_count": 37,
     "metadata": {},
     "output_type": "execute_result"
    }
   ],
   "source": [
    "l2"
   ]
  },
  {
   "cell_type": "code",
   "execution_count": null,
   "id": "f2bd2c82",
   "metadata": {},
   "outputs": [],
   "source": []
  },
  {
   "cell_type": "markdown",
   "id": "bfd05c21",
   "metadata": {},
   "source": [
    "Index fuctn\n",
    "- returns the index of the item present in the list"
   ]
  },
  {
   "cell_type": "code",
   "execution_count": 38,
   "id": "f9b1ac36",
   "metadata": {},
   "outputs": [
    {
     "data": {
      "text/plain": [
       "5"
      ]
     },
     "execution_count": 38,
     "metadata": {},
     "output_type": "execute_result"
    }
   ],
   "source": [
    "l2 = [4, 3, 0, -1,2, 1]\n",
    "l2.index(1)"
   ]
  },
  {
   "cell_type": "code",
   "execution_count": 39,
   "id": "17b169e5",
   "metadata": {},
   "outputs": [
    {
     "data": {
      "text/plain": [
       "3"
      ]
     },
     "execution_count": 39,
     "metadata": {},
     "output_type": "execute_result"
    }
   ],
   "source": [
    "l2.index(-1)"
   ]
  },
  {
   "cell_type": "code",
   "execution_count": null,
   "id": "653b73a0",
   "metadata": {},
   "outputs": [],
   "source": []
  },
  {
   "cell_type": "code",
   "execution_count": 41,
   "id": "20d66a2b",
   "metadata": {},
   "outputs": [
    {
     "data": {
      "text/plain": [
       "3"
      ]
     },
     "execution_count": 41,
     "metadata": {},
     "output_type": "execute_result"
    }
   ],
   "source": [
    "l1 = [4, 3, 0, -1, 2, 4, 1, -1]\n",
    "l2.index(-1)"
   ]
  },
  {
   "cell_type": "markdown",
   "id": "ddca5665",
   "metadata": {},
   "source": [
    "Creating custom title method"
   ]
  },
  {
   "cell_type": "code",
   "execution_count": 63,
   "id": "dbff69d3",
   "metadata": {},
   "outputs": [
    {
     "name": "stdout",
     "output_type": "stream",
     "text": [
      "Enter the msg : hello my name is harsh\n",
      "Hello My Name Is Harsh\n"
     ]
    }
   ],
   "source": [
    "msg = input('Enter the msg : ')\n",
    "msg = msg.split(' ')\n",
    "res = []\n",
    "for i in msg:   \n",
    "    res.append(i.capitalize())\n",
    "    \n",
    "print(' '.join(res))"
   ]
  },
  {
   "cell_type": "markdown",
   "id": "86369bea",
   "metadata": {},
   "source": [
    "or."
   ]
  },
  {
   "cell_type": "code",
   "execution_count": 64,
   "id": "79c4b334",
   "metadata": {},
   "outputs": [
    {
     "name": "stdout",
     "output_type": "stream",
     "text": [
      "Enter the msg : hey buddy\n",
      "Hey Buddy\n"
     ]
    }
   ],
   "source": [
    "msg = input('Enter the msg : ')\n",
    "res = []\n",
    "for i in msg.split(' '):   \n",
    "    res.append(i.capitalize())\n",
    "    \n",
    "print(' '.join(res))"
   ]
  },
  {
   "cell_type": "code",
   "execution_count": null,
   "id": "3c047c30",
   "metadata": {},
   "outputs": [],
   "source": []
  },
  {
   "cell_type": "markdown",
   "id": "4585108c",
   "metadata": {},
   "source": [
    "Prog. to extract the username from email id's\n",
    "\n",
    " ex. username@gmail.com"
   ]
  },
  {
   "cell_type": "code",
   "execution_count": 66,
   "id": "8efdd5d9",
   "metadata": {},
   "outputs": [
    {
     "name": "stdout",
     "output_type": "stream",
     "text": [
      "Enter ur mail id : yahoo@gmail.com\n",
      "yahoo\n"
     ]
    }
   ],
   "source": [
    "mail =input('Enter ur mail id : ')\n",
    "result = mail.split('@')\n",
    "print(result[0])"
   ]
  },
  {
   "cell_type": "markdown",
   "id": "439ecf25",
   "metadata": {},
   "source": [
    "or."
   ]
  },
  {
   "cell_type": "code",
   "execution_count": 68,
   "id": "1ea1c77a",
   "metadata": {},
   "outputs": [
    {
     "name": "stdout",
     "output_type": "stream",
     "text": [
      "Enter ur mail id : helloraju@ham.in\n",
      "helloraju\n"
     ]
    }
   ],
   "source": [
    "mail =input('Enter ur mail id : ')\n",
    "print(mail[:mail.find('@')])"
   ]
  },
  {
   "cell_type": "markdown",
   "id": "813f6f42",
   "metadata": {},
   "source": []
  },
  {
   "cell_type": "markdown",
   "id": "896394eb",
   "metadata": {},
   "source": [
    "Program to remove duplicates from the list"
   ]
  },
  {
   "cell_type": "code",
   "execution_count": 77,
   "id": "ed6e7bb1",
   "metadata": {},
   "outputs": [
    {
     "name": "stdout",
     "output_type": "stream",
     "text": [
      "11223344\n",
      "Before :  ['1', '1', '2', '2', '3', '3', '4', '4']\n",
      "After :  ['1', '4', '3', '2']\n"
     ]
    }
   ],
   "source": [
    "lst = []\n",
    "\n",
    "msg = (input())\n",
    "lst.extend(msg)\n",
    "\n",
    "print('Before : ',lst)\n",
    "lst = list(set(lst))\n",
    "print('After : ',lst)"
   ]
  },
  {
   "cell_type": "markdown",
   "id": "b7ea54f8",
   "metadata": {},
   "source": [
    "or."
   ]
  },
  {
   "cell_type": "code",
   "execution_count": 79,
   "id": "f9e9fff7",
   "metadata": {},
   "outputs": [
    {
     "name": "stdout",
     "output_type": "stream",
     "text": [
      "11223344\n"
     ]
    }
   ],
   "source": [
    "lst = []\n",
    "\n",
    "msg = (input())\n",
    "lst.extend(msg)\n",
    "\n",
    "res = []\n",
    "for i in lst:\n",
    "    if i not in res:\n",
    "        res.append(i)"
   ]
  },
  {
   "cell_type": "code",
   "execution_count": 80,
   "id": "5ce0efa2",
   "metadata": {},
   "outputs": [
    {
     "data": {
      "text/plain": [
       "['1', '2', '3', '4']"
      ]
     },
     "execution_count": 80,
     "metadata": {},
     "output_type": "execute_result"
    }
   ],
   "source": [
    "res"
   ]
  },
  {
   "cell_type": "code",
   "execution_count": null,
   "id": "a84d1442",
   "metadata": {},
   "outputs": [],
   "source": []
  }
 ],
 "metadata": {
  "kernelspec": {
   "display_name": "Python 3 (ipykernel)",
   "language": "python",
   "name": "python3"
  },
  "language_info": {
   "codemirror_mode": {
    "name": "ipython",
    "version": 3
   },
   "file_extension": ".py",
   "mimetype": "text/x-python",
   "name": "python",
   "nbconvert_exporter": "python",
   "pygments_lexer": "ipython3",
   "version": "3.8.10"
  }
 },
 "nbformat": 4,
 "nbformat_minor": 5
}
