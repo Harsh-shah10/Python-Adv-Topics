{
 "cells": [
  {
   "cell_type": "raw",
   "id": "dd1c654d",
   "metadata": {},
   "source": [
    "ram : Volatile memory [power off - data lost]\n",
    "\n",
    "ram -> made up of various registers\n",
    "register -> made up of flip-flops\n",
    "flip-flops -> made up of logic gates\n",
    "logic-gates -> made up of diodes"
   ]
  },
  {
   "cell_type": "code",
   "execution_count": null,
   "id": "e0a1c1be",
   "metadata": {},
   "outputs": [],
   "source": []
  },
  {
   "cell_type": "raw",
   "id": "083bff6b",
   "metadata": {},
   "source": [
    "In python the variable are saved as name"
   ]
  },
  {
   "cell_type": "code",
   "execution_count": 4,
   "id": "6ef2e09a",
   "metadata": {},
   "outputs": [
    {
     "name": "stdout",
     "output_type": "stream",
     "text": [
      "ID of a  9789056\n"
     ]
    }
   ],
   "source": [
    "a = 4\n",
    "print('ID of a ',id(a))"
   ]
  },
  {
   "cell_type": "code",
   "execution_count": 5,
   "id": "7937d3ed",
   "metadata": {},
   "outputs": [
    {
     "name": "stdout",
     "output_type": "stream",
     "text": [
      "HEX of a  0x955e80\n"
     ]
    }
   ],
   "source": [
    "print('HEX of a ',hex(id(a)))"
   ]
  },
  {
   "cell_type": "code",
   "execution_count": 8,
   "id": "be7cd6d2",
   "metadata": {},
   "outputs": [
    {
     "name": "stdout",
     "output_type": "stream",
     "text": [
      "ID of a  9789056\n",
      "ID of 4  9789056\n"
     ]
    }
   ],
   "source": [
    "# Proving that 4 is stored in name variable  a\n",
    "print('ID of a ',id(a))\n",
    "print('ID of 4 ',id(4))\n",
    "\n",
    "# As we can see both the id's are same"
   ]
  },
  {
   "cell_type": "code",
   "execution_count": null,
   "id": "9895dc11",
   "metadata": {},
   "outputs": [],
   "source": []
  },
  {
   "cell_type": "code",
   "execution_count": 16,
   "id": "da563587",
   "metadata": {},
   "outputs": [
    {
     "name": "stdout",
     "output_type": "stream",
     "text": [
      "ID of a  9788960\n",
      "ID of b  9788960\n",
      "ID of c  9788960\n"
     ]
    }
   ],
   "source": [
    "# Aliasing\n",
    "\n",
    "a = 1\n",
    "b = a\n",
    "c = b\n",
    "print('ID of a ',id(a))\n",
    "print('ID of b ',id(b))\n",
    "print('ID of c ',id(c))\n",
    "\n",
    "# Id of all the 3 are same because of aliasing"
   ]
  },
  {
   "cell_type": "code",
   "execution_count": null,
   "id": "b8f27815",
   "metadata": {},
   "outputs": [],
   "source": []
  },
  {
   "cell_type": "raw",
   "id": "66d91d92",
   "metadata": {},
   "source": [
    "Only Reference is del : variable point to memeory locn : not the data insode the memory\n",
    "\n",
    "Pointer is moved from the memory locn, the data is not deleted"
   ]
  },
  {
   "cell_type": "code",
   "execution_count": 12,
   "id": "36fac322",
   "metadata": {},
   "outputs": [
    {
     "name": "stdout",
     "output_type": "stream",
     "text": [
      "1\n"
     ]
    }
   ],
   "source": [
    "del a\n",
    "print(b)"
   ]
  },
  {
   "cell_type": "code",
   "execution_count": 13,
   "id": "0156eb88",
   "metadata": {},
   "outputs": [
    {
     "name": "stdout",
     "output_type": "stream",
     "text": [
      "1\n"
     ]
    }
   ],
   "source": [
    "del b\n",
    "print(c)"
   ]
  },
  {
   "cell_type": "code",
   "execution_count": null,
   "id": "675ff558",
   "metadata": {},
   "outputs": [],
   "source": []
  },
  {
   "cell_type": "code",
   "execution_count": 15,
   "id": "1996f93e",
   "metadata": {},
   "outputs": [
    {
     "name": "stdout",
     "output_type": "stream",
     "text": [
      "Value of a  30\n",
      "Value of b  10\n"
     ]
    }
   ],
   "source": [
    "a = 10\n",
    "b = a\n",
    "\n",
    "# changing the value of a\n",
    "a = 30\n",
    "\n",
    "print('Value of a ',a)\n",
    "print('Value of b ',b)"
   ]
  },
  {
   "cell_type": "code",
   "execution_count": null,
   "id": "614ea8f4",
   "metadata": {},
   "outputs": [],
   "source": []
  },
  {
   "cell_type": "raw",
   "id": "d7fa3247",
   "metadata": {},
   "source": [
    "Python Weird behaviour::\n",
    "1] Getrefcount anomaly\n",
    "2] -5 to 256\n",
    "3] Strings"
   ]
  },
  {
   "cell_type": "code",
   "execution_count": null,
   "id": "43687fab",
   "metadata": {},
   "outputs": [],
   "source": []
  },
  {
   "cell_type": "raw",
   "id": "7d4b1322",
   "metadata": {},
   "source": [
    "If we want to find how many variables are pointing towards the same function we can find it using \n",
    "\n",
    "getrefcount(var_name)\n",
    "\n",
    "-> It gives the count+1 because he himself starts poitning to the same memory locn to find out the count"
   ]
  },
  {
   "cell_type": "code",
   "execution_count": 19,
   "id": "312d99df",
   "metadata": {},
   "outputs": [
    {
     "name": "stdout",
     "output_type": "stream",
     "text": [
      "ID of a  139877496569712\n",
      "ID of b  139877496569712\n",
      "ID of c  139877496569712\n"
     ]
    }
   ],
   "source": [
    "a = 'xhellox'\n",
    "b = a\n",
    "c = b\n",
    "print('ID of a ',id(a))\n",
    "print('ID of b ',id(b))\n",
    "print('ID of c ',id(c))"
   ]
  },
  {
   "cell_type": "code",
   "execution_count": 20,
   "id": "8316b799",
   "metadata": {},
   "outputs": [
    {
     "data": {
      "text/plain": [
       "4"
      ]
     },
     "execution_count": 20,
     "metadata": {},
     "output_type": "execute_result"
    }
   ],
   "source": [
    "import sys\n",
    "sys.getrefcount(a)"
   ]
  },
  {
   "cell_type": "code",
   "execution_count": null,
   "id": "9a9e1b75",
   "metadata": {},
   "outputs": [],
   "source": []
  },
  {
   "cell_type": "raw",
   "id": "7995cc04",
   "metadata": {},
   "source": [
    "Garbage Collection ::\n",
    "automatically does this stuff of cleaning the data from the memory - it does not gives the power to programmer to clear data from the memory"
   ]
  },
  {
   "cell_type": "code",
   "execution_count": null,
   "id": "fd86dfcb",
   "metadata": {},
   "outputs": [],
   "source": []
  },
  {
   "cell_type": "raw",
   "id": "3d865420",
   "metadata": {},
   "source": [
    "Weird Stuff:\n",
    "\n",
    "- multiple variable point to a common memory location   ' beacuse 2 is a common no. '"
   ]
  },
  {
   "cell_type": "code",
   "execution_count": 21,
   "id": "183fa1e7",
   "metadata": {},
   "outputs": [
    {
     "data": {
      "text/plain": [
       "1575"
      ]
     },
     "execution_count": 21,
     "metadata": {},
     "output_type": "execute_result"
    }
   ],
   "source": [
    "a = 2\n",
    "b = a\n",
    "c = b\n",
    "import sys\n",
    "sys.getrefcount(a)"
   ]
  },
  {
   "cell_type": "code",
   "execution_count": 41,
   "id": "787fb985",
   "metadata": {},
   "outputs": [
    {
     "data": {
      "text/plain": [
       "130"
      ]
     },
     "execution_count": 41,
     "metadata": {},
     "output_type": "execute_result"
    }
   ],
   "source": [
    "import sys\n",
    "a = 12\n",
    "b = a\n",
    "c = b\n",
    "sys.getrefcount(a)"
   ]
  },
  {
   "cell_type": "code",
   "execution_count": null,
   "id": "2aae5e86",
   "metadata": {},
   "outputs": [],
   "source": []
  },
  {
   "cell_type": "code",
   "execution_count": 48,
   "id": "5a73c4cf",
   "metadata": {},
   "outputs": [
    {
     "data": {
      "text/plain": [
       "5"
      ]
     },
     "execution_count": 48,
     "metadata": {},
     "output_type": "execute_result"
    }
   ],
   "source": [
    "a = 1777666\n",
    "b = a\n",
    "c = b\n",
    "sys.getrefcount(a)"
   ]
  },
  {
   "cell_type": "code",
   "execution_count": null,
   "id": "54c0e5d8",
   "metadata": {},
   "outputs": [],
   "source": []
  },
  {
   "cell_type": "raw",
   "id": "89a59070",
   "metadata": {},
   "source": [
    "Another weird behaviour"
   ]
  },
  {
   "cell_type": "code",
   "execution_count": 49,
   "id": "80e34b42",
   "metadata": {},
   "outputs": [
    {
     "name": "stdout",
     "output_type": "stream",
     "text": [
      "ID of a  139877496568496\n",
      "ID of b  139877496568496\n",
      "ID of c  139877496568496\n"
     ]
    }
   ],
   "source": [
    "a = 'xhellox'\n",
    "b = a\n",
    "c = b\n",
    "print('ID of a ',id(a))\n",
    "print('ID of b ',id(b))\n",
    "print('ID of c ',id(c))"
   ]
  },
  {
   "cell_type": "code",
   "execution_count": 50,
   "id": "c6c4ac5b",
   "metadata": {},
   "outputs": [
    {
     "data": {
      "text/plain": [
       "4"
      ]
     },
     "execution_count": 50,
     "metadata": {},
     "output_type": "execute_result"
    }
   ],
   "source": [
    "sys.getrefcount(a)"
   ]
  },
  {
   "cell_type": "code",
   "execution_count": 52,
   "id": "fc7f2342",
   "metadata": {},
   "outputs": [
    {
     "data": {
      "text/plain": [
       "5"
      ]
     },
     "execution_count": 52,
     "metadata": {},
     "output_type": "execute_result"
    }
   ],
   "source": [
    "d = 'xhellox'\n",
    "sys.getrefcount(a)"
   ]
  },
  {
   "cell_type": "code",
   "execution_count": null,
   "id": "5a2ca570",
   "metadata": {},
   "outputs": [],
   "source": []
  },
  {
   "cell_type": "raw",
   "id": "2ff284f8",
   "metadata": {},
   "source": [
    "ID is same for no. between -5 to 256\n",
    "- because of software optimization\n",
    "- python took only this raange of no. becuase they are most commonly used "
   ]
  },
  {
   "cell_type": "code",
   "execution_count": 57,
   "id": "c44eae98",
   "metadata": {},
   "outputs": [
    {
     "name": "stdout",
     "output_type": "stream",
     "text": [
      "ID of a  9788768\n",
      "ID of b  9788768\n"
     ]
    }
   ],
   "source": [
    "a = -5\n",
    "b = -5\n",
    "print('ID of a ',id(a))\n",
    "print('ID of b ',id(b))"
   ]
  },
  {
   "cell_type": "code",
   "execution_count": 53,
   "id": "a2829a34",
   "metadata": {},
   "outputs": [
    {
     "name": "stdout",
     "output_type": "stream",
     "text": [
      "ID of a  9789056\n",
      "ID of b  9789056\n"
     ]
    }
   ],
   "source": [
    "a = 4\n",
    "b = a\n",
    "print('ID of a ',id(a))\n",
    "print('ID of b ',id(b))"
   ]
  },
  {
   "cell_type": "code",
   "execution_count": 54,
   "id": "ad02717f",
   "metadata": {},
   "outputs": [
    {
     "name": "stdout",
     "output_type": "stream",
     "text": [
      "ID of a  9797120\n",
      "ID of b  9797120\n"
     ]
    }
   ],
   "source": [
    "a = 256\n",
    "b = 256\n",
    "print('ID of a ',id(a))\n",
    "print('ID of b ',id(b))"
   ]
  },
  {
   "cell_type": "code",
   "execution_count": null,
   "id": "6fa19675",
   "metadata": {},
   "outputs": [],
   "source": []
  },
  {
   "cell_type": "raw",
   "id": "5bdab63f",
   "metadata": {},
   "source": [
    "Id is different after 256 and below -5 "
   ]
  },
  {
   "cell_type": "code",
   "execution_count": 55,
   "id": "4c1366d8",
   "metadata": {},
   "outputs": [
    {
     "name": "stdout",
     "output_type": "stream",
     "text": [
      "ID of a  139877496454064\n",
      "ID of b  139877496454800\n"
     ]
    }
   ],
   "source": [
    "a = 257\n",
    "b = 257\n",
    "print('ID of a ',id(a))\n",
    "print('ID of b ',id(b))"
   ]
  },
  {
   "cell_type": "code",
   "execution_count": null,
   "id": "24824554",
   "metadata": {},
   "outputs": [],
   "source": []
  },
  {
   "cell_type": "code",
   "execution_count": 56,
   "id": "495e6116",
   "metadata": {},
   "outputs": [
    {
     "name": "stdout",
     "output_type": "stream",
     "text": [
      "ID of a  139877496238160\n",
      "ID of b  139877496238224\n"
     ]
    }
   ],
   "source": [
    "a = -6\n",
    "b = -6\n",
    "print('ID of a ',id(a))\n",
    "print('ID of b ',id(b))"
   ]
  },
  {
   "cell_type": "code",
   "execution_count": null,
   "id": "e6e3569e",
   "metadata": {},
   "outputs": [],
   "source": []
  },
  {
   "cell_type": "raw",
   "id": "bf06e2e0",
   "metadata": {},
   "source": [
    "It'S not aliasing its variable creation\n",
    "\n",
    "a = 5\n",
    "b = 5\n",
    "\n",
    "Its aliasing \n",
    "\n",
    "a = 5\n",
    "b = a"
   ]
  },
  {
   "cell_type": "code",
   "execution_count": null,
   "id": "91e995ed",
   "metadata": {},
   "outputs": [],
   "source": []
  },
  {
   "cell_type": "raw",
   "id": "3648901b",
   "metadata": {},
   "source": [
    "Another weird stuff\n",
    "- when using variable creation"
   ]
  },
  {
   "cell_type": "code",
   "execution_count": 58,
   "id": "6b47f4a6",
   "metadata": {},
   "outputs": [
    {
     "name": "stdout",
     "output_type": "stream",
     "text": [
      "ID of a  139877496130608\n",
      "ID of b  139877496130608\n"
     ]
    }
   ],
   "source": [
    "# here both the ID's are same\n",
    "\n",
    "a = 'raju'\n",
    "b = 'raju'\n",
    "print('ID of a ',id(a))\n",
    "print('ID of b ',id(b))"
   ]
  },
  {
   "cell_type": "code",
   "execution_count": 59,
   "id": "bb1be925",
   "metadata": {},
   "outputs": [
    {
     "name": "stdout",
     "output_type": "stream",
     "text": [
      "ID of a  139877496223904\n",
      "ID of b  139877496224144\n"
     ]
    }
   ],
   "source": [
    "# Here both the ID's are different\n",
    "\n",
    "a = 'raju paisa hi paisa'\n",
    "b = 'raju paisa hi paisa'\n",
    "print('ID of a ',id(a))\n",
    "print('ID of b ',id(b))"
   ]
  },
  {
   "cell_type": "code",
   "execution_count": 60,
   "id": "d90047d5",
   "metadata": {},
   "outputs": [
    {
     "name": "stdout",
     "output_type": "stream",
     "text": [
      "ID of a  139877496224544\n",
      "ID of b  139877496224544\n"
     ]
    }
   ],
   "source": [
    "# here both the ID's are same\n",
    "\n",
    "a = 'raju_paisa_hi_paisa'\n",
    "b = 'raju_paisa_hi_paisa'\n",
    "print('ID of a ',id(a))\n",
    "print('ID of b ',id(b))"
   ]
  },
  {
   "cell_type": "code",
   "execution_count": null,
   "id": "607788ca",
   "metadata": {},
   "outputs": [],
   "source": []
  },
  {
   "cell_type": "raw",
   "id": "b667f1ee",
   "metadata": {},
   "source": [
    "Ans is :\n",
    "    \n",
    "Python creates same ID's for valid Identifiers \n",
    "and different IDs for not valid Indentifiers\n",
    "\n",
    "Valid identifiers : does not start with a no. can consist of a _ (unser score) in between"
   ]
  },
  {
   "cell_type": "code",
   "execution_count": null,
   "id": "2922ee5b",
   "metadata": {},
   "outputs": [],
   "source": []
  },
  {
   "cell_type": "raw",
   "id": "e3063f04",
   "metadata": {},
   "source": [
    "how a list is sored into the memory"
   ]
  },
  {
   "cell_type": "code",
   "execution_count": 62,
   "id": "60327566",
   "metadata": {},
   "outputs": [
    {
     "data": {
      "text/plain": [
       "139877496129344"
      ]
     },
     "execution_count": 62,
     "metadata": {},
     "output_type": "execute_result"
    }
   ],
   "source": [
    "l = [1,2,3,4]\n",
    "id(l)"
   ]
  },
  {
   "cell_type": "code",
   "execution_count": 63,
   "id": "75aa28e9",
   "metadata": {},
   "outputs": [
    {
     "name": "stdout",
     "output_type": "stream",
     "text": [
      "9788960\n",
      "9788992\n",
      "9789024\n"
     ]
    }
   ],
   "source": [
    "print(id(l[0]))\n",
    "print(id(l[1]))\n",
    "print(id(l[2]))"
   ]
  },
  {
   "cell_type": "raw",
   "id": "daaebea6",
   "metadata": {},
   "source": [
    "l = [1,2,3]\n",
    "\n",
    "l => point to locn 9344 \n",
    "\n",
    "so l = [1,2,3] is actually stored as \n",
    "l = [8960,8992,9024] in memory location 9344\n"
   ]
  },
  {
   "cell_type": "code",
   "execution_count": null,
   "id": "6d36ee58",
   "metadata": {},
   "outputs": [],
   "source": []
  },
  {
   "cell_type": "code",
   "execution_count": 68,
   "id": "87c2d776",
   "metadata": {},
   "outputs": [
    {
     "name": "stdout",
     "output_type": "stream",
     "text": [
      "Id of l is  139877073623104\n",
      "Id of 1  9788960\n",
      "Id of 2  9788992\n",
      "Id of 3  9789024\n",
      "Id of 4  9789056\n"
     ]
    }
   ],
   "source": [
    "l = [1,2,3,4]\n",
    "print('Id of l is ',id(l))\n",
    "print('Id of 1 ',id(l[0]))\n",
    "print('Id of 2 ',id(l[1]))\n",
    "print('Id of 3 ',id(l[2]))\n",
    "print('Id of 4 ',id(l[3]))"
   ]
  },
  {
   "cell_type": "code",
   "execution_count": 73,
   "id": "b6d5b2da",
   "metadata": {},
   "outputs": [
    {
     "name": "stdout",
     "output_type": "stream",
     "text": [
      "Id of l is  139877073623104\n",
      "Id of 1  9788960\n",
      "Id of 2  9788992\n",
      "Id of 3  9789024\n",
      "Id of 4  9788960\n"
     ]
    }
   ],
   "source": [
    "l[3] = 1\n",
    "print('Id of l is ',id(l))\n",
    "print('Id of 1 ',id(l[0]))\n",
    "print('Id of 2 ',id(l[1]))\n",
    "print('Id of 3 ',id(l[2]))\n",
    "print('Id of 4 ',id(l[3]))\n",
    "\n",
    "# as we can see Id of 1 and 4 is same : 9788960\n",
    "# both are pointing to the same number"
   ]
  },
  {
   "cell_type": "code",
   "execution_count": null,
   "id": "5a1f61af",
   "metadata": {},
   "outputs": [],
   "source": []
  },
  {
   "cell_type": "code",
   "execution_count": 75,
   "id": "ae08bd48",
   "metadata": {},
   "outputs": [
    {
     "name": "stdout",
     "output_type": "stream",
     "text": [
      "Id of l is  139877496129600\n",
      "Id of 1  9788960\n",
      "Id of 2  9788992\n",
      "Id of 3  9789024\n",
      "Id of [4,5] is  139877496130624\n"
     ]
    }
   ],
   "source": [
    "l = [1,2,3,[4,5]]\n",
    "print('Id of l is ',id(l))\n",
    "print('Id of 1 ',id(l[0]))\n",
    "print('Id of 2 ',id(l[1]))\n",
    "print('Id of 3 ',id(l[2]))\n",
    "print('Id of [4,5] is ',id(l[3]))"
   ]
  },
  {
   "cell_type": "code",
   "execution_count": 76,
   "id": "a589f446",
   "metadata": {},
   "outputs": [
    {
     "name": "stdout",
     "output_type": "stream",
     "text": [
      "Id of [4,5] is  139877496130624\n",
      "Id of 4  9789056\n",
      "Id of 5  9789088\n"
     ]
    }
   ],
   "source": [
    "print('Id of [4,5] is ',id(l[3]))\n",
    "\n",
    "print('Id of 4 ',id(l[3][0]))\n",
    "print('Id of 5 ',id(l[3][1]))"
   ]
  },
  {
   "cell_type": "raw",
   "id": "9bda08e8",
   "metadata": {},
   "source": [
    "So, here the data is stored as\n",
    "\n",
    "l = [8960,8992,9024,9056,9088]"
   ]
  },
  {
   "cell_type": "code",
   "execution_count": 77,
   "id": "06fd7e3b",
   "metadata": {},
   "outputs": [],
   "source": [
    "# changing the data\n",
    "l[3][0]=1\n",
    "l[3][1]=2"
   ]
  },
  {
   "cell_type": "code",
   "execution_count": 78,
   "id": "ce059642",
   "metadata": {},
   "outputs": [
    {
     "name": "stdout",
     "output_type": "stream",
     "text": [
      "Id of l is  139877496129600\n",
      "Id of 1  9788960\n",
      "Id of 2  9788992\n",
      "Id of 3  9789024\n",
      "Id of [1,2] is  139877496130624\n",
      "Id of 1  9788960\n",
      "Id of 2  9788992\n"
     ]
    }
   ],
   "source": [
    "print('Id of l is ',id(l))\n",
    "print('Id of 1 ',id(l[0]))\n",
    "print('Id of 2 ',id(l[1]))\n",
    "print('Id of 3 ',id(l[2]))\n",
    "print('Id of [1,2] is ',id(l[3]))\n",
    "print('Id of 1 ',id(l[3][0]))\n",
    "print('Id of 2 ',id(l[3][1]))"
   ]
  },
  {
   "cell_type": "code",
   "execution_count": null,
   "id": "5e4b1d26",
   "metadata": {},
   "outputs": [],
   "source": []
  },
  {
   "cell_type": "raw",
   "id": "3a771e08",
   "metadata": {},
   "source": [
    "Mutability : depends on the data type\n",
    "\n",
    "Mutability : refers to the ability to change or edit data in it's memory location"
   ]
  },
  {
   "cell_type": "raw",
   "id": "6c9d3286",
   "metadata": {},
   "source": [
    "Immutable data type : \n",
    "- String\n",
    "- int\n",
    "- float\n",
    "- bool\n",
    "- Complex\n",
    "- Tuple\n",
    "\n",
    "Mutable data type\n",
    "- List\n",
    "- Dict\n",
    "- Sets"
   ]
  },
  {
   "cell_type": "code",
   "execution_count": null,
   "id": "d28ef53a",
   "metadata": {},
   "outputs": [],
   "source": []
  },
  {
   "cell_type": "raw",
   "id": "c985df30",
   "metadata": {},
   "source": [
    "Note: In the below ex the data is not change but a new data is created into the memory and the var is pointing to it\n",
    "\n",
    "beacuse it's immutable data type & the ID is changes after altering the data"
   ]
  },
  {
   "cell_type": "code",
   "execution_count": 8,
   "id": "bbd3a399",
   "metadata": {},
   "outputs": [
    {
     "name": "stdout",
     "output_type": "stream",
     "text": [
      "a :  hello\n",
      "Id of a is :  139987506059056\n"
     ]
    }
   ],
   "source": [
    "a = 'hello'\n",
    "print('a : ',a)\n",
    "print(f'Id of a is : ', id(a))\n"
   ]
  },
  {
   "cell_type": "code",
   "execution_count": 9,
   "id": "b5016b80",
   "metadata": {
    "scrolled": true
   },
   "outputs": [
    {
     "name": "stdout",
     "output_type": "stream",
     "text": [
      "a :  hello world\n",
      "Id of a is :  139987483383472\n"
     ]
    }
   ],
   "source": [
    "a = a+' world'\n",
    "print('a : ',a)\n",
    "print(f'Id of a is : ', id(a))"
   ]
  },
  {
   "cell_type": "code",
   "execution_count": null,
   "id": "a49e481a",
   "metadata": {},
   "outputs": [],
   "source": []
  },
  {
   "cell_type": "raw",
   "id": "fdc9142e",
   "metadata": {},
   "source": [
    "Note: In the below ex the data is not change but a new data is created into the memory and the var is pointing to it\n",
    "\n",
    "beacuse it's immutable data type & the ID is changes after altering the data"
   ]
  },
  {
   "cell_type": "code",
   "execution_count": 10,
   "id": "9cccb9b6",
   "metadata": {},
   "outputs": [
    {
     "name": "stdout",
     "output_type": "stream",
     "text": [
      "tuple t :  (1, 2, 3)\n",
      "Id of t is :  139987483041920\n"
     ]
    }
   ],
   "source": [
    "t = (1,2,3)\n",
    "\n",
    "print('tuple t : ',t)\n",
    "print(f'Id of t is : ', id(t))"
   ]
  },
  {
   "cell_type": "code",
   "execution_count": 11,
   "id": "75100f21",
   "metadata": {},
   "outputs": [
    {
     "name": "stdout",
     "output_type": "stream",
     "text": [
      "tuple t :  (1, 2, 3, 5, 6)\n",
      "Id of t is :  139987483178544\n"
     ]
    }
   ],
   "source": [
    "t = t+(5,6)\n",
    "\n",
    "print('tuple t : ',t)\n",
    "print(f'Id of t is : ', id(t))"
   ]
  },
  {
   "cell_type": "code",
   "execution_count": null,
   "id": "a03c1129",
   "metadata": {},
   "outputs": [],
   "source": []
  },
  {
   "cell_type": "raw",
   "id": "70920d0c",
   "metadata": {},
   "source": [
    "But in the case of mutable data type the changes takes place in the memory (actual data itself)\n",
    "\n",
    "ex. List\n",
    "\n",
    "As we can the ihe ID is not changed [Its the same memory locn]. It remains the same even after alteraton of the data. The changes took place inplace itself"
   ]
  },
  {
   "cell_type": "code",
   "execution_count": 14,
   "id": "374ac96b",
   "metadata": {},
   "outputs": [
    {
     "name": "stdout",
     "output_type": "stream",
     "text": [
      "list l :  [1, 2, 4]\n",
      "Id of l is :  139987483156672\n"
     ]
    }
   ],
   "source": [
    "l = [1,2,4]\n",
    "\n",
    "print('list l : ',l)\n",
    "print(f'Id of l is : ', id(l))"
   ]
  },
  {
   "cell_type": "code",
   "execution_count": 15,
   "id": "b063b782",
   "metadata": {},
   "outputs": [
    {
     "name": "stdout",
     "output_type": "stream",
     "text": [
      "list l :  [1, 2, 4, 5, 6]\n",
      "Id of l is :  139987483156672\n"
     ]
    }
   ],
   "source": [
    "l+=[5,6]\n",
    "\n",
    "print('list l : ',l)\n",
    "print(f'Id of l is : ', id(l))"
   ]
  },
  {
   "cell_type": "code",
   "execution_count": null,
   "id": "e7486154",
   "metadata": {},
   "outputs": [],
   "source": []
  },
  {
   "cell_type": "raw",
   "id": "0df6814a",
   "metadata": {},
   "source": [
    "To avoid changes into the actual data type we do Cloning"
   ]
  },
  {
   "cell_type": "code",
   "execution_count": 21,
   "id": "7391181b",
   "metadata": {},
   "outputs": [
    {
     "name": "stdout",
     "output_type": "stream",
     "text": [
      "l1 =  [1, 2, 3, 4] 139987483403584\n",
      "lcopy =  [1, 2, 3, 4] 139987483403584\n",
      "\n",
      "l1 =  [1, 2, 3, 4, 100] 139987483403584\n",
      "lcopy =  [1, 2, 3, 4, 100] 139987483403584\n"
     ]
    }
   ],
   "source": [
    "l1 = [1,2,3,4]\n",
    "lcopy = l1 \n",
    "# this is aliasing so changes in lcopy will have permanent effect on l1\n",
    "print('l1 = ',l1,id(l1))\n",
    "print('lcopy = ',lcopy,id(lcopy))\n",
    "\n",
    "lcopy.append(100)\n",
    "print('\\nl1 = ',l1,id(l1))\n",
    "print('lcopy = ',lcopy,id(lcopy))"
   ]
  },
  {
   "cell_type": "code",
   "execution_count": null,
   "id": "a6cfa297",
   "metadata": {},
   "outputs": [],
   "source": []
  },
  {
   "cell_type": "code",
   "execution_count": 18,
   "id": "a29e4b83",
   "metadata": {},
   "outputs": [],
   "source": [
    "# Using Cloning"
   ]
  },
  {
   "cell_type": "code",
   "execution_count": 22,
   "id": "0b021f6e",
   "metadata": {},
   "outputs": [
    {
     "name": "stdout",
     "output_type": "stream",
     "text": [
      "l1 =  [1, 2, 3, 4] 139987482639360\n",
      "lcopy =  [1, 2, 3, 4] 139987482639872\n",
      "\n",
      "l1 =  [1, 2, 3, 4] 139987482639360\n",
      "lcopy =  [1, 2, 3, 4, 100] 139987482639872\n"
     ]
    }
   ],
   "source": [
    "l1 = [1,2,3,4]\n",
    "lcopy = l1[:] # using Cloning here !!\n",
    "\n",
    "print('l1 = ',l1,id(l1)) \n",
    "print('lcopy = ',lcopy,id(lcopy))\n",
    "\n",
    "lcopy.append(100)\n",
    "print('\\nl1 = ',l1,id(l1))\n",
    "print('lcopy = ',lcopy,id(lcopy))"
   ]
  },
  {
   "cell_type": "code",
   "execution_count": null,
   "id": "b46388dc",
   "metadata": {},
   "outputs": [],
   "source": []
  },
  {
   "cell_type": "raw",
   "id": "8ca0ee75",
   "metadata": {},
   "source": [
    "our actual tuple a,list   will get modified or not ??\n",
    "- yes it will work"
   ]
  },
  {
   "cell_type": "code",
   "execution_count": 28,
   "id": "8fa0c1bc",
   "metadata": {},
   "outputs": [
    {
     "name": "stdout",
     "output_type": "stream",
     "text": [
      "a :  (1, 2, 3, [4, 5]) 139987482682128\n"
     ]
    }
   ],
   "source": [
    "a = (1,2,3,[4,5])\n",
    "print('a : ',a,id(a))"
   ]
  },
  {
   "cell_type": "code",
   "execution_count": 29,
   "id": "c7884097",
   "metadata": {},
   "outputs": [],
   "source": [
    "a[-1][-1]=0"
   ]
  },
  {
   "cell_type": "code",
   "execution_count": 30,
   "id": "7967abdb",
   "metadata": {},
   "outputs": [
    {
     "name": "stdout",
     "output_type": "stream",
     "text": [
      "a :  (1, 2, 3, [4, 0]) 139987482682128\n"
     ]
    }
   ],
   "source": [
    "print('a : ',a,id(a))"
   ]
  },
  {
   "cell_type": "code",
   "execution_count": null,
   "id": "343ad1ad",
   "metadata": {},
   "outputs": [],
   "source": []
  },
  {
   "cell_type": "raw",
   "id": "be0e5319",
   "metadata": {},
   "source": [
    "our actual list b, tuple will get modified or not ??\n",
    "- No it will not work"
   ]
  },
  {
   "cell_type": "code",
   "execution_count": 32,
   "id": "e7903d2f",
   "metadata": {},
   "outputs": [
    {
     "name": "stdout",
     "output_type": "stream",
     "text": [
      "a :  [1, 2, 3, (4, 5)] 139987483106688\n"
     ]
    }
   ],
   "source": [
    "a = [1,2,3,(4,5)]\n",
    "print('a : ',a,id(a))"
   ]
  },
  {
   "cell_type": "code",
   "execution_count": 33,
   "id": "f09fb40e",
   "metadata": {},
   "outputs": [
    {
     "ename": "TypeError",
     "evalue": "'tuple' object does not support item assignment",
     "output_type": "error",
     "traceback": [
      "\u001b[0;31m---------------------------------------------------------------------------\u001b[0m",
      "\u001b[0;31mTypeError\u001b[0m                                 Traceback (most recent call last)",
      "Input \u001b[0;32mIn [33]\u001b[0m, in \u001b[0;36m<module>\u001b[0;34m\u001b[0m\n\u001b[0;32m----> 1\u001b[0m a[\u001b[38;5;241m-\u001b[39m\u001b[38;5;241m1\u001b[39m][\u001b[38;5;241m-\u001b[39m\u001b[38;5;241m1\u001b[39m]\u001b[38;5;241m=\u001b[39m\u001b[38;5;241m0\u001b[39m\n",
      "\u001b[0;31mTypeError\u001b[0m: 'tuple' object does not support item assignment"
     ]
    }
   ],
   "source": [
    "a[-1][-1]=0"
   ]
  },
  {
   "cell_type": "code",
   "execution_count": null,
   "id": "8031ff25",
   "metadata": {},
   "outputs": [],
   "source": []
  },
  {
   "cell_type": "code",
   "execution_count": null,
   "id": "1f035551",
   "metadata": {},
   "outputs": [],
   "source": []
  },
  {
   "cell_type": "raw",
   "id": "50dccf44",
   "metadata": {},
   "source": [
    "Note : List\n",
    "\n",
    "If we use built in fucntions such as append,insert, extend then the address will not get changed because it's a mutable data type. \n",
    "\n",
    "But if we concatinate a new list to the existing list the address will get changed because str is a nom mutable data type and a new list will get created inside the memory & our variable will start pointing to it"
   ]
  },
  {
   "cell_type": "code",
   "execution_count": 36,
   "id": "4eeec5fc",
   "metadata": {},
   "outputs": [
    {
     "name": "stdout",
     "output_type": "stream",
     "text": [
      "Before append l1 :  [1, 2, 3] 139987482639360\n",
      "After append l1 :  [1, 2, 3, 4] 139987482639360\n"
     ]
    }
   ],
   "source": [
    "l1 = [1,2,3]\n",
    "print('Before append l1 : ',l1,id(l1))\n",
    "l1.append(4)\n",
    "print('After append l1 : ',l1,id(l1))\n",
    "\n",
    "# as we can see the Id is not changed"
   ]
  },
  {
   "cell_type": "code",
   "execution_count": 39,
   "id": "9763674f",
   "metadata": {},
   "outputs": [
    {
     "name": "stdout",
     "output_type": "stream",
     "text": [
      "Before concatinate l1 :  [1, 2, 3, 4, 4] 139987482639360\n",
      "After concatinate l1 :  [1, 2, 3, 4, 4, 5] 139986992728704\n"
     ]
    }
   ],
   "source": [
    "print('Before concatinate l1 : ',l1,id(l1))\n",
    "l1=l1+[5]\n",
    "print('After concatinate l1 : ',l1,id(l1))\n",
    "\n",
    "# as we can see the ID is changed"
   ]
  },
  {
   "cell_type": "code",
   "execution_count": null,
   "id": "910ebccc",
   "metadata": {},
   "outputs": [],
   "source": []
  },
  {
   "cell_type": "code",
   "execution_count": null,
   "id": "9d52dc47",
   "metadata": {},
   "outputs": [],
   "source": []
  },
  {
   "cell_type": "code",
   "execution_count": 42,
   "id": "f4be84bf",
   "metadata": {},
   "outputs": [
    {
     "name": "stdout",
     "output_type": "stream",
     "text": [
      "l1 :  [1, 2] 139987345958208\n",
      "l2 :  [3, 4] 139987483106496\n",
      "c :  [[1, 2], [3, 4]] 139987482639360\n"
     ]
    }
   ],
   "source": [
    "l1 = [1,2]\n",
    "l2 = [3,4]\n",
    "c = [l1,l2]\n",
    "print('l1 : ',l1,id(l1))\n",
    "print('l2 : ',l2,id(l2))\n",
    "print('c : ',c,id(c))"
   ]
  },
  {
   "cell_type": "code",
   "execution_count": 43,
   "id": "faf59286",
   "metadata": {},
   "outputs": [
    {
     "name": "stdout",
     "output_type": "stream",
     "text": [
      "l1 :  ['hello', 2] 139987345958208\n",
      "c :  [['hello', 2], [3, 4]] 139987482639360\n"
     ]
    }
   ],
   "source": [
    "# making changes to l1\n",
    "c[0][0]='hello'\n",
    "print('l1 : ',l1,id(l1))\n",
    "print('c : ',c,id(c))"
   ]
  },
  {
   "cell_type": "code",
   "execution_count": null,
   "id": "f6fab33d",
   "metadata": {},
   "outputs": [],
   "source": []
  },
  {
   "cell_type": "code",
   "execution_count": null,
   "id": "cd6c39f0",
   "metadata": {},
   "outputs": [],
   "source": []
  },
  {
   "cell_type": "code",
   "execution_count": 44,
   "id": "0bdbfdd6",
   "metadata": {},
   "outputs": [
    {
     "name": "stdout",
     "output_type": "stream",
     "text": [
      "l1 :  [1, 2] 139986992695616\n",
      "l2 :  [3, 4] 139986992632000\n",
      "c :  [[1, 2], [3, 4]] 139986992705664\n"
     ]
    }
   ],
   "source": [
    "l1 = [1,2]\n",
    "l2 = [3,4]\n",
    "c = [l1,l2]\n",
    "print('l1 : ',l1,id(l1))\n",
    "print('l2 : ',l2,id(l2))\n",
    "print('c : ',c,id(c))"
   ]
  },
  {
   "cell_type": "code",
   "execution_count": 45,
   "id": "77de1227",
   "metadata": {},
   "outputs": [
    {
     "name": "stdout",
     "output_type": "stream",
     "text": [
      "l1 :  [1, 2, 'new', 'changes'] 139987483106496\n",
      "l2 :  [3, 4] 139986992632000\n",
      "c :  [[1, 2], [3, 4]] 139986992705664\n"
     ]
    }
   ],
   "source": [
    "l1 = l1+['new','changes']\n",
    "print('l1 : ',l1,id(l1))\n",
    "print('l2 : ',l2,id(l2))\n",
    "print('c : ',c,id(c))"
   ]
  },
  {
   "cell_type": "code",
   "execution_count": null,
   "id": "ab7f1ac1",
   "metadata": {},
   "outputs": [],
   "source": []
  }
 ],
 "metadata": {
  "kernelspec": {
   "display_name": "Python 3 (ipykernel)",
   "language": "python",
   "name": "python3"
  },
  "language_info": {
   "codemirror_mode": {
    "name": "ipython",
    "version": 3
   },
   "file_extension": ".py",
   "mimetype": "text/x-python",
   "name": "python",
   "nbconvert_exporter": "python",
   "pygments_lexer": "ipython3",
   "version": "3.8.10"
  }
 },
 "nbformat": 4,
 "nbformat_minor": 5
}
