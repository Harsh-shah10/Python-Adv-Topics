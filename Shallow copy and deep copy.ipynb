{
 "cells": [
  {
   "cell_type": "code",
   "execution_count": 1,
   "id": "bf364ab8",
   "metadata": {},
   "outputs": [],
   "source": [
    "lst1 = [1,2,3,4]\n",
    "lst2 = lst1"
   ]
  },
  {
   "cell_type": "code",
   "execution_count": 2,
   "id": "bfc1e1d3",
   "metadata": {},
   "outputs": [
    {
     "name": "stdout",
     "output_type": "stream",
     "text": [
      "[1, 2, 3, 4] 139896617740288\n",
      "[1, 2, 3, 4] 139896617740288\n"
     ]
    }
   ],
   "source": [
    "print(lst1,id(lst1))\n",
    "print(lst2,id(lst2))"
   ]
  },
  {
   "cell_type": "code",
   "execution_count": 3,
   "id": "37385a9b",
   "metadata": {},
   "outputs": [],
   "source": [
    "lst1[1] = 1000"
   ]
  },
  {
   "cell_type": "code",
   "execution_count": 4,
   "id": "36f0a076",
   "metadata": {},
   "outputs": [
    {
     "name": "stdout",
     "output_type": "stream",
     "text": [
      "[1, 1000, 3, 4] 139896617740288\n",
      "[1, 1000, 3, 4] 139896617740288\n"
     ]
    }
   ],
   "source": [
    "print(lst1,id(lst1))\n",
    "print(lst2,id(lst2))"
   ]
  },
  {
   "cell_type": "code",
   "execution_count": null,
   "id": "68177d84",
   "metadata": {},
   "outputs": [],
   "source": []
  },
  {
   "cell_type": "markdown",
   "id": "67cd4d01",
   "metadata": {},
   "source": [
    "Shallow copy :\n",
    "- A shallow copy creates a new object which stores the reference of the original elements. \n",
    "- So, a shallow copy doesn't create a copy of nested objects, instead it just copies the reference of nested objects.\n",
    "- This means, a copy process does not create copies of nested objects itself.\n"
   ]
  },
  {
   "cell_type": "markdown",
   "id": "9cdaaa8e",
   "metadata": {},
   "source": [
    "Using .copy : Shallow copy"
   ]
  },
  {
   "cell_type": "code",
   "execution_count": 5,
   "id": "04885454",
   "metadata": {},
   "outputs": [],
   "source": [
    "# using .copy() : different memory locn\n",
    "\n",
    "lst1 = [1,2,3,4] # here the list consist of different items\n",
    "lst2 = lst1.copy()"
   ]
  },
  {
   "cell_type": "code",
   "execution_count": 6,
   "id": "027cd79d",
   "metadata": {},
   "outputs": [
    {
     "name": "stdout",
     "output_type": "stream",
     "text": [
      "[1, 2, 3, 4] 139896617563072\n",
      "[1, 2, 3, 4] 139896617740992\n"
     ]
    }
   ],
   "source": [
    "print(lst1,id(lst1))\n",
    "print(lst2,id(lst2))"
   ]
  },
  {
   "cell_type": "code",
   "execution_count": 7,
   "id": "244bac0d",
   "metadata": {},
   "outputs": [],
   "source": [
    "lst1[1] = 1000"
   ]
  },
  {
   "cell_type": "code",
   "execution_count": 8,
   "id": "9a5a4001",
   "metadata": {},
   "outputs": [
    {
     "name": "stdout",
     "output_type": "stream",
     "text": [
      "[1, 1000, 3, 4] 139896617563072\n",
      "[1, 2, 3, 4] 139896617740992\n"
     ]
    }
   ],
   "source": [
    "print(lst1,id(lst1))\n",
    "print(lst2,id(lst2))"
   ]
  },
  {
   "cell_type": "code",
   "execution_count": null,
   "id": "fd9b7cb4",
   "metadata": {},
   "outputs": [],
   "source": []
  },
  {
   "cell_type": "code",
   "execution_count": 13,
   "id": "11b0e25f",
   "metadata": {},
   "outputs": [],
   "source": [
    "# Shallow copy : with respect to nested list\n",
    "\n",
    "lst1 = [[1,2,3,4],[5,6,7,8]]\n",
    "'''\n",
    "Here the list consist of 2 sub list as items \n",
    "and these sub list consist of different objects\n",
    "'''\n",
    "lst2 = lst1.copy()"
   ]
  },
  {
   "cell_type": "code",
   "execution_count": 14,
   "id": "8dc8732e",
   "metadata": {},
   "outputs": [
    {
     "name": "stdout",
     "output_type": "stream",
     "text": [
      "[[1, 2, 3, 4], [5, 6, 7, 8]] 139896488209984\n",
      "[[1, 2, 3, 4], [5, 6, 7, 8]] 139896480348864\n"
     ]
    }
   ],
   "source": [
    "print(lst1,id(lst1))\n",
    "print(lst2,id(lst2))"
   ]
  },
  {
   "cell_type": "code",
   "execution_count": 15,
   "id": "47c37602",
   "metadata": {},
   "outputs": [],
   "source": [
    "lst1[1][0] = 1000"
   ]
  },
  {
   "cell_type": "code",
   "execution_count": 16,
   "id": "dfafae77",
   "metadata": {},
   "outputs": [
    {
     "name": "stdout",
     "output_type": "stream",
     "text": [
      "[[1, 2, 3, 4], [1000, 6, 7, 8]] 139896488209984\n",
      "[[1, 2, 3, 4], [1000, 6, 7, 8]] 139896480348864\n"
     ]
    }
   ],
   "source": [
    "print(lst1,id(lst1))\n",
    "print(lst2,id(lst2))\n",
    "\n",
    "'''\n",
    "Here we can see the value 1000 is been updated in both\n",
    "the nested list, \n",
    "because it is referring to the same obj present\n",
    "inside the nested list\n",
    "'''"
   ]
  },
  {
   "cell_type": "code",
   "execution_count": null,
   "id": "7b9948fa",
   "metadata": {},
   "outputs": [],
   "source": []
  },
  {
   "cell_type": "code",
   "execution_count": 17,
   "id": "441546b4",
   "metadata": {},
   "outputs": [],
   "source": [
    "# Shallow copy : with respect to nested list\n",
    "\n",
    "lst1 = [[1,2,3,4],[5,6,7,8]]\n",
    "'''\n",
    "Here the list consist of 2 sub list as items \n",
    "and these sub list consist of different objects\n",
    "'''\n",
    "lst2 = lst1.copy()"
   ]
  },
  {
   "cell_type": "code",
   "execution_count": 18,
   "id": "d5696ab8",
   "metadata": {},
   "outputs": [
    {
     "name": "stdout",
     "output_type": "stream",
     "text": [
      "[[1, 2, 3, 4], [5, 6, 7, 8]] 139896480339904\n",
      "[[1, 2, 3, 4], [5, 6, 7, 8]] 139896127516160\n"
     ]
    }
   ],
   "source": [
    "print(lst1,id(lst1))\n",
    "print(lst2,id(lst2))"
   ]
  },
  {
   "cell_type": "code",
   "execution_count": 19,
   "id": "bf74c009",
   "metadata": {},
   "outputs": [],
   "source": [
    "lst1.append([11,12,13,1])"
   ]
  },
  {
   "cell_type": "code",
   "execution_count": 20,
   "id": "0f04596f",
   "metadata": {},
   "outputs": [
    {
     "name": "stdout",
     "output_type": "stream",
     "text": [
      "[[1, 2, 3, 4], [5, 6, 7, 8], [11, 12, 13, 1]] 139896480339904\n",
      "[[1, 2, 3, 4], [5, 6, 7, 8]] 139896127516160\n"
     ]
    }
   ],
   "source": [
    "print(lst1,id(lst1))\n",
    "print(lst2,id(lst2))"
   ]
  },
  {
   "cell_type": "code",
   "execution_count": null,
   "id": "645034ea",
   "metadata": {},
   "outputs": [],
   "source": []
  },
  {
   "cell_type": "markdown",
   "id": "59d5e8fb",
   "metadata": {},
   "source": [
    "Deep Copy : \n",
    "- A deep copy is a process where we create a new object and add copy elements recursively. \n",
    "- In case of deep copy, a copy of object is copied in other object.\n",
    "- We will use the deecopy() method which present in copy module. "
   ]
  },
  {
   "cell_type": "code",
   "execution_count": 22,
   "id": "d1f08f7a",
   "metadata": {},
   "outputs": [],
   "source": [
    "'''\n",
    "When u have a 1D list, It works same as shallow copy\n",
    "'''\n",
    "import copy\n",
    "\n",
    "lst1 = [1,2,3,4] # here the list consist of different items\n",
    "lst2 = copy.deepcopy(lst1)"
   ]
  },
  {
   "cell_type": "code",
   "execution_count": 23,
   "id": "b9ea4973",
   "metadata": {},
   "outputs": [
    {
     "name": "stdout",
     "output_type": "stream",
     "text": [
      "[1, 2, 3, 4] 139896127644480\n",
      "[1, 2, 3, 4] 139896127229120\n"
     ]
    }
   ],
   "source": [
    "print(lst1,id(lst1))\n",
    "print(lst2,id(lst2))"
   ]
  },
  {
   "cell_type": "code",
   "execution_count": 24,
   "id": "15474160",
   "metadata": {},
   "outputs": [],
   "source": [
    "lst2[0]=1556"
   ]
  },
  {
   "cell_type": "code",
   "execution_count": 25,
   "id": "0e2d40c9",
   "metadata": {},
   "outputs": [
    {
     "name": "stdout",
     "output_type": "stream",
     "text": [
      "[1, 2, 3, 4] 139896127644480\n",
      "[1556, 2, 3, 4] 139896127229120\n"
     ]
    }
   ],
   "source": [
    "print(lst1,id(lst1))\n",
    "print(lst2,id(lst2))"
   ]
  },
  {
   "cell_type": "markdown",
   "id": "40811e58",
   "metadata": {},
   "source": [
    "Note : \n",
    "- In a normal list shallow copy == deep copy"
   ]
  },
  {
   "cell_type": "code",
   "execution_count": 26,
   "id": "23d0b8df",
   "metadata": {},
   "outputs": [],
   "source": [
    "import copy\n",
    "\n",
    "lst1 = [[1, 2, 3, 4], [5, 6, 7, 8], [11, 12, 13, 1]]\n",
    "# here the list consist of different items\n",
    "\n",
    "lst2 = copy.deepcopy(lst1)"
   ]
  },
  {
   "cell_type": "code",
   "execution_count": 27,
   "id": "de3895bd",
   "metadata": {},
   "outputs": [
    {
     "name": "stdout",
     "output_type": "stream",
     "text": [
      "[[1, 2, 3, 4], [5, 6, 7, 8], [11, 12, 13, 1]] 139896127219264\n",
      "[[1, 2, 3, 4], [5, 6, 7, 8], [11, 12, 13, 1]] 139896127223680\n"
     ]
    }
   ],
   "source": [
    "print(lst1,id(lst1))\n",
    "print(lst2,id(lst2))"
   ]
  },
  {
   "cell_type": "code",
   "execution_count": 28,
   "id": "95dcf968",
   "metadata": {},
   "outputs": [],
   "source": [
    "lst2[0][3]=4444"
   ]
  },
  {
   "cell_type": "code",
   "execution_count": 29,
   "id": "6574fe19",
   "metadata": {},
   "outputs": [
    {
     "name": "stdout",
     "output_type": "stream",
     "text": [
      "[[1, 2, 3, 4], [5, 6, 7, 8], [11, 12, 13, 1]] 139896127219264\n",
      "[[1, 2, 3, 4444], [5, 6, 7, 8], [11, 12, 13, 1]] 139896127223680\n"
     ]
    }
   ],
   "source": [
    "print(lst1,id(lst1))\n",
    "print(lst2,id(lst2))"
   ]
  },
  {
   "cell_type": "code",
   "execution_count": null,
   "id": "54fc5b9f",
   "metadata": {},
   "outputs": [],
   "source": []
  }
 ],
 "metadata": {
  "kernelspec": {
   "display_name": "Python 3 (ipykernel)",
   "language": "python",
   "name": "python3"
  },
  "language_info": {
   "codemirror_mode": {
    "name": "ipython",
    "version": 3
   },
   "file_extension": ".py",
   "mimetype": "text/x-python",
   "name": "python",
   "nbconvert_exporter": "python",
   "pygments_lexer": "ipython3",
   "version": "3.8.10"
  }
 },
 "nbformat": 4,
 "nbformat_minor": 5
}
