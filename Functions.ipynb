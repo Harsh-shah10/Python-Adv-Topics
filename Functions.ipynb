{
 "cells": [
  {
   "cell_type": "markdown",
   "id": "76af2988",
   "metadata": {},
   "source": [
    "Functions :\n",
    "- A function is a block of code which only runs when it is called.\n",
    "\n",
    "- You can pass data, known as parameters, into a function."
   ]
  },
  {
   "cell_type": "markdown",
   "id": "9c72e5b6",
   "metadata": {},
   "source": [
    "Decomposition :\n",
    "- Decomposition is a process of breaking down. \n",
    "- It will be breaking down functions into smaller parts. \n",
    "- It is another important principle of software engineering to handle problem complexity.\n",
    "\n",
    "Abstraction :\n",
    "- It refers to the construction of a simpler version of a problem by ignoring the details. \n",
    "- The principle of constructing an abstraction is popularly known as modelling.\n",
    "\n",
    "- It is the simplification of a problem by focusing on only one aspect of the problem while omitting all other aspects."
   ]
  },
  {
   "cell_type": "raw",
   "id": "3d13b2ba",
   "metadata": {},
   "source": [
    "def my_function():\n",
    "    '''  \n",
    "    Dostring: Reading manual\n",
    "    '''\n",
    "    print(\"Hello from a function\")\n",
    "    or \n",
    "    return \"Hello from a function\""
   ]
  },
  {
   "cell_type": "code",
   "execution_count": null,
   "id": "1df1488c",
   "metadata": {},
   "outputs": [],
   "source": []
  },
  {
   "cell_type": "code",
   "execution_count": 18,
   "id": "de5565a3",
   "metadata": {},
   "outputs": [],
   "source": [
    "# Creating a fucntion to check whether the no. is positive, negative, or zero\n",
    "\n",
    "def check_no(no):\n",
    "    '''\n",
    "    This fucntn tells if the given no. is odd or even\n",
    "    Input : any valid int\n",
    "    Output : odd even zero\n",
    "    Created by : Harsh\n",
    "    Last edited : 3 Aug 2022\n",
    "    '''\n",
    "    if type(no)==int:\n",
    "        if no<0:\n",
    "            print('--No is negative--')\n",
    "        elif no>0:\n",
    "            print('--No is positive--')\n",
    "        else:\n",
    "            print('--No is zero--')\n",
    "    else:\n",
    "        print('Not allowed')"
   ]
  },
  {
   "cell_type": "code",
   "execution_count": 17,
   "id": "1876e424",
   "metadata": {},
   "outputs": [
    {
     "name": "stdout",
     "output_type": "stream",
     "text": [
      "Enter the no. : 0\n",
      "--No is zero--\n",
      "Enter the no. : -1\n",
      "--No is negative--\n",
      "Enter the no. : 11\n",
      "--No is positive--\n",
      "Enter the no. : done\n"
     ]
    }
   ],
   "source": [
    "while True:\n",
    "    no = input('Enter the no. : ')\n",
    "    if no=='done': \n",
    "        break\n",
    "    else:\n",
    "        check_no(int(no))"
   ]
  },
  {
   "cell_type": "code",
   "execution_count": null,
   "id": "3c9986a0",
   "metadata": {},
   "outputs": [],
   "source": []
  },
  {
   "cell_type": "markdown",
   "id": "2760f9a7",
   "metadata": {},
   "source": [
    "Fetching the documentation of the function:"
   ]
  },
  {
   "cell_type": "raw",
   "id": "9d968f8d",
   "metadata": {},
   "source": [
    "function_name.__doc__"
   ]
  },
  {
   "cell_type": "code",
   "execution_count": 20,
   "id": "8fe13868",
   "metadata": {},
   "outputs": [
    {
     "name": "stdout",
     "output_type": "stream",
     "text": [
      "\n",
      "    This fucntn tells if the given no. is odd or even\n",
      "    Input : any valid identifier\n",
      "    Output : odd even zero\n",
      "    \n"
     ]
    }
   ],
   "source": [
    "print(check_no.__doc__)"
   ]
  },
  {
   "cell_type": "code",
   "execution_count": null,
   "id": "744265fd",
   "metadata": {},
   "outputs": [],
   "source": []
  },
  {
   "cell_type": "markdown",
   "id": "9cdbb525",
   "metadata": {},
   "source": [
    "Parameter v/s arguments\n",
    "- difficulty level : parameter \n",
    "- easy/hard : argument"
   ]
  },
  {
   "cell_type": "raw",
   "id": "fa9e1355",
   "metadata": {},
   "source": [
    "def fname(parameter)\n",
    "    pass\n",
    "\n",
    "x = fname(argument) # peop;e gove argument\n",
    "print(x)"
   ]
  },
  {
   "cell_type": "code",
   "execution_count": null,
   "id": "75fd8367",
   "metadata": {},
   "outputs": [],
   "source": []
  },
  {
   "cell_type": "markdown",
   "id": "80489b58",
   "metadata": {},
   "source": [
    "Note : \n",
    "- The default return type of a fuctn is None \n",
    "\n",
    "- Whenever a fuctn is created\n",
    "  + a global frame is created\n",
    "- when the code inside the fuctn is run\n",
    "   + a specific room is created inside the frame & when the working of the fuctn is done the room gets destroyed again"
   ]
  },
  {
   "cell_type": "code",
   "execution_count": null,
   "id": "13f403a9",
   "metadata": {},
   "outputs": [],
   "source": []
  },
  {
   "cell_type": "markdown",
   "id": "4fbbaea7",
   "metadata": {},
   "source": [
    "Differnet types of argument in python\n",
    "- Default argument\n",
    "- Positional argument\n",
    "- Keyword argument\n",
    "- Arbitrary argument"
   ]
  },
  {
   "cell_type": "markdown",
   "id": "ad126321",
   "metadata": {},
   "source": [
    "When-ever the fuctn is created the main goal is it should not crash in any scenerio and do execute it's work properly"
   ]
  },
  {
   "cell_type": "code",
   "execution_count": 6,
   "id": "d4102a98",
   "metadata": {},
   "outputs": [],
   "source": [
    "def calc(a,b):\n",
    "    print(f'Addn of {a} & {b} is {a+b}')\n",
    "    print(f'Mul of {a} & {b} is {a*b}')\n",
    "    print(f'Div of {a} & {b} is {round(a/b,2)}')"
   ]
  },
  {
   "cell_type": "code",
   "execution_count": 7,
   "id": "5861324a",
   "metadata": {},
   "outputs": [
    {
     "name": "stdout",
     "output_type": "stream",
     "text": [
      "Addn of 2 & 3 is 5\n",
      "Mul of 2 & 3 is 6\n",
      "Div of 2 & 3 is 0.67\n"
     ]
    }
   ],
   "source": [
    "calc(2,3)"
   ]
  },
  {
   "cell_type": "code",
   "execution_count": null,
   "id": "3620a0d6",
   "metadata": {},
   "outputs": [],
   "source": []
  },
  {
   "cell_type": "code",
   "execution_count": 8,
   "id": "aae3a118",
   "metadata": {},
   "outputs": [
    {
     "ename": "TypeError",
     "evalue": "calc() missing 2 required positional arguments: 'a' and 'b'",
     "output_type": "error",
     "traceback": [
      "\u001b[0;31m---------------------------------------------------------------------------\u001b[0m",
      "\u001b[0;31mTypeError\u001b[0m                                 Traceback (most recent call last)",
      "Input \u001b[0;32mIn [8]\u001b[0m, in \u001b[0;36m<module>\u001b[0;34m\u001b[0m\n\u001b[0;32m----> 1\u001b[0m \u001b[43mcalc\u001b[49m\u001b[43m(\u001b[49m\u001b[43m)\u001b[49m\n",
      "\u001b[0;31mTypeError\u001b[0m: calc() missing 2 required positional arguments: 'a' and 'b'"
     ]
    }
   ],
   "source": [
    "calc()"
   ]
  },
  {
   "cell_type": "code",
   "execution_count": 9,
   "id": "7e0e7d6e",
   "metadata": {},
   "outputs": [
    {
     "ename": "TypeError",
     "evalue": "calc() missing 1 required positional argument: 'b'",
     "output_type": "error",
     "traceback": [
      "\u001b[0;31m---------------------------------------------------------------------------\u001b[0m",
      "\u001b[0;31mTypeError\u001b[0m                                 Traceback (most recent call last)",
      "Input \u001b[0;32mIn [9]\u001b[0m, in \u001b[0;36m<module>\u001b[0;34m\u001b[0m\n\u001b[0;32m----> 1\u001b[0m \u001b[43mcalc\u001b[49m\u001b[43m(\u001b[49m\u001b[38;5;241;43m12\u001b[39;49m\u001b[43m)\u001b[49m\n",
      "\u001b[0;31mTypeError\u001b[0m: calc() missing 1 required positional argument: 'b'"
     ]
    }
   ],
   "source": [
    "calc(12)"
   ]
  },
  {
   "cell_type": "code",
   "execution_count": null,
   "id": "356782b5",
   "metadata": {},
   "outputs": [],
   "source": []
  },
  {
   "cell_type": "markdown",
   "id": "1e1e3f4e",
   "metadata": {},
   "source": [
    "Python Default Arguments\n",
    "- Function arguments can have default values in Python.\n",
    "\n",
    "- We can provide a default value to an argument by using the assignment operator (=). "
   ]
  },
  {
   "cell_type": "code",
   "execution_count": 12,
   "id": "10c5aea8",
   "metadata": {},
   "outputs": [],
   "source": [
    "'''\n",
    "to solve the above issue we will use the \n",
    "default argument\n",
    "'''\n",
    "def calc(a=1,b=1):\n",
    "    print(f'Addn of {a} & {b} is {a+b}')\n",
    "    print(f'Mul of {a} & {b} is {a*b}')\n",
    "    print(f'Div of {a} & {b} is {round(a/b,2)}')\n"
   ]
  },
  {
   "cell_type": "code",
   "execution_count": 13,
   "id": "a98d6d2f",
   "metadata": {},
   "outputs": [
    {
     "name": "stdout",
     "output_type": "stream",
     "text": [
      "Addn of 1 & 1 is 2\n",
      "Mul of 1 & 1 is 1\n",
      "Div of 1 & 1 is 1.0\n"
     ]
    }
   ],
   "source": [
    "calc()"
   ]
  },
  {
   "cell_type": "code",
   "execution_count": null,
   "id": "9177115d",
   "metadata": {},
   "outputs": [],
   "source": []
  },
  {
   "cell_type": "code",
   "execution_count": 15,
   "id": "a35e975f",
   "metadata": {},
   "outputs": [
    {
     "name": "stdout",
     "output_type": "stream",
     "text": [
      "Addn of 2 & 1 is 3\n",
      "Mul of 2 & 1 is 2\n",
      "Div of 2 & 1 is 2.0\n"
     ]
    }
   ],
   "source": [
    "calc(2) "
   ]
  },
  {
   "cell_type": "code",
   "execution_count": 16,
   "id": "c16e5f84",
   "metadata": {},
   "outputs": [
    {
     "name": "stdout",
     "output_type": "stream",
     "text": [
      "Addn of 2 & 3 is 5\n",
      "Mul of 2 & 3 is 6\n",
      "Div of 2 & 3 is 0.67\n"
     ]
    }
   ],
   "source": [
    "calc(2,3)"
   ]
  },
  {
   "cell_type": "code",
   "execution_count": null,
   "id": "ce6d7bc6",
   "metadata": {},
   "outputs": [],
   "source": []
  },
  {
   "cell_type": "markdown",
   "id": "b621b738",
   "metadata": {},
   "source": [
    "Positional Arguments\n",
    "- During a function call, values passed through arguments should be in the order of parameters in the function definition. \n",
    "- This is called positional arguments.\n",
    "\n",
    "When we call a function with some values, these values get assigned to the arguments according to their position."
   ]
  },
  {
   "cell_type": "code",
   "execution_count": 19,
   "id": "3270cc34",
   "metadata": {
    "scrolled": true
   },
   "outputs": [
    {
     "name": "stdout",
     "output_type": "stream",
     "text": [
      "Addn of 2 & 3 is 5\n",
      "Mul of 2 & 3 is 6\n",
      "Div of 2 & 3 is 0.67\n"
     ]
    }
   ],
   "source": [
    "calc(2,3)"
   ]
  },
  {
   "cell_type": "code",
   "execution_count": null,
   "id": "459394da",
   "metadata": {},
   "outputs": [],
   "source": []
  },
  {
   "cell_type": "markdown",
   "id": "ff45abbd",
   "metadata": {},
   "source": [
    "Keyword arguments\n",
    "- Python allows functions to be called using keyword arguments. \n",
    "- When we call functions in this way, the order (position) of the arguments can be changed."
   ]
  },
  {
   "cell_type": "code",
   "execution_count": 17,
   "id": "2372ff56",
   "metadata": {},
   "outputs": [
    {
     "name": "stdout",
     "output_type": "stream",
     "text": [
      "Addn of 3 & 2 is 5\n",
      "Mul of 3 & 2 is 6\n",
      "Div of 3 & 2 is 1.5\n"
     ]
    }
   ],
   "source": [
    "calc(b=2,a=3)"
   ]
  },
  {
   "cell_type": "code",
   "execution_count": null,
   "id": "ee9de653",
   "metadata": {},
   "outputs": [],
   "source": []
  },
  {
   "cell_type": "markdown",
   "id": "e1c002df",
   "metadata": {},
   "source": [
    "Arbitrary Arguments\n",
    "- Sometimes, we do not know in advance the number of arguments that will be passed into a function. \n",
    "- Python allows us to handle this kind of situation through function calls with an arbitrary number of arguments."
   ]
  },
  {
   "cell_type": "markdown",
   "id": "be1d1cb3",
   "metadata": {},
   "source": [
    "In the function definition, \n",
    "\n",
    "- we use an asterisk (*) before the parameter name to denote this kind of argument. Here is an example."
   ]
  },
  {
   "cell_type": "code",
   "execution_count": 22,
   "id": "c51993ca",
   "metadata": {},
   "outputs": [],
   "source": [
    "def friends_name(*name):\n",
    "    for i in name:\n",
    "        print(f'hi friend {i},')"
   ]
  },
  {
   "cell_type": "code",
   "execution_count": 25,
   "id": "026f2ac6",
   "metadata": {},
   "outputs": [
    {
     "name": "stdout",
     "output_type": "stream",
     "text": [
      "hi friend suga,\n",
      "hi friend jin,\n",
      "hi friend rin,\n",
      "hi friend harsh,\n"
     ]
    }
   ],
   "source": [
    "friends_name('suga','jin','rin','harsh')"
   ]
  },
  {
   "cell_type": "code",
   "execution_count": null,
   "id": "ff9f6dd6",
   "metadata": {},
   "outputs": [],
   "source": []
  },
  {
   "cell_type": "code",
   "execution_count": 26,
   "id": "65ba9bc9",
   "metadata": {},
   "outputs": [],
   "source": [
    "def total_calc(*no):\n",
    "    res = 0\n",
    "    for i in no:\n",
    "        res+=i\n",
    "    return res"
   ]
  },
  {
   "cell_type": "code",
   "execution_count": 27,
   "id": "303c9943",
   "metadata": {},
   "outputs": [
    {
     "name": "stdout",
     "output_type": "stream",
     "text": [
      "15\n"
     ]
    }
   ],
   "source": [
    "print(total_calc(1,2,3,4,5))"
   ]
  },
  {
   "cell_type": "code",
   "execution_count": null,
   "id": "90be877d",
   "metadata": {},
   "outputs": [],
   "source": []
  },
  {
   "cell_type": "markdown",
   "id": "c47641ee",
   "metadata": {},
   "source": [
    "NOte :\n",
    "- Asterisk converts the inp type to tuple"
   ]
  },
  {
   "cell_type": "code",
   "execution_count": 28,
   "id": "9bc518c8",
   "metadata": {},
   "outputs": [],
   "source": [
    "def total_calc(*no):\n",
    "    print('no passed : ',no)\n",
    "    print('type : ',type(no))\n",
    "    res = 0\n",
    "    for i in no:\n",
    "        res+=i\n",
    "    return res"
   ]
  },
  {
   "cell_type": "code",
   "execution_count": 29,
   "id": "0e9c56ca",
   "metadata": {},
   "outputs": [
    {
     "name": "stdout",
     "output_type": "stream",
     "text": [
      "no passed :  (1, 1, 1, 1)\n",
      "type :  <class 'tuple'>\n",
      "4\n"
     ]
    }
   ],
   "source": [
    "print(total_calc(1,1,1,1))"
   ]
  },
  {
   "cell_type": "code",
   "execution_count": null,
   "id": "be86473d",
   "metadata": {},
   "outputs": [],
   "source": []
  },
  {
   "cell_type": "markdown",
   "id": "d9bdbcc9",
   "metadata": {},
   "source": [
    "local variables :\n",
    "- can be accessed only inside the function in which they are declared, \n",
    "\n",
    "whereas global variables :\n",
    "- can be accessed throughout the program body by all functions"
   ]
  },
  {
   "cell_type": "markdown",
   "id": "5e6ddf11",
   "metadata": {},
   "source": [
    "Note :\n",
    "- In the case of fuctn \n",
    "    + If the local variable is not found the fucnt will use the global var\n",
    "    + the value of the global var cannot be changed inside the local var\n",
    "    + To change the value of the global var inside local var we need to use global keyword\n",
    "    \n",
    "Everything in python is an object"
   ]
  },
  {
   "cell_type": "code",
   "execution_count": null,
   "id": "86765cf1",
   "metadata": {},
   "outputs": [],
   "source": []
  },
  {
   "cell_type": "code",
   "execution_count": 30,
   "id": "df563a7c",
   "metadata": {},
   "outputs": [],
   "source": [
    "# everthing in py. is an obj even fuctn\n",
    "\n",
    "def total_calc(*no):\n",
    "    print('no passed : ',no)\n",
    "    print('type : ',type(no))\n",
    "    res = 0\n",
    "    for i in no:\n",
    "        res+=i\n",
    "    return res\n",
    "\n",
    "# just like int is an obj similiarly fuctn is an obj\n",
    "\n",
    "# so we can use Aliasing\n",
    "x = total_calc"
   ]
  },
  {
   "cell_type": "code",
   "execution_count": 31,
   "id": "36dd6ad6",
   "metadata": {},
   "outputs": [
    {
     "name": "stdout",
     "output_type": "stream",
     "text": [
      "no passed :  (1, 2, 3)\n",
      "type :  <class 'tuple'>\n"
     ]
    },
    {
     "data": {
      "text/plain": [
       "6"
      ]
     },
     "execution_count": 31,
     "metadata": {},
     "output_type": "execute_result"
    }
   ],
   "source": [
    "x(1,2,3)"
   ]
  },
  {
   "cell_type": "code",
   "execution_count": 33,
   "id": "e84d1c7b",
   "metadata": {},
   "outputs": [
    {
     "data": {
      "text/plain": [
       "function"
      ]
     },
     "execution_count": 33,
     "metadata": {},
     "output_type": "execute_result"
    }
   ],
   "source": [
    "type(x)"
   ]
  },
  {
   "cell_type": "code",
   "execution_count": 34,
   "id": "f0a7a180",
   "metadata": {},
   "outputs": [],
   "source": [
    "# That means we can also del the fuctn\n",
    "del total_calc"
   ]
  },
  {
   "cell_type": "code",
   "execution_count": 35,
   "id": "fb6b8df8",
   "metadata": {},
   "outputs": [
    {
     "ename": "NameError",
     "evalue": "name 'total_calc' is not defined",
     "output_type": "error",
     "traceback": [
      "\u001b[0;31m---------------------------------------------------------------------------\u001b[0m",
      "\u001b[0;31mNameError\u001b[0m                                 Traceback (most recent call last)",
      "Input \u001b[0;32mIn [35]\u001b[0m, in \u001b[0;36m<module>\u001b[0;34m\u001b[0m\n\u001b[0;32m----> 1\u001b[0m \u001b[43mtotal_calc\u001b[49m(\u001b[38;5;241m11\u001b[39m,\u001b[38;5;241m11\u001b[39m)\n",
      "\u001b[0;31mNameError\u001b[0m: name 'total_calc' is not defined"
     ]
    }
   ],
   "source": [
    "total_calc(11,11)"
   ]
  },
  {
   "cell_type": "code",
   "execution_count": null,
   "id": "aadc96ba",
   "metadata": {},
   "outputs": [],
   "source": []
  },
  {
   "cell_type": "code",
   "execution_count": 36,
   "id": "48fdcebe",
   "metadata": {},
   "outputs": [],
   "source": [
    "# everthing in py. is an obj even fuctn\n",
    "\n",
    "def total_calc(*no):\n",
    "    print('no passed : ',no)\n",
    "    print('type : ',type(no))\n",
    "    res = 0\n",
    "    for i in no:\n",
    "        res+=i\n",
    "    return res\n",
    "\n",
    "# just like int is an obj similiarly fuctn is an obj\n",
    "\n",
    "# so we can use Aliasing\n",
    "x = total_calc"
   ]
  },
  {
   "cell_type": "code",
   "execution_count": 37,
   "id": "4936e669",
   "metadata": {},
   "outputs": [],
   "source": [
    " # so fuctn is a data type just like int \n",
    "# so we can also store the fuctn inside the list as a item\n",
    "\n",
    "l = [1,2,x]"
   ]
  },
  {
   "cell_type": "code",
   "execution_count": 38,
   "id": "fd98d984",
   "metadata": {},
   "outputs": [
    {
     "data": {
      "text/plain": [
       "[1, 2, <function __main__.total_calc(*no)>]"
      ]
     },
     "execution_count": 38,
     "metadata": {},
     "output_type": "execute_result"
    }
   ],
   "source": [
    "l"
   ]
  },
  {
   "cell_type": "code",
   "execution_count": 39,
   "id": "27c0aac6",
   "metadata": {},
   "outputs": [
    {
     "name": "stdout",
     "output_type": "stream",
     "text": [
      "no passed :  (1, 1, 1, 10)\n",
      "type :  <class 'tuple'>\n"
     ]
    },
    {
     "data": {
      "text/plain": [
       "13"
      ]
     },
     "execution_count": 39,
     "metadata": {},
     "output_type": "execute_result"
    }
   ],
   "source": [
    "# accessign the fuctn item/datatype inside the list\n",
    "l[-1](1,1,1,10)"
   ]
  },
  {
   "cell_type": "code",
   "execution_count": null,
   "id": "af28b13f",
   "metadata": {},
   "outputs": [],
   "source": []
  },
  {
   "cell_type": "code",
   "execution_count": 42,
   "id": "537a97f1",
   "metadata": {},
   "outputs": [
    {
     "name": "stdout",
     "output_type": "stream",
     "text": [
      "no passed :  (10, 11)\n",
      "type :  <class 'tuple'>\n"
     ]
    }
   ],
   "source": [
    "l2 = [1,9,80,x(10,11)]"
   ]
  },
  {
   "cell_type": "code",
   "execution_count": 43,
   "id": "0d48bda0",
   "metadata": {},
   "outputs": [
    {
     "data": {
      "text/plain": [
       "[1, 9, 80, 21]"
      ]
     },
     "execution_count": 43,
     "metadata": {},
     "output_type": "execute_result"
    }
   ],
   "source": [
    "l2"
   ]
  },
  {
   "cell_type": "code",
   "execution_count": null,
   "id": "b66dbad3",
   "metadata": {},
   "outputs": [],
   "source": []
  },
  {
   "cell_type": "markdown",
   "id": "4ba81caa",
   "metadata": {},
   "source": [
    "Different types of awesome things we can do inside a fuctn :\n",
    "- Renaming a fuctn\n",
    "- Deleting a fuctn \n",
    "- Storing a fuctn \n",
    "- Returning a fuctn\n",
    "- fuctn as argument"
   ]
  },
  {
   "cell_type": "markdown",
   "id": "91caa8d9",
   "metadata": {},
   "source": [
    "Benefits of using fucntions\n",
    "- Code readability (debug easy,code organized)\n",
    "- Code Modularity (code organizedbreak huge prog different module)\n",
    "- Code Re-usability (write once use forever)"
   ]
  },
  {
   "cell_type": "code",
   "execution_count": null,
   "id": "7065e960",
   "metadata": {},
   "outputs": [],
   "source": []
  }
 ],
 "metadata": {
  "kernelspec": {
   "display_name": "Python 3 (ipykernel)",
   "language": "python",
   "name": "python3"
  },
  "language_info": {
   "codemirror_mode": {
    "name": "ipython",
    "version": 3
   },
   "file_extension": ".py",
   "mimetype": "text/x-python",
   "name": "python",
   "nbconvert_exporter": "python",
   "pygments_lexer": "ipython3",
   "version": "3.8.10"
  }
 },
 "nbformat": 4,
 "nbformat_minor": 5
}
