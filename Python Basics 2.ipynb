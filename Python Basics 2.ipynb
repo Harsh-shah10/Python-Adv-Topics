{
 "cells": [
  {
   "cell_type": "markdown",
   "id": "6281e8b9",
   "metadata": {},
   "source": [
    "Taking user input in Python \n",
    "\n",
    "syntex : input()\n",
    "\n",
    "input(prompt=None, /)"
   ]
  },
  {
   "cell_type": "code",
   "execution_count": 1,
   "id": "feb16606",
   "metadata": {},
   "outputs": [
    {
     "name": "stdout",
     "output_type": "stream",
     "text": [
      "enter your name : harsh\n"
     ]
    }
   ],
   "source": [
    "a = input('enter your name : ')"
   ]
  },
  {
   "cell_type": "code",
   "execution_count": 2,
   "id": "f9cda43b",
   "metadata": {},
   "outputs": [
    {
     "name": "stdout",
     "output_type": "stream",
     "text": [
      "enter your name : shah\n"
     ]
    }
   ],
   "source": [
    "b = input(prompt='enter your name : ')"
   ]
  },
  {
   "cell_type": "code",
   "execution_count": null,
   "id": "46e95026",
   "metadata": {},
   "outputs": [],
   "source": []
  },
  {
   "cell_type": "markdown",
   "id": "b0ab88e5",
   "metadata": {},
   "source": [
    "Program to add 2 numbers "
   ]
  },
  {
   "cell_type": "code",
   "execution_count": 5,
   "id": "4ca7f46f",
   "metadata": {},
   "outputs": [
    {
     "name": "stdout",
     "output_type": "stream",
     "text": [
      "1st number : 12\n",
      "2nd number : 12\n",
      "result :  24\n"
     ]
    }
   ],
   "source": [
    "a = int(input('1st number : '))\n",
    "b = int(input('2nd number : '))\n",
    "print('result : ',a+b)"
   ]
  },
  {
   "cell_type": "code",
   "execution_count": null,
   "id": "1ed5bae5",
   "metadata": {},
   "outputs": [],
   "source": []
  },
  {
   "cell_type": "markdown",
   "id": "99c51782",
   "metadata": {},
   "source": [
    "Type conversion"
   ]
  },
  {
   "cell_type": "code",
   "execution_count": 7,
   "id": "7b29f088",
   "metadata": {},
   "outputs": [
    {
     "data": {
      "text/plain": [
       "['h', 'e', 'l', 'l', 'o']"
      ]
     },
     "execution_count": 7,
     "metadata": {},
     "output_type": "execute_result"
    }
   ],
   "source": [
    "list('hello')"
   ]
  },
  {
   "cell_type": "code",
   "execution_count": 8,
   "id": "c6ff4614",
   "metadata": {},
   "outputs": [
    {
     "data": {
      "text/plain": [
       "{'c', 'e', 'l', 'm', 'o', 'w'}"
      ]
     },
     "execution_count": 8,
     "metadata": {},
     "output_type": "execute_result"
    }
   ],
   "source": [
    "set('welcome')"
   ]
  },
  {
   "cell_type": "code",
   "execution_count": 14,
   "id": "3e061c75",
   "metadata": {},
   "outputs": [
    {
     "data": {
      "text/plain": [
       "('h', 'a', 'r', 's', 'h')"
      ]
     },
     "execution_count": 14,
     "metadata": {},
     "output_type": "execute_result"
    }
   ],
   "source": [
    "tuple('harsh')"
   ]
  },
  {
   "cell_type": "code",
   "execution_count": 10,
   "id": "7e037521",
   "metadata": {},
   "outputs": [
    {
     "data": {
      "text/plain": [
       "4.0"
      ]
     },
     "execution_count": 10,
     "metadata": {},
     "output_type": "execute_result"
    }
   ],
   "source": [
    "# type conversion does not chaneges the value permanently\n",
    "a = 4\n",
    "float(4)"
   ]
  },
  {
   "cell_type": "code",
   "execution_count": 11,
   "id": "9db9b84a",
   "metadata": {},
   "outputs": [
    {
     "data": {
      "text/plain": [
       "4"
      ]
     },
     "execution_count": 11,
     "metadata": {},
     "output_type": "execute_result"
    }
   ],
   "source": [
    "a"
   ]
  },
  {
   "cell_type": "markdown",
   "id": "78f3af34",
   "metadata": {},
   "source": [
    "There are mainly 2 types of type conversion\n",
    "- Implicit (python automatically does that)\n",
    "- Explicit (we need to do manually)"
   ]
  },
  {
   "cell_type": "code",
   "execution_count": null,
   "id": "c9a14ab7",
   "metadata": {},
   "outputs": [],
   "source": [
    "# Implicit"
   ]
  },
  {
   "cell_type": "code",
   "execution_count": 12,
   "id": "dae21262",
   "metadata": {},
   "outputs": [
    {
     "data": {
      "text/plain": [
       "7.5"
      ]
     },
     "execution_count": 12,
     "metadata": {},
     "output_type": "execute_result"
    }
   ],
   "source": [
    "3+4.5"
   ]
  },
  {
   "cell_type": "code",
   "execution_count": 13,
   "id": "32c42ec0",
   "metadata": {
    "scrolled": true
   },
   "outputs": [
    {
     "data": {
      "text/plain": [
       "(2+3j)"
      ]
     },
     "execution_count": 13,
     "metadata": {},
     "output_type": "execute_result"
    }
   ],
   "source": [
    "1+1+3j"
   ]
  },
  {
   "cell_type": "code",
   "execution_count": null,
   "id": "45141384",
   "metadata": {},
   "outputs": [],
   "source": []
  },
  {
   "cell_type": "code",
   "execution_count": 15,
   "id": "0ffb1d1a",
   "metadata": {},
   "outputs": [],
   "source": [
    "# explicit"
   ]
  },
  {
   "cell_type": "code",
   "execution_count": 16,
   "id": "cb3def0f",
   "metadata": {},
   "outputs": [
    {
     "data": {
      "text/plain": [
       "'4'"
      ]
     },
     "execution_count": 16,
     "metadata": {},
     "output_type": "execute_result"
    }
   ],
   "source": [
    "str(4)"
   ]
  },
  {
   "cell_type": "code",
   "execution_count": 17,
   "id": "60009067",
   "metadata": {},
   "outputs": [
    {
     "data": {
      "text/plain": [
       "(4+0j)"
      ]
     },
     "execution_count": 17,
     "metadata": {},
     "output_type": "execute_result"
    }
   ],
   "source": [
    "complex(4)"
   ]
  },
  {
   "cell_type": "code",
   "execution_count": 18,
   "id": "09e896f6",
   "metadata": {},
   "outputs": [
    {
     "data": {
      "text/plain": [
       "3434"
      ]
     },
     "execution_count": 18,
     "metadata": {},
     "output_type": "execute_result"
    }
   ],
   "source": [
    "int('3434')"
   ]
  },
  {
   "cell_type": "code",
   "execution_count": null,
   "id": "a36211aa",
   "metadata": {},
   "outputs": [],
   "source": []
  },
  {
   "cell_type": "markdown",
   "id": "5ae209ed",
   "metadata": {},
   "source": [
    "Variables are containers for storing data values\n",
    "\n",
    "Literals :\n",
    "\n",
    "Literals in Python is defined as the raw data assigned to variables or constants while programming."
   ]
  },
  {
   "cell_type": "markdown",
   "id": "b9b19682",
   "metadata": {},
   "source": [
    "There are five types of literal in Python,\n",
    "- String Literals\n",
    "    + Single-line String (Using single/double quotes)\n",
    "    + Multi-line String (Using triple quotes)\n",
    "- Numeric Literals\n",
    "    + Integer\n",
    "    + Float\n",
    "    + Complex\n",
    "    + Long\n",
    "- Boolean Literals\n",
    "    + True- True represents the value 1.\n",
    "    + False-False represents the value 0.\n",
    "- Literal Collections\n",
    "    + List Literals\n",
    "    + Tuple Literals\n",
    "    + Dictionary Literals\n",
    "    + Set Literals\n",
    "- Special Literals\n",
    "    + special literal known as None"
   ]
  },
  {
   "cell_type": "markdown",
   "id": "f825ba3e",
   "metadata": {},
   "source": [
    "“A constant can be defined as an entity that has a fixed value or an entity whose value does not vary.”\n",
    "\n",
    "or.\n",
    "\n",
    "A constant is a type of variable whose value cannot be changed. \n",
    "\n",
    "In Python, constants do not exist, but you can indicate that a variable is a constant and must not be changed"
   ]
  },
  {
   "cell_type": "code",
   "execution_count": null,
   "id": "106c676d",
   "metadata": {},
   "outputs": [],
   "source": []
  },
  {
   "cell_type": "markdown",
   "id": "289d52e8",
   "metadata": {},
   "source": [
    "string literals : group of characters in single, double or triple quotes\n",
    "1. single line literal\n",
    "    - String literals that are enclosed within single quotes (‘’) are known as single-line strings."
   ]
  },
  {
   "cell_type": "code",
   "execution_count": 33,
   "id": "fa4eb75d",
   "metadata": {},
   "outputs": [
    {
     "name": "stdout",
     "output_type": "stream",
     "text": [
      "Scaler Academy\n",
      "Hello World\n"
     ]
    }
   ],
   "source": [
    "single_quotes_string='Scaler Academy'\n",
    "double_quotes_string=\"Hello World\"\n",
    "print(single_quotes_string)\n",
    "print(double_quotes_string)"
   ]
  },
  {
   "cell_type": "markdown",
   "id": "bf3230f8",
   "metadata": {},
   "source": [
    "2. Multi-line String\n",
    "    - A collection of characters or a string that goes on for multiple lines is a multi-line string."
   ]
  },
  {
   "cell_type": "code",
   "execution_count": 21,
   "id": "8b23c29b",
   "metadata": {},
   "outputs": [
    {
     "name": "stdout",
     "output_type": "stream",
     "text": [
      "Welcome to Scaler Academy\n"
     ]
    }
   ],
   "source": [
    "#string literals\n",
    "#multi line literal\n",
    "str=\"Welcome \\\n",
    "to \\\n",
    "Scaler \\\n",
    "Academy\"\n",
    "print(str)"
   ]
  },
  {
   "cell_type": "code",
   "execution_count": 29,
   "id": "1229db34",
   "metadata": {},
   "outputs": [
    {
     "name": "stdout",
     "output_type": "stream",
     "text": [
      "Hi i am harsh\n"
     ]
    }
   ],
   "source": [
    "str = 'Hi \\\n",
    "i \\\n",
    "am \\\n",
    "harsh'\n",
    "print(str)"
   ]
  },
  {
   "cell_type": "code",
   "execution_count": 31,
   "id": "c1d93e0e",
   "metadata": {},
   "outputs": [
    {
     "name": "stdout",
     "output_type": "stream",
     "text": [
      "\n",
      "Hi \n",
      "my \n",
      "name \n",
      "is \n",
      "harsh\n",
      "\n"
     ]
    }
   ],
   "source": [
    "str = '''\n",
    "Hi \n",
    "my \n",
    "name \n",
    "is \n",
    "harsh\n",
    "'''\n",
    "print(str)"
   ]
  },
  {
   "cell_type": "code",
   "execution_count": 33,
   "id": "12c4a32e",
   "metadata": {},
   "outputs": [
    {
     "name": "stdout",
     "output_type": "stream",
     "text": [
      "ℙƴ☂ℌøἤ\n"
     ]
    }
   ],
   "source": [
    "# unicode literal\n",
    "\n",
    "# creating variables to holds\n",
    "# the letters in python word.\n",
    "p = \"\\u2119\"\n",
    "y = \"\\u01b4\"\n",
    "t = \"\\u2602\"\n",
    "h = \"\\u210c\"\n",
    "o = \"\\u00f8\"\n",
    "n = \"\\u1f24\"\n",
    " \n",
    "print(p+y+t+h+o+n)"
   ]
  },
  {
   "cell_type": "markdown",
   "id": "0eb1e5c6",
   "metadata": {},
   "source": [
    "or."
   ]
  },
  {
   "cell_type": "code",
   "execution_count": 37,
   "id": "93e7058c",
   "metadata": {},
   "outputs": [
    {
     "data": {
      "text/plain": [
       "'ℙƴ☂ℌøἤ'"
      ]
     },
     "execution_count": 37,
     "metadata": {},
     "output_type": "execute_result"
    }
   ],
   "source": [
    "unicode_literal = u\"\\u2119\\u01b4\\u2602\\u210c\\u00f8\\u1f24\"\n",
    "unicode_literal"
   ]
  },
  {
   "cell_type": "code",
   "execution_count": null,
   "id": "40ba03f5",
   "metadata": {},
   "outputs": [],
   "source": []
  },
  {
   "cell_type": "markdown",
   "id": "cdea9ec2",
   "metadata": {},
   "source": [
    "2. Numeric Literals \n",
    "   + Numerical literals are those literals that contain digits only and are immutable/ cannot be changed once assigned\n",
    "   \n",
    "   \n",
    "Integer \n",
    "\n",
    "    different types of integers are-\n",
    "\n",
    "    + Decimal- It contains digits from 0 to 9. The base for decimal values is 10.\n",
    "    + Binary- It contains only two digits- 0 and 1. The base for binary values is 2 and prefixed with “0b”.\n",
    "    + Octal- It contains the digits from 0 to 7. The base for octal values is 8. In Python, such values are prefixed with “0o”.\n",
    "    + Hexadecimal- It contains digits from 0 to 9 and alphabets from A to F."
   ]
  },
  {
   "cell_type": "code",
   "execution_count": 1,
   "id": "3d0469da",
   "metadata": {},
   "outputs": [
    {
     "name": "stdout",
     "output_type": "stream",
     "text": [
      "2586 -9856\n",
      "21 505 232 299\n"
     ]
    }
   ],
   "source": [
    "# integer literal\n",
    "\n",
    "#positive whole numbers\n",
    "x = 2586\n",
    "\n",
    "#negative whole numbers\n",
    "y = -9856\n",
    "\n",
    "# binary literal\n",
    "a = 0b10101\n",
    "\n",
    "# decimal literal\n",
    "b = 505\n",
    "\n",
    "# octal literal\n",
    "c = 0o350\n",
    "\n",
    "# hexadecimal literal\n",
    "d = 0x12b\n",
    "\n",
    "print (x,y)\n",
    "print(a, b, c, d)"
   ]
  },
  {
   "cell_type": "markdown",
   "id": "0091c747",
   "metadata": {},
   "source": [
    "Float\n",
    "- Unlike integers, these contain decimal points.\n",
    "    \n",
    "    Float literals are primarily of two types-\n",
    "\n",
    "    - Fractional- Fractional literals contain both whole numbers and decimal points.\n",
    "    - Exponential- Exponential literals in Python are represented in the powers of 10."
   ]
  },
  {
   "cell_type": "code",
   "execution_count": 5,
   "id": "91d906f5",
   "metadata": {},
   "outputs": [
    {
     "name": "stdout",
     "output_type": "stream",
     "text": [
      "78.256\n",
      "78.256\n"
     ]
    }
   ],
   "source": [
    "print(78.256)"
   ]
  },
  {
   "cell_type": "code",
   "execution_count": 22,
   "id": "d87dc38c",
   "metadata": {},
   "outputs": [
    {
     "name": "stdout",
     "output_type": "stream",
     "text": [
      "150.0\n",
      "0.15\n"
     ]
    }
   ],
   "source": [
    "print(1.5e2) # 10.5 to the power 2\n",
    "print(1.5e-1) # 10.5 to the power -1"
   ]
  },
  {
   "cell_type": "markdown",
   "id": "4033321d",
   "metadata": {},
   "source": [
    "Complex \n",
    "   - Complex literals are represented by A+Bj. \n",
    "   - Over here, A is the real part. And the entire B part, along with j, is the imaginary or complex part."
   ]
  },
  {
   "cell_type": "code",
   "execution_count": 23,
   "id": "02a4c1ba",
   "metadata": {},
   "outputs": [
    {
     "name": "stdout",
     "output_type": "stream",
     "text": [
      "(7+8j)\n",
      "5j\n"
     ]
    }
   ],
   "source": [
    "# complex literal\n",
    "a=7 + 8j\n",
    "b=5j\n",
    "print(a)\n",
    "print(b)"
   ]
  },
  {
   "cell_type": "code",
   "execution_count": 25,
   "id": "287eefee",
   "metadata": {},
   "outputs": [
    {
     "name": "stdout",
     "output_type": "stream",
     "text": [
      "(23+5j) <class 'complex'>\n",
      "23.0 5.0\n"
     ]
    }
   ],
   "source": [
    "x = 23+5j\n",
    "print(x,type(x))\n",
    "\n",
    "# extracting real & imaginary part\n",
    "print(x.real,x.imag)"
   ]
  },
  {
   "cell_type": "code",
   "execution_count": null,
   "id": "4f8dbd89",
   "metadata": {},
   "outputs": [],
   "source": []
  },
  {
   "cell_type": "markdown",
   "id": "9efd94b1",
   "metadata": {},
   "source": [
    "Long\n",
    "    - Long literals were nothing but integers with unlimited length"
   ]
  },
  {
   "cell_type": "markdown",
   "id": "0d7b9a70",
   "metadata": {},
   "source": [
    "3. Boolean \n",
    "\n",
    "   Boolean literals in Python are pretty straight-forward and have only two values-\n",
    "\n",
    "    + True- True represents the value 1.\n",
    "    + False-False represents the value 0.\n"
   ]
  },
  {
   "cell_type": "code",
   "execution_count": 14,
   "id": "eb6fc4e5",
   "metadata": {},
   "outputs": [
    {
     "name": "stdout",
     "output_type": "stream",
     "text": [
      "x is True\n",
      "y is False\n"
     ]
    }
   ],
   "source": [
    "#boolean literals\n",
    "x = (1 == 1)  \n",
    "y = (7 == False) \n",
    "print(\"x is\", x)  \n",
    "print(\"y is\", y)\n"
   ]
  },
  {
   "cell_type": "markdown",
   "id": "630adb71",
   "metadata": {},
   "source": [
    "ex. explicit type conversion"
   ]
  },
  {
   "cell_type": "code",
   "execution_count": 38,
   "id": "cac85d42",
   "metadata": {},
   "outputs": [
    {
     "name": "stdout",
     "output_type": "stream",
     "text": [
      "2\n",
      "2\n"
     ]
    }
   ],
   "source": [
    "a = True + 1 # 1 + 1\n",
    "b = False + 2 # 0 + 2\n",
    "print(a)\n",
    "print(b)"
   ]
  },
  {
   "cell_type": "markdown",
   "id": "237013f0",
   "metadata": {},
   "source": [
    "4. Special Literals in Python\n",
    "    - Python literals have one special literal known as None. \n",
    "\n",
    "    - Python will print None as output when we print the variable with no value assigned to it."
   ]
  },
  {
   "cell_type": "code",
   "execution_count": 15,
   "id": "f5404855",
   "metadata": {},
   "outputs": [
    {
     "name": "stdout",
     "output_type": "stream",
     "text": [
      "None\n"
     ]
    }
   ],
   "source": [
    "#special literals\n",
    "val=None  # None is the absence od anything\n",
    "print(val)\n",
    "\n",
    "# None : use for variable declaration"
   ]
  },
  {
   "cell_type": "markdown",
   "id": "d18ae6b1",
   "metadata": {},
   "source": [
    "5. Literal Collections \n",
    "\n",
    " If we wish to work with more than one value, then we can go for literal collections in Python.\n",
    "    \n",
    "    + List Literals\n",
    "    + Tuple Literals\n",
    "    + Dictionary Literals\n",
    "    + Set Literals"
   ]
  },
  {
   "cell_type": "markdown",
   "id": "48534522",
   "metadata": {},
   "source": [
    "List \n",
    "- Lists are a collection of data declared using the square brackets([]), and commas separate the elements of the list (,). \n",
    "- This data can be of different types. Another important thing to know about lists is that they are mutable."
   ]
  },
  {
   "cell_type": "code",
   "execution_count": 17,
   "id": "323eaf62",
   "metadata": {},
   "outputs": [
    {
     "name": "stdout",
     "output_type": "stream",
     "text": [
      "[10, 20, 30, 40, 50]\n",
      "['John', 'Jake', 'Jason', 25]\n"
     ]
    }
   ],
   "source": [
    "# list literals\n",
    "numbers = [10, 20, 30, 40, 50]\n",
    "names = ['John', 'Jake', 'Jason', 25]\n",
    "print(numbers)\n",
    "print(names)\n"
   ]
  },
  {
   "cell_type": "markdown",
   "id": "d03731ce",
   "metadata": {},
   "source": [
    "Tuple \n",
    "- Tuple are a collection of data declared using round brackets(), and commas separate the elements of the tuple (,).\n",
    "-  unlike lists, tuples are immutable."
   ]
  },
  {
   "cell_type": "code",
   "execution_count": 18,
   "id": "237a86ac",
   "metadata": {},
   "outputs": [
    {
     "name": "stdout",
     "output_type": "stream",
     "text": [
      "(2, 4, 6, 8)\n",
      "('a', 'e', 'i', 'o', 'u')\n"
     ]
    }
   ],
   "source": [
    "# tuple literals\n",
    "even_numbers = (2, 4, 6, 8)\n",
    "vowels=('a','e','i','o','u')  \n",
    "print(even_numbers)\n",
    "print(vowels)\n"
   ]
  },
  {
   "cell_type": "markdown",
   "id": "510f8167",
   "metadata": {},
   "source": [
    "Dictionaries\n",
    "- Dictionaries are used to store data values in key:value pairs. \n",
    "\n",
    "- A dictionary is a collection which is ordered*, changeable and do not allow duplicates. "
   ]
  },
  {
   "cell_type": "code",
   "execution_count": 19,
   "id": "e89477c6",
   "metadata": {},
   "outputs": [
    {
     "name": "stdout",
     "output_type": "stream",
     "text": [
      "{'a': 'apple', 'b': 'bat', 'c': 'car'}\n"
     ]
    }
   ],
   "source": [
    "# dictionary literals\n",
    "my_dict = {'a': 'apple', 'b': 'bat', 'c': 'car'}\n",
    "print(my_dict)\n"
   ]
  },
  {
   "cell_type": "markdown",
   "id": "b38a07ec",
   "metadata": {},
   "source": [
    "Set Literals\n",
    "- Set literals are a collection of unordered data that cannot be modified."
   ]
  },
  {
   "cell_type": "code",
   "execution_count": 20,
   "id": "c0dadea0",
   "metadata": {},
   "outputs": [
    {
     "name": "stdout",
     "output_type": "stream",
     "text": [
      "{'e', 'a', 'i', 'u', 'o'}\n"
     ]
    }
   ],
   "source": [
    "#set literals\n",
    "vowels = {'a', 'e', 'i', 'o', 'u'}\n",
    "print(vowels)\n"
   ]
  },
  {
   "cell_type": "code",
   "execution_count": null,
   "id": "0c5a3bac",
   "metadata": {},
   "outputs": [],
   "source": []
  },
  {
   "cell_type": "markdown",
   "id": "3450573d",
   "metadata": {},
   "source": [
    "Operators :\n",
    "\n",
    "Operators are used to perform operations on variables and values.\n",
    "\n",
    "- Arithmatic operator\n",
    "- Comparison operator\n",
    "- Logical operator\n",
    "- Bitwise operator\n",
    "- Assignment operator\n",
    "- Identity operator\n",
    "- Membership operator"
   ]
  },
  {
   "cell_type": "markdown",
   "id": "8c22b27c",
   "metadata": {},
   "source": [
    "Arithmatic operator "
   ]
  },
  {
   "cell_type": "raw",
   "id": "c7840317",
   "metadata": {},
   "source": [
    "+\n",
    "-\n",
    "*\n",
    "/ [division]\n",
    "% [modulus] -> gives remainder after dividing a from b (a%b)\n",
    "** [Exponential] -> gives the result of a to the power b\n",
    "// [Floor division] -> Ignores the decimal point if present"
   ]
  },
  {
   "cell_type": "code",
   "execution_count": 9,
   "id": "0a02c746",
   "metadata": {
    "scrolled": true
   },
   "outputs": [
    {
     "name": "stdout",
     "output_type": "stream",
     "text": [
      "20+10 = 30\n",
      "20-10 = 10\n",
      "20%10 = 0\n"
     ]
    }
   ],
   "source": [
    "a = 20\n",
    "b = 10\n",
    "print(f'{a}+{b} = {a+b}')\n",
    "print(f'{a}-{b} = {a-b}')\n",
    "print(f'{a}%{b} = {a%b}')"
   ]
  },
  {
   "cell_type": "code",
   "execution_count": 17,
   "id": "c196041f",
   "metadata": {},
   "outputs": [
    {
     "name": "stdout",
     "output_type": "stream",
     "text": [
      "3.5/2 = 1.75\n",
      "3.5//2 = 1.0\n"
     ]
    }
   ],
   "source": [
    "a = 3.5\n",
    "b = 2\n",
    "print(f'{a}/{b} = {a/b}')\n",
    "print(f'{a}//{b} = {a//b}')"
   ]
  },
  {
   "cell_type": "code",
   "execution_count": 18,
   "id": "82db4bbc",
   "metadata": {},
   "outputs": [
    {
     "name": "stdout",
     "output_type": "stream",
     "text": [
      "3**2 = 9\n"
     ]
    }
   ],
   "source": [
    "a = 3\n",
    "b = 2\n",
    "print(f'{a}**{b} = {a**b}')"
   ]
  },
  {
   "cell_type": "code",
   "execution_count": null,
   "id": "54c84687",
   "metadata": {},
   "outputs": [],
   "source": []
  },
  {
   "cell_type": "markdown",
   "id": "7aa0f623",
   "metadata": {},
   "source": [
    "Comparison operator\n",
    "\n",
    "- operators compare the value of the left operand and the right operand and return either True or False. "
   ]
  },
  {
   "cell_type": "raw",
   "id": "b4bbab01",
   "metadata": {},
   "source": [
    "==\n",
    "!=\n",
    "<> -> this is similiar to !=\n",
    ">\n",
    "<\n",
    ">=\n",
    "<="
   ]
  },
  {
   "cell_type": "code",
   "execution_count": 20,
   "id": "79a8897a",
   "metadata": {},
   "outputs": [
    {
     "name": "stdout",
     "output_type": "stream",
     "text": [
      "10==20 : False\n",
      "10==10 : True\n"
     ]
    }
   ],
   "source": [
    "a = 10\n",
    "b = 20\n",
    "c = 10\n",
    "\n",
    "print(f'{a}=={b} : {a==b}')\n",
    "print(f'{a}=={c} : {a==c}')"
   ]
  },
  {
   "cell_type": "code",
   "execution_count": 21,
   "id": "8b9e4041",
   "metadata": {},
   "outputs": [
    {
     "name": "stdout",
     "output_type": "stream",
     "text": [
      "10!=20 : True\n",
      "10!=10 : False\n"
     ]
    }
   ],
   "source": [
    "print(f'{a}!={b} : {a!=b}')\n",
    "print(f'{a}!={c} : {a!=c}')"
   ]
  },
  {
   "cell_type": "code",
   "execution_count": 25,
   "id": "346ebf54",
   "metadata": {},
   "outputs": [
    {
     "name": "stdout",
     "output_type": "stream",
     "text": [
      "10>20 : False\n",
      "10>10 : False\n"
     ]
    }
   ],
   "source": [
    "print(f'{a}>{b} : {a>b}')\n",
    "print(f'{a}>{c} : {a>c}')"
   ]
  },
  {
   "cell_type": "code",
   "execution_count": 26,
   "id": "2b550607",
   "metadata": {},
   "outputs": [
    {
     "name": "stdout",
     "output_type": "stream",
     "text": [
      "10<20 : True\n",
      "10<10 : False\n"
     ]
    }
   ],
   "source": [
    "print(f'{a}<{b} : {a<b}')\n",
    "print(f'{a}<{c} : {a<c}')"
   ]
  },
  {
   "cell_type": "code",
   "execution_count": 27,
   "id": "1e3df6d4",
   "metadata": {},
   "outputs": [
    {
     "name": "stdout",
     "output_type": "stream",
     "text": [
      "10>=20 : False\n",
      "10>=10 : True\n"
     ]
    }
   ],
   "source": [
    "print(f'{a}>={b} : {a>=b}')\n",
    "print(f'{a}>={c} : {a>=c}')"
   ]
  },
  {
   "cell_type": "code",
   "execution_count": 28,
   "id": "92a5139d",
   "metadata": {},
   "outputs": [
    {
     "name": "stdout",
     "output_type": "stream",
     "text": [
      "10<=20 : True\n",
      "10<=10 : True\n"
     ]
    }
   ],
   "source": [
    "print(f'{a}<={b} : {a<=b}')\n",
    "print(f'{a}<={c} : {a<=c}')"
   ]
  },
  {
   "cell_type": "code",
   "execution_count": null,
   "id": "bbe3a7f3",
   "metadata": {},
   "outputs": [],
   "source": []
  },
  {
   "cell_type": "markdown",
   "id": "94c95f4d",
   "metadata": {},
   "source": [
    "Assignment operator\n",
    "   - Assignment operators used for assigning values to a variable. \n",
    "   - The values to be assigned must be on the right side, and the variable must be on the left-hand side of the operator."
   ]
  },
  {
   "cell_type": "markdown",
   "id": "d4b837fb",
   "metadata": {},
   "source": [
    "=\n",
    "+=\n",
    "-=\n",
    "*=\n",
    "/=\n",
    "%=\n",
    "**="
   ]
  },
  {
   "cell_type": "code",
   "execution_count": 37,
   "id": "6dd26862",
   "metadata": {},
   "outputs": [
    {
     "name": "stdout",
     "output_type": "stream",
     "text": [
      "30\n"
     ]
    }
   ],
   "source": [
    "a = 10\n",
    "b = 20\n",
    "c = 10\n",
    "\n",
    "a+=b\n",
    "print(a)"
   ]
  },
  {
   "cell_type": "code",
   "execution_count": 38,
   "id": "b04907b3",
   "metadata": {},
   "outputs": [
    {
     "name": "stdout",
     "output_type": "stream",
     "text": [
      "-10\n"
     ]
    }
   ],
   "source": [
    "a = 10\n",
    "b = 20\n",
    "c = 10\n",
    "\n",
    "a-=b\n",
    "print(a)"
   ]
  },
  {
   "cell_type": "code",
   "execution_count": 39,
   "id": "5dcd0c7f",
   "metadata": {},
   "outputs": [
    {
     "name": "stdout",
     "output_type": "stream",
     "text": [
      "0.5\n"
     ]
    }
   ],
   "source": [
    "a = 10\n",
    "b = 20\n",
    "c = 10\n",
    "\n",
    "a/=b\n",
    "print(a)"
   ]
  },
  {
   "cell_type": "code",
   "execution_count": 40,
   "id": "0184dcbd",
   "metadata": {},
   "outputs": [
    {
     "name": "stdout",
     "output_type": "stream",
     "text": [
      "200\n"
     ]
    }
   ],
   "source": [
    "a = 10\n",
    "b = 20\n",
    "c = 10\n",
    "\n",
    "a*=b\n",
    "print(a)"
   ]
  },
  {
   "cell_type": "code",
   "execution_count": null,
   "id": "f1ca6670",
   "metadata": {},
   "outputs": [],
   "source": []
  },
  {
   "cell_type": "markdown",
   "id": "449a2162",
   "metadata": {},
   "source": [
    "When n1 % n2 \n",
    "- If n1 is smaller than n2 then n1 is returned"
   ]
  },
  {
   "cell_type": "code",
   "execution_count": 45,
   "id": "9f14b0e4",
   "metadata": {},
   "outputs": [
    {
     "name": "stdout",
     "output_type": "stream",
     "text": [
      "0\n"
     ]
    }
   ],
   "source": [
    "a = 9\n",
    "b = 3\n",
    "\n",
    "\n",
    "a%=b # 9%3 gives remainder\n",
    "print(a)"
   ]
  },
  {
   "cell_type": "code",
   "execution_count": 4,
   "id": "281bb623",
   "metadata": {},
   "outputs": [
    {
     "name": "stdout",
     "output_type": "stream",
     "text": [
      "1\n"
     ]
    }
   ],
   "source": [
    "a = 4 \n",
    "b = 3\n",
    "\n",
    "a%=b # 4%3 remainder 1\n",
    "print(a)"
   ]
  },
  {
   "cell_type": "code",
   "execution_count": 6,
   "id": "156dfe3e",
   "metadata": {},
   "outputs": [
    {
     "name": "stdout",
     "output_type": "stream",
     "text": [
      "3\n"
     ]
    }
   ],
   "source": [
    "a = 3\n",
    "b = 9\n",
    "\n",
    "a%=b\n",
    "print(a)"
   ]
  },
  {
   "cell_type": "code",
   "execution_count": null,
   "id": "23d18ee8",
   "metadata": {},
   "outputs": [],
   "source": []
  },
  {
   "cell_type": "code",
   "execution_count": 8,
   "id": "cd0f0fa9",
   "metadata": {},
   "outputs": [
    {
     "name": "stdout",
     "output_type": "stream",
     "text": [
      "100\n"
     ]
    }
   ],
   "source": [
    "a = 10\n",
    "b = 2\n",
    "\n",
    "a**=b # 10**2=100\n",
    "print("
   ]
  },
  {
   "cell_type": "code",
   "execution_count": 13,
   "id": "eddb6131",
   "metadata": {},
   "outputs": [
    {
     "name": "stdout",
     "output_type": "stream",
     "text": [
      "2\n"
     ]
    }
   ],
   "source": [
    "a = 5\n",
    "b = 2\n",
    "\n",
    "a//=b \n",
    "print(a)"
   ]
  },
  {
   "cell_type": "code",
   "execution_count": 16,
   "id": "d5ec1d86",
   "metadata": {},
   "outputs": [
    {
     "name": "stdout",
     "output_type": "stream",
     "text": [
      "2.0\n"
     ]
    }
   ],
   "source": [
    "a = 5.5\n",
    "b = 2\n",
    "\n",
    "a//=b \n",
    "print(a)"
   ]
  },
  {
   "cell_type": "code",
   "execution_count": null,
   "id": "1f8f2f57",
   "metadata": {},
   "outputs": [],
   "source": []
  },
  {
   "cell_type": "markdown",
   "id": "47f50669",
   "metadata": {},
   "source": [
    "Logical operator\n",
    "\n",
    "- And (T * T = T)\n",
    "- Or (T * anything = T)\n",
    "- Not (Reverse the result)"
   ]
  },
  {
   "cell_type": "markdown",
   "id": "cf9ac03e",
   "metadata": {},
   "source": [
    "Prog. Find largest number among 3 nummbers"
   ]
  },
  {
   "cell_type": "code",
   "execution_count": 19,
   "id": "0168b969",
   "metadata": {},
   "outputs": [
    {
     "name": "stdout",
     "output_type": "stream",
     "text": [
      "Enter 1st number : 44\n",
      "Enter 2nd number : 33\n",
      "Enter 3rd number : 22\n",
      "44 is greatest among (44, 33, 22)\n"
     ]
    }
   ],
   "source": [
    "n1 = int(input('Enter 1st number : '))\n",
    "n2 = int(input('Enter 2nd number : '))\n",
    "n3 = int(input('Enter 3rd number : '))\n",
    "\n",
    "if n1>n2 and n1>n3:\n",
    "    print(f'{n1} is greatest among {n1,n2,n3}')\n",
    "elif n2>n1 and n2>n3:\n",
    "    print(f'{n2} is greatest among {n1,n2,n3}')\n",
    "else:\n",
    "    print(f'{n3} is greatest among {n1,n2,n3}')"
   ]
  },
  {
   "cell_type": "code",
   "execution_count": null,
   "id": "5bb3e7db",
   "metadata": {},
   "outputs": [],
   "source": []
  },
  {
   "cell_type": "code",
   "execution_count": 22,
   "id": "fba7f070",
   "metadata": {},
   "outputs": [
    {
     "name": "stdout",
     "output_type": "stream",
     "text": [
      "False\n"
     ]
    }
   ],
   "source": [
    "x = 10\n",
    "print(x<5 and x<11)"
   ]
  },
  {
   "cell_type": "code",
   "execution_count": 23,
   "id": "8136b1b4",
   "metadata": {},
   "outputs": [
    {
     "name": "stdout",
     "output_type": "stream",
     "text": [
      "True\n"
     ]
    }
   ],
   "source": [
    "print(x<5 or x<11)"
   ]
  },
  {
   "cell_type": "code",
   "execution_count": 24,
   "id": "7445f051",
   "metadata": {},
   "outputs": [
    {
     "name": "stdout",
     "output_type": "stream",
     "text": [
      "False\n"
     ]
    }
   ],
   "source": [
    "print(not(x<5 or x<11))"
   ]
  },
  {
   "cell_type": "code",
   "execution_count": null,
   "id": "df8dea21",
   "metadata": {},
   "outputs": [],
   "source": []
  },
  {
   "cell_type": "markdown",
   "id": "8378c35d",
   "metadata": {},
   "source": [
    "Membership operator\n",
    "\n",
    "- These operators search for the value in a specified sequence and return True or False accordingly. \n",
    "\n",
    "- If the value is found in the given sequence, it gives the output as True, otherwise False. \n",
    "\n",
    "- The not in operator returns true if the value specified is not found in the given sequence. "
   ]
  },
  {
   "cell_type": "markdown",
   "id": "9ff7533e",
   "metadata": {},
   "source": [
    "Ex. in, not in, is"
   ]
  },
  {
   "cell_type": "code",
   "execution_count": 3,
   "id": "daf170d7",
   "metadata": {},
   "outputs": [
    {
     "name": "stdout",
     "output_type": "stream",
     "text": [
      "True\n"
     ]
    }
   ],
   "source": [
    "print(5 in [1,2,3,4,5])\n",
    "\n",
    "# returns true if the value is found in the specified sequence"
   ]
  },
  {
   "cell_type": "code",
   "execution_count": 4,
   "id": "251d7efc",
   "metadata": {},
   "outputs": [
    {
     "name": "stdout",
     "output_type": "stream",
     "text": [
      "False\n"
     ]
    }
   ],
   "source": [
    "print(15 in [1,2,3,4,5])"
   ]
  },
  {
   "cell_type": "code",
   "execution_count": 5,
   "id": "179cf155",
   "metadata": {},
   "outputs": [
    {
     "name": "stdout",
     "output_type": "stream",
     "text": [
      "True\n"
     ]
    }
   ],
   "source": [
    "print(5.0 in [1,2,3,4,5])"
   ]
  },
  {
   "cell_type": "code",
   "execution_count": null,
   "id": "5a4b7713",
   "metadata": {},
   "outputs": [],
   "source": []
  },
  {
   "cell_type": "code",
   "execution_count": 6,
   "id": "1d4f6a2b",
   "metadata": {},
   "outputs": [
    {
     "name": "stdout",
     "output_type": "stream",
     "text": [
      "True\n"
     ]
    }
   ],
   "source": [
    "print(5 in {1,2,3,4,5})"
   ]
  },
  {
   "cell_type": "code",
   "execution_count": 9,
   "id": "56f2fa54",
   "metadata": {},
   "outputs": [
    {
     "name": "stdout",
     "output_type": "stream",
     "text": [
      "True\n"
     ]
    }
   ],
   "source": [
    "print(5.0 in {1,2,3,4,5})"
   ]
  },
  {
   "cell_type": "code",
   "execution_count": 10,
   "id": "33b67a95",
   "metadata": {},
   "outputs": [
    {
     "name": "stdout",
     "output_type": "stream",
     "text": [
      "False\n"
     ]
    }
   ],
   "source": [
    "print(15 in {1,2,3,4,5})"
   ]
  },
  {
   "cell_type": "code",
   "execution_count": null,
   "id": "12aa4be3",
   "metadata": {},
   "outputs": [],
   "source": []
  },
  {
   "cell_type": "code",
   "execution_count": 11,
   "id": "a4a050f5",
   "metadata": {},
   "outputs": [
    {
     "name": "stdout",
     "output_type": "stream",
     "text": [
      "False\n"
     ]
    }
   ],
   "source": [
    "print(5 not in {1,2,3,4,5})"
   ]
  },
  {
   "cell_type": "code",
   "execution_count": 12,
   "id": "1f86d36d",
   "metadata": {},
   "outputs": [
    {
     "name": "stdout",
     "output_type": "stream",
     "text": [
      "False\n"
     ]
    }
   ],
   "source": [
    "print(5.0 not in {1,2,3,4,5})"
   ]
  },
  {
   "cell_type": "code",
   "execution_count": 13,
   "id": "ea3d4e7d",
   "metadata": {},
   "outputs": [
    {
     "name": "stdout",
     "output_type": "stream",
     "text": [
      "True\n"
     ]
    }
   ],
   "source": [
    "print(15 not in {1,2,3,4,5})"
   ]
  },
  {
   "cell_type": "code",
   "execution_count": null,
   "id": "3cb1abfc",
   "metadata": {},
   "outputs": [],
   "source": []
  },
  {
   "cell_type": "markdown",
   "id": "ac573bd9",
   "metadata": {},
   "source": [
    "is\n",
    "- is mainly used for checking whether the 2 values are pointing to the same memory locatio\n",
    "    \n",
    "Note : \n",
    "- If the 2 values look similiar does not mean that they are pointing to the same memory location"
   ]
  },
  {
   "cell_type": "code",
   "execution_count": 32,
   "id": "a02a32a3",
   "metadata": {},
   "outputs": [
    {
     "name": "stdout",
     "output_type": "stream",
     "text": [
      "False\n"
     ]
    }
   ],
   "source": [
    "a = 10\n",
    "b = 20\n",
    "print(a is b)"
   ]
  },
  {
   "cell_type": "code",
   "execution_count": 33,
   "id": "957d6b85",
   "metadata": {},
   "outputs": [
    {
     "name": "stdout",
     "output_type": "stream",
     "text": [
      "True\n"
     ]
    }
   ],
   "source": [
    "a = 10\n",
    "b = 10\n",
    "print(a is b)"
   ]
  },
  {
   "cell_type": "code",
   "execution_count": 34,
   "id": "16b3e2c6",
   "metadata": {},
   "outputs": [
    {
     "name": "stdout",
     "output_type": "stream",
     "text": [
      "False\n"
     ]
    }
   ],
   "source": [
    "a = [1,2,3]\n",
    "b = [1,2,3]\n",
    "print(a is b)"
   ]
  },
  {
   "cell_type": "code",
   "execution_count": 35,
   "id": "dee44ef7",
   "metadata": {},
   "outputs": [
    {
     "name": "stdout",
     "output_type": "stream",
     "text": [
      "False\n"
     ]
    }
   ],
   "source": [
    "a = {1:2,2:4}\n",
    "b = {1:2,2:4}\n",
    "print(a is b)"
   ]
  },
  {
   "cell_type": "code",
   "execution_count": 36,
   "id": "d8292e74",
   "metadata": {},
   "outputs": [
    {
     "name": "stdout",
     "output_type": "stream",
     "text": [
      "False\n"
     ]
    }
   ],
   "source": [
    "a = {1,2,3}\n",
    "b = {1,2,3}\n",
    "print(a is b)"
   ]
  },
  {
   "cell_type": "code",
   "execution_count": 37,
   "id": "58937a44",
   "metadata": {},
   "outputs": [
    {
     "name": "stdout",
     "output_type": "stream",
     "text": [
      "True\n"
     ]
    }
   ],
   "source": [
    "a = 'harsh'\n",
    "b = 'harsh'\n",
    "print(a is b)"
   ]
  },
  {
   "cell_type": "code",
   "execution_count": 38,
   "id": "7cde85fc",
   "metadata": {},
   "outputs": [
    {
     "name": "stdout",
     "output_type": "stream",
     "text": [
      "False\n"
     ]
    }
   ],
   "source": [
    "a = 'hello-harsh'\n",
    "b = 'hello-harsh'\n",
    "print(a is b)"
   ]
  },
  {
   "cell_type": "code",
   "execution_count": 39,
   "id": "018d392b",
   "metadata": {},
   "outputs": [
    {
     "name": "stdout",
     "output_type": "stream",
     "text": [
      "True\n"
     ]
    }
   ],
   "source": [
    "a = 'hello_harsh'\n",
    "b = 'hello_harsh'\n",
    "print(a is b)"
   ]
  },
  {
   "cell_type": "code",
   "execution_count": null,
   "id": "db890e3e",
   "metadata": {},
   "outputs": [],
   "source": []
  },
  {
   "cell_type": "markdown",
   "id": "064b227c",
   "metadata": {},
   "source": [
    "Bitwise operator\n",
    "\n",
    "- These operators perform operations on binary numbers. \n",
    "\n",
    "- So if the number given is not in binary, the number is converted to binary internally, and then an operation is performed. \n",
    "\n",
    "- These operations are generally performed bit by bit.\n",
    "\n",
    "- For this operator : mainly refer the truth table \n"
   ]
  },
  {
   "cell_type": "markdown",
   "id": "344cdf1b",
   "metadata": {},
   "source": [
    "AND operator (&)"
   ]
  },
  {
   "cell_type": "code",
   "execution_count": 17,
   "id": "f2c0455d",
   "metadata": {},
   "outputs": [],
   "source": [
    "a = 4 # so 4 in binary is 0100, \n",
    "b = 3 # 3 in binary is 0011."
   ]
  },
  {
   "cell_type": "code",
   "execution_count": 18,
   "id": "ed3ee5fb",
   "metadata": {},
   "outputs": [
    {
     "name": "stdout",
     "output_type": "stream",
     "text": [
      "0\n"
     ]
    }
   ],
   "source": [
    "\n",
    "'''\n",
    "0100\n",
    "0011\n",
    "----\n",
    "ffff 0\n",
    "'''\n",
    "\n",
    "print(a&b)"
   ]
  },
  {
   "cell_type": "markdown",
   "id": "181bf462",
   "metadata": {},
   "source": [
    "OR operator (|)"
   ]
  },
  {
   "cell_type": "code",
   "execution_count": 19,
   "id": "89a8faad",
   "metadata": {},
   "outputs": [
    {
     "name": "stdout",
     "output_type": "stream",
     "text": [
      "7\n"
     ]
    }
   ],
   "source": [
    "'''\n",
    "0100\n",
    "0011\n",
    "----\n",
    "0111 (4+2+1)\n",
    "'''\n",
    "\n",
    "#8421 binary to number\n",
    "print(a|b)"
   ]
  },
  {
   "cell_type": "markdown",
   "id": "09b23d38",
   "metadata": {},
   "source": [
    "XOR operator(^)"
   ]
  },
  {
   "cell_type": "code",
   "execution_count": 20,
   "id": "3963d4fd",
   "metadata": {},
   "outputs": [
    {
     "name": "stdout",
     "output_type": "stream",
     "text": [
      "7\n"
     ]
    }
   ],
   "source": [
    "'''\n",
    "0100\n",
    "0011\n",
    "----\n",
    "0111 (4+2+1)\n",
    "'''\n",
    "\n",
    "#8421 binary to number\n",
    "print(a^b)"
   ]
  },
  {
   "cell_type": "markdown",
   "id": "64ebf292",
   "metadata": {},
   "source": [
    "NOT operator(~)"
   ]
  },
  {
   "cell_type": "code",
   "execution_count": 24,
   "id": "6fd2f375",
   "metadata": {},
   "outputs": [
    {
     "name": "stdout",
     "output_type": "stream",
     "text": [
      "-5\n",
      "-4\n"
     ]
    }
   ],
   "source": [
    "# invert all the bits\n",
    "\n",
    "a = 4 # so 4 in binary is 0100, \n",
    "b = 3 # 3 in binary is 0011.\n",
    "\n",
    "'''\n",
    "0100\n",
    "----\n",
    "1011 (8+2+1)\n",
    "'''\n",
    "\n",
    "#8421 binary to number\n",
    "print(~a)\n",
    "print(~b)"
   ]
  },
  {
   "cell_type": "markdown",
   "id": "f28e2beb",
   "metadata": {},
   "source": [
    "Negative number to binary conversion [Concept]\n",
    "\n",
    "https://www.youtube.com/watch?v=MXUVr7dB7Uo"
   ]
  },
  {
   "cell_type": "markdown",
   "id": "93ab9aad",
   "metadata": {},
   "source": [
    "Bitwise left shift: \n",
    "- << Zero fill - Left shift \n",
    "- Shifts the bits of the number to the left and fills 0 on voids right as a result. Similar effect as of multiplying the number with some power of two."
   ]
  },
  {
   "cell_type": "code",
   "execution_count": 27,
   "id": "71937191",
   "metadata": {},
   "outputs": [
    {
     "name": "stdout",
     "output_type": "stream",
     "text": [
      "10\n"
     ]
    }
   ],
   "source": [
    "a = 5 # 0000 0101 (Binary)\n",
    "print(a << 1) # 0000 1010 = 10"
   ]
  },
  {
   "cell_type": "code",
   "execution_count": 28,
   "id": "20a7a182",
   "metadata": {},
   "outputs": [
    {
     "name": "stdout",
     "output_type": "stream",
     "text": [
      "20\n"
     ]
    }
   ],
   "source": [
    "a = 5 # 0000 0101 (Binary)\n",
    "print(a << 2) # 0001 0100 = 20 "
   ]
  },
  {
   "cell_type": "markdown",
   "id": "9eca3877",
   "metadata": {},
   "source": [
    "Bitwise right shift: \n",
    "\n",
    "- Shifts the bits of the number to the right and fills 0 on voids left( fills 1 in the case of a negative number) as a result. \n",
    "- Similar effect as of dividing the number with some power of two."
   ]
  },
  {
   "cell_type": "code",
   "execution_count": 29,
   "id": "8cc19d29",
   "metadata": {},
   "outputs": [
    {
     "name": "stdout",
     "output_type": "stream",
     "text": [
      "5\n"
     ]
    }
   ],
   "source": [
    "a = 10 # 0000 1010 (Binary)\n",
    "print(a >> 1) # 0000 0101 = 5"
   ]
  },
  {
   "cell_type": "code",
   "execution_count": 31,
   "id": "9fa81cf1",
   "metadata": {},
   "outputs": [
    {
     "name": "stdout",
     "output_type": "stream",
     "text": [
      "-5\n"
     ]
    }
   ],
   "source": [
    "a = -10 # 1111 0110 (Binary)\n",
    "print(a >> 1) # 1111 1011 = -5 "
   ]
  },
  {
   "cell_type": "code",
   "execution_count": null,
   "id": "8303937b",
   "metadata": {},
   "outputs": [],
   "source": []
  },
  {
   "cell_type": "markdown",
   "id": "f53e15f7",
   "metadata": {},
   "source": [
    "If-else Statement"
   ]
  },
  {
   "cell_type": "code",
   "execution_count": 46,
   "id": "c90c5377",
   "metadata": {},
   "outputs": [
    {
     "name": "stdout",
     "output_type": "stream",
     "text": [
      "Enter the email : python@gmail.com\n",
      "Enter the password : 123\n",
      "Invalid pass \n",
      "Re-enter the password1234\n",
      "Welcome user !!\n"
     ]
    }
   ],
   "source": [
    "# default email : python@gmail.com\n",
    "# default pass : 1234\n",
    "\n",
    "email = input('Enter the email : ')\n",
    "\n",
    "if '@' in email:\n",
    "    pwd = input('Enter the password : ')\n",
    "    if email=='python@gmail.com' and int(pwd)==1234:\n",
    "        print('Welcome User !!')\n",
    "    if email=='python@gmail.com' and int(pwd)!=1234:\n",
    "        print('Invalid pass ')\n",
    "        pwd = input('Re-enter the password')\n",
    "        if 1234==int(pwd):\n",
    "            print('Welcome user !!')\n",
    "        else:\n",
    "            print('Still Incorrect pass')\n",
    "else:\n",
    "    print('Invalid Email !!')"
   ]
  },
  {
   "cell_type": "code",
   "execution_count": null,
   "id": "b9f33144",
   "metadata": {},
   "outputs": [],
   "source": []
  },
  {
   "cell_type": "markdown",
   "id": "214dace1",
   "metadata": {},
   "source": [
    "Indentation in Python\n",
    "\n",
    "- Python does not use curly brances {} or semi-colon :\n",
    "\n",
    "- Improves code-readibility & debugging process easy"
   ]
  },
  {
   "cell_type": "markdown",
   "id": "63c83d1e",
   "metadata": {},
   "source": [
    "Loops \n",
    "- Repeatative task\n",
    "- real life eg: flipkart search results\n",
    "    + phone details [img + data] -> container\n",
    "    + difference content \n",
    "    + similarity -> format of display of information\n",
    "    \n",
    "we will create a single container and keep it in loop & fetch data from db and the container will be printed multiple times"
   ]
  },
  {
   "cell_type": "markdown",
   "id": "6eda6751",
   "metadata": {},
   "source": [
    "Types of loops :\n",
    "   - While\n",
    "   - For"
   ]
  },
  {
   "cell_type": "markdown",
   "id": "c19cd510",
   "metadata": {},
   "source": [
    "Printing tables  n"
   ]
  },
  {
   "cell_type": "code",
   "execution_count": 52,
   "id": "e7158a3a",
   "metadata": {},
   "outputs": [
    {
     "name": "stdout",
     "output_type": "stream",
     "text": [
      "enter the table no . : 3\n",
      "3 x 1 = 3\n",
      "3 x 2 = 6\n",
      "3 x 3 = 9\n",
      "3 x 4 = 12\n",
      "3 x 5 = 15\n",
      "3 x 6 = 18\n",
      "3 x 7 = 21\n",
      "3 x 8 = 24\n",
      "3 x 9 = 27\n",
      "3 x 10 = 30\n"
     ]
    }
   ],
   "source": [
    "tno = int(input(\"enter the table no . : \"))\n",
    "\n",
    "i = 1\n",
    "while i<11:\n",
    "    print(f'{tno} x {i} = {tno*i}')\n",
    "    i+=1"
   ]
  },
  {
   "cell_type": "code",
   "execution_count": 54,
   "id": "efe43cac",
   "metadata": {},
   "outputs": [
    {
     "name": "stdout",
     "output_type": "stream",
     "text": [
      "print table till . : 3\n",
      "1 x 1 = 1\n",
      "1 x 2 = 2\n",
      "1 x 3 = 3\n",
      "1 x 4 = 4\n",
      "1 x 5 = 5\n",
      "1 x 6 = 6\n",
      "1 x 7 = 7\n",
      "1 x 8 = 8\n",
      "1 x 9 = 9\n",
      "1 x 10 = 10\n",
      "\n",
      "2 x 1 = 2\n",
      "2 x 2 = 4\n",
      "2 x 3 = 6\n",
      "2 x 4 = 8\n",
      "2 x 5 = 10\n",
      "2 x 6 = 12\n",
      "2 x 7 = 14\n",
      "2 x 8 = 16\n",
      "2 x 9 = 18\n",
      "2 x 10 = 20\n",
      "\n",
      "3 x 1 = 3\n",
      "3 x 2 = 6\n",
      "3 x 3 = 9\n",
      "3 x 4 = 12\n",
      "3 x 5 = 15\n",
      "3 x 6 = 18\n",
      "3 x 7 = 21\n",
      "3 x 8 = 24\n",
      "3 x 9 = 27\n",
      "3 x 10 = 30\n",
      "\n"
     ]
    }
   ],
   "source": [
    "eno = int(input(\"print table till . : \"))\n",
    "\n",
    "c = 1\n",
    "while c<=eno:\n",
    "    i = 1\n",
    "    while i<11:\n",
    "        print(f'{c} x {i} = {c*i}')\n",
    "        i+=1\n",
    "    c+=1\n",
    "    print()"
   ]
  },
  {
   "cell_type": "code",
   "execution_count": null,
   "id": "c34f6d3b",
   "metadata": {},
   "outputs": [],
   "source": []
  },
  {
   "cell_type": "markdown",
   "id": "0fa4bca3",
   "metadata": {},
   "source": [
    "Guessing Game in Python \n",
    "- gen 1-100 random no.\n",
    "- ask user to enter guess number\n",
    "    - give instruction guess higher or lower\n",
    "- save no of attempts"
   ]
  },
  {
   "cell_type": "code",
   "execution_count": 64,
   "id": "4bf09de9",
   "metadata": {},
   "outputs": [
    {
     "name": "stdout",
     "output_type": "stream",
     "text": [
      "Guess the number : 23\n",
      "-------------------------------------------------------------\n",
      "Hint :: Increse your guess number\n",
      "-------------------------------------------------------------\n",
      "Guess the number : 34\n",
      "-------------------------------------------------------------\n",
      "Hint :: Lower your guess number \n",
      "-------------------------------------------------------------\n",
      "Guess the number : 30\n",
      "-------------------------------------------------------------\n",
      "Hint :: Increse your guess number\n",
      "-------------------------------------------------------------\n",
      "Guess the number : 31\n",
      "-------------------------------------------------------------\n",
      "Hint :: Increse your guess number\n",
      "-------------------------------------------------------------\n",
      "Guess the number : 32\n",
      "-------------------------------------------------------------\n",
      "You guessed the number successfully in 5 tries !!\n",
      "you won $5000\n",
      "-------------------------------------------------------------\n"
     ]
    }
   ],
   "source": [
    "import random\n",
    "rno = random.randint(1,100) # boundary included\n",
    "\n",
    "tries = 0\n",
    "while True:\n",
    "    guess = int(input('Guess the number : '))\n",
    "    print('-------------------------------------------------------------')\n",
    "    tries+=1\n",
    "    if guess==rno:\n",
    "        print(f'You guessed the number successfully in {tries} tries !!')\n",
    "        print('you won $5000')\n",
    "        print('-------------------------------------------------------------')\n",
    "        break\n",
    "    elif guess>rno:\n",
    "        print('Hint :: Lower your guess number ')\n",
    "        print('-------------------------------------------------------------')        \n",
    "    elif guess<rno:\n",
    "        print('Hint :: Increse your guess number')\n",
    "        print('-------------------------------------------------------------')\n",
    "        "
   ]
  },
  {
   "cell_type": "code",
   "execution_count": null,
   "id": "8a322bb7",
   "metadata": {},
   "outputs": [],
   "source": []
  },
  {
   "cell_type": "markdown",
   "id": "fdb192c8",
   "metadata": {},
   "source": [
    "Range Fucntion"
   ]
  },
  {
   "cell_type": "code",
   "execution_count": 1,
   "id": "bf5f7bf2",
   "metadata": {},
   "outputs": [
    {
     "name": "stdout",
     "output_type": "stream",
     "text": [
      "0 1 2 3 4 "
     ]
    }
   ],
   "source": [
    "for i in range(5):\n",
    "    print(i,end=' ')"
   ]
  },
  {
   "cell_type": "code",
   "execution_count": 3,
   "id": "2d140d38",
   "metadata": {},
   "outputs": [
    {
     "name": "stdout",
     "output_type": "stream",
     "text": [
      "2 3 4 "
     ]
    }
   ],
   "source": [
    "for i in range(2,5):\n",
    "    print(i,end=' ')"
   ]
  },
  {
   "cell_type": "code",
   "execution_count": 6,
   "id": "3420c3f1",
   "metadata": {},
   "outputs": [
    {
     "name": "stdout",
     "output_type": "stream",
     "text": [
      "1 3 5 7 9 "
     ]
    }
   ],
   "source": [
    "for i in range(1,10,2):\n",
    "    print(i,end=' ')"
   ]
  },
  {
   "cell_type": "code",
   "execution_count": null,
   "id": "98c28681",
   "metadata": {},
   "outputs": [],
   "source": []
  },
  {
   "cell_type": "code",
   "execution_count": 7,
   "id": "ab6575f1",
   "metadata": {},
   "outputs": [
    {
     "data": {
      "text/plain": [
       "[1, 2, 3, 4, 5, 6, 7, 8, 9, 10]"
      ]
     },
     "execution_count": 7,
     "metadata": {},
     "output_type": "execute_result"
    }
   ],
   "source": [
    "list(range(1,11))"
   ]
  },
  {
   "cell_type": "code",
   "execution_count": null,
   "id": "00e61482",
   "metadata": {},
   "outputs": [],
   "source": []
  },
  {
   "cell_type": "markdown",
   "id": "530aa2ae",
   "metadata": {},
   "source": [
    "String :\n",
    "- Is a sequence of characters"
   ]
  },
  {
   "cell_type": "markdown",
   "id": "733056e6",
   "metadata": {},
   "source": [
    "Tuple, list, set, dic : \n",
    "- sequence of words"
   ]
  },
  {
   "cell_type": "markdown",
   "id": "8ddca34d",
   "metadata": {},
   "source": [
    "For loop\n",
    "- Only iterates over a range fucntion or the sequence"
   ]
  },
  {
   "cell_type": "code",
   "execution_count": 8,
   "id": "22714b6f",
   "metadata": {},
   "outputs": [
    {
     "name": "stdout",
     "output_type": "stream",
     "text": [
      "h a p p y   h a r s h "
     ]
    }
   ],
   "source": [
    "for i in 'happy harsh':\n",
    "    print(i,end=' ')"
   ]
  },
  {
   "cell_type": "code",
   "execution_count": 9,
   "id": "c19b17ca",
   "metadata": {},
   "outputs": [
    {
     "name": "stdout",
     "output_type": "stream",
     "text": [
      "2 3 4 "
     ]
    }
   ],
   "source": [
    "for i in range(2,5):\n",
    "    print(i,end=' ')"
   ]
  },
  {
   "cell_type": "code",
   "execution_count": 12,
   "id": "15a8d0a6",
   "metadata": {},
   "outputs": [
    {
     "name": "stdout",
     "output_type": "stream",
     "text": [
      "4 2 1 "
     ]
    }
   ],
   "source": [
    "for i in (4,2,1):\n",
    "    print(i,end=' ')"
   ]
  },
  {
   "cell_type": "code",
   "execution_count": 14,
   "id": "7eae2f84",
   "metadata": {},
   "outputs": [
    {
     "name": "stdout",
     "output_type": "stream",
     "text": [
      "1 5 2 "
     ]
    }
   ],
   "source": [
    "for i in [1,5,2]:\n",
    "    print(i, end=' ')"
   ]
  },
  {
   "cell_type": "code",
   "execution_count": null,
   "id": "4cb21070",
   "metadata": {},
   "outputs": [],
   "source": []
  },
  {
   "cell_type": "markdown",
   "id": "306d24f9",
   "metadata": {},
   "source": [
    "Use case of differerent Loop :\n",
    "- For loop use : when we know how many times to loop through\n",
    "- while loop use : unknown how many times loop through"
   ]
  },
  {
   "cell_type": "markdown",
   "id": "68e7c5bc",
   "metadata": {},
   "source": [
    "Nested Loop :\n",
    "- using loop inside another loop"
   ]
  },
  {
   "cell_type": "code",
   "execution_count": 22,
   "id": "81265d39",
   "metadata": {},
   "outputs": [
    {
     "name": "stdout",
     "output_type": "stream",
     "text": [
      "Enter the rows : 5\n",
      "\n",
      "$\n",
      "$$\n",
      "$$$\n",
      "$$$$\n",
      "$$$$$\n"
     ]
    }
   ],
   "source": [
    "n = int(input('Enter the rows : '))\n",
    "for i in range(n+1):\n",
    "    for j in range(i):\n",
    "        print('$',end = '')\n",
    "    print()"
   ]
  },
  {
   "cell_type": "code",
   "execution_count": 23,
   "id": "8dc2f960",
   "metadata": {},
   "outputs": [
    {
     "name": "stdout",
     "output_type": "stream",
     "text": [
      "Enter the rows : 5\n",
      "\n",
      "$ \n",
      "$ $ \n",
      "$ $ $ \n",
      "$ $ $ $ \n",
      "$ $ $ $ $ \n"
     ]
    }
   ],
   "source": [
    "n = int(input('Enter the rows : '))\n",
    "for i in range(n+1):\n",
    "    for j in range(i):\n",
    "        print('$ ',end = '')\n",
    "    print()"
   ]
  },
  {
   "cell_type": "code",
   "execution_count": null,
   "id": "039031c0",
   "metadata": {},
   "outputs": [],
   "source": []
  },
  {
   "cell_type": "markdown",
   "id": "a8f8eb87",
   "metadata": {},
   "source": [
    "Break-continue and pass Statements"
   ]
  },
  {
   "cell_type": "markdown",
   "id": "254704bd",
   "metadata": {},
   "source": [
    "Break ex - Linear Search \n",
    "- searching user from a db and braking the execution when the user is found\n",
    "\n",
    "Continue ex - continue ke aage ka code - skip that iteration (skip ho jata hai)\n",
    "- flipkart : current product stock mai  hai toh display if not in stock the display code is skipped\n",
    "\n",
    "pass -\n",
    "- The pass statement is used as a placeholder for future code. \n",
    "\n",
    "- When the pass statement is executed, nothing happens, but you avoid getting an error when empty code is not allowed. Empty code is not allowed in loops, function definitions, class definitions, or in if statements."
   ]
  },
  {
   "cell_type": "code",
   "execution_count": null,
   "id": "88bd9a5b",
   "metadata": {},
   "outputs": [],
   "source": []
  },
  {
   "cell_type": "markdown",
   "id": "74b932c9",
   "metadata": {},
   "source": [
    "Build-in Fucntions\n",
    "- print()\n",
    "- type()\n",
    "- input()\n",
    "- type conversion fucntions ex. int, str, float, list\n",
    "- abs # absolute function\n",
    "- pow # popwer fucntn\n",
    "- min/max\n",
    "- round # round(var,places)\n",
    "- divmod\n",
    "- bin/oct/hex\n",
    "- id : returns the address\n",
    "- ord : returns the ascii code of the char\n",
    "- len()\n",
    "- sum()\n",
    "- help()"
   ]
  },
  {
   "cell_type": "code",
   "execution_count": 25,
   "id": "1c61e231",
   "metadata": {},
   "outputs": [
    {
     "data": {
      "text/plain": [
       "3"
      ]
     },
     "execution_count": 25,
     "metadata": {},
     "output_type": "execute_result"
    }
   ],
   "source": [
    "abs(3)"
   ]
  },
  {
   "cell_type": "code",
   "execution_count": 26,
   "id": "3f1f3bb0",
   "metadata": {},
   "outputs": [
    {
     "data": {
      "text/plain": [
       "3"
      ]
     },
     "execution_count": 26,
     "metadata": {},
     "output_type": "execute_result"
    }
   ],
   "source": [
    "abs(-3)"
   ]
  },
  {
   "cell_type": "code",
   "execution_count": 27,
   "id": "fb3c5f76",
   "metadata": {},
   "outputs": [
    {
     "data": {
      "text/plain": [
       "8"
      ]
     },
     "execution_count": 27,
     "metadata": {},
     "output_type": "execute_result"
    }
   ],
   "source": [
    "pow(2,3) # 2 to the power 3"
   ]
  },
  {
   "cell_type": "code",
   "execution_count": null,
   "id": "76025ded",
   "metadata": {},
   "outputs": [],
   "source": []
  },
  {
   "cell_type": "code",
   "execution_count": 28,
   "id": "cc25bb4e",
   "metadata": {},
   "outputs": [
    {
     "data": {
      "text/plain": [
       "1"
      ]
     },
     "execution_count": 28,
     "metadata": {},
     "output_type": "execute_result"
    }
   ],
   "source": [
    "min([1,2,3,46,6])"
   ]
  },
  {
   "cell_type": "code",
   "execution_count": 29,
   "id": "2551843d",
   "metadata": {},
   "outputs": [
    {
     "data": {
      "text/plain": [
       "46"
      ]
     },
     "execution_count": 29,
     "metadata": {},
     "output_type": "execute_result"
    }
   ],
   "source": [
    "max([1,2,3,46,6])"
   ]
  },
  {
   "cell_type": "code",
   "execution_count": 31,
   "id": "91388a2d",
   "metadata": {},
   "outputs": [
    {
     "data": {
      "text/plain": [
       "'s'"
      ]
     },
     "execution_count": 31,
     "metadata": {},
     "output_type": "execute_result"
    }
   ],
   "source": [
    "max('harsh')\n",
    "# on the basis of ascii value"
   ]
  },
  {
   "cell_type": "code",
   "execution_count": 32,
   "id": "c20ca512",
   "metadata": {},
   "outputs": [
    {
     "data": {
      "text/plain": [
       "'a'"
      ]
     },
     "execution_count": 32,
     "metadata": {},
     "output_type": "execute_result"
    }
   ],
   "source": [
    "min('harsh')"
   ]
  },
  {
   "cell_type": "code",
   "execution_count": null,
   "id": "08e322d3",
   "metadata": {},
   "outputs": [],
   "source": []
  },
  {
   "cell_type": "code",
   "execution_count": 34,
   "id": "eeb7b474",
   "metadata": {},
   "outputs": [
    {
     "data": {
      "text/plain": [
       "3.142857142857143"
      ]
     },
     "execution_count": 34,
     "metadata": {},
     "output_type": "execute_result"
    }
   ],
   "source": [
    "q = 22/7\n",
    "q"
   ]
  },
  {
   "cell_type": "code",
   "execution_count": 35,
   "id": "ba3c0e87",
   "metadata": {},
   "outputs": [
    {
     "data": {
      "text/plain": [
       "3.14"
      ]
     },
     "execution_count": 35,
     "metadata": {},
     "output_type": "execute_result"
    }
   ],
   "source": [
    "round(q,2) "
   ]
  },
  {
   "cell_type": "code",
   "execution_count": null,
   "id": "7be2aeef",
   "metadata": {},
   "outputs": [],
   "source": []
  },
  {
   "cell_type": "markdown",
   "id": "5aad5cd8",
   "metadata": {},
   "source": [
    "Signature: divmod(x, y, /)\n",
    "\n",
    "Docstring: Return the tuple (x//y, x%y)."
   ]
  },
  {
   "cell_type": "code",
   "execution_count": 36,
   "id": "8986b7ac",
   "metadata": {},
   "outputs": [
    {
     "data": {
      "text/plain": [
       "(2, 1)"
      ]
     },
     "execution_count": 36,
     "metadata": {},
     "output_type": "execute_result"
    }
   ],
   "source": [
    "divmod(5,2)"
   ]
  },
  {
   "cell_type": "code",
   "execution_count": null,
   "id": "94e94dea",
   "metadata": {},
   "outputs": [],
   "source": []
  },
  {
   "cell_type": "code",
   "execution_count": 37,
   "id": "e60483e4",
   "metadata": {},
   "outputs": [
    {
     "name": "stdout",
     "output_type": "stream",
     "text": [
      "0b100\n",
      "0o4\n",
      "0x4\n"
     ]
    }
   ],
   "source": [
    "print(bin(4))\n",
    "print(oct(4))\n",
    "print(hex(4))"
   ]
  },
  {
   "cell_type": "code",
   "execution_count": null,
   "id": "ff37296a",
   "metadata": {},
   "outputs": [],
   "source": [
    "\n"
   ]
  },
  {
   "cell_type": "code",
   "execution_count": 38,
   "id": "12a88499",
   "metadata": {},
   "outputs": [
    {
     "data": {
      "text/plain": [
       "9801248"
      ]
     },
     "execution_count": 38,
     "metadata": {},
     "output_type": "execute_result"
    }
   ],
   "source": [
    "a = 1\n",
    "id(a)"
   ]
  },
  {
   "cell_type": "code",
   "execution_count": null,
   "id": "34e4d26a",
   "metadata": {},
   "outputs": [],
   "source": []
  },
  {
   "cell_type": "code",
   "execution_count": 39,
   "id": "cf49f259",
   "metadata": {},
   "outputs": [
    {
     "data": {
      "text/plain": [
       "97"
      ]
     },
     "execution_count": 39,
     "metadata": {},
     "output_type": "execute_result"
    }
   ],
   "source": [
    "ord('a')"
   ]
  },
  {
   "cell_type": "code",
   "execution_count": 40,
   "id": "2e34f1b4",
   "metadata": {},
   "outputs": [
    {
     "data": {
      "text/plain": [
       "65"
      ]
     },
     "execution_count": 40,
     "metadata": {},
     "output_type": "execute_result"
    }
   ],
   "source": [
    "ord('A')"
   ]
  },
  {
   "cell_type": "code",
   "execution_count": null,
   "id": "66bf6570",
   "metadata": {},
   "outputs": [],
   "source": []
  },
  {
   "cell_type": "code",
   "execution_count": 42,
   "id": "4df46d1c",
   "metadata": {},
   "outputs": [
    {
     "data": {
      "text/plain": [
       "41"
      ]
     },
     "execution_count": 42,
     "metadata": {},
     "output_type": "execute_result"
    }
   ],
   "source": [
    "sum([1,2,34,4])"
   ]
  },
  {
   "cell_type": "code",
   "execution_count": 45,
   "id": "43eac197",
   "metadata": {},
   "outputs": [
    {
     "data": {
      "text/plain": [
       "40"
      ]
     },
     "execution_count": 45,
     "metadata": {},
     "output_type": "execute_result"
    }
   ],
   "source": [
    " sum({4,2,34,4})"
   ]
  },
  {
   "cell_type": "code",
   "execution_count": null,
   "id": "8f1499d2",
   "metadata": {},
   "outputs": [],
   "source": []
  },
  {
   "cell_type": "code",
   "execution_count": 48,
   "id": "4ecb2dd3",
   "metadata": {},
   "outputs": [
    {
     "name": "stdout",
     "output_type": "stream",
     "text": [
      "Help on built-in function len in module builtins:\n",
      "\n",
      "len(obj, /)\n",
      "    Return the number of items in a container.\n",
      "\n"
     ]
    }
   ],
   "source": [
    "help(len)"
   ]
  },
  {
   "cell_type": "code",
   "execution_count": null,
   "id": "38d46a9a",
   "metadata": {},
   "outputs": [],
   "source": []
  },
  {
   "cell_type": "markdown",
   "id": "93aa6cb4",
   "metadata": {},
   "source": [
    "Modules \n",
    "- Module is same as a code library\n",
    "- Module is a set of fuctn's you want to include in your application\n",
    "\n",
    "Examples of python modules\n",
    "- Math\n",
    "- random\n",
    "- os\n",
    "- time"
   ]
  },
  {
   "cell_type": "code",
   "execution_count": 50,
   "id": "df6e1759",
   "metadata": {},
   "outputs": [
    {
     "name": "stdout",
     "output_type": "stream",
     "text": [
      "\n",
      "Please wait a moment while I gather a list of all available modules...\n",
      "\n"
     ]
    },
    {
     "name": "stderr",
     "output_type": "stream",
     "text": [
      "/usr/lib/python3.8/pkgutil.py:107: VisibleDeprecationWarning: zmq.eventloop.minitornado is deprecated in pyzmq 14.0 and will be removed.\n",
      "    Install tornado itself to use zmq with the tornado IOLoop.\n",
      "    \n",
      "  yield from walk_packages(path, info.name+'.', onerror)\n"
     ]
    },
    {
     "name": "stdout",
     "output_type": "stream",
     "text": [
      "INFO:root:Generating grammar tables from /usr/lib/python3.8/lib2to3/Grammar.txt\n",
      "INFO:root:Generating grammar tables from /usr/lib/python3.8/lib2to3/PatternGrammar.txt\n"
     ]
    },
    {
     "name": "stderr",
     "output_type": "stream",
     "text": [
      "/usr/lib/python3/dist-packages/UpdateManager/backend/__init__.py:11: PyGIWarning: Gtk was imported without specifying a version first. Use gi.require_version('Gtk', '3.0') before import to ensure that the right version gets loaded.\n",
      "  from gi.repository import GLib, Gtk, Snapd\n"
     ]
    },
    {
     "name": "stdout",
     "output_type": "stream",
     "text": [
      "AptUrl              autopep8            importlib_resources pyrsistent\n",
      "CommandNotFound     babel               inspect             pytz\n",
      "DistUpgrade         backcall            io                  queue\n",
      "HweSupportStatus    base64              ipaddress           quopri\n",
      "IPython             bcrypt              ipykernel           random\n",
      "LanguageSelector    bdb                 ipykernel_launcher  re\n",
      "NvidiaDetector      binascii            ipython_genutils    readline\n",
      "OpenSSL             binhex              itertools           reportlab\n",
      "PIL                 bisect              itsdangerous        reprlib\n",
      "Quirks              black               janitor             requests\n",
      "UbuntuDrivers       black_primer        jedi                requests_unixsocket\n",
      "UpdateManager       blackd              jinja2              resource\n",
      "__future__          bleach              json                rlcompleter\n",
      "_abc                blib2to3            json5               runpy\n",
      "_argon2_cffi_bindings blinker             jsonschema          scanext\n",
      "_ast                brlapi              jupyter             sched\n",
      "_asyncio            builtins            jupyter_client      secrets\n",
      "_bisect             bz2                 jupyter_core        secretstorage\n",
      "_black_version      cProfile            jupyter_server      select\n",
      "_blake2             cairo               jupyterlab          selectors\n",
      "_bootlocale         calendar            jupyterlab_pygments send2trash\n",
      "_bz2                certifi             jupyterlab_server   setuptools\n",
      "_cffi_backend       cffi                jwt                 shelve\n",
      "_codecs             cgi                 keyring             shlex\n",
      "_codecs_cn          cgitb               keyword             shutil\n",
      "_codecs_hk          chardet             language_support_pkgs signal\n",
      "_codecs_iso2022     chunk               launchpadlib        simplejson\n",
      "_codecs_jp          click               ldb                 site\n",
      "_codecs_kr          cmath               lib2to3             sitecustomize\n",
      "_codecs_tw          cmd                 libfuturize         six\n",
      "_collections        code                libpasteurize       smtpd\n",
      "_collections_abc    codecs              linecache           smtplib\n",
      "_compat_pickle      codeop              locale              sndhdr\n",
      "_compression        collections         lockfile            sniffio\n",
      "_contextvars        colorama            logging             socket\n",
      "_crypt              colorsys            louis               socketserver\n",
      "_csv                compileall          lsb_release         softwareproperties\n",
      "_ctypes             concurrent          lzma                speechd\n",
      "_ctypes_test        configparser        macaroonbakery      speechd_config\n",
      "_curses             contextlib          mailbox             spwd\n",
      "_curses_panel       contextvars         mailcap             sqlalchemy\n",
      "_datetime           copy                mako                sqlite3\n",
      "_dbm                copyreg             markupsafe          sre_compile\n",
      "_dbus_bindings      count               marshal             sre_constants\n",
      "_dbus_glib_bindings crypt               math                sre_parse\n",
      "_decimal            cryptography        matplotlib_inline   ssl\n",
      "_dummy_thread       csv                 mimetypes           stack_data\n",
      "_elementtree        ctypes              min_opern           stat\n",
      "_functools          cups                min_opern2          statistics\n",
      "_gdbm               cupsext             mistune             string\n",
      "_hashlib            cupshelpers         mmap                stringprep\n",
      "_heapq              curses              modulefinder        struct\n",
      "_imp                dataclasses         monotonic           subprocess\n",
      "_io                 datetime            multiprocessing     sunau\n",
      "_json               dateutil            myfunc              symbol\n",
      "_ldb_text           dbm                 mypy_extensions     symtable\n",
      "_locale             dbus                nacl                sys\n",
      "_lsprof             deb822              nbclassic           sysconfig\n",
      "_lzma               debconf             nbclient            syslog\n",
      "_markupbase         debian              nbconvert           systemd\n",
      "_md5                debian_bundle       nbformat            tabnanny\n",
      "_multibytecodec     debugpy             nest_asyncio        talloc\n",
      "_multiprocessing    decimal             netifaces           tarfile\n",
      "_opcode             decorator           netrc               telnetlib\n",
      "_operator           defer               nis                 tempfile\n",
      "_osx_support        defusedxml          nntplib             terminado\n",
      "_pickle             dialog              notebook            termios\n",
      "_posixshmem         difflib             ntpath              test\n",
      "_posixsubprocess    dis                 nturl2path          testpath\n",
      "_py_abc             distlib             numbers             textwrap\n",
      "_pydecimal          distro              oauthlib            this\n",
      "_pyio               distro_info         olefile             threading\n",
      "_pyrsistent_version distutils           opcode              time\n",
      "_queue              dns                 operator            timeit\n",
      "_random             doctest             optparse            token\n",
      "_sha1               dotenv              orca                tokenize\n",
      "_sha256             dummy_threading     os                  toml\n",
      "_sha3               duplicity           ossaudiodev         tomli\n",
      "_sha512             easy_install        packaging           tornado\n",
      "_signal             email               pandocfilters       trace\n",
      "_sitebuiltins       email_validator     paramiko            traceback\n",
      "_socket             encodings           parser              tracemalloc\n",
      "_sqlite3            ensurepip           parso               traitlets\n",
      "_sre                entrypoints         past                tty\n",
      "_ssl                enum                pathlib             turtle\n",
      "_stat               errno               pathspec            types\n",
      "_statistics         executing           pcardext            typing\n",
      "_string             f2d4935fd652bc9ef29d__mypyc pdb                 typing_extensions\n",
      "_strptime           fasteners           pexpect             uaclient\n",
      "_struct             faulthandler        pickle              ufw\n",
      "_symtable           fcntl               pickleshare         unicodedata\n",
      "_sysconfigdata__linux_x86_64-linux-gnu filecmp             pickletools         unittest\n",
      "_sysconfigdata__x86_64-linux-gnu fileinput           pip                 uno\n",
      "_testbuffer         filelock            pipes               unohelper\n",
      "_testcapi           flask               pkg_resources       urllib\n",
      "_testimportmultiple flask_bcrypt        pkgutil             urllib3\n",
      "_testinternalcapi   flask_login         platform            usbcreator\n",
      "_testmultiphase     flask_mail          platformdirs        uu\n",
      "_thread             flask_migrate       plistlib            uuid\n",
      "_threading_local    flask_sqlalchemy    poplib              venv\n",
      "_tracemalloc        flask_wtf           posix               virtualenv\n",
      "_uuid               fnmatch             posixpath           wadllib\n",
      "_warnings           formatter           pprint              warnings\n",
      "_weakref            fractions           problem_report      wave\n",
      "_weakrefset         ftplib              profile             wcwidth\n",
      "_xxsubinterpreters  functools           prometheus_client   weakref\n",
      "_xxtestfuzz         future              prompt_toolkit      webbrowser\n",
      "_yaml               gc                  proton              webencodings\n",
      "abc                 genericpath         protonvpn_cli       websocket\n",
      "aifc                getopt              protonvpn_gui       werkzeug\n",
      "alembic             getpass             protonvpn_nm_lib    wheel\n",
      "antigravity         gettext             pstats              wsgiref\n",
      "anyio               gi                  psutil              wtf\n",
      "apport              glob                psycopg2            wtforms\n",
      "apport_python_hook  gnupg               pty                 xdg\n",
      "apt                 greenlet            ptyprocess          xdrlib\n",
      "apt_inst            grp                 pure_eval           xkit\n",
      "apt_pkg             gunicorn            pvectorc            xml\n",
      "aptdaemon           gzip                pwd                 xmlrpc\n",
      "aptsources          hashlib             py_compile          xxlimited\n",
      "argon2              heapq               pyatspi             xxsubtype\n",
      "argparse            hmac                pyclbr              yaml\n",
      "array               hpmudext            pycodestyle         youtube_dl\n",
      "ast                 html                pycparser           zipapp\n",
      "asttokens           http                pydoc               zipfile\n",
      "asynchat            httplib2            pydoc_data          zipimport\n",
      "asyncio             idna                pyexpat             zipp\n",
      "asyncore            imaplib             pygments            zlib\n",
      "atexit              imghdr              pygtkcompat         zmq\n",
      "attr                imp                 pymacaroons         \n",
      "attrs               importlib           pyparsing           \n",
      "audioop             importlib_metadata  pyrfc3339           \n",
      "\n",
      "Enter any module name to get more help.  Or, type \"modules spam\" to search\n",
      "for modules whose name or summary contain the string \"spam\".\n",
      "\n"
     ]
    }
   ],
   "source": [
    "help('modules') # list of modules present int the sys"
   ]
  },
  {
   "cell_type": "code",
   "execution_count": null,
   "id": "03854d53",
   "metadata": {},
   "outputs": [],
   "source": []
  },
  {
   "cell_type": "code",
   "execution_count": 51,
   "id": "70ec80d3",
   "metadata": {},
   "outputs": [
    {
     "data": {
      "text/plain": [
       "3.141592653589793"
      ]
     },
     "execution_count": 51,
     "metadata": {},
     "output_type": "execute_result"
    }
   ],
   "source": [
    "import math\n",
    "math.pi"
   ]
  },
  {
   "cell_type": "code",
   "execution_count": 52,
   "id": "1021ad1b",
   "metadata": {},
   "outputs": [
    {
     "data": {
      "text/plain": [
       "2.718281828459045"
      ]
     },
     "execution_count": 52,
     "metadata": {},
     "output_type": "execute_result"
    }
   ],
   "source": [
    "math.e"
   ]
  },
  {
   "cell_type": "code",
   "execution_count": 53,
   "id": "6e565fb6",
   "metadata": {},
   "outputs": [
    {
     "data": {
      "text/plain": [
       "120"
      ]
     },
     "execution_count": 53,
     "metadata": {},
     "output_type": "execute_result"
    }
   ],
   "source": [
    "math.factorial(5)"
   ]
  },
  {
   "cell_type": "code",
   "execution_count": 54,
   "id": "c534ec06",
   "metadata": {},
   "outputs": [
    {
     "data": {
      "text/plain": [
       "6"
      ]
     },
     "execution_count": 54,
     "metadata": {},
     "output_type": "execute_result"
    }
   ],
   "source": [
    "math.ceil(5.5)"
   ]
  },
  {
   "cell_type": "code",
   "execution_count": 55,
   "id": "fd09068a",
   "metadata": {},
   "outputs": [
    {
     "data": {
      "text/plain": [
       "5"
      ]
     },
     "execution_count": 55,
     "metadata": {},
     "output_type": "execute_result"
    }
   ],
   "source": [
    "math.floor(5.5)"
   ]
  },
  {
   "cell_type": "code",
   "execution_count": 56,
   "id": "5a0b4621",
   "metadata": {},
   "outputs": [
    {
     "data": {
      "text/plain": [
       "5.0"
      ]
     },
     "execution_count": 56,
     "metadata": {},
     "output_type": "execute_result"
    }
   ],
   "source": [
    "math.sqrt(25)"
   ]
  },
  {
   "cell_type": "code",
   "execution_count": null,
   "id": "ee4048ff",
   "metadata": {},
   "outputs": [],
   "source": []
  },
  {
   "cell_type": "code",
   "execution_count": 57,
   "id": "d6f2f2cb",
   "metadata": {},
   "outputs": [
    {
     "data": {
      "text/plain": [
       "4"
      ]
     },
     "execution_count": 57,
     "metadata": {},
     "output_type": "execute_result"
    }
   ],
   "source": [
    "import random\n",
    "random.randint(1,20)"
   ]
  },
  {
   "cell_type": "code",
   "execution_count": 58,
   "id": "acea4b94",
   "metadata": {},
   "outputs": [],
   "source": [
    "a = [1,2,3,4]\n",
    "random.shuffle(a)"
   ]
  },
  {
   "cell_type": "code",
   "execution_count": 59,
   "id": "83da9655",
   "metadata": {},
   "outputs": [
    {
     "data": {
      "text/plain": [
       "[2, 3, 1, 4]"
      ]
     },
     "execution_count": 59,
     "metadata": {},
     "output_type": "execute_result"
    }
   ],
   "source": [
    "a"
   ]
  },
  {
   "cell_type": "code",
   "execution_count": null,
   "id": "a1de35ed",
   "metadata": {},
   "outputs": [],
   "source": []
  },
  {
   "cell_type": "code",
   "execution_count": 60,
   "id": "02bba5a1",
   "metadata": {},
   "outputs": [
    {
     "data": {
      "text/plain": [
       "1659114724.7055874"
      ]
     },
     "execution_count": 60,
     "metadata": {},
     "output_type": "execute_result"
    }
   ],
   "source": [
    "import time\n",
    "time.time()\n"
   ]
  },
  {
   "cell_type": "code",
   "execution_count": 61,
   "id": "d19c9597",
   "metadata": {},
   "outputs": [
    {
     "data": {
      "text/plain": [
       "'Fri Jul 29 22:42:55 2022'"
      ]
     },
     "execution_count": 61,
     "metadata": {},
     "output_type": "execute_result"
    }
   ],
   "source": [
    "time.ctime() # current time"
   ]
  },
  {
   "cell_type": "code",
   "execution_count": 62,
   "id": "f23fcc93",
   "metadata": {},
   "outputs": [
    {
     "name": "stdout",
     "output_type": "stream",
     "text": [
      "harsh\n",
      "ok\n"
     ]
    }
   ],
   "source": [
    "print('harsh')\n",
    "time.sleep(2)\n",
    "print('ok')"
   ]
  },
  {
   "cell_type": "code",
   "execution_count": null,
   "id": "d9e26353",
   "metadata": {},
   "outputs": [],
   "source": []
  },
  {
   "cell_type": "code",
   "execution_count": 63,
   "id": "e91b49d5",
   "metadata": {},
   "outputs": [
    {
     "data": {
      "text/plain": [
       "'/home/harsh'"
      ]
     },
     "execution_count": 63,
     "metadata": {},
     "output_type": "execute_result"
    }
   ],
   "source": [
    "import os\n",
    "os.getcwd()"
   ]
  },
  {
   "cell_type": "code",
   "execution_count": null,
   "id": "6bb51946",
   "metadata": {},
   "outputs": [],
   "source": []
  },
  {
   "cell_type": "markdown",
   "id": "8727367e",
   "metadata": {},
   "source": [
    "String in Python\n",
    "\n",
    "- String is a sequence of characters\n",
    "\n",
    "- In python, string's are a sequence of unicode characters"
   ]
  },
  {
   "cell_type": "markdown",
   "id": "77e75414",
   "metadata": {},
   "source": [
    "Creating a string"
   ]
  },
  {
   "cell_type": "code",
   "execution_count": 1,
   "id": "b5a26486",
   "metadata": {},
   "outputs": [
    {
     "name": "stdout",
     "output_type": "stream",
     "text": [
      "hello rin\n"
     ]
    }
   ],
   "source": [
    "msg = 'hello rin'\n",
    "print(msg)"
   ]
  },
  {
   "cell_type": "code",
   "execution_count": 3,
   "id": "9ec45718",
   "metadata": {},
   "outputs": [
    {
     "name": "stdout",
     "output_type": "stream",
     "text": [
      "hi rin what's up\n"
     ]
    }
   ],
   "source": [
    "msg1 = \"hi rin what's up\"\n",
    "print(msg1)"
   ]
  },
  {
   "cell_type": "code",
   "execution_count": 14,
   "id": "7cf62af3",
   "metadata": {},
   "outputs": [
    {
     "name": "stdout",
     "output_type": "stream",
     "text": [
      "hey buddy \n",
      "my name is \n",
      "harsh\n"
     ]
    }
   ],
   "source": [
    "msg3 = '''hey buddy \n",
    "my name is \n",
    "harsh'''\n",
    "print(msg3)"
   ]
  },
  {
   "cell_type": "code",
   "execution_count": 15,
   "id": "985af27b",
   "metadata": {},
   "outputs": [
    {
     "name": "stdout",
     "output_type": "stream",
     "text": [
      "hey buddy my name is harsh\n"
     ]
    }
   ],
   "source": [
    "msg4 = '''hey buddy \\\n",
    "my name is \\\n",
    "harsh'''\n",
    "print(msg4)"
   ]
  },
  {
   "cell_type": "code",
   "execution_count": null,
   "id": "57e4c05d",
   "metadata": {},
   "outputs": [],
   "source": []
  },
  {
   "cell_type": "markdown",
   "id": "63d2f2a7",
   "metadata": {},
   "source": [
    "type casting in string "
   ]
  },
  {
   "cell_type": "code",
   "execution_count": 17,
   "id": "570f27ff",
   "metadata": {},
   "outputs": [
    {
     "name": "stdout",
     "output_type": "stream",
     "text": [
      "2323 <class 'str'>\n"
     ]
    }
   ],
   "source": [
    "a = 2323\n",
    "conv = str(a)\n",
    "print(conv,type(conv))"
   ]
  },
  {
   "cell_type": "code",
   "execution_count": null,
   "id": "35f37adb",
   "metadata": {},
   "outputs": [],
   "source": []
  },
  {
   "cell_type": "markdown",
   "id": "5708b8b0",
   "metadata": {},
   "source": [
    "Accessing sub-string from a string"
   ]
  },
  {
   "cell_type": "markdown",
   "id": "e4e0004e",
   "metadata": {},
   "source": [
    "Types of indexing :\n",
    "- Positive Indexing \n",
    "- negative indexing"
   ]
  },
  {
   "cell_type": "code",
   "execution_count": 21,
   "id": "0f9848ef",
   "metadata": {},
   "outputs": [
    {
     "name": "stdout",
     "output_type": "stream",
     "text": [
      "life is beautifulx\n"
     ]
    }
   ],
   "source": [
    "# Concept of indexing \n",
    "a = 'life is beautifulx'\n",
    "print(a)"
   ]
  },
  {
   "cell_type": "code",
   "execution_count": 22,
   "id": "14b96dec",
   "metadata": {},
   "outputs": [
    {
     "data": {
      "text/plain": [
       "'l'"
      ]
     },
     "execution_count": 22,
     "metadata": {},
     "output_type": "execute_result"
    }
   ],
   "source": [
    "a[0]"
   ]
  },
  {
   "cell_type": "code",
   "execution_count": 23,
   "id": "4aa27761",
   "metadata": {},
   "outputs": [
    {
     "data": {
      "text/plain": [
       "'x'"
      ]
     },
     "execution_count": 23,
     "metadata": {},
     "output_type": "execute_result"
    }
   ],
   "source": [
    "a[-1]"
   ]
  },
  {
   "cell_type": "code",
   "execution_count": 25,
   "id": "c5c3d4be",
   "metadata": {},
   "outputs": [
    {
     "data": {
      "text/plain": [
       "' '"
      ]
     },
     "execution_count": 25,
     "metadata": {},
     "output_type": "execute_result"
    }
   ],
   "source": [
    "a[4]"
   ]
  },
  {
   "cell_type": "code",
   "execution_count": null,
   "id": "4260dbdf",
   "metadata": {},
   "outputs": [],
   "source": []
  },
  {
   "cell_type": "markdown",
   "id": "d87eb977",
   "metadata": {},
   "source": [
    "Slicing in string "
   ]
  },
  {
   "cell_type": "code",
   "execution_count": 26,
   "id": "e0791f57",
   "metadata": {},
   "outputs": [
    {
     "name": "stdout",
     "output_type": "stream",
     "text": [
      "life\n"
     ]
    }
   ],
   "source": [
    "a = 'life is beautifulx'\n",
    "print(a[0:4])"
   ]
  },
  {
   "cell_type": "code",
   "execution_count": 28,
   "id": "e3b8a01d",
   "metadata": {},
   "outputs": [
    {
     "name": "stdout",
     "output_type": "stream",
     "text": [
      "is beautifulx\n"
     ]
    }
   ],
   "source": [
    "print(a[5:])"
   ]
  },
  {
   "cell_type": "code",
   "execution_count": 29,
   "id": "3fdd0651",
   "metadata": {},
   "outputs": [
    {
     "name": "stdout",
     "output_type": "stream",
     "text": [
      "life is beautiful\n"
     ]
    }
   ],
   "source": [
    "print(a[:-1])"
   ]
  },
  {
   "cell_type": "code",
   "execution_count": 30,
   "id": "9f5efbe3",
   "metadata": {},
   "outputs": [
    {
     "name": "stdout",
     "output_type": "stream",
     "text": [
      "life \n"
     ]
    }
   ],
   "source": [
    "print(a[:5])"
   ]
  },
  {
   "cell_type": "code",
   "execution_count": 31,
   "id": "f5c10df3",
   "metadata": {},
   "outputs": [
    {
     "name": "stdout",
     "output_type": "stream",
     "text": [
      "life is beautifulx\n"
     ]
    }
   ],
   "source": [
    "print(a[:])"
   ]
  },
  {
   "cell_type": "code",
   "execution_count": 35,
   "id": "80b41bab",
   "metadata": {},
   "outputs": [
    {
     "name": "stdout",
     "output_type": "stream",
     "text": [
      "fib\n"
     ]
    }
   ],
   "source": [
    "print(a[2:9:3])"
   ]
  },
  {
   "cell_type": "code",
   "execution_count": null,
   "id": "9fbbd7ad",
   "metadata": {},
   "outputs": [],
   "source": []
  },
  {
   "cell_type": "markdown",
   "id": "fbe86109",
   "metadata": {},
   "source": [
    "Note : \n",
    "- When we are working woth a positive indexing we cannot take -ve (negative) steps"
   ]
  },
  {
   "cell_type": "code",
   "execution_count": 36,
   "id": "c5ceb150",
   "metadata": {},
   "outputs": [
    {
     "name": "stdout",
     "output_type": "stream",
     "text": [
      "\n"
     ]
    }
   ],
   "source": [
    "print(a[2:9:-3])"
   ]
  },
  {
   "cell_type": "code",
   "execution_count": 37,
   "id": "b246ab6c",
   "metadata": {},
   "outputs": [
    {
     "name": "stdout",
     "output_type": "stream",
     "text": [
      "Wr\n"
     ]
    }
   ],
   "source": [
    "msg = 'Hello World'\n",
    "print(msg[-5:-1:2])"
   ]
  },
  {
   "cell_type": "code",
   "execution_count": 38,
   "id": "80871173",
   "metadata": {},
   "outputs": [
    {
     "data": {
      "text/plain": [
       "'dlroW olleH'"
      ]
     },
     "execution_count": 38,
     "metadata": {},
     "output_type": "execute_result"
    }
   ],
   "source": [
    "# to reverse the string\n",
    "msg[::-1]"
   ]
  },
  {
   "cell_type": "code",
   "execution_count": 49,
   "id": "e8cc950b",
   "metadata": {},
   "outputs": [
    {
     "data": {
      "text/plain": [
       "'dlro'"
      ]
     },
     "execution_count": 49,
     "metadata": {},
     "output_type": "execute_result"
    }
   ],
   "source": [
    "msg = 'Hello World'\n",
    "msg[-1:-5:-1]"
   ]
  },
  {
   "cell_type": "code",
   "execution_count": null,
   "id": "bd32dcdb",
   "metadata": {},
   "outputs": [],
   "source": []
  },
  {
   "cell_type": "markdown",
   "id": "75596cd1",
   "metadata": {},
   "source": [
    "Editing and Deleting String's\n"
   ]
  },
  {
   "cell_type": "markdown",
   "id": "055ace58",
   "metadata": {},
   "source": [
    "\n",
    "Note:\n",
    "- String is a immutable data type\n",
    "- Once assigned you cannot make chages to it\n",
    "    + I can neither add new char to the str\n",
    "    + Nor u can make chages to the exisiting char"
   ]
  },
  {
   "cell_type": "code",
   "execution_count": 1,
   "id": "aab7c128",
   "metadata": {},
   "outputs": [
    {
     "name": "stdout",
     "output_type": "stream",
     "text": [
      "new string\n"
     ]
    }
   ],
   "source": [
    "s = 'new string'\n",
    "print(s)"
   ]
  },
  {
   "cell_type": "code",
   "execution_count": 2,
   "id": "73bbd806",
   "metadata": {},
   "outputs": [
    {
     "data": {
      "text/plain": [
       "'n'"
      ]
     },
     "execution_count": 2,
     "metadata": {},
     "output_type": "execute_result"
    }
   ],
   "source": [
    "s[0]"
   ]
  },
  {
   "cell_type": "code",
   "execution_count": 3,
   "id": "8607413f",
   "metadata": {},
   "outputs": [
    {
     "ename": "TypeError",
     "evalue": "'str' object does not support item assignment",
     "output_type": "error",
     "traceback": [
      "\u001b[0;31m---------------------------------------------------------------------------\u001b[0m",
      "\u001b[0;31mTypeError\u001b[0m                                 Traceback (most recent call last)",
      "Input \u001b[0;32mIn [3]\u001b[0m, in \u001b[0;36m<module>\u001b[0;34m\u001b[0m\n\u001b[0;32m----> 1\u001b[0m s[\u001b[38;5;241m0\u001b[39m]\u001b[38;5;241m=\u001b[39m\u001b[38;5;124m'\u001b[39m\u001b[38;5;124mx\u001b[39m\u001b[38;5;124m'\u001b[39m\n",
      "\u001b[0;31mTypeError\u001b[0m: 'str' object does not support item assignment"
     ]
    }
   ],
   "source": [
    "s[0]='x'"
   ]
  },
  {
   "cell_type": "code",
   "execution_count": 5,
   "id": "ff360942",
   "metadata": {},
   "outputs": [],
   "source": [
    " # del of string\n",
    "    \n",
    "del s"
   ]
  },
  {
   "cell_type": "code",
   "execution_count": 6,
   "id": "8f27252b",
   "metadata": {},
   "outputs": [
    {
     "ename": "NameError",
     "evalue": "name 's' is not defined",
     "output_type": "error",
     "traceback": [
      "\u001b[0;31m---------------------------------------------------------------------------\u001b[0m",
      "\u001b[0;31mNameError\u001b[0m                                 Traceback (most recent call last)",
      "Input \u001b[0;32mIn [6]\u001b[0m, in \u001b[0;36m<module>\u001b[0;34m\u001b[0m\n\u001b[0;32m----> 1\u001b[0m \u001b[43ms\u001b[49m\n",
      "\u001b[0;31mNameError\u001b[0m: name 's' is not defined"
     ]
    }
   ],
   "source": [
    "s"
   ]
  },
  {
   "cell_type": "code",
   "execution_count": null,
   "id": "9ebb3072",
   "metadata": {},
   "outputs": [],
   "source": []
  },
  {
   "cell_type": "markdown",
   "id": "d3174f11",
   "metadata": {},
   "source": [
    "Operations on String\n",
    "- Arithmatic Operations\n",
    "- Relational Operations\n",
    "- Logical Operations\n",
    "- Loops on string\n",
    "- Membership Operations"
   ]
  },
  {
   "cell_type": "markdown",
   "id": "ba38f69e",
   "metadata": {},
   "source": [
    "Adding 2 string (string concatination)"
   ]
  },
  {
   "cell_type": "code",
   "execution_count": 7,
   "id": "5b9e406b",
   "metadata": {},
   "outputs": [
    {
     "data": {
      "text/plain": [
       "'helloharsh'"
      ]
     },
     "execution_count": 7,
     "metadata": {},
     "output_type": "execute_result"
    }
   ],
   "source": [
    "'hello'+'harsh'"
   ]
  },
  {
   "cell_type": "code",
   "execution_count": 8,
   "id": "b8769b78",
   "metadata": {},
   "outputs": [
    {
     "data": {
      "text/plain": [
       "'helloharshbhai'"
      ]
     },
     "execution_count": 8,
     "metadata": {},
     "output_type": "execute_result"
    }
   ],
   "source": [
    "'hello'+'harsh'+'bhai'"
   ]
  },
  {
   "cell_type": "markdown",
   "id": "370d448c",
   "metadata": {},
   "source": [
    "String Multiplication"
   ]
  },
  {
   "cell_type": "code",
   "execution_count": 9,
   "id": "010c27c6",
   "metadata": {},
   "outputs": [
    {
     "data": {
      "text/plain": [
       "'#####'"
      ]
     },
     "execution_count": 9,
     "metadata": {},
     "output_type": "execute_result"
    }
   ],
   "source": [
    "'#'*5"
   ]
  },
  {
   "cell_type": "code",
   "execution_count": 10,
   "id": "4bcb6872",
   "metadata": {},
   "outputs": [
    {
     "data": {
      "text/plain": [
       "'hellohellohello'"
      ]
     },
     "execution_count": 10,
     "metadata": {},
     "output_type": "execute_result"
    }
   ],
   "source": [
    "'hello'*3"
   ]
  },
  {
   "cell_type": "markdown",
   "id": "c2ea31e8",
   "metadata": {},
   "source": [
    "Comparison of string's"
   ]
  },
  {
   "cell_type": "code",
   "execution_count": 11,
   "id": "cba72892",
   "metadata": {},
   "outputs": [
    {
     "data": {
      "text/plain": [
       "True"
      ]
     },
     "execution_count": 11,
     "metadata": {},
     "output_type": "execute_result"
    }
   ],
   "source": [
    "'hello'=='hello'"
   ]
  },
  {
   "cell_type": "code",
   "execution_count": 12,
   "id": "0bfd10f5",
   "metadata": {},
   "outputs": [
    {
     "data": {
      "text/plain": [
       "False"
      ]
     },
     "execution_count": 12,
     "metadata": {},
     "output_type": "execute_result"
    }
   ],
   "source": [
    "'Hello'=='hello'"
   ]
  },
  {
   "cell_type": "code",
   "execution_count": null,
   "id": "5dbe4251",
   "metadata": {},
   "outputs": [],
   "source": []
  },
  {
   "cell_type": "code",
   "execution_count": 13,
   "id": "bedb32d3",
   "metadata": {},
   "outputs": [
    {
     "data": {
      "text/plain": [
       "True"
      ]
     },
     "execution_count": 13,
     "metadata": {},
     "output_type": "execute_result"
    }
   ],
   "source": [
    "'Hello'!='hello'"
   ]
  },
  {
   "cell_type": "code",
   "execution_count": null,
   "id": "4e18a7f4",
   "metadata": {},
   "outputs": [],
   "source": []
  },
  {
   "cell_type": "markdown",
   "id": "d329b221",
   "metadata": {},
   "source": [
    "Lexiographycally comaparison\n",
    "- Dicting based comparison\n",
    "- word jo baad mai aayega wo bada hoga\n",
    "- word jo pehla aayega wo chota hoga\n",
    "\n",
    "....................................................................\n",
    "- small letters baad mai aate hai \n",
    "- capital letters pehla aata hai"
   ]
  },
  {
   "cell_type": "code",
   "execution_count": 14,
   "id": "a7259094",
   "metadata": {},
   "outputs": [
    {
     "data": {
      "text/plain": [
       "False"
      ]
     },
     "execution_count": 14,
     "metadata": {},
     "output_type": "execute_result"
    }
   ],
   "source": [
    "'Mumbai'<'Ahmedabad'"
   ]
  },
  {
   "cell_type": "code",
   "execution_count": 15,
   "id": "dbb6f0e4",
   "metadata": {},
   "outputs": [
    {
     "data": {
      "text/plain": [
       "True"
      ]
     },
     "execution_count": 15,
     "metadata": {},
     "output_type": "execute_result"
    }
   ],
   "source": [
    "'apple'<'carrot'"
   ]
  },
  {
   "cell_type": "code",
   "execution_count": 16,
   "id": "df7ce074",
   "metadata": {},
   "outputs": [
    {
     "data": {
      "text/plain": [
       "False"
      ]
     },
     "execution_count": 16,
     "metadata": {},
     "output_type": "execute_result"
    }
   ],
   "source": [
    "'zen'<'rat'"
   ]
  },
  {
   "cell_type": "code",
   "execution_count": null,
   "id": "766a0b77",
   "metadata": {},
   "outputs": [],
   "source": []
  },
  {
   "cell_type": "code",
   "execution_count": 17,
   "id": "394d5b42",
   "metadata": {},
   "outputs": [
    {
     "data": {
      "text/plain": [
       "True"
      ]
     },
     "execution_count": 17,
     "metadata": {},
     "output_type": "execute_result"
    }
   ],
   "source": [
    "'kim'>'Kim'"
   ]
  },
  {
   "cell_type": "code",
   "execution_count": null,
   "id": "20754e43",
   "metadata": {},
   "outputs": [],
   "source": []
  },
  {
   "cell_type": "markdown",
   "id": "c712a873",
   "metadata": {},
   "source": [
    "Using logical operators on string \n",
    "- Empty string : Python false\n",
    "- Non Empty String : python true"
   ]
  },
  {
   "cell_type": "code",
   "execution_count": 19,
   "id": "a45f4f77",
   "metadata": {},
   "outputs": [
    {
     "data": {
      "text/plain": [
       "'world'"
      ]
     },
     "execution_count": 19,
     "metadata": {},
     "output_type": "execute_result"
    }
   ],
   "source": [
    "'hello' and 'world'\n",
    "# T and T = T"
   ]
  },
  {
   "cell_type": "code",
   "execution_count": null,
   "id": "4866ac60",
   "metadata": {},
   "outputs": [],
   "source": []
  },
  {
   "cell_type": "code",
   "execution_count": 20,
   "id": "aa996138",
   "metadata": {},
   "outputs": [
    {
     "data": {
      "text/plain": [
       "''"
      ]
     },
     "execution_count": 20,
     "metadata": {},
     "output_type": "execute_result"
    }
   ],
   "source": [
    "'' and 'world'\n",
    "# F and T = F"
   ]
  },
  {
   "cell_type": "code",
   "execution_count": 21,
   "id": "fb0b048f",
   "metadata": {},
   "outputs": [
    {
     "data": {
      "text/plain": [
       "'wprlds'"
      ]
     },
     "execution_count": 21,
     "metadata": {},
     "output_type": "execute_result"
    }
   ],
   "source": [
    "'' or 'wprlds'\n",
    "# f or T = T"
   ]
  },
  {
   "cell_type": "code",
   "execution_count": null,
   "id": "bca3e869",
   "metadata": {},
   "outputs": [],
   "source": []
  },
  {
   "cell_type": "code",
   "execution_count": 23,
   "id": "dfc4c3c8",
   "metadata": {},
   "outputs": [
    {
     "data": {
      "text/plain": [
       "'hello'"
      ]
     },
     "execution_count": 23,
     "metadata": {},
     "output_type": "execute_result"
    }
   ],
   "source": [
    "'hello' or 'wordls'\n",
    "# 1st value T hai toh we dont check further = !st value"
   ]
  },
  {
   "cell_type": "code",
   "execution_count": 28,
   "id": "2cf7f328",
   "metadata": {},
   "outputs": [
    {
     "data": {
      "text/plain": [
       "'wordls'"
      ]
     },
     "execution_count": 28,
     "metadata": {},
     "output_type": "execute_result"
    }
   ],
   "source": [
    "\n",
    "'''\n",
    "checking of the 2nd value gives us the surety in and\n",
    "operator. Whether the result is True or false\n",
    "'''\n",
    "\n",
    "'hello' and 'wordls'"
   ]
  },
  {
   "cell_type": "code",
   "execution_count": null,
   "id": "261224d4",
   "metadata": {},
   "outputs": [],
   "source": []
  },
  {
   "cell_type": "code",
   "execution_count": 29,
   "id": "6205177e",
   "metadata": {},
   "outputs": [
    {
     "data": {
      "text/plain": [
       "True"
      ]
     },
     "execution_count": 29,
     "metadata": {},
     "output_type": "execute_result"
    }
   ],
   "source": [
    "not ''"
   ]
  },
  {
   "cell_type": "code",
   "execution_count": 30,
   "id": "7df7bb04",
   "metadata": {},
   "outputs": [
    {
     "data": {
      "text/plain": [
       "False"
      ]
     },
     "execution_count": 30,
     "metadata": {},
     "output_type": "execute_result"
    }
   ],
   "source": [
    "not 'true'"
   ]
  },
  {
   "cell_type": "code",
   "execution_count": null,
   "id": "ed0f0271",
   "metadata": {},
   "outputs": [],
   "source": []
  },
  {
   "cell_type": "markdown",
   "id": "272a625e",
   "metadata": {},
   "source": [
    "Using Loop on string "
   ]
  },
  {
   "cell_type": "code",
   "execution_count": 33,
   "id": "91833441",
   "metadata": {},
   "outputs": [
    {
     "name": "stdout",
     "output_type": "stream",
     "text": [
      "h e l l o   b u d d y "
     ]
    }
   ],
   "source": [
    "msg = 'hello buddy'\n",
    "\n",
    "for i in msg:\n",
    "    print(i,end=' ')"
   ]
  },
  {
   "cell_type": "code",
   "execution_count": 34,
   "id": "16370bda",
   "metadata": {},
   "outputs": [
    {
     "name": "stdout",
     "output_type": "stream",
     "text": [
      "y d d u b   o l l e h "
     ]
    }
   ],
   "source": [
    "msg = 'hello buddy'\n",
    "\n",
    "for i in msg[::-1]:\n",
    "    print(i,end=' ')"
   ]
  },
  {
   "cell_type": "code",
   "execution_count": null,
   "id": "1a7ec42e",
   "metadata": {},
   "outputs": [],
   "source": []
  },
  {
   "cell_type": "markdown",
   "id": "0ff28680",
   "metadata": {},
   "source": [
    "reference : string slicing \n",
    "\n",
    "https://www.youtube.com/watch?v=USw-dS6fHm4"
   ]
  },
  {
   "cell_type": "code",
   "execution_count": 35,
   "id": "43cac605",
   "metadata": {},
   "outputs": [
    {
     "name": "stdout",
     "output_type": "stream",
     "text": [
      "e h "
     ]
    }
   ],
   "source": [
    "msg = 'hello buddy'\n",
    "\n",
    "for i in msg[1::-1]:\n",
    "    print(i,end=' ')"
   ]
  },
  {
   "cell_type": "code",
   "execution_count": null,
   "id": "0dabfbf2",
   "metadata": {},
   "outputs": [],
   "source": []
  },
  {
   "cell_type": "code",
   "execution_count": 38,
   "id": "4dcd5ad5",
   "metadata": {},
   "outputs": [
    {
     "name": "stdout",
     "output_type": "stream",
     "text": [
      "l o b "
     ]
    }
   ],
   "source": [
    "msg = 'hello buddy'\n",
    "\n",
    "for i in msg[2:7:2]:\n",
    "    print(i,end=' ')"
   ]
  },
  {
   "cell_type": "code",
   "execution_count": null,
   "id": "b82627e6",
   "metadata": {},
   "outputs": [],
   "source": []
  },
  {
   "cell_type": "markdown",
   "id": "75637824",
   "metadata": {},
   "source": [
    "Using membership operator with string in py\n",
    "- in\n",
    "- not in"
   ]
  },
  {
   "cell_type": "code",
   "execution_count": 39,
   "id": "bbc010e5",
   "metadata": {},
   "outputs": [
    {
     "data": {
      "text/plain": [
       "False"
      ]
     },
     "execution_count": 39,
     "metadata": {},
     "output_type": "execute_result"
    }
   ],
   "source": [
    "msg = 'my name is harsh'\n",
    "\n",
    "'x' in msg"
   ]
  },
  {
   "cell_type": "code",
   "execution_count": 40,
   "id": "67bdb75b",
   "metadata": {},
   "outputs": [
    {
     "data": {
      "text/plain": [
       "True"
      ]
     },
     "execution_count": 40,
     "metadata": {},
     "output_type": "execute_result"
    }
   ],
   "source": [
    "'h' in msg"
   ]
  },
  {
   "cell_type": "code",
   "execution_count": 45,
   "id": "75b46570",
   "metadata": {},
   "outputs": [
    {
     "data": {
      "text/plain": [
       "False"
      ]
     },
     "execution_count": 45,
     "metadata": {},
     "output_type": "execute_result"
    }
   ],
   "source": [
    "'  is' in msg"
   ]
  },
  {
   "cell_type": "code",
   "execution_count": 47,
   "id": "3ecb59a9",
   "metadata": {},
   "outputs": [
    {
     "data": {
      "text/plain": [
       "True"
      ]
     },
     "execution_count": 47,
     "metadata": {},
     "output_type": "execute_result"
    }
   ],
   "source": [
    "'is' in msg"
   ]
  },
  {
   "cell_type": "code",
   "execution_count": null,
   "id": "0920fdad",
   "metadata": {},
   "outputs": [],
   "source": []
  },
  {
   "cell_type": "code",
   "execution_count": 48,
   "id": "d395ce0f",
   "metadata": {},
   "outputs": [
    {
     "data": {
      "text/plain": [
       "True"
      ]
     },
     "execution_count": 48,
     "metadata": {},
     "output_type": "execute_result"
    }
   ],
   "source": [
    "msg = 'my name is harsh'\n",
    "\n",
    "'x' not in msg"
   ]
  },
  {
   "cell_type": "code",
   "execution_count": 49,
   "id": "6f26c3d2",
   "metadata": {},
   "outputs": [
    {
     "data": {
      "text/plain": [
       "False"
      ]
     },
     "execution_count": 49,
     "metadata": {},
     "output_type": "execute_result"
    }
   ],
   "source": [
    "' is ' not in msg"
   ]
  },
  {
   "cell_type": "code",
   "execution_count": 51,
   "id": "bed3a437",
   "metadata": {},
   "outputs": [
    {
     "data": {
      "text/plain": [
       "True"
      ]
     },
     "execution_count": 51,
     "metadata": {},
     "output_type": "execute_result"
    }
   ],
   "source": [
    "'  is' not in msg "
   ]
  },
  {
   "cell_type": "code",
   "execution_count": 52,
   "id": "76eb2d51",
   "metadata": {},
   "outputs": [
    {
     "data": {
      "text/plain": [
       "False"
      ]
     },
     "execution_count": 52,
     "metadata": {},
     "output_type": "execute_result"
    }
   ],
   "source": [
    "'harsh' not in msg"
   ]
  },
  {
   "cell_type": "code",
   "execution_count": null,
   "id": "ede46bcb",
   "metadata": {},
   "outputs": [],
   "source": []
  },
  {
   "cell_type": "markdown",
   "id": "2db7aed5",
   "metadata": {},
   "source": [
    "Common Functions\n",
    "- len\n",
    "- max\n",
    "- min\n",
    "- sorted"
   ]
  },
  {
   "cell_type": "code",
   "execution_count": 56,
   "id": "3a93f8f0",
   "metadata": {},
   "outputs": [
    {
     "data": {
      "text/plain": [
       "7"
      ]
     },
     "execution_count": 56,
     "metadata": {},
     "output_type": "execute_result"
    }
   ],
   "source": [
    "msg = 'welcome'\n",
    "len(msg)"
   ]
  },
  {
   "cell_type": "code",
   "execution_count": 55,
   "id": "68e61eea",
   "metadata": {},
   "outputs": [
    {
     "data": {
      "text/plain": [
       "'w'"
      ]
     },
     "execution_count": 55,
     "metadata": {},
     "output_type": "execute_result"
    }
   ],
   "source": [
    "# on the basis of ascii value it will tell us \n",
    "# which char is the greatest\n",
    "max(msg)"
   ]
  },
  {
   "cell_type": "code",
   "execution_count": 57,
   "id": "9dea6ca3",
   "metadata": {},
   "outputs": [
    {
     "data": {
      "text/plain": [
       "'c'"
      ]
     },
     "execution_count": 57,
     "metadata": {},
     "output_type": "execute_result"
    }
   ],
   "source": [
    "min(msg)"
   ]
  },
  {
   "cell_type": "code",
   "execution_count": 61,
   "id": "a35fe864",
   "metadata": {},
   "outputs": [
    {
     "name": "stdout",
     "output_type": "stream",
     "text": [
      "msg :  welcome\n"
     ]
    },
    {
     "data": {
      "text/plain": [
       "['c', 'e', 'e', 'l', 'm', 'o', 'w']"
      ]
     },
     "execution_count": 61,
     "metadata": {},
     "output_type": "execute_result"
    }
   ],
   "source": [
    "'''\n",
    "on the basis of ascii value it will sort the list\n",
    "in ascending order as default\n",
    "- it return type is list\n",
    "\n",
    "But if you want it in descending order, we can \n",
    "use reverse=True\n",
    "\n",
    "'''\n",
    "print('msg : ',msg)\n",
    "sorted(msg)"
   ]
  },
  {
   "cell_type": "code",
   "execution_count": null,
   "id": "56aecefd",
   "metadata": {},
   "outputs": [],
   "source": []
  },
  {
   "cell_type": "markdown",
   "id": "c44a14a2",
   "metadata": {},
   "source": [
    "Functions that can only be used with string data type\n",
    "- Capitalize : 1st letter capitalize\n",
    "- Title : Every word 1st alph. capitalize\n",
    "- Upper\n",
    "- Lower\n",
    "- Swapcase : Lower to upper, upper to lower each letter in string\n",
    "> Does not change the orignal string"
   ]
  },
  {
   "cell_type": "code",
   "execution_count": 67,
   "id": "0cafb0f1",
   "metadata": {},
   "outputs": [
    {
     "name": "stdout",
     "output_type": "stream",
     "text": [
      "Welcome back bro\n"
     ]
    }
   ],
   "source": [
    "msg = 'welcome back bro'\n",
    "print(msg.capitalize())\n"
   ]
  },
  {
   "cell_type": "code",
   "execution_count": 69,
   "id": "9e6f7c8f",
   "metadata": {},
   "outputs": [
    {
     "name": "stdout",
     "output_type": "stream",
     "text": [
      "Welcome Back Bro\n"
     ]
    }
   ],
   "source": [
    "msg = 'welcome back bro'\n",
    "print(msg.title())\n"
   ]
  },
  {
   "cell_type": "code",
   "execution_count": 70,
   "id": "a8da0fdc",
   "metadata": {},
   "outputs": [
    {
     "data": {
      "text/plain": [
       "'welcome back bro'"
      ]
     },
     "execution_count": 70,
     "metadata": {},
     "output_type": "execute_result"
    }
   ],
   "source": [
    "msg\n",
    "# no change in the original string "
   ]
  },
  {
   "cell_type": "code",
   "execution_count": null,
   "id": "536a6a6d",
   "metadata": {},
   "outputs": [],
   "source": []
  },
  {
   "cell_type": "code",
   "execution_count": 72,
   "id": "37009047",
   "metadata": {},
   "outputs": [
    {
     "data": {
      "text/plain": [
       "'WELCOME BACK BRO'"
      ]
     },
     "execution_count": 72,
     "metadata": {},
     "output_type": "execute_result"
    }
   ],
   "source": [
    "msg1 = 'welcome back bro'\n",
    "msg1.upper()"
   ]
  },
  {
   "cell_type": "code",
   "execution_count": 73,
   "id": "3d7e4131",
   "metadata": {},
   "outputs": [
    {
     "data": {
      "text/plain": [
       "'welcome back bro'"
      ]
     },
     "execution_count": 73,
     "metadata": {},
     "output_type": "execute_result"
    }
   ],
   "source": [
    "msg2 = 'WELCOME BACK BRO'\n",
    "msg2.lower()"
   ]
  },
  {
   "cell_type": "code",
   "execution_count": 74,
   "id": "753540ab",
   "metadata": {},
   "outputs": [
    {
     "data": {
      "text/plain": [
       "'welcome back bro'"
      ]
     },
     "execution_count": 74,
     "metadata": {},
     "output_type": "execute_result"
    }
   ],
   "source": [
    "msg1 # no change in the original string "
   ]
  },
  {
   "cell_type": "code",
   "execution_count": 75,
   "id": "6006337d",
   "metadata": {},
   "outputs": [
    {
     "data": {
      "text/plain": [
       "'WELCOME BACK BRO'"
      ]
     },
     "execution_count": 75,
     "metadata": {},
     "output_type": "execute_result"
    }
   ],
   "source": [
    "msg2 # no change in the original string "
   ]
  },
  {
   "cell_type": "code",
   "execution_count": null,
   "id": "ac18d300",
   "metadata": {},
   "outputs": [],
   "source": []
  },
  {
   "cell_type": "code",
   "execution_count": 76,
   "id": "faa3ee70",
   "metadata": {},
   "outputs": [
    {
     "data": {
      "text/plain": [
       "'wElComE baCk BRo'"
      ]
     },
     "execution_count": 76,
     "metadata": {},
     "output_type": "execute_result"
    }
   ],
   "source": [
    "'WeLcOMe BAcK brO'.swapcase()"
   ]
  },
  {
   "cell_type": "code",
   "execution_count": null,
   "id": "abe646b9",
   "metadata": {},
   "outputs": [],
   "source": []
  },
  {
   "cell_type": "markdown",
   "id": "7919c46b",
   "metadata": {},
   "source": [
    "Count\n",
    "- Find frequency of any sub-string into any string"
   ]
  },
  {
   "cell_type": "code",
   "execution_count": 82,
   "id": "b3c33b3e",
   "metadata": {},
   "outputs": [
    {
     "data": {
      "text/plain": [
       "2"
      ]
     },
     "execution_count": 82,
     "metadata": {},
     "output_type": "execute_result"
    }
   ],
   "source": [
    "x = 'wElComE baCk BRoe'\n",
    "x.count('E')"
   ]
  },
  {
   "cell_type": "code",
   "execution_count": 83,
   "id": "255b4eaf",
   "metadata": {},
   "outputs": [
    {
     "data": {
      "text/plain": [
       "1"
      ]
     },
     "execution_count": 83,
     "metadata": {},
     "output_type": "execute_result"
    }
   ],
   "source": [
    "x.count('e')"
   ]
  },
  {
   "cell_type": "code",
   "execution_count": 84,
   "id": "5a43a78d",
   "metadata": {},
   "outputs": [
    {
     "data": {
      "text/plain": [
       "2"
      ]
     },
     "execution_count": 84,
     "metadata": {},
     "output_type": "execute_result"
    }
   ],
   "source": [
    "x.count(' ')"
   ]
  },
  {
   "cell_type": "code",
   "execution_count": null,
   "id": "adc14730",
   "metadata": {},
   "outputs": [],
   "source": []
  },
  {
   "cell_type": "markdown",
   "id": "e01d724b",
   "metadata": {},
   "source": [
    "Find/Index\n",
    "- returns the 1st occurance of the char in str\n",
    "\n",
    "- If the particular substing/char is not found int the string, then find() returns -1\n",
    "\n",
    "Major difference between find and index is \n",
    "- In find(),If the particular substing/char is not found int the string, then find() returns -1\n",
    "\n",
    "whereas \n",
    "- In index(), u will receive an error stating 'substring not found'\n",
    "\n",
    "Note :\n",
    "- Prefer find() instead of index()"
   ]
  },
  {
   "cell_type": "code",
   "execution_count": 87,
   "id": "6691be8d",
   "metadata": {},
   "outputs": [
    {
     "data": {
      "text/plain": [
       "0"
      ]
     },
     "execution_count": 87,
     "metadata": {},
     "output_type": "execute_result"
    }
   ],
   "source": [
    "x = 'wElComE baCk BRoe warns'\n",
    "x.find('w')"
   ]
  },
  {
   "cell_type": "code",
   "execution_count": 88,
   "id": "420f0488",
   "metadata": {
    "scrolled": true
   },
   "outputs": [
    {
     "data": {
      "text/plain": [
       "8"
      ]
     },
     "execution_count": 88,
     "metadata": {},
     "output_type": "execute_result"
    }
   ],
   "source": [
    "x.find('baCk')"
   ]
  },
  {
   "cell_type": "code",
   "execution_count": 91,
   "id": "83238789",
   "metadata": {},
   "outputs": [
    {
     "data": {
      "text/plain": [
       "0"
      ]
     },
     "execution_count": 91,
     "metadata": {},
     "output_type": "execute_result"
    }
   ],
   "source": [
    "x.find('')"
   ]
  },
  {
   "cell_type": "code",
   "execution_count": 89,
   "id": "db46de99",
   "metadata": {},
   "outputs": [
    {
     "data": {
      "text/plain": [
       "-1"
      ]
     },
     "execution_count": 89,
     "metadata": {},
     "output_type": "execute_result"
    }
   ],
   "source": [
    "x.find('ip')"
   ]
  },
  {
   "cell_type": "code",
   "execution_count": null,
   "id": "b473af87",
   "metadata": {},
   "outputs": [],
   "source": []
  },
  {
   "cell_type": "code",
   "execution_count": 92,
   "id": "fe91edc0",
   "metadata": {},
   "outputs": [
    {
     "data": {
      "text/plain": [
       "0"
      ]
     },
     "execution_count": 92,
     "metadata": {},
     "output_type": "execute_result"
    }
   ],
   "source": [
    "x = 'wElComE baCk BRoe warns'\n",
    "x.index('w')"
   ]
  },
  {
   "cell_type": "code",
   "execution_count": 93,
   "id": "79f8553c",
   "metadata": {},
   "outputs": [
    {
     "ename": "ValueError",
     "evalue": "substring not found",
     "output_type": "error",
     "traceback": [
      "\u001b[0;31m---------------------------------------------------------------------------\u001b[0m",
      "\u001b[0;31mValueError\u001b[0m                                Traceback (most recent call last)",
      "Input \u001b[0;32mIn [93]\u001b[0m, in \u001b[0;36m<module>\u001b[0;34m\u001b[0m\n\u001b[0;32m----> 1\u001b[0m \u001b[43mx\u001b[49m\u001b[38;5;241;43m.\u001b[39;49m\u001b[43mindex\u001b[49m\u001b[43m(\u001b[49m\u001b[38;5;124;43m'\u001b[39;49m\u001b[38;5;124;43mip\u001b[39;49m\u001b[38;5;124;43m'\u001b[39;49m\u001b[43m)\u001b[49m\n",
      "\u001b[0;31mValueError\u001b[0m: substring not found"
     ]
    }
   ],
   "source": [
    "x.index('ip')"
   ]
  },
  {
   "cell_type": "code",
   "execution_count": null,
   "id": "88ace459",
   "metadata": {},
   "outputs": [],
   "source": []
  },
  {
   "cell_type": "markdown",
   "id": "e5bd5d3e",
   "metadata": {},
   "source": [
    "endswith/startswith"
   ]
  },
  {
   "cell_type": "code",
   "execution_count": 95,
   "id": "ac620666",
   "metadata": {},
   "outputs": [
    {
     "data": {
      "text/plain": [
       "True"
      ]
     },
     "execution_count": 95,
     "metadata": {},
     "output_type": "execute_result"
    }
   ],
   "source": [
    "msg = 'You cant defeat me'\n",
    "msg.endswith('me')"
   ]
  },
  {
   "cell_type": "code",
   "execution_count": 96,
   "id": "298bf635",
   "metadata": {},
   "outputs": [
    {
     "data": {
      "text/plain": [
       "True"
      ]
     },
     "execution_count": 96,
     "metadata": {},
     "output_type": "execute_result"
    }
   ],
   "source": [
    "msg.endswith('defeat me')"
   ]
  },
  {
   "cell_type": "code",
   "execution_count": 97,
   "id": "eab79507",
   "metadata": {},
   "outputs": [
    {
     "data": {
      "text/plain": [
       "False"
      ]
     },
     "execution_count": 97,
     "metadata": {},
     "output_type": "execute_result"
    }
   ],
   "source": [
    "msg.endswith('me ')"
   ]
  },
  {
   "cell_type": "code",
   "execution_count": 98,
   "id": "6992ecd7",
   "metadata": {},
   "outputs": [
    {
     "data": {
      "text/plain": [
       "True"
      ]
     },
     "execution_count": 98,
     "metadata": {},
     "output_type": "execute_result"
    }
   ],
   "source": [
    "msg.endswith(' me')"
   ]
  },
  {
   "cell_type": "code",
   "execution_count": 103,
   "id": "2b706218",
   "metadata": {},
   "outputs": [
    {
     "data": {
      "text/plain": [
       "True"
      ]
     },
     "execution_count": 103,
     "metadata": {},
     "output_type": "execute_result"
    }
   ],
   "source": [
    "msg.endswith('')"
   ]
  },
  {
   "cell_type": "code",
   "execution_count": null,
   "id": "4f799d81",
   "metadata": {},
   "outputs": [],
   "source": []
  },
  {
   "cell_type": "code",
   "execution_count": 99,
   "id": "343c75cf",
   "metadata": {},
   "outputs": [
    {
     "data": {
      "text/plain": [
       "False"
      ]
     },
     "execution_count": 99,
     "metadata": {},
     "output_type": "execute_result"
    }
   ],
   "source": [
    "msg = 'You cant defeat me'\n",
    "msg.startswith('me')"
   ]
  },
  {
   "cell_type": "code",
   "execution_count": 100,
   "id": "d8e29970",
   "metadata": {},
   "outputs": [
    {
     "data": {
      "text/plain": [
       "False"
      ]
     },
     "execution_count": 100,
     "metadata": {},
     "output_type": "execute_result"
    }
   ],
   "source": [
    "msg.startswith('y')"
   ]
  },
  {
   "cell_type": "code",
   "execution_count": 101,
   "id": "3b208e4d",
   "metadata": {},
   "outputs": [
    {
     "data": {
      "text/plain": [
       "True"
      ]
     },
     "execution_count": 101,
     "metadata": {},
     "output_type": "execute_result"
    }
   ],
   "source": [
    "msg = 'You cant defeat me'\n",
    "msg.startswith('')"
   ]
  },
  {
   "cell_type": "code",
   "execution_count": 102,
   "id": "32f0e98a",
   "metadata": {},
   "outputs": [
    {
     "data": {
      "text/plain": [
       "True"
      ]
     },
     "execution_count": 102,
     "metadata": {},
     "output_type": "execute_result"
    }
   ],
   "source": [
    "msg = 'You cant defeat me'\n",
    "msg.startswith('Y')"
   ]
  },
  {
   "cell_type": "code",
   "execution_count": null,
   "id": "43f7ab88",
   "metadata": {},
   "outputs": [],
   "source": []
  },
  {
   "cell_type": "markdown",
   "id": "7acb918e",
   "metadata": {},
   "source": [
    "format\n",
    "- The format() method returns the formatted string.\n",
    "- The format() method formats the specified value(s) and insert them inside the string's placeholder. \n",
    "- The placeholder is defined using curly brackets {}\n",
    "\n",
    "Ex. Login page - display welcome msg"
   ]
  },
  {
   "cell_type": "code",
   "execution_count": 104,
   "id": "5d2cf9e7",
   "metadata": {},
   "outputs": [
    {
     "data": {
      "text/plain": [
       "'hey my name is Harsh and I am diving deep into Python'"
      ]
     },
     "execution_count": 104,
     "metadata": {},
     "output_type": "execute_result"
    }
   ],
   "source": [
    "'hey my name is {} and I am diving deep into {}'.format('Harsh','Python')"
   ]
  },
  {
   "cell_type": "code",
   "execution_count": 112,
   "id": "9fbb4086",
   "metadata": {},
   "outputs": [
    {
     "data": {
      "text/plain": [
       "'hey my name is Python and I am diving deep into Forest'"
      ]
     },
     "execution_count": 112,
     "metadata": {},
     "output_type": "execute_result"
    }
   ],
   "source": [
    "'hey my name is {1} and I am diving deep into {0}'.format('Forest','Python')"
   ]
  },
  {
   "cell_type": "code",
   "execution_count": 113,
   "id": "60e3ae2c",
   "metadata": {},
   "outputs": [
    {
     "data": {
      "text/plain": [
       "'hey my name is Amazon Forest and I am diving deep into Py Python'"
      ]
     },
     "execution_count": 113,
     "metadata": {},
     "output_type": "execute_result"
    }
   ],
   "source": [
    "'hey my name is {x} and I am diving deep into {y}'.format(x='Amazon Forest',y='Py Python')"
   ]
  },
  {
   "cell_type": "code",
   "execution_count": 114,
   "id": "52cfcd2d",
   "metadata": {},
   "outputs": [
    {
     "data": {
      "text/plain": [
       "'hey my name is Amazon Forest and I am diving deep into Amazon Forest'"
      ]
     },
     "execution_count": 114,
     "metadata": {},
     "output_type": "execute_result"
    }
   ],
   "source": [
    "'hey my name is {x} and I am diving deep into {x}'.format(x='Amazon Forest',y='Py Python')"
   ]
  },
  {
   "cell_type": "code",
   "execution_count": 115,
   "id": "54d196c3",
   "metadata": {
    "scrolled": true
   },
   "outputs": [
    {
     "data": {
      "text/plain": [
       "'hey my name is Py Python and I am diving deep into Amazon Forest'"
      ]
     },
     "execution_count": 115,
     "metadata": {},
     "output_type": "execute_result"
    }
   ],
   "source": [
    "'hey my name is {y} and I am diving deep into {x}'.format(x='Amazon Forest',y='Py Python')"
   ]
  },
  {
   "cell_type": "code",
   "execution_count": 2,
   "id": "edab08e5",
   "metadata": {},
   "outputs": [
    {
     "data": {
      "text/plain": [
       "'I have 2 berry and 1 apple'"
      ]
     },
     "execution_count": 2,
     "metadata": {},
     "output_type": "execute_result"
    }
   ],
   "source": [
    "'I have 2 {x} and 1 {y}'.format(x='berry',y='apple',z='kiwi')"
   ]
  },
  {
   "cell_type": "code",
   "execution_count": null,
   "id": "f370f214",
   "metadata": {},
   "outputs": [],
   "source": []
  },
  {
   "cell_type": "code",
   "execution_count": 110,
   "id": "b21cbd75",
   "metadata": {},
   "outputs": [
    {
     "data": {
      "text/plain": [
       "'My name is : Harsh,  my age is : 21'"
      ]
     },
     "execution_count": 110,
     "metadata": {},
     "output_type": "execute_result"
    }
   ],
   "source": [
    "name = 'Harsh'\n",
    "age = 21\n",
    "f'My name is : {name},  my age is : {age}'"
   ]
  },
  {
   "cell_type": "code",
   "execution_count": null,
   "id": "99ac9f55",
   "metadata": {},
   "outputs": [],
   "source": []
  },
  {
   "cell_type": "markdown",
   "id": "6bb0cb7a",
   "metadata": {},
   "source": [
    "fucntions return's True or False\n",
    "\n",
    "these functions mainly ask questions\n",
    "- isaplha\n",
    "- isalnum\n",
    "- isdecimal\n",
    "- isdigit\n",
    "- isidentifier"
   ]
  },
  {
   "cell_type": "code",
   "execution_count": 4,
   "id": "0417ccb3",
   "metadata": {},
   "outputs": [
    {
     "data": {
      "text/plain": [
       "True"
      ]
     },
     "execution_count": 4,
     "metadata": {},
     "output_type": "execute_result"
    }
   ],
   "source": [
    "'FAL234'.isalnum()"
   ]
  },
  {
   "cell_type": "code",
   "execution_count": 5,
   "id": "2ac20b11",
   "metadata": {},
   "outputs": [
    {
     "data": {
      "text/plain": [
       "False"
      ]
     },
     "execution_count": 5,
     "metadata": {},
     "output_type": "execute_result"
    }
   ],
   "source": [
    "'FAL234'.isalpha()"
   ]
  },
  {
   "cell_type": "code",
   "execution_count": 6,
   "id": "85170286",
   "metadata": {},
   "outputs": [
    {
     "data": {
      "text/plain": [
       "True"
      ]
     },
     "execution_count": 6,
     "metadata": {},
     "output_type": "execute_result"
    }
   ],
   "source": [
    "'aaAx'.isalpha()"
   ]
  },
  {
   "cell_type": "code",
   "execution_count": 7,
   "id": "5de5a055",
   "metadata": {},
   "outputs": [
    {
     "data": {
      "text/plain": [
       "False"
      ]
     },
     "execution_count": 7,
     "metadata": {},
     "output_type": "execute_result"
    }
   ],
   "source": [
    "'3232A'.isdecimal()"
   ]
  },
  {
   "cell_type": "code",
   "execution_count": 9,
   "id": "8a2c0ea0",
   "metadata": {},
   "outputs": [
    {
     "data": {
      "text/plain": [
       "True"
      ]
     },
     "execution_count": 9,
     "metadata": {},
     "output_type": "execute_result"
    }
   ],
   "source": [
    "'3232'.isdecimal()"
   ]
  },
  {
   "cell_type": "code",
   "execution_count": 10,
   "id": "e4c57407",
   "metadata": {},
   "outputs": [
    {
     "data": {
      "text/plain": [
       "True"
      ]
     },
     "execution_count": 10,
     "metadata": {},
     "output_type": "execute_result"
    }
   ],
   "source": [
    "'3232A'.isalnum()"
   ]
  },
  {
   "cell_type": "code",
   "execution_count": 11,
   "id": "1eb1bb77",
   "metadata": {},
   "outputs": [
    {
     "data": {
      "text/plain": [
       "True"
      ]
     },
     "execution_count": 11,
     "metadata": {},
     "output_type": "execute_result"
    }
   ],
   "source": [
    "'33'.isdigit()"
   ]
  },
  {
   "cell_type": "code",
   "execution_count": 12,
   "id": "8701def0",
   "metadata": {},
   "outputs": [
    {
     "data": {
      "text/plain": [
       "False"
      ]
     },
     "execution_count": 12,
     "metadata": {},
     "output_type": "execute_result"
    }
   ],
   "source": [
    "'3232A'.isdigit()"
   ]
  },
  {
   "cell_type": "code",
   "execution_count": 13,
   "id": "ba8fde40",
   "metadata": {},
   "outputs": [
    {
     "data": {
      "text/plain": [
       "False"
      ]
     },
     "execution_count": 13,
     "metadata": {},
     "output_type": "execute_result"
    }
   ],
   "source": [
    "'Hello world'.isidentifier()"
   ]
  },
  {
   "cell_type": "code",
   "execution_count": 14,
   "id": "0edad184",
   "metadata": {},
   "outputs": [
    {
     "data": {
      "text/plain": [
       "True"
      ]
     },
     "execution_count": 14,
     "metadata": {},
     "output_type": "execute_result"
    }
   ],
   "source": [
    "'Hello_world'.isidentifier()"
   ]
  },
  {
   "cell_type": "code",
   "execution_count": null,
   "id": "b57016df",
   "metadata": {},
   "outputs": [],
   "source": []
  },
  {
   "cell_type": "markdown",
   "id": "1f1ab8fe",
   "metadata": {},
   "source": [
    "split fucntion\n",
    "- converts the string into the list\n",
    "- It does the opposote of join()"
   ]
  },
  {
   "cell_type": "code",
   "execution_count": 15,
   "id": "a36be71d",
   "metadata": {},
   "outputs": [
    {
     "data": {
      "text/plain": [
       "['Fear',\n",
       " 'leads',\n",
       " 'to',\n",
       " 'anger;',\n",
       " 'anger',\n",
       " 'leads',\n",
       " 'to',\n",
       " 'hatred;',\n",
       " 'hatred',\n",
       " 'leads',\n",
       " 'to',\n",
       " 'conflict;',\n",
       " 'conflict',\n",
       " 'leads',\n",
       " 'to',\n",
       " 'suffering.']"
      ]
     },
     "execution_count": 15,
     "metadata": {},
     "output_type": "execute_result"
    }
   ],
   "source": [
    "\"Fear leads to anger; anger leads to hatred; hatred leads to conflict; conflict leads to suffering.\".split()"
   ]
  },
  {
   "cell_type": "code",
   "execution_count": 16,
   "id": "cda15ca5",
   "metadata": {},
   "outputs": [
    {
     "data": {
      "text/plain": [
       "['Fear leads ',\n",
       " ' anger; anger leads ',\n",
       " ' hatred; hatred leads ',\n",
       " ' conflict; conflict leads ',\n",
       " ' suffering.']"
      ]
     },
     "execution_count": 16,
     "metadata": {},
     "output_type": "execute_result"
    }
   ],
   "source": [
    "\"Fear leads to anger; anger leads to hatred; hatred leads to conflict; conflict leads to suffering.\".split('to')"
   ]
  },
  {
   "cell_type": "code",
   "execution_count": 18,
   "id": "e16b4726",
   "metadata": {},
   "outputs": [
    {
     "data": {
      "text/plain": [
       "['Fear leads to anger; anger leads to hatred; hatred leads to conflict; conflict leads to suffering.']"
      ]
     },
     "execution_count": 18,
     "metadata": {},
     "output_type": "execute_result"
    }
   ],
   "source": [
    "\"Fear leads to anger; anger leads to hatred; hatred leads to conflict; conflict leads to suffering.\".split('x')"
   ]
  },
  {
   "cell_type": "code",
   "execution_count": null,
   "id": "3171f694",
   "metadata": {},
   "outputs": [],
   "source": []
  },
  {
   "cell_type": "markdown",
   "id": "d7d50010",
   "metadata": {},
   "source": [
    "join fucntion\n",
    "- It converts the list into string \n",
    "- It does the opposite of split "
   ]
  },
  {
   "cell_type": "code",
   "execution_count": 21,
   "id": "ac9d8b01",
   "metadata": {},
   "outputs": [
    {
     "data": {
      "text/plain": [
       "['life',\n",
       " 'is',\n",
       " 'beautiful',\n",
       " 'yet',\n",
       " 'its',\n",
       " 'cruel',\n",
       " 'yet',\n",
       " 'its',\n",
       " 'beauty',\n",
       " 'lies',\n",
       " 'inside']"
      ]
     },
     "execution_count": 21,
     "metadata": {},
     "output_type": "execute_result"
    }
   ],
   "source": [
    "# using split()\n",
    "'life is beautiful yet its cruel yet its beauty lies inside'.split()"
   ]
  },
  {
   "cell_type": "code",
   "execution_count": 22,
   "id": "fcc8841d",
   "metadata": {},
   "outputs": [
    {
     "data": {
      "text/plain": [
       "'lifeisbeautifulyetitscruelyetitsbeautyliesinside'"
      ]
     },
     "execution_count": 22,
     "metadata": {},
     "output_type": "execute_result"
    }
   ],
   "source": [
    "# using join()\n",
    "\n",
    "''.join(['life',\n",
    " 'is',\n",
    " 'beautiful',\n",
    " 'yet',\n",
    " 'its',\n",
    " 'cruel',\n",
    " 'yet',\n",
    " 'its',\n",
    " 'beauty',\n",
    " 'lies',\n",
    " 'inside'])"
   ]
  },
  {
   "cell_type": "code",
   "execution_count": 23,
   "id": "c0f08c7c",
   "metadata": {},
   "outputs": [
    {
     "data": {
      "text/plain": [
       "'life is beautiful yet its cruel yet its beauty lies inside'"
      ]
     },
     "execution_count": 23,
     "metadata": {},
     "output_type": "execute_result"
    }
   ],
   "source": [
    "' '.join(['life',\n",
    " 'is',\n",
    " 'beautiful',\n",
    " 'yet',\n",
    " 'its',\n",
    " 'cruel',\n",
    " 'yet',\n",
    " 'its',\n",
    " 'beauty',\n",
    " 'lies',\n",
    " 'inside'])"
   ]
  },
  {
   "cell_type": "code",
   "execution_count": 25,
   "id": "ef8bf9ea",
   "metadata": {},
   "outputs": [
    {
     "data": {
      "text/plain": [
       "'life__is__beautiful__yet__its__cruel__yet__its__beauty__lies__inside'"
      ]
     },
     "execution_count": 25,
     "metadata": {},
     "output_type": "execute_result"
    }
   ],
   "source": [
    "'__'.join(['life',\n",
    " 'is',\n",
    " 'beautiful',\n",
    " 'yet',\n",
    " 'its',\n",
    " 'cruel',\n",
    " 'yet',\n",
    " 'its',\n",
    " 'beauty',\n",
    " 'lies',\n",
    " 'inside'])"
   ]
  },
  {
   "cell_type": "code",
   "execution_count": 26,
   "id": "af602af7",
   "metadata": {},
   "outputs": [
    {
     "data": {
      "text/plain": [
       "'life-is-beautiful-yet-its-cruel-yet-its-beauty-lies-inside'"
      ]
     },
     "execution_count": 26,
     "metadata": {},
     "output_type": "execute_result"
    }
   ],
   "source": [
    "'-'.join(['life',\n",
    " 'is',\n",
    " 'beautiful',\n",
    " 'yet',\n",
    " 'its',\n",
    " 'cruel',\n",
    " 'yet',\n",
    " 'its',\n",
    " 'beauty',\n",
    " 'lies',\n",
    " 'inside'])"
   ]
  },
  {
   "cell_type": "code",
   "execution_count": null,
   "id": "07282800",
   "metadata": {},
   "outputs": [],
   "source": []
  },
  {
   "cell_type": "markdown",
   "id": "09fc992b",
   "metadata": {},
   "source": [
    "Replace fuctn \n",
    "- The replace() method returns a copy of the string where the old substring is replaced with the new substring. \n",
    "- The original string is unchanged. \n",
    "- If the old substring is not found, it returns the copy of the original string.\n",
    "\n",
    "\n"
   ]
  },
  {
   "cell_type": "code",
   "execution_count": 27,
   "id": "8d2e3dbe",
   "metadata": {},
   "outputs": [
    {
     "data": {
      "text/plain": [
       "'Rin was a Catholic because her mother was a Catholic, and Rin’s mother was a Catholic because her father was a Catholic'"
      ]
     },
     "execution_count": 27,
     "metadata": {},
     "output_type": "execute_result"
    }
   ],
   "source": [
    "'Nory was a Catholic because her mother was a Catholic, and Nory’s mother was a Catholic because her father was a Catholic'.replace('Nory','Rin')"
   ]
  },
  {
   "cell_type": "code",
   "execution_count": 29,
   "id": "888d0b85",
   "metadata": {},
   "outputs": [
    {
     "data": {
      "text/plain": [
       "'Rin was a Catholic because her mother was a Catholic, and Rin’s mother was a Catholic because her father was a Catholic'"
      ]
     },
     "execution_count": 29,
     "metadata": {},
     "output_type": "execute_result"
    }
   ],
   "source": [
    "'Rin was a Catholic because her mother was a Catholic, and Rin’s mother was a Catholic because her father was a Catholic'.replace('catholic','indian')"
   ]
  },
  {
   "cell_type": "code",
   "execution_count": 30,
   "id": "d9c888c2",
   "metadata": {},
   "outputs": [
    {
     "data": {
      "text/plain": [
       "'Rin was a Indian because her mother was a Indian, and Rin’s mother was a Indian because her father was a Indian'"
      ]
     },
     "execution_count": 30,
     "metadata": {},
     "output_type": "execute_result"
    }
   ],
   "source": [
    "'Rin was a Catholic because her mother was a Catholic, and Rin’s mother was a Catholic because her father was a Catholic'.replace('Catholic','Indian')"
   ]
  },
  {
   "cell_type": "code",
   "execution_count": null,
   "id": "1cb83f86",
   "metadata": {},
   "outputs": [],
   "source": []
  },
  {
   "cell_type": "markdown",
   "id": "5e19ee04",
   "metadata": {},
   "source": [
    "Strip Fucntn\n",
    "- The strip() method removes characters from both left and right based on the argument (a string specifying the set of characters to be removed). \n",
    "\n",
    "or\n",
    "- Python string method strip() returns a copy of the string in which all chars have been stripped from the beginning and the end of the string (default whitespace characters).\n",
    "\n",
    "\n",
    "Note: If the chars argument is not provided, all leading and trailing whitespaces are removed from the string.\n",
    "\n",
    "\n",
    "Ex. Real life - user registeration page\n",
    "- user enter           name           \n",
    "- db mai isi format mai store hoga jo dangerous hai is lia strip use karte hai"
   ]
  },
  {
   "cell_type": "code",
   "execution_count": 31,
   "id": "b22cb339",
   "metadata": {},
   "outputs": [
    {
     "data": {
      "text/plain": [
       "'arav'"
      ]
     },
     "execution_count": 31,
     "metadata": {},
     "output_type": "execute_result"
    }
   ],
   "source": [
    "name = '                 arav              '\n",
    "name.strip()"
   ]
  },
  {
   "cell_type": "code",
   "execution_count": null,
   "id": "78a1056f",
   "metadata": {},
   "outputs": [],
   "source": []
  }
 ],
 "metadata": {
  "kernelspec": {
   "display_name": "Python 3 (ipykernel)",
   "language": "python",
   "name": "python3"
  },
  "language_info": {
   "codemirror_mode": {
    "name": "ipython",
    "version": 3
   },
   "file_extension": ".py",
   "mimetype": "text/x-python",
   "name": "python",
   "nbconvert_exporter": "python",
   "pygments_lexer": "ipython3",
   "version": "3.8.10"
  }
 },
 "nbformat": 4,
 "nbformat_minor": 5
}
